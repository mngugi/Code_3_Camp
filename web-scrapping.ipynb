{
 "cells": [
  {
   "cell_type": "code",
   "execution_count": 1,
   "id": "aceaf057",
   "metadata": {
    "_cell_guid": "b1076dfc-b9ad-4769-8c92-a6c4dae69d19",
    "_uuid": "8f2839f25d086af736a60e9eeb907d3b93b6e0e5",
    "execution": {
     "iopub.execute_input": "2024-03-06T14:38:20.811490Z",
     "iopub.status.busy": "2024-03-06T14:38:20.810735Z",
     "iopub.status.idle": "2024-03-06T14:38:21.918769Z",
     "shell.execute_reply": "2024-03-06T14:38:21.917535Z"
    },
    "papermill": {
     "duration": 1.116948,
     "end_time": "2024-03-06T14:38:21.921593",
     "exception": false,
     "start_time": "2024-03-06T14:38:20.804645",
     "status": "completed"
    },
    "tags": []
   },
   "outputs": [],
   "source": [
    "# This Python 3 environment comes with many helpful analytics libraries installed\n",
    "# It is defined by the kaggle/python Docker image: https://github.com/kaggle/docker-python\n",
    "# For example, here's several helpful packages to load\n",
    "\n",
    "import numpy as np # linear algebra\n",
    "import pandas as pd # data processing, CSV file I/O (e.g. pd.read_csv)\n",
    "import requests\n",
    "from bs4 import BeautifulSoup\n",
    "from urllib import request\n",
    "from PIL import Image\n",
    "import matplotlib.pyplot as plt\n",
    "from io import BytesIO\n",
    "\n",
    "# Input data files are available in the read-only \"../input/\" directory\n",
    "# For example, running this (by clicking run or pressing Shift+Enter) will list all files under the input directory\n",
    "\n",
    "import os\n",
    "for dirname, _, filenames in os.walk('/kaggle/input'):\n",
    "    for filename in filenames:\n",
    "        print(os.path.join(dirname, filename))\n",
    "\n",
    "# You can write up to 20GB to the current directory (/kaggle/working/) that gets preserved as output when you create a version using \"Save & Run All\" \n",
    "# You can also write temporary files to /kaggle/temp/, but they won't be saved outside of the current session"
   ]
  },
  {
   "cell_type": "code",
   "execution_count": 2,
   "id": "58c76a58",
   "metadata": {
    "execution": {
     "iopub.execute_input": "2024-03-06T14:38:21.931471Z",
     "iopub.status.busy": "2024-03-06T14:38:21.930863Z",
     "iopub.status.idle": "2024-03-06T14:38:23.770997Z",
     "shell.execute_reply": "2024-03-06T14:38:23.769861Z"
    },
    "papermill": {
     "duration": 1.848102,
     "end_time": "2024-03-06T14:38:23.773810",
     "exception": false,
     "start_time": "2024-03-06T14:38:21.925708",
     "status": "completed"
    },
    "tags": []
   },
   "outputs": [],
   "source": [
    "url = \"https://www.jumia.co.ke/all-products/\"\n",
    "requests = requests.get(url)\n",
    "## Parsing the html soup\n",
    "soup = BeautifulSoup(requests.text,\"html.parser\")\n",
    "items = soup.find_all(\"article\", attrs = {\"class\":\"prd _fb col c-prd\"})"
   ]
  },
  {
   "cell_type": "code",
   "execution_count": 3,
   "id": "b3640c0e",
   "metadata": {
    "execution": {
     "iopub.execute_input": "2024-03-06T14:38:23.782588Z",
     "iopub.status.busy": "2024-03-06T14:38:23.782187Z",
     "iopub.status.idle": "2024-03-06T14:38:23.787984Z",
     "shell.execute_reply": "2024-03-06T14:38:23.786947Z"
    },
    "papermill": {
     "duration": 0.012621,
     "end_time": "2024-03-06T14:38:23.790120",
     "exception": false,
     "start_time": "2024-03-06T14:38:23.777499",
     "status": "completed"
    },
    "tags": []
   },
   "outputs": [
    {
     "name": "stdout",
     "output_type": "stream",
     "text": [
      "40\n"
     ]
    }
   ],
   "source": [
    "print(len(items))"
   ]
  },
  {
   "cell_type": "code",
   "execution_count": 4,
   "id": "283526d8",
   "metadata": {
    "execution": {
     "iopub.execute_input": "2024-03-06T14:38:23.799505Z",
     "iopub.status.busy": "2024-03-06T14:38:23.798706Z",
     "iopub.status.idle": "2024-03-06T14:38:23.804816Z",
     "shell.execute_reply": "2024-03-06T14:38:23.803598Z"
    },
    "papermill": {
     "duration": 0.013028,
     "end_time": "2024-03-06T14:38:23.806807",
     "exception": false,
     "start_time": "2024-03-06T14:38:23.793779",
     "status": "completed"
    },
    "tags": []
   },
   "outputs": [
    {
     "name": "stdout",
     "output_type": "stream",
     "text": [
      "<article class=\"prd _fb col c-prd\"><a class=\"btn _i _rnd -mas -fsh0 -me-start _wslt _sec\" data-pop-open=\"addToWishlist\" data-pop-trig=\"atw\" data-sku=\"CA733DR0DOEJ5NAFAMZ\" rel=\"nofollow\"><svg aria-label=\"Add to wishlist\" class=\"ic -f-or5\" height=\"16\" viewbox=\"0 0 24 24\" width=\"16\"><use xlink:href=\"https://www.jumia.co.ke/assets_he/images/i-icons.a66628fd.svg#saved-items\"></use></svg></a><a class=\"core\" data-gtm-brand=\"Campo Viejo\" data-gtm-category=\"Grocery/Drinks/Beer, Wine &amp; Spirits/Wine/Red Wine\" data-gtm-dimension23=\"\" data-gtm-dimension26=\"9\" data-gtm-dimension27=\"4.7\" data-gtm-dimension28=\"1\" data-gtm-dimension37=\"0\" data-gtm-dimension43=\"BLF|Boost|COL_226|COL_240|COL_262|COL_307|COL_323|CP_11|CP_23|CP_24|CP_26|CP_MT102|CP_MT104|CP_MT133|CP_MT134|CP_UN14|DOW_100|JMALL|TBOOST|WCS\" data-gtm-dimension44=\"0\" data-gtm-id=\"CA733DR0DOEJ5NAFAMZ\" data-gtm-list=\"\" data-gtm-name=\"Campo Viejo Reserva Red Wine - 750 ML\" data-gtm-position=\"1\" data-gtm-price=\"10.44\" data-track-onclick=\"eecProduct\" data-track-onview=\"eecProduct\" href=\"/campo-viejo-campo-viejo-reserva-red-wine-750-ml-58537922.html\"><div class=\"img-c\"><img alt=\"\" class=\"img\" data-lazy=\"true\" data-src=\"https://ke.jumia.is/unsafe/fit-in/300x300/filters:fill(white)/product/22/973585/1.jpg?0802\" height=\"208\" src=\"data:image/gif;base64,R0lGODlhAQABAIAAAAAAAP///yH5BAEAAAAALAAAAAABAAEAAAIBRAA7\" width=\"208\"/></div><div class=\"info\"><div class=\"bdg _mall _xs\">Official Store</div><h3 class=\"name\">Campo Viejo Campo Viejo Reserva Red Wine - 750 ML</h3><div class=\"prc\">KSh 1,638</div><div class=\"s-prc-w\"><div class=\"old\">KSh 1,966</div><div class=\"bdg _dsct _sm\">17%</div></div><div class=\"rev\"><div class=\"stars _s\">4.7 out of 5<div class=\"in\" style=\"width:94%\"></div></div>(9)</div><svg aria-label=\"Express Shipping\" class=\"ic xprss\" height=\"10\" viewbox=\"0 0 114 12\" width=\"94\"><use xlink:href=\"https://www.jumia.co.ke/assets_he/images/i-shop-jumia.9f5451c7.svg#express\"></use></svg></div></a><footer class=\"ft\"><div class=\"-df -i-ctr -pr -j-bet\" data-add-cart=\"\" data-sku=\"CA733DR0DOEJ5NAFAMZ\" data-svar=\"CA733DR0DOEJ5NAFAMZ-73949057\" data-xhr=\"true\"><button class=\"add btn _prim -pea _md\" data-trigpopup=\"\" type=\"button\">Add To Cart</button></div></footer></article>\n"
     ]
    }
   ],
   "source": [
    "print(items[0])"
   ]
  },
  {
   "cell_type": "code",
   "execution_count": 5,
   "id": "56eb2897",
   "metadata": {
    "execution": {
     "iopub.execute_input": "2024-03-06T14:38:23.815627Z",
     "iopub.status.busy": "2024-03-06T14:38:23.815256Z",
     "iopub.status.idle": "2024-03-06T14:38:23.820358Z",
     "shell.execute_reply": "2024-03-06T14:38:23.819542Z"
    },
    "papermill": {
     "duration": 0.011868,
     "end_time": "2024-03-06T14:38:23.822433",
     "exception": false,
     "start_time": "2024-03-06T14:38:23.810565",
     "status": "completed"
    },
    "tags": []
   },
   "outputs": [
    {
     "name": "stdout",
     "output_type": "stream",
     "text": [
      "Campo Viejo Campo Viejo Reserva Red Wine - 750 ML\n"
     ]
    }
   ],
   "source": [
    "first_items = items[0]\n",
    "first_items_name =first_items.find(\"h3\",attrs = {\"class\":\"name\"}).text\n",
    "print(first_items_name)"
   ]
  },
  {
   "cell_type": "code",
   "execution_count": 6,
   "id": "b1667d18",
   "metadata": {
    "execution": {
     "iopub.execute_input": "2024-03-06T14:38:23.831678Z",
     "iopub.status.busy": "2024-03-06T14:38:23.831345Z",
     "iopub.status.idle": "2024-03-06T14:38:23.836399Z",
     "shell.execute_reply": "2024-03-06T14:38:23.835435Z"
    },
    "papermill": {
     "duration": 0.012546,
     "end_time": "2024-03-06T14:38:23.838815",
     "exception": false,
     "start_time": "2024-03-06T14:38:23.826269",
     "status": "completed"
    },
    "tags": []
   },
   "outputs": [
    {
     "name": "stdout",
     "output_type": "stream",
     "text": [
      "17%\n"
     ]
    }
   ],
   "source": [
    "##discount\n",
    "first_items = items[0]\n",
    "first_items_discount = first_items.find(\"div\", attrs = {\"class\":\"bdg _dsct _sm\"}).text\n",
    "print(first_items_discount)"
   ]
  },
  {
   "cell_type": "code",
   "execution_count": 7,
   "id": "4e5b3a73",
   "metadata": {
    "execution": {
     "iopub.execute_input": "2024-03-06T14:38:23.848051Z",
     "iopub.status.busy": "2024-03-06T14:38:23.847715Z",
     "iopub.status.idle": "2024-03-06T14:38:23.868035Z",
     "shell.execute_reply": "2024-03-06T14:38:23.866914Z"
    },
    "papermill": {
     "duration": 0.027825,
     "end_time": "2024-03-06T14:38:23.870552",
     "exception": false,
     "start_time": "2024-03-06T14:38:23.842727",
     "status": "completed"
    },
    "tags": []
   },
   "outputs": [
    {
     "name": "stdout",
     "output_type": "stream",
     "text": [
      "40\n"
     ]
    }
   ],
   "source": [
    "records= []\n",
    "for item in items:\n",
    "    try:\n",
    "        item_name =item.find(\"h3\",attrs = {\"class\":\"name\"}).text\n",
    "        current_price =item.find(\"div\", attrs = {\"class\":\"prc\"}).text\n",
    "        old_price_element = item.find(\"div\", attrs = {\"class\":\"old\"})\n",
    "        item_discount_element = item.find(\"div\", attrs = {\"class\":\"bdg _dsct _sm\"})\n",
    "        item_link = item.find(\"a\", attrs = {\"class\":\"core\"}).get(\"href\")\n",
    "\n",
    "        if old_price_element: \n",
    "            old_price = old_price_element.text\n",
    "        else:\n",
    "            old_price = None\n",
    "        if item_discount_element:\n",
    "            item_discount = item_discount_element.text\n",
    "        else:\n",
    "            item_dicount = None\n",
    "        records.append(( item_name, current_price,old_price, item_discount, item_link))\n",
    "\n",
    "    except AttributeError:\n",
    "        records.append(None)\n",
    "print(len(records))\n"
   ]
  },
  {
   "cell_type": "code",
   "execution_count": 8,
   "id": "61e8b49e",
   "metadata": {
    "execution": {
     "iopub.execute_input": "2024-03-06T14:38:23.880538Z",
     "iopub.status.busy": "2024-03-06T14:38:23.880155Z",
     "iopub.status.idle": "2024-03-06T14:44:04.363129Z",
     "shell.execute_reply": "2024-03-06T14:44:04.361874Z"
    },
    "papermill": {
     "duration": 340.490836,
     "end_time": "2024-03-06T14:44:04.365458",
     "exception": false,
     "start_time": "2024-03-06T14:38:23.874622",
     "status": "completed"
    },
    "tags": []
   },
   "outputs": [
    {
     "name": "stdout",
     "output_type": "stream",
     "text": [
      "Page 1 scrapped successfully\n",
      "Page 2 scrapped successfully\n",
      "Page 3 scrapped successfully\n",
      "Page 4 scrapped successfully\n",
      "Page 5 scrapped successfully\n",
      "Page 6 scrapped successfully\n",
      "Page 7 scrapped successfully\n",
      "Page 8 scrapped successfully\n",
      "Page 9 scrapped successfully\n",
      "Page 10 scrapped successfully\n",
      "Page 11 scrapped successfully\n",
      "Page 12 scrapped successfully\n",
      "Page 13 scrapped successfully\n",
      "Page 14 scrapped successfully\n",
      "Page 15 scrapped successfully\n",
      "Page 16 scrapped successfully\n",
      "Page 17 scrapped successfully\n",
      "Page 18 scrapped successfully\n",
      "Page 19 scrapped successfully\n",
      "Page 20 scrapped successfully\n",
      "Page 21 scrapped successfully\n",
      "Page 22 scrapped successfully\n",
      "Page 23 scrapped successfully\n",
      "Page 24 scrapped successfully\n",
      "Page 25 scrapped successfully\n",
      "Page 26 scrapped successfully\n",
      "Page 27 scrapped successfully\n",
      "Page 28 scrapped successfully\n",
      "Page 29 scrapped successfully\n",
      "Page 30 scrapped successfully\n",
      "Page 31 scrapped successfully\n",
      "Page 32 scrapped successfully\n",
      "Page 33 scrapped successfully\n",
      "Page 34 scrapped successfully\n",
      "Page 35 scrapped successfully\n",
      "Page 36 scrapped successfully\n",
      "Page 37 scrapped successfully\n",
      "Page 38 scrapped successfully\n",
      "Page 39 scrapped successfully\n",
      "Page 40 scrapped successfully\n",
      "Page 41 scrapped successfully\n",
      "Page 42 scrapped successfully\n",
      "Page 43 scrapped successfully\n",
      "Page 44 scrapped successfully\n",
      "Page 45 scrapped successfully\n",
      "Page 46 scrapped successfully\n",
      "Page 47 scrapped successfully\n",
      "Page 48 scrapped successfully\n",
      "Page 49 scrapped successfully\n",
      "Page 50 scrapped successfully\n"
     ]
    }
   ],
   "source": [
    "import time\n",
    "import requests\n",
    "from bs4 import BeautifulSoup\n",
    "\n",
    "base_url = \"https://www.jumia.co.ke/all-products/?page={}#catalog-listing\"\n",
    "records = []\n",
    "\n",
    "for page_number in range(1, 51):\n",
    "    url = base_url.format(page_number)\n",
    "    time.sleep(5)\n",
    "    response = requests.get(url)\n",
    "    if response.status_code == 200:\n",
    "        soup = BeautifulSoup(response.text, \"html.parser\")\n",
    "        print(f\"Page {page_number} scrapped successfully\")\n",
    "        items = soup.find_all(\"article\", attrs={\"class\": \"prd _fb col c-prd\"})\n",
    "        for item in items:\n",
    "            try:\n",
    "                item_name = item.find(\"h3\", attrs={\"class\": \"name\"}).text\n",
    "                current_price = item.find(\"div\", attrs={\"class\": \"prc\"}).text\n",
    "                old_price_element = item.find(\"div\", attrs={\"class\": \"old\"})\n",
    "                item_discount_element = item.find(\"div\", attrs={\"class\": \"bdg _dsct _sm\"})\n",
    "                item_link = item.find(\"a\", attrs={\"class\": \"core\"}).get(\"href\")\n",
    "                \n",
    "                if old_price_element:\n",
    "                    old_price = old_price_element.text\n",
    "                else:\n",
    "                    old_price = None\n",
    "                if item_discount_element:\n",
    "                    item_discount = item_discount_element.text\n",
    "                else:\n",
    "                    item_discount = None\n",
    "                records.append((item_name, current_price, old_price, item_discount, item_link))\n",
    "            except AttributeError:\n",
    "                records.append(None)\n",
    "    else:\n",
    "        print(f\"Page {page_number} not scrapped\")"
   ]
  },
  {
   "cell_type": "code",
   "execution_count": 9,
   "id": "42dbe710",
   "metadata": {
    "execution": {
     "iopub.execute_input": "2024-03-06T14:44:04.382033Z",
     "iopub.status.busy": "2024-03-06T14:44:04.381644Z",
     "iopub.status.idle": "2024-03-06T14:44:04.398667Z",
     "shell.execute_reply": "2024-03-06T14:44:04.397598Z"
    },
    "papermill": {
     "duration": 0.028904,
     "end_time": "2024-03-06T14:44:04.401755",
     "exception": false,
     "start_time": "2024-03-06T14:44:04.372851",
     "status": "completed"
    },
    "tags": []
   },
   "outputs": [
    {
     "name": "stdout",
     "output_type": "stream",
     "text": [
      "Data saved to jumia_products.csv\n"
     ]
    }
   ],
   "source": [
    "# Save records to CSV file\n",
    "import csv\n",
    "csv_file = \"jumia_products.csv\"\n",
    "with open(csv_file, mode='w', newline='', encoding='utf-8') as file:\n",
    "    writer = csv.writer(file)\n",
    "    writer.writerow([\"Item Name\", \"Current Price\", \"Old Price\", \"Discount\", \"Item Link\"])\n",
    "    writer.writerows(records)\n",
    "\n",
    "print(\"Data saved to\", csv_file)"
   ]
  },
  {
   "cell_type": "code",
   "execution_count": 10,
   "id": "41970fdb",
   "metadata": {
    "execution": {
     "iopub.execute_input": "2024-03-06T14:44:04.418326Z",
     "iopub.status.busy": "2024-03-06T14:44:04.417935Z",
     "iopub.status.idle": "2024-03-06T14:44:04.436092Z",
     "shell.execute_reply": "2024-03-06T14:44:04.434897Z"
    },
    "papermill": {
     "duration": 0.029278,
     "end_time": "2024-03-06T14:44:04.438534",
     "exception": false,
     "start_time": "2024-03-06T14:44:04.409256",
     "status": "completed"
    },
    "tags": []
   },
   "outputs": [],
   "source": [
    "df = pd.read_csv(\"jumia_products.csv\")"
   ]
  },
  {
   "cell_type": "code",
   "execution_count": 11,
   "id": "1d726c33",
   "metadata": {
    "execution": {
     "iopub.execute_input": "2024-03-06T14:44:04.454631Z",
     "iopub.status.busy": "2024-03-06T14:44:04.454241Z",
     "iopub.status.idle": "2024-03-06T14:44:04.489088Z",
     "shell.execute_reply": "2024-03-06T14:44:04.488041Z"
    },
    "papermill": {
     "duration": 0.045398,
     "end_time": "2024-03-06T14:44:04.491150",
     "exception": false,
     "start_time": "2024-03-06T14:44:04.445752",
     "status": "completed"
    },
    "tags": []
   },
   "outputs": [
    {
     "name": "stdout",
     "output_type": "stream",
     "text": [
      "\n",
      "Summary statistics:\n"
     ]
    },
    {
     "data": {
      "text/html": [
       "<div>\n",
       "<style scoped>\n",
       "    .dataframe tbody tr th:only-of-type {\n",
       "        vertical-align: middle;\n",
       "    }\n",
       "\n",
       "    .dataframe tbody tr th {\n",
       "        vertical-align: top;\n",
       "    }\n",
       "\n",
       "    .dataframe thead th {\n",
       "        text-align: right;\n",
       "    }\n",
       "</style>\n",
       "<table border=\"1\" class=\"dataframe\">\n",
       "  <thead>\n",
       "    <tr style=\"text-align: right;\">\n",
       "      <th></th>\n",
       "      <th>count</th>\n",
       "      <th>unique</th>\n",
       "      <th>top</th>\n",
       "      <th>freq</th>\n",
       "    </tr>\n",
       "  </thead>\n",
       "  <tbody>\n",
       "    <tr>\n",
       "      <th>Item Name</th>\n",
       "      <td>2000</td>\n",
       "      <td>1840</td>\n",
       "      <td>Motorola Moto Edge Plus Leather Phone Case</td>\n",
       "      <td>5</td>\n",
       "    </tr>\n",
       "    <tr>\n",
       "      <th>Current Price</th>\n",
       "      <td>2000</td>\n",
       "      <td>1112</td>\n",
       "      <td>KSh 799</td>\n",
       "      <td>30</td>\n",
       "    </tr>\n",
       "    <tr>\n",
       "      <th>Old Price</th>\n",
       "      <td>1744</td>\n",
       "      <td>904</td>\n",
       "      <td>KSh 1,500</td>\n",
       "      <td>48</td>\n",
       "    </tr>\n",
       "    <tr>\n",
       "      <th>Discount</th>\n",
       "      <td>1744</td>\n",
       "      <td>63</td>\n",
       "      <td>50%</td>\n",
       "      <td>270</td>\n",
       "    </tr>\n",
       "    <tr>\n",
       "      <th>Item Link</th>\n",
       "      <td>2000</td>\n",
       "      <td>1880</td>\n",
       "      <td>/fashion-winner-mechanical-watch-for-men-skele...</td>\n",
       "      <td>2</td>\n",
       "    </tr>\n",
       "  </tbody>\n",
       "</table>\n",
       "</div>"
      ],
      "text/plain": [
       "              count unique                                                top  \\\n",
       "Item Name      2000   1840         Motorola Moto Edge Plus Leather Phone Case   \n",
       "Current Price  2000   1112                                            KSh 799   \n",
       "Old Price      1744    904                                          KSh 1,500   \n",
       "Discount       1744     63                                                50%   \n",
       "Item Link      2000   1880  /fashion-winner-mechanical-watch-for-men-skele...   \n",
       "\n",
       "              freq  \n",
       "Item Name        5  \n",
       "Current Price   30  \n",
       "Old Price       48  \n",
       "Discount       270  \n",
       "Item Link        2  "
      ]
     },
     "execution_count": 11,
     "metadata": {},
     "output_type": "execute_result"
    }
   ],
   "source": [
    "print(\"\\nSummary statistics:\")\n",
    "df.describe().T"
   ]
  },
  {
   "cell_type": "code",
   "execution_count": 12,
   "id": "bfe1a61b",
   "metadata": {
    "execution": {
     "iopub.execute_input": "2024-03-06T14:44:04.508598Z",
     "iopub.status.busy": "2024-03-06T14:44:04.507874Z",
     "iopub.status.idle": "2024-03-06T14:44:04.516361Z",
     "shell.execute_reply": "2024-03-06T14:44:04.515560Z"
    },
    "papermill": {
     "duration": 0.019451,
     "end_time": "2024-03-06T14:44:04.518189",
     "exception": false,
     "start_time": "2024-03-06T14:44:04.498738",
     "status": "completed"
    },
    "tags": []
   },
   "outputs": [
    {
     "name": "stdout",
     "output_type": "stream",
     "text": [
      "\n",
      "Missing values:\n"
     ]
    },
    {
     "data": {
      "text/plain": [
       "Item Name          0\n",
       "Current Price      0\n",
       "Old Price        256\n",
       "Discount         256\n",
       "Item Link          0\n",
       "dtype: int64"
      ]
     },
     "execution_count": 12,
     "metadata": {},
     "output_type": "execute_result"
    }
   ],
   "source": [
    "print(\"\\nMissing values:\")\n",
    "df.isnull().sum()"
   ]
  }
 ],
 "metadata": {
  "kaggle": {
   "accelerator": "none",
   "dataSources": [],
   "dockerImageVersionId": 30664,
   "isGpuEnabled": false,
   "isInternetEnabled": true,
   "language": "python",
   "sourceType": "notebook"
  },
  "kernelspec": {
   "display_name": "Python 3",
   "language": "python",
   "name": "python3"
  },
  "language_info": {
   "codemirror_mode": {
    "name": "ipython",
    "version": 3
   },
   "file_extension": ".py",
   "mimetype": "text/x-python",
   "name": "python",
   "nbconvert_exporter": "python",
   "pygments_lexer": "ipython3",
   "version": "3.10.13"
  },
  "papermill": {
   "default_parameters": {},
   "duration": 347.006394,
   "end_time": "2024-03-06T14:44:05.046775",
   "environment_variables": {},
   "exception": null,
   "input_path": "__notebook__.ipynb",
   "output_path": "__notebook__.ipynb",
   "parameters": {},
   "start_time": "2024-03-06T14:38:18.040381",
   "version": "2.5.0"
  }
 },
 "nbformat": 4,
 "nbformat_minor": 5
}
