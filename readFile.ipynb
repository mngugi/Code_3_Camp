{
 "cells": [
  {
   "cell_type": "code",
   "execution_count": 5,
   "id": "a8b7b9ad-be39-4812-8e60-f91f63435df9",
   "metadata": {},
   "outputs": [
    {
     "name": "stdout",
     "output_type": "stream",
     "text": [
      "Hi tupuHi tupuHi tupu\n"
     ]
    }
   ],
   "source": [
    "# file open\n",
    "\n",
    "file = open(\"data.txt\", \"a+\")\n",
    "file.write(\"Hi tupu\")\n",
    "file.seek(0)\n",
    "print(file.read())\n",
    "file.close()"
   ]
  },
  {
   "cell_type": "code",
   "execution_count": null,
   "id": "51a8c051-5de2-4be8-acec-0ccbca0bf52a",
   "metadata": {},
   "outputs": [],
   "source": []
  }
 ],
 "metadata": {
  "kernelspec": {
   "display_name": "Python 3 (ipykernel)",
   "language": "python",
   "name": "python3"
  },
  "language_info": {
   "codemirror_mode": {
    "name": "ipython",
    "version": 3
   },
   "file_extension": ".py",
   "mimetype": "text/x-python",
   "name": "python",
   "nbconvert_exporter": "python",
   "pygments_lexer": "ipython3",
   "version": "3.8.18"
  }
 },
 "nbformat": 4,
 "nbformat_minor": 5
}
