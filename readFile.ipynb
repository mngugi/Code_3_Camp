{
 "cells": [
  {
   "cell_type": "markdown",
   "id": "34f93bab-0117-40ac-8e4f-af996c65d464",
   "metadata": {},
   "source": [
    "1. opening a file\n",
    "\n",
    "- `file = open(\"data.txt\", \"a+\")`\n",
    "\n",
    "\n",
    "- \"a+\" mode is used, which allows both appending and reading.\n",
    "- If data.txt does not exist, it will be created automatically.\n",
    "\n",
    "2. Writing tp the file\n",
    "- `file.write(\"Hi tupu\")`\n",
    "\n",
    "- Appends \"Hi tupu\" to the file.\n",
    "\n",
    "3. Moving the Cursor to the Beginning:\n",
    "\n",
    "- `file.seek(0)`\n",
    "- Moves the cursor to the beginning of the file so that we can read its contents.\n",
    "\n",
    "4. Reading the File Content:\n",
    "\n",
    "- `print(file.read())`\n",
    "- Reads and prints the entire content of the file.\n",
    "\n",
    "5. Closing the File:\n",
    "\n",
    "- `file.close()`\n",
    "- Always close the file to ensure changes are saved properly.\n",
    "\n",
    "   \n"
   ]
  },
  {
   "cell_type": "code",
   "execution_count": 5,
   "id": "a8b7b9ad-be39-4812-8e60-f91f63435df9",
   "metadata": {},
   "outputs": [
    {
     "name": "stdout",
     "output_type": "stream",
     "text": [
      "Hi tupuHi tupuHi tupu\n"
     ]
    }
   ],
   "source": [
    "# file open\n",
    "\n",
    "file = open(\"data.txt\", \"a+\")\n",
    "file.write(\"Hi tupu\")\n",
    "file.seek(0)\n",
    "print(file.read())\n",
    "file.close()"
   ]
  },
  {
   "cell_type": "code",
   "execution_count": null,
   "id": "51a8c051-5de2-4be8-acec-0ccbca0bf52a",
   "metadata": {},
   "outputs": [],
   "source": []
  }
 ],
 "metadata": {
  "kernelspec": {
   "display_name": "Python 3 (ipykernel)",
   "language": "python",
   "name": "python3"
  },
  "language_info": {
   "codemirror_mode": {
    "name": "ipython",
    "version": 3
   },
   "file_extension": ".py",
   "mimetype": "text/x-python",
   "name": "python",
   "nbconvert_exporter": "python",
   "pygments_lexer": "ipython3",
   "version": "3.12.2"
  }
 },
 "nbformat": 4,
 "nbformat_minor": 5
}
