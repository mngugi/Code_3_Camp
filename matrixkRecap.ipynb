{
  "nbformat": 4,
  "nbformat_minor": 0,
  "metadata": {
    "colab": {
      "provenance": [],
      "authorship_tag": "ABX9TyPNRKujMMPLeEoSatTDKhJh",
      "include_colab_link": true
    },
    "kernelspec": {
      "name": "python3",
      "display_name": "Python 3"
    },
    "language_info": {
      "name": "python"
    }
  },
  "cells": [
    {
      "cell_type": "markdown",
      "metadata": {
        "id": "view-in-github",
        "colab_type": "text"
      },
      "source": [
        "<a href=\"https://colab.research.google.com/github/mngugi/Code_3_Camp/blob/main/matrixkRecap.ipynb\" target=\"_parent\"><img src=\"https://colab.research.google.com/assets/colab-badge.svg\" alt=\"Open In Colab\"/></a>"
      ]
    },
    {
      "cell_type": "code",
      "execution_count": 2,
      "metadata": {
        "colab": {
          "base_uri": "https://localhost:8080/"
        },
        "id": "XOaK-zOkDZoK",
        "outputId": "64ef993a-9359-42a8-d4ff-e5907ee5dd23"
      },
      "outputs": [
        {
          "output_type": "execute_result",
          "data": {
            "text/plain": [
              "10.000000000000002"
            ]
          },
          "metadata": {},
          "execution_count": 2
        }
      ],
      "source": [
        "import numpy as np\n",
        "\n",
        "matrix = np.array([[3,1], [2,4]])\n",
        "detr = np.linalg.det(matrix)\n",
        "detr"
      ]
    },
    {
      "cell_type": "code",
      "source": [
        "matrix = np.array([[3,1], [2,4]])\n",
        "invr = np.linalg.inv(matrix)\n",
        "invr"
      ],
      "metadata": {
        "colab": {
          "base_uri": "https://localhost:8080/"
        },
        "id": "FvlAeB7TEBED",
        "outputId": "74c158aa-4989-402f-ea5b-b05c34716c30"
      },
      "execution_count": 3,
      "outputs": [
        {
          "output_type": "execute_result",
          "data": {
            "text/plain": [
              "array([[ 0.4, -0.1],\n",
              "       [-0.2,  0.3]])"
            ]
          },
          "metadata": {},
          "execution_count": 3
        }
      ]
    },
    {
      "cell_type": "code",
      "source": [
        "matrix = np.array([[3,1], [2,4]])\n",
        "eingn, eigenV = np.linalg.eig(matrix)\n",
        "print(eingn)\n",
        "print(eigenV)"
      ],
      "metadata": {
        "colab": {
          "base_uri": "https://localhost:8080/"
        },
        "id": "VOKZxae4ESfR",
        "outputId": "e87612f2-2e7f-486e-d8ed-d8e9bf16299b"
      },
      "execution_count": 5,
      "outputs": [
        {
          "output_type": "stream",
          "name": "stdout",
          "text": [
            "[2. 5.]\n",
            "[[-0.70710678 -0.4472136 ]\n",
            " [ 0.70710678 -0.89442719]]\n"
          ]
        }
      ]
    }
  ]
}