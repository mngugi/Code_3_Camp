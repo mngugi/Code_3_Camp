{
 "cells": [
  {
   "cell_type": "markdown",
   "metadata": {
    "colab_type": "text",
    "id": "view-in-github"
   },
   "source": [
    "<a href=\"https://colab.research.google.com/github/mngugi/Code_3_Camp/blob/main/CNN_Using_Sequencial_and_Functional_API.ipynb\" target=\"_parent\"><img src=\"https://colab.research.google.com/assets/colab-badge.svg\" alt=\"Open In Colab\"/></a>"
   ]
  },
  {
   "cell_type": "markdown",
   "metadata": {
    "id": "iX0yMjNawN6N"
   },
   "source": [
    "###Importing the libraries"
   ]
  },
  {
   "cell_type": "code",
   "execution_count": 1,
   "metadata": {
    "id": "7dd7cH_wv1rh"
   },
   "outputs": [],
   "source": [
    "#data manipulation libraries\n",
    "import numpy as np\n",
    "import random\n",
    "\n",
    "#data visualization library\n",
    "import matplotlib.pyplot as plt\n",
    "\n",
    "#model building libraries\n",
    "import tensorflow as tf\n",
    "from tensorflow import keras\n",
    "from tensorflow.keras.models import Sequential, Model\n",
    "from tensorflow.keras.layers import Input,Conv2D, MaxPooling2D, Dense, Flatten, AveragePooling2D, BatchNormalization, Reshape\n"
   ]
  },
  {
   "cell_type": "markdown",
   "metadata": {
    "id": "XBvXFEd5yNVY"
   },
   "source": [
    "###Importing the dataset"
   ]
  },
  {
   "cell_type": "code",
   "execution_count": 2,
   "metadata": {
    "colab": {
     "base_uri": "https://localhost:8080/"
    },
    "id": "U-Di0gJm0-eO",
    "outputId": "ee111c56-89f8-41e7-e019-eb6930264c23"
   },
   "outputs": [
    {
     "ename": "ModuleNotFoundError",
     "evalue": "No module named 'google.colab'",
     "output_type": "error",
     "traceback": [
      "\u001b[0;31m---------------------------------------------------------------------------\u001b[0m",
      "\u001b[0;31mModuleNotFoundError\u001b[0m                       Traceback (most recent call last)",
      "Cell \u001b[0;32mIn[2], line 1\u001b[0m\n\u001b[0;32m----> 1\u001b[0m \u001b[38;5;28;01mfrom\u001b[39;00m \u001b[38;5;21;01mgoogle\u001b[39;00m\u001b[38;5;21;01m.\u001b[39;00m\u001b[38;5;21;01mcolab\u001b[39;00m \u001b[38;5;28;01mimport\u001b[39;00m drive\n\u001b[1;32m      2\u001b[0m drive\u001b[38;5;241m.\u001b[39mmount(\u001b[38;5;124m'\u001b[39m\u001b[38;5;124m/content/drive\u001b[39m\u001b[38;5;124m'\u001b[39m)\n",
      "\u001b[0;31mModuleNotFoundError\u001b[0m: No module named 'google.colab'"
     ]
    }
   ],
   "source": [
    "from google.colab import drive\n",
    "drive.mount('/content/drive')"
   ]
  },
  {
   "cell_type": "code",
   "execution_count": null,
   "metadata": {
    "id": "Eo6jPJEN1hGk"
   },
   "outputs": [],
   "source": [
    "#importing training and testing data\n",
    "#import numpy as np\n",
    "#x_train = np.loadtxt('/content/input.csv', delimiter = ',')\n",
    "#x_test = np.loadtxt('/content/input_test.csv', delimiter = ',')\n",
    "\n",
    "#x_train = np.loadtxt('/content/input.csv', delimiter=',', usecols=range(30000))\n",
    "#x_test = np.loadtxt('/content/input_test.csv', delimiter=',', usecols=range(30000))\n",
    "\n",
    "import pandas as pd\n",
    "\n",
    "# Read CSV file into a pandas DataFrame\n",
    "x_train = pd.read_csv('/content/input.csv', delimiter=',')\n",
    "x_test = pd.read_csv('/content/input_test.csv', delimiter=',')\n",
    "\n",
    "\n"
   ]
  },
  {
   "cell_type": "code",
   "execution_count": null,
   "metadata": {
    "id": "s1RLne8N2CJH"
   },
   "outputs": [],
   "source": [
    "#importing training and test label\n",
    "y_train = np.loadtxt('/content/labels.csv', delimiter = ',')\n",
    "y_test = np.loadtxt('/content/labels_test.csv', delimiter = ',')\n"
   ]
  },
  {
   "cell_type": "markdown",
   "metadata": {
    "id": "fdlH_j0-27Of"
   },
   "source": [
    "###Checking the shape of the dataset"
   ]
  },
  {
   "cell_type": "code",
   "execution_count": null,
   "metadata": {
    "colab": {
     "base_uri": "https://localhost:8080/"
    },
    "id": "q9dWgwWH2jOD",
    "outputId": "d7ef111d-3bea-4695-fb7f-42274c8f1d8f"
   },
   "outputs": [],
   "source": [
    "#checking the shape of the dataset\n",
    "print('shape of x_train :', x_train.shape)\n",
    "print('shape of x_test :', x_test.shape)\n",
    "print('shape of y_train :', y_train.shape)\n",
    "print('shape of y_test :', y_train.shape)"
   ]
  },
  {
   "cell_type": "markdown",
   "metadata": {
    "id": "NIoPrdFZ6m7Y"
   },
   "source": [
    "- There are 2000 images in the training set.\n",
    "- Each samle is a flattened array of 30000 values.\n",
    "- The test set has 400 images."
   ]
  },
  {
   "cell_type": "markdown",
   "metadata": {
    "id": "R84FfgWy795P"
   },
   "source": [
    "###Reshaping the dataset into an appropriate shape"
   ]
  },
  {
   "cell_type": "code",
   "execution_count": null,
   "metadata": {
    "colab": {
     "base_uri": "https://localhost:8080/"
    },
    "id": "78-aQ9cO5Rlu",
    "outputId": "e23bf922-1e42-49bd-db16-c68b78d86cc3"
   },
   "outputs": [],
   "source": [
    "100 * 100 * 3"
   ]
  },
  {
   "cell_type": "code",
   "execution_count": null,
   "metadata": {
    "id": "DULAOB3B8E5T"
   },
   "outputs": [],
   "source": [
    "#reshaping the train and test images\n",
    "#x_train = x_train.reshape(len(x_train), 100,100, 3)\n",
    "#x_test = x_test.reshape(len(x_test), 100,100, 3)\n",
    "import numpy as np\n",
    "\n",
    "# Assuming x_train and x_test are DataFrames\n",
    "# Convert them to NumPy arrays\n",
    "x_train = np.array(x_train)\n",
    "x_test = np.array(x_test)\n",
    "\n",
    "# Now you can reshape the arrays\n",
    "x_train = x_train.reshape(len(x_train), 100, 100, 3)\n",
    "x_test = x_test.reshape(len(x_test), 100, 100, 3)\n"
   ]
  },
  {
   "cell_type": "code",
   "execution_count": null,
   "metadata": {
    "id": "alK7o5xq8voo"
   },
   "outputs": [],
   "source": [
    "#reshaping the labels\n",
    "y_train = y_train.reshape(len(y_train), 1)\n",
    "y_test = y_test.reshape(len(y_test), 1)"
   ]
  },
  {
   "cell_type": "markdown",
   "metadata": {
    "id": "8i6Dc2-I-kYm"
   },
   "source": [
    "**Checking the shape of the dataset again**"
   ]
  },
  {
   "cell_type": "code",
   "execution_count": null,
   "metadata": {
    "colab": {
     "base_uri": "https://localhost:8080/"
    },
    "id": "RU68Y3eS-pfp",
    "outputId": "e5405dbf-a1b3-4437-c544-8c17b006c482"
   },
   "outputs": [],
   "source": [
    "#checking the shape of the dataset\n",
    "print('shape of x_train :', x_train.shape)\n",
    "print('shape of x_test :', x_test.shape)\n",
    "print('shape of y_train :', y_train.shape)\n",
    "print('shape of y_test :', y_train.shape)"
   ]
  },
  {
   "cell_type": "markdown",
   "metadata": {
    "id": "5dOjoDcO-4Js"
   },
   "source": [
    "- The shape has been fixed"
   ]
  },
  {
   "cell_type": "markdown",
   "metadata": {
    "id": "uauvIa54_dAL"
   },
   "source": [
    "###Rescaling the dataset"
   ]
  },
  {
   "cell_type": "code",
   "execution_count": null,
   "metadata": {
    "colab": {
     "base_uri": "https://localhost:8080/"
    },
    "id": "WHajZ2tw_hIf",
    "outputId": "71810eac-4213-44ac-e246-2cbb328c6fb6"
   },
   "outputs": [],
   "source": [
    "#checking the scale\n",
    "x_train[1]"
   ]
  },
  {
   "cell_type": "markdown",
   "metadata": {
    "id": "ZLSSUzXO_-hE"
   },
   "source": [
    "- The images are ranging from 1 to 255, they should range from 0 to 1"
   ]
  },
  {
   "cell_type": "code",
   "execution_count": null,
   "metadata": {
    "colab": {
     "base_uri": "https://localhost:8080/"
    },
    "id": "ifIrM-6vAGQt",
    "outputId": "87b49058-e05c-49f0-9384-1c11ec6a931f"
   },
   "outputs": [],
   "source": [
    "#rescaling the dataset\n",
    "#x_train = x_train/255.0\n",
    "#x_test = x_test/255.0\n",
    "import numpy as np\n",
    "\n",
    "# Convert x_train and x_test to NumPy arrays if they are not already\n",
    "x_train = np.array(x_train)\n",
    "x_test = np.array(x_test)\n",
    "\n",
    "# Check data types\n",
    "print(\"Data type of x_train:\", x_train.dtype)\n",
    "print(\"Data type of x_test:\", x_test.dtype)\n",
    "\n",
    "# Check for non-numeric values\n",
    "non_numeric_x_train = x_train[np.logical_not(np.issubdtype(x_train.dtype, np.number))]\n",
    "non_numeric_x_test = x_test[np.logical_not(np.issubdtype(x_test.dtype, np.number))]\n",
    "\n",
    "if non_numeric_x_train.size > 0 or non_numeric_x_test.size > 0:\n",
    "    print(\"Non-numeric values found in x_train:\", non_numeric_x_train)\n",
    "    print(\"Non-numeric values found in x_test:\", non_numeric_x_test)\n",
    "    # Handle or remove non-numeric values as needed\n",
    "else:\n",
    "    # Data appears to be numeric, proceed with rescaling\n",
    "    x_train = x_train / 255.0\n",
    "    x_test = x_test / 255.0\n"
   ]
  },
  {
   "cell_type": "code",
   "execution_count": null,
   "metadata": {
    "colab": {
     "base_uri": "https://localhost:8080/"
    },
    "id": "9awGpI4MAYhn",
    "outputId": "345d6275-0f13-47fd-8970-cbb7f9c11ad3"
   },
   "outputs": [],
   "source": [
    "#checking the scale\n",
    "x_train[1]"
   ]
  },
  {
   "cell_type": "markdown",
   "metadata": {
    "id": "MMt9ASNYAjas"
   },
   "source": [
    "- The scale of the images has changed"
   ]
  },
  {
   "cell_type": "markdown",
   "metadata": {
    "id": "dAI_nD0YBGqT"
   },
   "source": [
    "###Displaying one image"
   ]
  },
  {
   "cell_type": "code",
   "execution_count": null,
   "metadata": {
    "colab": {
     "base_uri": "https://localhost:8080/",
     "height": 809
    },
    "id": "ZPpYNIiWBJLJ",
    "outputId": "efe0e5dc-006e-42f4-ff83-ce377cc77107"
   },
   "outputs": [],
   "source": [
    "#dispalying any random image\n",
    "#randomimage = random.randint(0, len(x_train))\n",
    "#plotting the image\n",
    "#plt.imshow(x_train[randomimage, :])\n",
    "#plt.show()\n",
    "import numpy as np\n",
    "import matplotlib.pyplot as plt\n",
    "\n",
    "# Convert x_train to NumPy array if it's not already\n",
    "x_train = np.array(x_train)\n",
    "\n",
    "# Check the data type and shape\n",
    "print(\"Data type of x_train:\", x_train.dtype)\n",
    "print(\"Shape of x_train:\", x_train.shape)\n",
    "\n",
    "# Ensure the images are represented as numerical arrays\n",
    "# Assuming each image is represented as a 2D array (grayscale) or 3D array (RGB)\n",
    "# If the images are not in the correct shape or dtype, you may need to preprocess them accordingly\n",
    "\n",
    "# Plot a random image\n",
    "random_image_index = np.random.randint(0, len(x_train))\n",
    "plt.imshow(x_train[random_image_index])\n",
    "plt.show()\n",
    "\n"
   ]
  },
  {
   "cell_type": "markdown",
   "metadata": {
    "id": "bDRjfNv6DzKi"
   },
   "source": [
    "- As shown, a cat is displayed"
   ]
  },
  {
   "cell_type": "markdown",
   "metadata": {
    "id": "rxjxt0E_ESKg"
   },
   "source": [
    "##MODEL BUILDING"
   ]
  },
  {
   "cell_type": "markdown",
   "metadata": {
    "id": "EjZD_1AeEXTh"
   },
   "source": [
    "###Sequencial model/Sequential API\n",
    "![image.png](data:image/png;base64,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)"
   ]
  },
  {
   "cell_type": "code",
   "execution_count": null,
   "metadata": {
    "colab": {
     "base_uri": "https://localhost:8080/"
    },
    "id": "zmwqPrrZKwGf",
    "outputId": "9b5a9d16-3788-45ad-8009-be86c352cd4c"
   },
   "outputs": [],
   "source": [
    "sq_model = Sequential([\n",
    "    Conv2D(32, 3,3, activation = 'relu', input_shape = (100,100,3)),\n",
    "    MaxPooling2D((2,2)),\n",
    "\n",
    "    Conv2D(32, 3,3, activation = 'relu'),\n",
    "    MaxPooling2D((2,2)),\n",
    "\n",
    "\n",
    "    Flatten(),\n",
    "    Dense(64, activation = 'relu'),\n",
    "    Dense(1, activation = 'sigmoid')\n",
    "])\n",
    "\n",
    "sq_model.summary()"
   ]
  },
  {
   "cell_type": "code",
   "execution_count": null,
   "metadata": {
    "id": "-vkrvIaSHKGi"
   },
   "outputs": [],
   "source": [
    "from tensorflow.keras import layers"
   ]
  },
  {
   "cell_type": "code",
   "execution_count": null,
   "metadata": {
    "id": "HSIjxoaHGCqY"
   },
   "outputs": [],
   "source": [
    "sq1 = Sequential()\n",
    "sq1.add(layers.Conv2D(32, 3,3, activation = 'relu', input_shape = (100,100,3))),\n",
    "sq1.add(layers.MaxPooling2D((2,2))),\n",
    "sq1.add(layers.Conv2D(32, 3,3, activation = 'relu')),\n",
    "sq1.add(layers.Flatten()),\n",
    "sq1.add(layers.Dense(1, activation = 'sigmoid'))"
   ]
  },
  {
   "cell_type": "markdown",
   "metadata": {
    "id": "e8nbakArPANF"
   },
   "source": [
    "**Compiling the model**"
   ]
  },
  {
   "cell_type": "code",
   "execution_count": null,
   "metadata": {
    "id": "x9rFSsRRPMCv"
   },
   "outputs": [],
   "source": [
    "#compiling the model\n",
    "sq_model.compile(loss = 'binary_crossentropy', optimizer = 'Adam', metrics = ['accuracy'])"
   ]
  },
  {
   "cell_type": "code",
   "execution_count": null,
   "metadata": {
    "colab": {
     "base_uri": "https://localhost:8080/"
    },
    "id": "B6R4NI0cQA01",
    "outputId": "7e6cefcf-98ef-41ad-fbad-63a71df46240"
   },
   "outputs": [],
   "source": [
    "#fitting the model\n",
    "sq_model.fit(x_train, y_train, epochs = 50, batch_size = 32)"
   ]
  },
  {
   "cell_type": "code",
   "execution_count": null,
   "metadata": {
    "colab": {
     "base_uri": "https://localhost:8080/"
    },
    "id": "aDyu-fhKRpRp",
    "outputId": "a2ad226f-df4f-4c9c-9f85-247362be4dc1"
   },
   "outputs": [],
   "source": [
    "sq_model.evaluate(x_test,y_test)"
   ]
  },
  {
   "cell_type": "code",
   "execution_count": null,
   "metadata": {
    "colab": {
     "base_uri": "https://localhost:8080/",
     "height": 865
    },
    "id": "SN8mF7vJjDpr",
    "outputId": "446ed2d5-ea4c-46fb-b1b0-99952f64e10b"
   },
   "outputs": [],
   "source": [
    "keras.utils.plot_model(sq_model, 'model.png', show_shapes = True)"
   ]
  },
  {
   "cell_type": "markdown",
   "metadata": {
    "id": "3Yrjnt29uTgA"
   },
   "source": [
    "###Functional API model"
   ]
  },
  {
   "cell_type": "code",
   "execution_count": null,
   "metadata": {
    "id": "zvVck7K1UnSW"
   },
   "outputs": [],
   "source": [
    "#creating the functional API model\n",
    "\n",
    "input_layer = Input(shape=(100, 100, 3))\n",
    "conv_layer1 = Conv2D(32, (3, 3), activation='relu')(input_layer)\n",
    "pooling_layer1 = MaxPooling2D((2, 2))(conv_layer1)\n",
    "conv_layer2 = Conv2D(32, (3, 3), activation='relu')(pooling_layer1)\n",
    "pooling_layer2 = MaxPooling2D((2, 2))(conv_layer2)\n",
    "flatten_layer = Flatten()(pooling_layer2)\n",
    "dense_layer1 = Dense(64, activation='relu')(flatten_layer)\n",
    "output_layer = Dense(1, activation='sigmoid')(dense_layer1)\n",
    "\n",
    "model = Model(inputs=input_layer, outputs=output_layer)"
   ]
  },
  {
   "cell_type": "code",
   "execution_count": null,
   "metadata": {
    "id": "zCM-j-jPyv8t"
   },
   "outputs": [],
   "source": [
    "#compiling the model\n",
    "model.compile(loss = 'binary_crossentropy', optimizer = 'Adam', metrics = ['accuracy'] )\n",
    "\n"
   ]
  },
  {
   "cell_type": "code",
   "execution_count": null,
   "metadata": {
    "colab": {
     "base_uri": "https://localhost:8080/",
     "height": 304
    },
    "id": "2FI80ZdvU2ph",
    "outputId": "7271dfcf-589a-4f07-851f-df032090f9c0"
   },
   "outputs": [],
   "source": [
    "#fitting the model\n",
    "model.fit(x_train, y_train, epochs = 10, batch_size = 32)"
   ]
  },
  {
   "cell_type": "code",
   "execution_count": null,
   "metadata": {
    "colab": {
     "base_uri": "https://localhost:8080/"
    },
    "id": "5H902vwvUvxh",
    "outputId": "c0db1bb2-caab-4301-f9af-1767a824bdb4"
   },
   "outputs": [],
   "source": [
    "#testing the model on test set\n",
    "model.evaluate(x_test,y_test)"
   ]
  },
  {
   "cell_type": "code",
   "execution_count": null,
   "metadata": {
    "colab": {
     "base_uri": "https://localhost:8080/",
     "height": 865
    },
    "id": "LssZLQ0CdKnp",
    "outputId": "5ed7b4c4-a592-4370-c994-c519b80e7b90"
   },
   "outputs": [],
   "source": [
    "keras.utils.plot_model(model, 'model.png',show_shapes = True)"
   ]
  }
 ],
 "metadata": {
  "accelerator": "GPU",
  "colab": {
   "gpuType": "T4",
   "include_colab_link": true,
   "provenance": []
  },
  "gpuClass": "standard",
  "kernelspec": {
   "display_name": "Python 3 (ipykernel)",
   "language": "python",
   "name": "python3"
  },
  "language_info": {
   "codemirror_mode": {
    "name": "ipython",
    "version": 3
   },
   "file_extension": ".py",
   "mimetype": "text/x-python",
   "name": "python",
   "nbconvert_exporter": "python",
   "pygments_lexer": "ipython3",
   "version": "3.12.7"
  }
 },
 "nbformat": 4,
 "nbformat_minor": 4
}
