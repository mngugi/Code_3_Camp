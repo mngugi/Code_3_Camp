{
 "cells": [
  {
   "cell_type": "code",
   "execution_count": 1,
   "id": "0e94a6c3",
   "metadata": {
    "_cell_guid": "b1076dfc-b9ad-4769-8c92-a6c4dae69d19",
    "_uuid": "8f2839f25d086af736a60e9eeb907d3b93b6e0e5",
    "execution": {
     "iopub.execute_input": "2024-03-06T15:16:41.535906Z",
     "iopub.status.busy": "2024-03-06T15:16:41.535496Z",
     "iopub.status.idle": "2024-03-06T15:16:42.879203Z",
     "shell.execute_reply": "2024-03-06T15:16:42.878125Z"
    },
    "papermill": {
     "duration": 1.351315,
     "end_time": "2024-03-06T15:16:42.882266",
     "exception": false,
     "start_time": "2024-03-06T15:16:41.530951",
     "status": "completed"
    },
    "tags": []
   },
   "outputs": [],
   "source": [
    "# This Python 3 environment comes with many helpful analytics libraries installed\n",
    "# It is defined by the kaggle/python Docker image: https://github.com/kaggle/docker-python\n",
    "# For example, here's several helpful packages to load\n",
    "\n",
    "import numpy as np # linear algebra\n",
    "import pandas as pd # data processing, CSV file I/O (e.g. pd.read_csv)\n",
    "import requests\n",
    "from bs4 import BeautifulSoup\n",
    "from urllib import request\n",
    "from PIL import Image\n",
    "import matplotlib.pyplot as plt\n",
    "from io import BytesIO\n",
    "\n",
    "\n",
    "# Input data files are available in the read-only \"../input/\" directory\n",
    "# For example, running this (by clicking run or pressing Shift+Enter) will list all files under the input directory\n",
    "\n",
    "import os\n",
    "for dirname, _, filenames in os.walk('/kaggle/input'):\n",
    "    for filename in filenames:\n",
    "        print(os.path.join(dirname, filename))\n",
    "\n",
    "# You can write up to 20GB to the current directory (/kaggle/working/) that gets preserved as output when you create a version using \"Save & Run All\" \n",
    "# You can also write temporary files to /kaggle/temp/, but they won't be saved outside of the current session"
   ]
  },
  {
   "cell_type": "code",
   "execution_count": 2,
   "id": "1e35df19",
   "metadata": {
    "execution": {
     "iopub.execute_input": "2024-03-06T15:16:42.889553Z",
     "iopub.status.busy": "2024-03-06T15:16:42.888965Z",
     "iopub.status.idle": "2024-03-06T15:16:43.075365Z",
     "shell.execute_reply": "2024-03-06T15:16:43.073967Z"
    },
    "papermill": {
     "duration": 0.193485,
     "end_time": "2024-03-06T15:16:43.078481",
     "exception": false,
     "start_time": "2024-03-06T15:16:42.884996",
     "status": "completed"
    },
    "tags": []
   },
   "outputs": [],
   "source": [
    "url = \"https://www.imdb.com/chart/top/\"\n",
    "requests = requests.get(url)\n",
    "## Parsing the html soup\n",
    "soup = BeautifulSoup(requests.text,\"html.parser\")\n",
    "items = soup.find_all(\"article\", attrs = {\"class\":\"prd _fb col c-prd\"})\n"
   ]
  },
  {
   "cell_type": "code",
   "execution_count": 3,
   "id": "23693a27",
   "metadata": {
    "execution": {
     "iopub.execute_input": "2024-03-06T15:16:43.084950Z",
     "iopub.status.busy": "2024-03-06T15:16:43.084515Z",
     "iopub.status.idle": "2024-03-06T15:16:43.090600Z",
     "shell.execute_reply": "2024-03-06T15:16:43.089375Z"
    },
    "papermill": {
     "duration": 0.012183,
     "end_time": "2024-03-06T15:16:43.093121",
     "exception": false,
     "start_time": "2024-03-06T15:16:43.080938",
     "status": "completed"
    },
    "tags": []
   },
   "outputs": [
    {
     "name": "stdout",
     "output_type": "stream",
     "text": [
      "0\n"
     ]
    }
   ],
   "source": [
    "print(len(items))"
   ]
  }
 ],
 "metadata": {
  "kaggle": {
   "accelerator": "none",
   "dataSources": [],
   "dockerImageVersionId": 30664,
   "isGpuEnabled": false,
   "isInternetEnabled": true,
   "language": "python",
   "sourceType": "notebook"
  },
  "kernelspec": {
   "display_name": "Python 3",
   "language": "python",
   "name": "python3"
  },
  "language_info": {
   "codemirror_mode": {
    "name": "ipython",
    "version": 3
   },
   "file_extension": ".py",
   "mimetype": "text/x-python",
   "name": "python",
   "nbconvert_exporter": "python",
   "pygments_lexer": "ipython3",
   "version": "3.10.13"
  },
  "papermill": {
   "default_parameters": {},
   "duration": 8.209033,
   "end_time": "2024-03-06T15:16:46.501345",
   "environment_variables": {},
   "exception": null,
   "input_path": "__notebook__.ipynb",
   "output_path": "__notebook__.ipynb",
   "parameters": {},
   "start_time": "2024-03-06T15:16:38.292312",
   "version": "2.5.0"
  }
 },
 "nbformat": 4,
 "nbformat_minor": 5
}
