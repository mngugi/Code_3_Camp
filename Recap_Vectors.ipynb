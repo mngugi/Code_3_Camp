{
  "nbformat": 4,
  "nbformat_minor": 0,
  "metadata": {
    "colab": {
      "provenance": [],
      "authorship_tag": "ABX9TyMfTS7TzLAJLHk+VwpuqYXE",
      "include_colab_link": true
    },
    "kernelspec": {
      "name": "python3",
      "display_name": "Python 3"
    },
    "language_info": {
      "name": "python"
    }
  },
  "cells": [
    {
      "cell_type": "markdown",
      "metadata": {
        "id": "view-in-github",
        "colab_type": "text"
      },
      "source": [
        "<a href=\"https://colab.research.google.com/github/mngugi/Code_3_Camp/blob/main/Recap_Vectors.ipynb\" target=\"_parent\"><img src=\"https://colab.research.google.com/assets/colab-badge.svg\" alt=\"Open In Colab\"/></a>"
      ]
    },
    {
      "cell_type": "code",
      "execution_count": null,
      "metadata": {
        "colab": {
          "base_uri": "https://localhost:8080/"
        },
        "id": "f69Y0PnbuIU8",
        "outputId": "447163c6-9408-41b0-8eea-9c46440537b6"
      },
      "outputs": [
        {
          "output_type": "stream",
          "name": "stdout",
          "text": [
            "[12 14 16 18 20]\n",
            "[-10 -10 -10 -10 -10]\n",
            "[11 24 39 56 75]\n",
            "205\n",
            "[-6780  6665  -875]\n",
            "[18 16 10 12 14]\n"
          ]
        }
      ],
      "source": [
        "import numpy as np\n",
        "\n",
        "list1 = [1,2,3,4,5]\n",
        "list2 = [11,12,13,14,15]\n",
        "\n",
        "# convert the list into an array\n",
        "j = np.array(list1)\n",
        "i = np.array(list2)\n",
        "# add\n",
        "kadd = j+i\n",
        "print(kadd)\n",
        "\n",
        "#subtract\n",
        "\n",
        "ksubtract = j - i\n",
        "print(ksubtract)\n",
        "\n",
        "#multiplication\n",
        "kmultiple = j * i\n",
        "print(kmultiple)\n",
        "\n",
        "#dotproduct - scalar value\n",
        "kdot = j @ i\n",
        "print(kdot)\n",
        "\n",
        "l = [23,36,96]\n",
        "m = [85,95,65]\n",
        "\n",
        "# cross function\n",
        "ncross = np.cross(l,m)\n",
        "print(ncross)\n",
        "\n",
        "n = [9,8,5,6,7]\n",
        "p = np. array(n)\n",
        "x = 2\n",
        "\n",
        "multi = p *x\n",
        "print(multi)"
      ]
    },
    {
      "cell_type": "code",
      "source": [
        "\n",
        "# distributive rule under dot product\n",
        "u = np.array([1,2,3])\n",
        "v = np.array([4,5,6])\n",
        "w = np.array([7,8,9])\n",
        "\n",
        "d1 = u.dot(v+w)\n",
        "d2 = u.dot(v) + u.dot(w)\n",
        "print(d1 == d2)"
      ],
      "metadata": {
        "id": "flTJ0OfkuJGB",
        "colab": {
          "base_uri": "https://localhost:8080/"
        },
        "outputId": "5b32acf2-1d0c-43f3-98b1-121413e6402e"
      },
      "execution_count": 6,
      "outputs": [
        {
          "output_type": "stream",
          "name": "stdout",
          "text": [
            "True\n"
          ]
        }
      ]
    },
    {
      "cell_type": "code",
      "source": [
        "#associative rule\n",
        "import numpy as np\n",
        "\n",
        "u = np.array([1, 2, 3])\n",
        "v = np.array([4, 5, 6])\n",
        "w = np.array([7, 8, 9])\n",
        "\n",
        "a1 = np.dot(u, np.dot(v,w))\n",
        "a2 = np.dot(np.dot(u,v),w)\n",
        "\n",
        "u = np.array(u)\n",
        "v = np.array(v)\n",
        "w = np.array(w)\n",
        "\n",
        "print(a1 == a2)\n",
        "\n"
      ],
      "metadata": {
        "colab": {
          "base_uri": "https://localhost:8080/"
        },
        "id": "pflmwMb22cAO",
        "outputId": "9c086d5c-7620-49b0-b5e6-c3aa0e5f0bf7"
      },
      "execution_count": 10,
      "outputs": [
        {
          "output_type": "stream",
          "name": "stdout",
          "text": [
            "[False False False]\n"
          ]
        }
      ]
    },
    {
      "cell_type": "code",
      "source": [
        "# commutative rule\n",
        "b1 = u.dot(v)\n",
        "b2 = v.dot(u)\n",
        "\n",
        "print(b1 == b2)"
      ],
      "metadata": {
        "colab": {
          "base_uri": "https://localhost:8080/"
        },
        "id": "lKbwz3kX5UMp",
        "outputId": "712a7671-e986-4ced-9020-f5bb7d6f89db"
      },
      "execution_count": 11,
      "outputs": [
        {
          "output_type": "stream",
          "name": "stdout",
          "text": [
            "True\n"
          ]
        }
      ]
    }
  ]
}