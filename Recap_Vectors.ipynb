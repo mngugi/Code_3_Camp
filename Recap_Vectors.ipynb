{
  "nbformat": 4,
  "nbformat_minor": 0,
  "metadata": {
    "colab": {
      "provenance": [],
      "authorship_tag": "ABX9TyPuALq+mKtRi2EHi93cv6y+",
      "include_colab_link": true
    },
    "kernelspec": {
      "name": "python3",
      "display_name": "Python 3"
    },
    "language_info": {
      "name": "python"
    }
  },
  "cells": [
    {
      "cell_type": "markdown",
      "metadata": {
        "id": "view-in-github",
        "colab_type": "text"
      },
      "source": [
        "<a href=\"https://colab.research.google.com/github/mngugi/Code_3_Camp/blob/main/Recap_Vectors.ipynb\" target=\"_parent\"><img src=\"https://colab.research.google.com/assets/colab-badge.svg\" alt=\"Open In Colab\"/></a>"
      ]
    },
    {
      "cell_type": "code",
      "execution_count": null,
      "metadata": {
        "id": "f69Y0PnbuIU8"
      },
      "outputs": [],
      "source": [
        "import numpy as np\n",
        "\n",
        "list1 = [1,2,3,4,5]\n",
        "\n",
        "# convert the list into an array\n",
        "j = np.array(list1)\n",
        "i = np.array()"
      ]
    },
    {
      "cell_type": "code",
      "source": [],
      "metadata": {
        "id": "flTJ0OfkuJGB"
      },
      "execution_count": null,
      "outputs": []
    }
  ]
}