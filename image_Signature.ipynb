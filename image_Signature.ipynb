{
 "cells": [
  {
   "cell_type": "code",
   "execution_count": 1,
   "id": "23f050be-4a9d-469f-949c-23ca9c8fee15",
   "metadata": {},
   "outputs": [
    {
     "name": "stdout",
     "output_type": "stream",
     "text": [
      "File Extension: TGA\n",
      "File Description: Truevision Targa Graphic file\n"
     ]
    }
   ],
   "source": [
    "def identify_file(hex_signature, ascii_signature):\n",
    "    file_types = {\n",
    "        \"5452554556495349\": [\"TGA\", \"Truevision Targa Graphic file\"],\n",
    "        \"2E00\": [\"00\", \"Unknown\"],\n",
    "        \"504943\": [\"PIC\", \"IBM Storyboard bitmap file\"],\n",
    "        \"4D4F56\": [\"MOV\", \"Apple QuickTime movie file\"],\n",
    "        \"504946\": [\"PIF\", \"Windows Program Information File\"],\n",
    "        \"534541\": [\"SEA\", \"Mac Stuffit Self-Extracting Archive\"],\n",
    "        \"595452\": [\"YTR\", \"IRIS OCR data file\"]\n",
    "    }\n",
    "\n",
    "    hex_signature = hex_signature.replace(\" \", \"\").upper()\n",
    "    ascii_signature = ascii_signature.replace(\" \", \"\")\n",
    "\n",
    "    for key, value in file_types.items():\n",
    "        if hex_signature.startswith(key) or ascii_signature.startswith(value[1]):\n",
    "            return value[0], value[1]\n",
    "\n",
    "    return \"Unknown\", \"Unknown\"\n",
    "\n",
    "\n",
    "# Test the function\n",
    "hex_signature = \"54 52 55 45 56 49 53 49\"\n",
    "ascii_signature = \"TRUEVISI\"\n",
    "file_extension, file_description = identify_file(hex_signature, ascii_signature)\n",
    "print(\"File Extension:\", file_extension)\n",
    "print(\"File Description:\", file_description)\n"
   ]
  },
  {
   "cell_type": "code",
   "execution_count": null,
   "id": "385f4d9e-8d77-4d89-ae47-b9db2b06c3fa",
   "metadata": {},
   "outputs": [],
   "source": []
  }
 ],
 "metadata": {
  "kernelspec": {
   "display_name": "Python 3 (ipykernel)",
   "language": "python",
   "name": "python3"
  },
  "language_info": {
   "codemirror_mode": {
    "name": "ipython",
    "version": 3
   },
   "file_extension": ".py",
   "mimetype": "text/x-python",
   "name": "python",
   "nbconvert_exporter": "python",
   "pygments_lexer": "ipython3",
   "version": "3.12.7"
  }
 },
 "nbformat": 4,
 "nbformat_minor": 5
}
