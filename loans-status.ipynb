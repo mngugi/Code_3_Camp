{
 "cells": [
  {
   "cell_type": "code",
   "execution_count": 1,
   "id": "168246de",
   "metadata": {
    "_cell_guid": "b1076dfc-b9ad-4769-8c92-a6c4dae69d19",
    "_uuid": "8f2839f25d086af736a60e9eeb907d3b93b6e0e5",
    "execution": {
     "iopub.execute_input": "2024-02-29T16:40:19.651442Z",
     "iopub.status.busy": "2024-02-29T16:40:19.650395Z",
     "iopub.status.idle": "2024-02-29T16:40:22.606837Z",
     "shell.execute_reply": "2024-02-29T16:40:22.605859Z"
    },
    "papermill": {
     "duration": 2.972364,
     "end_time": "2024-02-29T16:40:22.609334",
     "exception": false,
     "start_time": "2024-02-29T16:40:19.636970",
     "status": "completed"
    },
    "tags": []
   },
   "outputs": [
    {
     "name": "stdout",
     "output_type": "stream",
     "text": [
      "/kaggle/input/loan-status-prediction/loan_data.csv\n"
     ]
    }
   ],
   "source": [
    "# This Python 3 environment comes with many helpful analytics libraries installed\n",
    "# It is defined by the kaggle/python Docker image: https://github.com/kaggle/docker-python\n",
    "# For example, here's several helpful packages to load\n",
    "\n",
    "import numpy as np # linear algebra\n",
    "import pandas as pd # data processing, CSV file I/O (e.g. pd.read_csv)\n",
    "from statistics import variance, stdev  # for performing statitistics analysis\n",
    "import matplotlib.pyplot as plt\n",
    "from sklearn.preprocessing import StandardScaler, LabelEncoder\n",
    "import seaborn as sns\n",
    "# Input data files are available in the read-only \"../input/\" directory\n",
    "# For example, running this (by clicking run or pressing Shift+Enter) will list all files under the input directory\n",
    "\n",
    "import os\n",
    "for dirname, _, filenames in os.walk('/kaggle/input'):\n",
    "    for filename in filenames:\n",
    "        print(os.path.join(dirname, filename))\n",
    "\n",
    "# You can write up to 20GB to the current directory (/kaggle/working/) that gets preserved as output when you create a version using \"Save & Run All\" \n",
    "# You can also write temporary files to /kaggle/temp/, but they won't be saved outside of the current session"
   ]
  },
  {
   "cell_type": "code",
   "execution_count": 2,
   "id": "6d2db726",
   "metadata": {
    "execution": {
     "iopub.execute_input": "2024-02-29T16:40:22.636377Z",
     "iopub.status.busy": "2024-02-29T16:40:22.635072Z",
     "iopub.status.idle": "2024-02-29T16:40:22.685625Z",
     "shell.execute_reply": "2024-02-29T16:40:22.684342Z"
    },
    "papermill": {
     "duration": 0.068196,
     "end_time": "2024-02-29T16:40:22.688702",
     "exception": false,
     "start_time": "2024-02-29T16:40:22.620506",
     "status": "completed"
    },
    "tags": []
   },
   "outputs": [
    {
     "data": {
      "text/html": [
       "<div>\n",
       "<style scoped>\n",
       "    .dataframe tbody tr th:only-of-type {\n",
       "        vertical-align: middle;\n",
       "    }\n",
       "\n",
       "    .dataframe tbody tr th {\n",
       "        vertical-align: top;\n",
       "    }\n",
       "\n",
       "    .dataframe thead th {\n",
       "        text-align: right;\n",
       "    }\n",
       "</style>\n",
       "<table border=\"1\" class=\"dataframe\">\n",
       "  <thead>\n",
       "    <tr style=\"text-align: right;\">\n",
       "      <th></th>\n",
       "      <th>Loan_ID</th>\n",
       "      <th>Gender</th>\n",
       "      <th>Married</th>\n",
       "      <th>Dependents</th>\n",
       "      <th>Education</th>\n",
       "      <th>Self_Employed</th>\n",
       "      <th>ApplicantIncome</th>\n",
       "      <th>CoapplicantIncome</th>\n",
       "      <th>LoanAmount</th>\n",
       "      <th>Loan_Amount_Term</th>\n",
       "      <th>Credit_History</th>\n",
       "      <th>Property_Area</th>\n",
       "      <th>Loan_Status</th>\n",
       "    </tr>\n",
       "  </thead>\n",
       "  <tbody>\n",
       "    <tr>\n",
       "      <th>0</th>\n",
       "      <td>LP001003</td>\n",
       "      <td>Male</td>\n",
       "      <td>Yes</td>\n",
       "      <td>1</td>\n",
       "      <td>Graduate</td>\n",
       "      <td>No</td>\n",
       "      <td>4583</td>\n",
       "      <td>1508.0</td>\n",
       "      <td>128.0</td>\n",
       "      <td>360.0</td>\n",
       "      <td>1.0</td>\n",
       "      <td>Rural</td>\n",
       "      <td>N</td>\n",
       "    </tr>\n",
       "    <tr>\n",
       "      <th>1</th>\n",
       "      <td>LP001005</td>\n",
       "      <td>Male</td>\n",
       "      <td>Yes</td>\n",
       "      <td>0</td>\n",
       "      <td>Graduate</td>\n",
       "      <td>Yes</td>\n",
       "      <td>3000</td>\n",
       "      <td>0.0</td>\n",
       "      <td>66.0</td>\n",
       "      <td>360.0</td>\n",
       "      <td>1.0</td>\n",
       "      <td>Urban</td>\n",
       "      <td>Y</td>\n",
       "    </tr>\n",
       "    <tr>\n",
       "      <th>2</th>\n",
       "      <td>LP001006</td>\n",
       "      <td>Male</td>\n",
       "      <td>Yes</td>\n",
       "      <td>0</td>\n",
       "      <td>Not Graduate</td>\n",
       "      <td>No</td>\n",
       "      <td>2583</td>\n",
       "      <td>2358.0</td>\n",
       "      <td>120.0</td>\n",
       "      <td>360.0</td>\n",
       "      <td>1.0</td>\n",
       "      <td>Urban</td>\n",
       "      <td>Y</td>\n",
       "    </tr>\n",
       "    <tr>\n",
       "      <th>3</th>\n",
       "      <td>LP001008</td>\n",
       "      <td>Male</td>\n",
       "      <td>No</td>\n",
       "      <td>0</td>\n",
       "      <td>Graduate</td>\n",
       "      <td>No</td>\n",
       "      <td>6000</td>\n",
       "      <td>0.0</td>\n",
       "      <td>141.0</td>\n",
       "      <td>360.0</td>\n",
       "      <td>1.0</td>\n",
       "      <td>Urban</td>\n",
       "      <td>Y</td>\n",
       "    </tr>\n",
       "    <tr>\n",
       "      <th>4</th>\n",
       "      <td>LP001013</td>\n",
       "      <td>Male</td>\n",
       "      <td>Yes</td>\n",
       "      <td>0</td>\n",
       "      <td>Not Graduate</td>\n",
       "      <td>No</td>\n",
       "      <td>2333</td>\n",
       "      <td>1516.0</td>\n",
       "      <td>95.0</td>\n",
       "      <td>360.0</td>\n",
       "      <td>1.0</td>\n",
       "      <td>Urban</td>\n",
       "      <td>Y</td>\n",
       "    </tr>\n",
       "  </tbody>\n",
       "</table>\n",
       "</div>"
      ],
      "text/plain": [
       "    Loan_ID Gender Married Dependents     Education Self_Employed  \\\n",
       "0  LP001003   Male     Yes          1      Graduate            No   \n",
       "1  LP001005   Male     Yes          0      Graduate           Yes   \n",
       "2  LP001006   Male     Yes          0  Not Graduate            No   \n",
       "3  LP001008   Male      No          0      Graduate            No   \n",
       "4  LP001013   Male     Yes          0  Not Graduate            No   \n",
       "\n",
       "   ApplicantIncome  CoapplicantIncome  LoanAmount  Loan_Amount_Term  \\\n",
       "0             4583             1508.0       128.0             360.0   \n",
       "1             3000                0.0        66.0             360.0   \n",
       "2             2583             2358.0       120.0             360.0   \n",
       "3             6000                0.0       141.0             360.0   \n",
       "4             2333             1516.0        95.0             360.0   \n",
       "\n",
       "   Credit_History Property_Area Loan_Status  \n",
       "0             1.0         Rural           N  \n",
       "1             1.0         Urban           Y  \n",
       "2             1.0         Urban           Y  \n",
       "3             1.0         Urban           Y  \n",
       "4             1.0         Urban           Y  "
      ]
     },
     "execution_count": 2,
     "metadata": {},
     "output_type": "execute_result"
    }
   ],
   "source": [
    "\n",
    "df = pd.read_csv('/kaggle/input/loan-status-prediction/loan_data.csv')\n",
    "df.head()"
   ]
  },
  {
   "cell_type": "markdown",
   "id": "ff86a253",
   "metadata": {
    "papermill": {
     "duration": 0.011088,
     "end_time": "2024-02-29T16:40:22.711292",
     "exception": false,
     "start_time": "2024-02-29T16:40:22.700204",
     "status": "completed"
    },
    "tags": []
   },
   "source": [
    "**Data Sanity Checks**"
   ]
  },
  {
   "cell_type": "code",
   "execution_count": 3,
   "id": "cff22cfa",
   "metadata": {
    "execution": {
     "iopub.execute_input": "2024-02-29T16:40:22.737302Z",
     "iopub.status.busy": "2024-02-29T16:40:22.736919Z",
     "iopub.status.idle": "2024-02-29T16:40:22.744754Z",
     "shell.execute_reply": "2024-02-29T16:40:22.743552Z"
    },
    "papermill": {
     "duration": 0.025098,
     "end_time": "2024-02-29T16:40:22.747984",
     "exception": false,
     "start_time": "2024-02-29T16:40:22.722886",
     "status": "completed"
    },
    "tags": []
   },
   "outputs": [
    {
     "data": {
      "text/plain": [
       "(381, 13)"
      ]
     },
     "execution_count": 3,
     "metadata": {},
     "output_type": "execute_result"
    }
   ],
   "source": [
    "df.shape"
   ]
  },
  {
   "cell_type": "markdown",
   "id": "d409f932",
   "metadata": {
    "papermill": {
     "duration": 0.01103,
     "end_time": "2024-02-29T16:40:22.771273",
     "exception": false,
     "start_time": "2024-02-29T16:40:22.760243",
     "status": "completed"
    },
    "tags": []
   },
   "source": [
    "- The shape of data is 381 rows and 13 columns."
   ]
  },
  {
   "cell_type": "markdown",
   "id": "554bafee",
   "metadata": {
    "papermill": {
     "duration": 0.011053,
     "end_time": "2024-02-29T16:40:22.793793",
     "exception": false,
     "start_time": "2024-02-29T16:40:22.782740",
     "status": "completed"
    },
    "tags": []
   },
   "source": []
  },
  {
   "cell_type": "code",
   "execution_count": 4,
   "id": "55bd30a9",
   "metadata": {
    "execution": {
     "iopub.execute_input": "2024-02-29T16:40:22.818455Z",
     "iopub.status.busy": "2024-02-29T16:40:22.818054Z",
     "iopub.status.idle": "2024-02-29T16:40:22.830851Z",
     "shell.execute_reply": "2024-02-29T16:40:22.829591Z"
    },
    "papermill": {
     "duration": 0.028263,
     "end_time": "2024-02-29T16:40:22.833428",
     "exception": false,
     "start_time": "2024-02-29T16:40:22.805165",
     "status": "completed"
    },
    "tags": []
   },
   "outputs": [
    {
     "data": {
      "text/plain": [
       "Loan_ID               0\n",
       "Gender                5\n",
       "Married               0\n",
       "Dependents            8\n",
       "Education             0\n",
       "Self_Employed        21\n",
       "ApplicantIncome       0\n",
       "CoapplicantIncome     0\n",
       "LoanAmount            0\n",
       "Loan_Amount_Term     11\n",
       "Credit_History       30\n",
       "Property_Area         0\n",
       "Loan_Status           0\n",
       "dtype: int64"
      ]
     },
     "execution_count": 4,
     "metadata": {},
     "output_type": "execute_result"
    }
   ],
   "source": [
    "# checking missing values\n",
    "df.isnull().sum()"
   ]
  },
  {
   "cell_type": "markdown",
   "id": "ca3efa26",
   "metadata": {
    "papermill": {
     "duration": 0.011705,
     "end_time": "2024-02-29T16:40:22.857707",
     "exception": false,
     "start_time": "2024-02-29T16:40:22.846002",
     "status": "completed"
    },
    "tags": []
   },
   "source": []
  },
  {
   "cell_type": "markdown",
   "id": "59a269c4",
   "metadata": {
    "papermill": {
     "duration": 0.012179,
     "end_time": "2024-02-29T16:40:22.882779",
     "exception": false,
     "start_time": "2024-02-29T16:40:22.870600",
     "status": "completed"
    },
    "tags": []
   },
   "source": [
    " the columns with missing values include:\n",
    "*  Gender                5\n",
    "*  Dependents            8\n",
    "*  Self_Employed        21\n",
    "*  Loan_Amount_Term     11\n",
    "*  Credit_History       30\n",
    "\n",
    " "
   ]
  },
  {
   "cell_type": "code",
   "execution_count": 5,
   "id": "eda8f316",
   "metadata": {
    "execution": {
     "iopub.execute_input": "2024-02-29T16:40:22.909308Z",
     "iopub.status.busy": "2024-02-29T16:40:22.908942Z",
     "iopub.status.idle": "2024-02-29T16:40:22.926241Z",
     "shell.execute_reply": "2024-02-29T16:40:22.924890Z"
    },
    "papermill": {
     "duration": 0.034144,
     "end_time": "2024-02-29T16:40:22.929011",
     "exception": false,
     "start_time": "2024-02-29T16:40:22.894867",
     "status": "completed"
    },
    "tags": []
   },
   "outputs": [
    {
     "data": {
      "text/plain": [
       "0"
      ]
     },
     "execution_count": 5,
     "metadata": {},
     "output_type": "execute_result"
    }
   ],
   "source": [
    "# checking duplicates\n",
    "df.duplicated().sum()\n"
   ]
  },
  {
   "cell_type": "markdown",
   "id": "a8b9de40",
   "metadata": {
    "papermill": {
     "duration": 0.011464,
     "end_time": "2024-02-29T16:40:22.953129",
     "exception": false,
     "start_time": "2024-02-29T16:40:22.941665",
     "status": "completed"
    },
    "tags": []
   },
   "source": []
  },
  {
   "cell_type": "code",
   "execution_count": 6,
   "id": "2d9d3708",
   "metadata": {
    "execution": {
     "iopub.execute_input": "2024-02-29T16:40:22.979427Z",
     "iopub.status.busy": "2024-02-29T16:40:22.979058Z",
     "iopub.status.idle": "2024-02-29T16:40:23.005970Z",
     "shell.execute_reply": "2024-02-29T16:40:23.004588Z"
    },
    "papermill": {
     "duration": 0.043412,
     "end_time": "2024-02-29T16:40:23.008717",
     "exception": false,
     "start_time": "2024-02-29T16:40:22.965305",
     "status": "completed"
    },
    "tags": []
   },
   "outputs": [
    {
     "name": "stdout",
     "output_type": "stream",
     "text": [
      "<class 'pandas.core.frame.DataFrame'>\n",
      "RangeIndex: 381 entries, 0 to 380\n",
      "Data columns (total 13 columns):\n",
      " #   Column             Non-Null Count  Dtype  \n",
      "---  ------             --------------  -----  \n",
      " 0   Loan_ID            381 non-null    object \n",
      " 1   Gender             376 non-null    object \n",
      " 2   Married            381 non-null    object \n",
      " 3   Dependents         373 non-null    object \n",
      " 4   Education          381 non-null    object \n",
      " 5   Self_Employed      360 non-null    object \n",
      " 6   ApplicantIncome    381 non-null    int64  \n",
      " 7   CoapplicantIncome  381 non-null    float64\n",
      " 8   LoanAmount         381 non-null    float64\n",
      " 9   Loan_Amount_Term   370 non-null    float64\n",
      " 10  Credit_History     351 non-null    float64\n",
      " 11  Property_Area      381 non-null    object \n",
      " 12  Loan_Status        381 non-null    object \n",
      "dtypes: float64(4), int64(1), object(8)\n",
      "memory usage: 38.8+ KB\n"
     ]
    }
   ],
   "source": [
    "df.info()"
   ]
  },
  {
   "cell_type": "markdown",
   "id": "35e56d57",
   "metadata": {
    "papermill": {
     "duration": 0.012447,
     "end_time": "2024-02-29T16:40:23.033415",
     "exception": false,
     "start_time": "2024-02-29T16:40:23.020968",
     "status": "completed"
    },
    "tags": []
   },
   "source": [
    "the data sets have the follwoing dtypes\n",
    "* float 4 columns\n",
    "* Int 1 column\n",
    "* Objects 8 columns"
   ]
  },
  {
   "cell_type": "code",
   "execution_count": 7,
   "id": "6821565b",
   "metadata": {
    "execution": {
     "iopub.execute_input": "2024-02-29T16:40:23.060899Z",
     "iopub.status.busy": "2024-02-29T16:40:23.060505Z",
     "iopub.status.idle": "2024-02-29T16:40:23.096130Z",
     "shell.execute_reply": "2024-02-29T16:40:23.095236Z"
    },
    "papermill": {
     "duration": 0.052034,
     "end_time": "2024-02-29T16:40:23.098592",
     "exception": false,
     "start_time": "2024-02-29T16:40:23.046558",
     "status": "completed"
    },
    "tags": []
   },
   "outputs": [
    {
     "data": {
      "text/html": [
       "<div>\n",
       "<style scoped>\n",
       "    .dataframe tbody tr th:only-of-type {\n",
       "        vertical-align: middle;\n",
       "    }\n",
       "\n",
       "    .dataframe tbody tr th {\n",
       "        vertical-align: top;\n",
       "    }\n",
       "\n",
       "    .dataframe thead th {\n",
       "        text-align: right;\n",
       "    }\n",
       "</style>\n",
       "<table border=\"1\" class=\"dataframe\">\n",
       "  <thead>\n",
       "    <tr style=\"text-align: right;\">\n",
       "      <th></th>\n",
       "      <th>count</th>\n",
       "      <th>mean</th>\n",
       "      <th>std</th>\n",
       "      <th>min</th>\n",
       "      <th>25%</th>\n",
       "      <th>50%</th>\n",
       "      <th>75%</th>\n",
       "      <th>max</th>\n",
       "    </tr>\n",
       "  </thead>\n",
       "  <tbody>\n",
       "    <tr>\n",
       "      <th>ApplicantIncome</th>\n",
       "      <td>381.0</td>\n",
       "      <td>3579.845144</td>\n",
       "      <td>1419.813818</td>\n",
       "      <td>150.0</td>\n",
       "      <td>2600.0</td>\n",
       "      <td>3333.0</td>\n",
       "      <td>4288.0</td>\n",
       "      <td>9703.0</td>\n",
       "    </tr>\n",
       "    <tr>\n",
       "      <th>CoapplicantIncome</th>\n",
       "      <td>381.0</td>\n",
       "      <td>1277.275381</td>\n",
       "      <td>2340.818114</td>\n",
       "      <td>0.0</td>\n",
       "      <td>0.0</td>\n",
       "      <td>983.0</td>\n",
       "      <td>2016.0</td>\n",
       "      <td>33837.0</td>\n",
       "    </tr>\n",
       "    <tr>\n",
       "      <th>LoanAmount</th>\n",
       "      <td>381.0</td>\n",
       "      <td>104.986877</td>\n",
       "      <td>28.358464</td>\n",
       "      <td>9.0</td>\n",
       "      <td>90.0</td>\n",
       "      <td>110.0</td>\n",
       "      <td>127.0</td>\n",
       "      <td>150.0</td>\n",
       "    </tr>\n",
       "    <tr>\n",
       "      <th>Loan_Amount_Term</th>\n",
       "      <td>370.0</td>\n",
       "      <td>340.864865</td>\n",
       "      <td>68.549257</td>\n",
       "      <td>12.0</td>\n",
       "      <td>360.0</td>\n",
       "      <td>360.0</td>\n",
       "      <td>360.0</td>\n",
       "      <td>480.0</td>\n",
       "    </tr>\n",
       "    <tr>\n",
       "      <th>Credit_History</th>\n",
       "      <td>351.0</td>\n",
       "      <td>0.837607</td>\n",
       "      <td>0.369338</td>\n",
       "      <td>0.0</td>\n",
       "      <td>1.0</td>\n",
       "      <td>1.0</td>\n",
       "      <td>1.0</td>\n",
       "      <td>1.0</td>\n",
       "    </tr>\n",
       "  </tbody>\n",
       "</table>\n",
       "</div>"
      ],
      "text/plain": [
       "                   count         mean          std    min     25%     50%  \\\n",
       "ApplicantIncome    381.0  3579.845144  1419.813818  150.0  2600.0  3333.0   \n",
       "CoapplicantIncome  381.0  1277.275381  2340.818114    0.0     0.0   983.0   \n",
       "LoanAmount         381.0   104.986877    28.358464    9.0    90.0   110.0   \n",
       "Loan_Amount_Term   370.0   340.864865    68.549257   12.0   360.0   360.0   \n",
       "Credit_History     351.0     0.837607     0.369338    0.0     1.0     1.0   \n",
       "\n",
       "                      75%      max  \n",
       "ApplicantIncome    4288.0   9703.0  \n",
       "CoapplicantIncome  2016.0  33837.0  \n",
       "LoanAmount          127.0    150.0  \n",
       "Loan_Amount_Term    360.0    480.0  \n",
       "Credit_History        1.0      1.0  "
      ]
     },
     "execution_count": 7,
     "metadata": {},
     "output_type": "execute_result"
    }
   ],
   "source": [
    "df.describe().T"
   ]
  },
  {
   "cell_type": "code",
   "execution_count": 8,
   "id": "cec93866",
   "metadata": {
    "execution": {
     "iopub.execute_input": "2024-02-29T16:40:23.125050Z",
     "iopub.status.busy": "2024-02-29T16:40:23.124599Z",
     "iopub.status.idle": "2024-02-29T16:40:23.149384Z",
     "shell.execute_reply": "2024-02-29T16:40:23.148281Z"
    },
    "papermill": {
     "duration": 0.041116,
     "end_time": "2024-02-29T16:40:23.151905",
     "exception": false,
     "start_time": "2024-02-29T16:40:23.110789",
     "status": "completed"
    },
    "tags": []
   },
   "outputs": [
    {
     "data": {
      "text/html": [
       "<div>\n",
       "<style scoped>\n",
       "    .dataframe tbody tr th:only-of-type {\n",
       "        vertical-align: middle;\n",
       "    }\n",
       "\n",
       "    .dataframe tbody tr th {\n",
       "        vertical-align: top;\n",
       "    }\n",
       "\n",
       "    .dataframe thead th {\n",
       "        text-align: right;\n",
       "    }\n",
       "</style>\n",
       "<table border=\"1\" class=\"dataframe\">\n",
       "  <thead>\n",
       "    <tr style=\"text-align: right;\">\n",
       "      <th></th>\n",
       "      <th>count</th>\n",
       "      <th>unique</th>\n",
       "      <th>top</th>\n",
       "      <th>freq</th>\n",
       "    </tr>\n",
       "  </thead>\n",
       "  <tbody>\n",
       "    <tr>\n",
       "      <th>Loan_ID</th>\n",
       "      <td>381</td>\n",
       "      <td>381</td>\n",
       "      <td>LP001003</td>\n",
       "      <td>1</td>\n",
       "    </tr>\n",
       "    <tr>\n",
       "      <th>Gender</th>\n",
       "      <td>376</td>\n",
       "      <td>2</td>\n",
       "      <td>Male</td>\n",
       "      <td>291</td>\n",
       "    </tr>\n",
       "    <tr>\n",
       "      <th>Married</th>\n",
       "      <td>381</td>\n",
       "      <td>2</td>\n",
       "      <td>Yes</td>\n",
       "      <td>228</td>\n",
       "    </tr>\n",
       "    <tr>\n",
       "      <th>Dependents</th>\n",
       "      <td>373</td>\n",
       "      <td>4</td>\n",
       "      <td>0</td>\n",
       "      <td>234</td>\n",
       "    </tr>\n",
       "    <tr>\n",
       "      <th>Education</th>\n",
       "      <td>381</td>\n",
       "      <td>2</td>\n",
       "      <td>Graduate</td>\n",
       "      <td>278</td>\n",
       "    </tr>\n",
       "    <tr>\n",
       "      <th>Self_Employed</th>\n",
       "      <td>360</td>\n",
       "      <td>2</td>\n",
       "      <td>No</td>\n",
       "      <td>325</td>\n",
       "    </tr>\n",
       "    <tr>\n",
       "      <th>Property_Area</th>\n",
       "      <td>381</td>\n",
       "      <td>3</td>\n",
       "      <td>Semiurban</td>\n",
       "      <td>149</td>\n",
       "    </tr>\n",
       "    <tr>\n",
       "      <th>Loan_Status</th>\n",
       "      <td>381</td>\n",
       "      <td>2</td>\n",
       "      <td>Y</td>\n",
       "      <td>271</td>\n",
       "    </tr>\n",
       "  </tbody>\n",
       "</table>\n",
       "</div>"
      ],
      "text/plain": [
       "              count unique        top freq\n",
       "Loan_ID         381    381   LP001003    1\n",
       "Gender          376      2       Male  291\n",
       "Married         381      2        Yes  228\n",
       "Dependents      373      4          0  234\n",
       "Education       381      2   Graduate  278\n",
       "Self_Employed   360      2         No  325\n",
       "Property_Area   381      3  Semiurban  149\n",
       "Loan_Status     381      2          Y  271"
      ]
     },
     "execution_count": 8,
     "metadata": {},
     "output_type": "execute_result"
    }
   ],
   "source": [
    "# object columns\n",
    "df.describe(include = 'object').T"
   ]
  },
  {
   "cell_type": "markdown",
   "id": "47bebf01",
   "metadata": {
    "papermill": {
     "duration": 0.013365,
     "end_time": "2024-02-29T16:40:23.177648",
     "exception": false,
     "start_time": "2024-02-29T16:40:23.164283",
     "status": "completed"
    },
    "tags": []
   },
   "source": [
    "**Univeriate Analysis**"
   ]
  },
  {
   "cell_type": "code",
   "execution_count": 9,
   "id": "009d9aff",
   "metadata": {
    "execution": {
     "iopub.execute_input": "2024-02-29T16:40:23.206911Z",
     "iopub.status.busy": "2024-02-29T16:40:23.206479Z",
     "iopub.status.idle": "2024-02-29T16:40:23.216601Z",
     "shell.execute_reply": "2024-02-29T16:40:23.215640Z"
    },
    "papermill": {
     "duration": 0.027659,
     "end_time": "2024-02-29T16:40:23.219088",
     "exception": false,
     "start_time": "2024-02-29T16:40:23.191429",
     "status": "completed"
    },
    "tags": []
   },
   "outputs": [
    {
     "data": {
      "text/plain": [
       "Property_Area\n",
       "Semiurban    149\n",
       "Urban        126\n",
       "Rural        106\n",
       "Name: count, dtype: int64"
      ]
     },
     "execution_count": 9,
     "metadata": {},
     "output_type": "execute_result"
    }
   ],
   "source": [
    "df['Property_Area'].value_counts()"
   ]
  },
  {
   "cell_type": "code",
   "execution_count": null,
   "id": "9626a4d5",
   "metadata": {
    "papermill": {
     "duration": 0.01338,
     "end_time": "2024-02-29T16:40:23.247645",
     "exception": false,
     "start_time": "2024-02-29T16:40:23.234265",
     "status": "completed"
    },
    "tags": []
   },
   "outputs": [],
   "source": []
  },
  {
   "cell_type": "markdown",
   "id": "bf9ea17b",
   "metadata": {
    "papermill": {
     "duration": 0.012994,
     "end_time": "2024-02-29T16:40:23.273869",
     "exception": false,
     "start_time": "2024-02-29T16:40:23.260875",
     "status": "completed"
    },
    "tags": []
   },
   "source": [
    "Property Area is divided into 3:\n",
    "* Semiurban   \n",
    "* Urban        \n",
    "* Rural "
   ]
  },
  {
   "cell_type": "code",
   "execution_count": 10,
   "id": "d4a03d83",
   "metadata": {
    "execution": {
     "iopub.execute_input": "2024-02-29T16:40:23.303161Z",
     "iopub.status.busy": "2024-02-29T16:40:23.302776Z",
     "iopub.status.idle": "2024-02-29T16:40:23.312211Z",
     "shell.execute_reply": "2024-02-29T16:40:23.310258Z"
    },
    "papermill": {
     "duration": 0.027134,
     "end_time": "2024-02-29T16:40:23.315159",
     "exception": false,
     "start_time": "2024-02-29T16:40:23.288025",
     "status": "completed"
    },
    "tags": []
   },
   "outputs": [
    {
     "data": {
      "text/plain": [
       "Education\n",
       "Graduate        278\n",
       "Not Graduate    103\n",
       "Name: count, dtype: int64"
      ]
     },
     "execution_count": 10,
     "metadata": {},
     "output_type": "execute_result"
    }
   ],
   "source": [
    "df['Education'].value_counts()"
   ]
  },
  {
   "cell_type": "markdown",
   "id": "86ee38c3",
   "metadata": {
    "papermill": {
     "duration": 0.014129,
     "end_time": "2024-02-29T16:40:23.343344",
     "exception": false,
     "start_time": "2024-02-29T16:40:23.329215",
     "status": "completed"
    },
    "tags": []
   },
   "source": [
    "Education is divided into \n",
    "* Graduate        \n",
    "* Not Graduate    "
   ]
  },
  {
   "cell_type": "code",
   "execution_count": 11,
   "id": "a562161f",
   "metadata": {
    "execution": {
     "iopub.execute_input": "2024-02-29T16:40:23.372051Z",
     "iopub.status.busy": "2024-02-29T16:40:23.371498Z",
     "iopub.status.idle": "2024-02-29T16:40:23.381201Z",
     "shell.execute_reply": "2024-02-29T16:40:23.380080Z"
    },
    "papermill": {
     "duration": 0.027121,
     "end_time": "2024-02-29T16:40:23.383936",
     "exception": false,
     "start_time": "2024-02-29T16:40:23.356815",
     "status": "completed"
    },
    "tags": []
   },
   "outputs": [
    {
     "data": {
      "text/plain": [
       "Dependents\n",
       "0     234\n",
       "2      59\n",
       "1      52\n",
       "3+     28\n",
       "Name: count, dtype: int64"
      ]
     },
     "execution_count": 11,
     "metadata": {},
     "output_type": "execute_result"
    }
   ],
   "source": [
    "df['Dependents'].value_counts()"
   ]
  },
  {
   "cell_type": "markdown",
   "id": "915d6721",
   "metadata": {
    "papermill": {
     "duration": 0.014494,
     "end_time": "2024-02-29T16:40:23.411381",
     "exception": false,
     "start_time": "2024-02-29T16:40:23.396887",
     "status": "completed"
    },
    "tags": []
   },
   "source": [
    "Divided into \n",
    "* 0     234\n",
    "* 2      59\n",
    "* 1      52\n",
    "* 3+     28\n",
    "\n",
    "3+ "
   ]
  },
  {
   "cell_type": "code",
   "execution_count": 12,
   "id": "f8c4e6d1",
   "metadata": {
    "execution": {
     "iopub.execute_input": "2024-02-29T16:40:23.441137Z",
     "iopub.status.busy": "2024-02-29T16:40:23.440752Z",
     "iopub.status.idle": "2024-02-29T16:40:23.449991Z",
     "shell.execute_reply": "2024-02-29T16:40:23.448846Z"
    },
    "papermill": {
     "duration": 0.026672,
     "end_time": "2024-02-29T16:40:23.452373",
     "exception": false,
     "start_time": "2024-02-29T16:40:23.425701",
     "status": "completed"
    },
    "tags": []
   },
   "outputs": [
    {
     "data": {
      "text/plain": [
       "Loan_Status\n",
       "Y    271\n",
       "N    110\n",
       "Name: count, dtype: int64"
      ]
     },
     "execution_count": 12,
     "metadata": {},
     "output_type": "execute_result"
    }
   ],
   "source": [
    "df['Loan_Status'].value_counts()\n",
    "\n",
    "#independent variable"
   ]
  },
  {
   "cell_type": "code",
   "execution_count": 13,
   "id": "8880acee",
   "metadata": {
    "execution": {
     "iopub.execute_input": "2024-02-29T16:40:23.480067Z",
     "iopub.status.busy": "2024-02-29T16:40:23.479687Z",
     "iopub.status.idle": "2024-02-29T16:40:23.513830Z",
     "shell.execute_reply": "2024-02-29T16:40:23.512618Z"
    },
    "papermill": {
     "duration": 0.051526,
     "end_time": "2024-02-29T16:40:23.516947",
     "exception": false,
     "start_time": "2024-02-29T16:40:23.465421",
     "status": "completed"
    },
    "tags": []
   },
   "outputs": [
    {
     "data": {
      "text/html": [
       "<div>\n",
       "<style scoped>\n",
       "    .dataframe tbody tr th:only-of-type {\n",
       "        vertical-align: middle;\n",
       "    }\n",
       "\n",
       "    .dataframe tbody tr th {\n",
       "        vertical-align: top;\n",
       "    }\n",
       "\n",
       "    .dataframe thead th {\n",
       "        text-align: right;\n",
       "    }\n",
       "</style>\n",
       "<table border=\"1\" class=\"dataframe\">\n",
       "  <thead>\n",
       "    <tr style=\"text-align: right;\">\n",
       "      <th></th>\n",
       "      <th>count</th>\n",
       "      <th>mean</th>\n",
       "      <th>std</th>\n",
       "      <th>min</th>\n",
       "      <th>25%</th>\n",
       "      <th>50%</th>\n",
       "      <th>75%</th>\n",
       "      <th>max</th>\n",
       "    </tr>\n",
       "  </thead>\n",
       "  <tbody>\n",
       "    <tr>\n",
       "      <th>ApplicantIncome</th>\n",
       "      <td>381.0</td>\n",
       "      <td>3579.845144</td>\n",
       "      <td>1419.813818</td>\n",
       "      <td>150.0</td>\n",
       "      <td>2600.0</td>\n",
       "      <td>3333.0</td>\n",
       "      <td>4288.0</td>\n",
       "      <td>9703.0</td>\n",
       "    </tr>\n",
       "    <tr>\n",
       "      <th>CoapplicantIncome</th>\n",
       "      <td>381.0</td>\n",
       "      <td>1277.275381</td>\n",
       "      <td>2340.818114</td>\n",
       "      <td>0.0</td>\n",
       "      <td>0.0</td>\n",
       "      <td>983.0</td>\n",
       "      <td>2016.0</td>\n",
       "      <td>33837.0</td>\n",
       "    </tr>\n",
       "    <tr>\n",
       "      <th>LoanAmount</th>\n",
       "      <td>381.0</td>\n",
       "      <td>104.986877</td>\n",
       "      <td>28.358464</td>\n",
       "      <td>9.0</td>\n",
       "      <td>90.0</td>\n",
       "      <td>110.0</td>\n",
       "      <td>127.0</td>\n",
       "      <td>150.0</td>\n",
       "    </tr>\n",
       "    <tr>\n",
       "      <th>Loan_Amount_Term</th>\n",
       "      <td>370.0</td>\n",
       "      <td>340.864865</td>\n",
       "      <td>68.549257</td>\n",
       "      <td>12.0</td>\n",
       "      <td>360.0</td>\n",
       "      <td>360.0</td>\n",
       "      <td>360.0</td>\n",
       "      <td>480.0</td>\n",
       "    </tr>\n",
       "    <tr>\n",
       "      <th>Credit_History</th>\n",
       "      <td>351.0</td>\n",
       "      <td>0.837607</td>\n",
       "      <td>0.369338</td>\n",
       "      <td>0.0</td>\n",
       "      <td>1.0</td>\n",
       "      <td>1.0</td>\n",
       "      <td>1.0</td>\n",
       "      <td>1.0</td>\n",
       "    </tr>\n",
       "  </tbody>\n",
       "</table>\n",
       "</div>"
      ],
      "text/plain": [
       "                   count         mean          std    min     25%     50%  \\\n",
       "ApplicantIncome    381.0  3579.845144  1419.813818  150.0  2600.0  3333.0   \n",
       "CoapplicantIncome  381.0  1277.275381  2340.818114    0.0     0.0   983.0   \n",
       "LoanAmount         381.0   104.986877    28.358464    9.0    90.0   110.0   \n",
       "Loan_Amount_Term   370.0   340.864865    68.549257   12.0   360.0   360.0   \n",
       "Credit_History     351.0     0.837607     0.369338    0.0     1.0     1.0   \n",
       "\n",
       "                      75%      max  \n",
       "ApplicantIncome    4288.0   9703.0  \n",
       "CoapplicantIncome  2016.0  33837.0  \n",
       "LoanAmount          127.0    150.0  \n",
       "Loan_Amount_Term    360.0    480.0  \n",
       "Credit_History        1.0      1.0  "
      ]
     },
     "execution_count": 13,
     "metadata": {},
     "output_type": "execute_result"
    }
   ],
   "source": [
    "df.describe().T"
   ]
  },
  {
   "cell_type": "code",
   "execution_count": 14,
   "id": "78579b35",
   "metadata": {
    "execution": {
     "iopub.execute_input": "2024-02-29T16:40:23.548412Z",
     "iopub.status.busy": "2024-02-29T16:40:23.548041Z",
     "iopub.status.idle": "2024-02-29T16:40:24.051041Z",
     "shell.execute_reply": "2024-02-29T16:40:24.049832Z"
    },
    "papermill": {
     "duration": 0.522651,
     "end_time": "2024-02-29T16:40:24.054295",
     "exception": false,
     "start_time": "2024-02-29T16:40:23.531644",
     "status": "completed"
    },
    "tags": []
   },
   "outputs": [
    {
     "name": "stderr",
     "output_type": "stream",
     "text": [
      "/opt/conda/lib/python3.10/site-packages/seaborn/_oldcore.py:1119: FutureWarning: use_inf_as_na option is deprecated and will be removed in a future version. Convert inf values to NaN before operating instead.\n",
      "  with pd.option_context('mode.use_inf_as_na', True):\n"
     ]
    },
    {
     "data": {
      "text/plain": [
       "Text(0.5, 1.0, 'A plot showing distribution of loan amount term')"
      ]
     },
     "execution_count": 14,
     "metadata": {},
     "output_type": "execute_result"
    },
    {
     "data": {
      "image/png": "[encoded data removed]",
      "text/plain": [
       "<Figure size 640x480 with 1 Axes>"
      ]
     },
     "metadata": {},
     "output_type": "display_data"
    }
   ],
   "source": [
    "sns.histplot(df, x = 'Loan_Amount_Term', kde=True)\n",
    "plt.title('A plot showing distribution of loan amount term')"
   ]
  },
  {
   "cell_type": "code",
   "execution_count": 15,
   "id": "ab6eb609",
   "metadata": {
    "execution": {
     "iopub.execute_input": "2024-02-29T16:40:24.088398Z",
     "iopub.status.busy": "2024-02-29T16:40:24.087261Z",
     "iopub.status.idle": "2024-02-29T16:40:24.095755Z",
     "shell.execute_reply": "2024-02-29T16:40:24.094557Z"
    },
    "papermill": {
     "duration": 0.027437,
     "end_time": "2024-02-29T16:40:24.098071",
     "exception": false,
     "start_time": "2024-02-29T16:40:24.070634",
     "status": "completed"
    },
    "tags": []
   },
   "outputs": [
    {
     "data": {
      "text/plain": [
       "360.0"
      ]
     },
     "execution_count": 15,
     "metadata": {},
     "output_type": "execute_result"
    }
   ],
   "source": [
    "medin = df['Loan_Amount_Term'].median()\n",
    "medin"
   ]
  },
  {
   "cell_type": "code",
   "execution_count": 16,
   "id": "1f66f2d5",
   "metadata": {
    "execution": {
     "iopub.execute_input": "2024-02-29T16:40:24.130919Z",
     "iopub.status.busy": "2024-02-29T16:40:24.129714Z",
     "iopub.status.idle": "2024-02-29T16:40:24.138052Z",
     "shell.execute_reply": "2024-02-29T16:40:24.136732Z"
    },
    "papermill": {
     "duration": 0.02825,
     "end_time": "2024-02-29T16:40:24.140721",
     "exception": false,
     "start_time": "2024-02-29T16:40:24.112471",
     "status": "completed"
    },
    "tags": []
   },
   "outputs": [
    {
     "data": {
      "text/plain": [
       "340.86486486486484"
      ]
     },
     "execution_count": 16,
     "metadata": {},
     "output_type": "execute_result"
    }
   ],
   "source": [
    "med = df['Loan_Amount_Term'].mean()\n",
    "med"
   ]
  },
  {
   "cell_type": "code",
   "execution_count": 17,
   "id": "f994054d",
   "metadata": {
    "execution": {
     "iopub.execute_input": "2024-02-29T16:40:24.173654Z",
     "iopub.status.busy": "2024-02-29T16:40:24.173215Z",
     "iopub.status.idle": "2024-02-29T16:40:24.180937Z",
     "shell.execute_reply": "2024-02-29T16:40:24.179764Z"
    },
    "papermill": {
     "duration": 0.026679,
     "end_time": "2024-02-29T16:40:24.183330",
     "exception": false,
     "start_time": "2024-02-29T16:40:24.156651",
     "status": "completed"
    },
    "tags": []
   },
   "outputs": [
    {
     "data": {
      "text/plain": [
       "360.0"
      ]
     },
     "execution_count": 17,
     "metadata": {},
     "output_type": "execute_result"
    }
   ],
   "source": [
    "med2 = np.nanmedian(df['Loan_Amount_Term'])\n",
    "med2"
   ]
  },
  {
   "cell_type": "code",
   "execution_count": 18,
   "id": "340dca89",
   "metadata": {
    "execution": {
     "iopub.execute_input": "2024-02-29T16:40:24.215967Z",
     "iopub.status.busy": "2024-02-29T16:40:24.215583Z",
     "iopub.status.idle": "2024-02-29T16:40:24.227097Z",
     "shell.execute_reply": "2024-02-29T16:40:24.225612Z"
    },
    "papermill": {
     "duration": 0.031828,
     "end_time": "2024-02-29T16:40:24.230516",
     "exception": false,
     "start_time": "2024-02-29T16:40:24.198688",
     "status": "completed"
    },
    "tags": []
   },
   "outputs": [
    {
     "data": {
      "text/plain": [
       "0    360.0\n",
       "Name: Loan_Amount_Term, dtype: float64"
      ]
     },
     "execution_count": 18,
     "metadata": {},
     "output_type": "execute_result"
    }
   ],
   "source": [
    "mod = df['Loan_Amount_Term'].mode()\n",
    "mod"
   ]
  },
  {
   "cell_type": "code",
   "execution_count": 19,
   "id": "40e52fa1",
   "metadata": {
    "execution": {
     "iopub.execute_input": "2024-02-29T16:40:24.262670Z",
     "iopub.status.busy": "2024-02-29T16:40:24.262263Z",
     "iopub.status.idle": "2024-02-29T16:40:24.273102Z",
     "shell.execute_reply": "2024-02-29T16:40:24.272020Z"
    },
    "papermill": {
     "duration": 0.029533,
     "end_time": "2024-02-29T16:40:24.275503",
     "exception": false,
     "start_time": "2024-02-29T16:40:24.245970",
     "status": "completed"
    },
    "tags": []
   },
   "outputs": [
    {
     "data": {
      "text/plain": [
       "Loan_ID               0\n",
       "Gender                5\n",
       "Married               0\n",
       "Dependents            8\n",
       "Education             0\n",
       "Self_Employed        21\n",
       "ApplicantIncome       0\n",
       "CoapplicantIncome     0\n",
       "LoanAmount            0\n",
       "Loan_Amount_Term      0\n",
       "Credit_History       30\n",
       "Property_Area         0\n",
       "Loan_Status           0\n",
       "dtype: int64"
      ]
     },
     "execution_count": 19,
     "metadata": {},
     "output_type": "execute_result"
    }
   ],
   "source": [
    "#filling the missing values\n",
    "\n",
    "df.fillna({'Loan_Amount_Term': med}, inplace = True)\n",
    "\n",
    "df.isnull().sum()"
   ]
  },
  {
   "cell_type": "code",
   "execution_count": 20,
   "id": "705cd9d9",
   "metadata": {
    "execution": {
     "iopub.execute_input": "2024-02-29T16:40:24.309395Z",
     "iopub.status.busy": "2024-02-29T16:40:24.308997Z",
     "iopub.status.idle": "2024-02-29T16:40:24.679810Z",
     "shell.execute_reply": "2024-02-29T16:40:24.678618Z"
    },
    "papermill": {
     "duration": 0.391682,
     "end_time": "2024-02-29T16:40:24.683174",
     "exception": false,
     "start_time": "2024-02-29T16:40:24.291492",
     "status": "completed"
    },
    "tags": []
   },
   "outputs": [
    {
     "name": "stderr",
     "output_type": "stream",
     "text": [
      "/opt/conda/lib/python3.10/site-packages/seaborn/_oldcore.py:1119: FutureWarning: use_inf_as_na option is deprecated and will be removed in a future version. Convert inf values to NaN before operating instead.\n",
      "  with pd.option_context('mode.use_inf_as_na', True):\n"
     ]
    },
    {
     "data": {
      "text/plain": [
       "Text(0.5, 1.0, 'Credit history')"
      ]
     },
     "execution_count": 20,
     "metadata": {},
     "output_type": "execute_result"
    },
    {
     "data": {
      "image/png": "[encoded data removed]",
      "text/plain": [
       "<Figure size 640x480 with 1 Axes>"
      ]
     },
     "metadata": {},
     "output_type": "display_data"
    }
   ],
   "source": [
    "sns.histplot(df, x = 'Credit_History')\n",
    "plt.title('Credit history')"
   ]
  },
  {
   "cell_type": "code",
   "execution_count": 21,
   "id": "fb06ab94",
   "metadata": {
    "execution": {
     "iopub.execute_input": "2024-02-29T16:40:24.721474Z",
     "iopub.status.busy": "2024-02-29T16:40:24.720729Z",
     "iopub.status.idle": "2024-02-29T16:40:24.727978Z",
     "shell.execute_reply": "2024-02-29T16:40:24.726938Z"
    },
    "papermill": {
     "duration": 0.029182,
     "end_time": "2024-02-29T16:40:24.730399",
     "exception": false,
     "start_time": "2024-02-29T16:40:24.701217",
     "status": "completed"
    },
    "tags": []
   },
   "outputs": [
    {
     "data": {
      "text/plain": [
       "1.0"
      ]
     },
     "execution_count": 21,
     "metadata": {},
     "output_type": "execute_result"
    }
   ],
   "source": [
    "med_cred = df['Credit_History'].median()\n",
    "med_cred"
   ]
  },
  {
   "cell_type": "code",
   "execution_count": 22,
   "id": "746d3846",
   "metadata": {
    "execution": {
     "iopub.execute_input": "2024-02-29T16:40:24.765709Z",
     "iopub.status.busy": "2024-02-29T16:40:24.765298Z",
     "iopub.status.idle": "2024-02-29T16:40:24.772761Z",
     "shell.execute_reply": "2024-02-29T16:40:24.771631Z"
    },
    "papermill": {
     "duration": 0.027335,
     "end_time": "2024-02-29T16:40:24.775092",
     "exception": false,
     "start_time": "2024-02-29T16:40:24.747757",
     "status": "completed"
    },
    "tags": []
   },
   "outputs": [
    {
     "data": {
      "text/plain": [
       "0.8376068376068376"
      ]
     },
     "execution_count": 22,
     "metadata": {},
     "output_type": "execute_result"
    }
   ],
   "source": [
    "med_cred = df['Credit_History'].mean()\n",
    "med_cred"
   ]
  },
  {
   "cell_type": "code",
   "execution_count": 23,
   "id": "c0fc17c2",
   "metadata": {
    "execution": {
     "iopub.execute_input": "2024-02-29T16:40:24.810698Z",
     "iopub.status.busy": "2024-02-29T16:40:24.810262Z",
     "iopub.status.idle": "2024-02-29T16:40:24.818368Z",
     "shell.execute_reply": "2024-02-29T16:40:24.817220Z"
    },
    "papermill": {
     "duration": 0.028713,
     "end_time": "2024-02-29T16:40:24.820634",
     "exception": false,
     "start_time": "2024-02-29T16:40:24.791921",
     "status": "completed"
    },
    "tags": []
   },
   "outputs": [
    {
     "data": {
      "text/plain": [
       "0    1.0\n",
       "Name: Credit_History, dtype: float64"
      ]
     },
     "execution_count": 23,
     "metadata": {},
     "output_type": "execute_result"
    }
   ],
   "source": [
    "med_cred = df['Credit_History'].mode()\n",
    "med_cred"
   ]
  },
  {
   "cell_type": "code",
   "execution_count": 24,
   "id": "eb02dc27",
   "metadata": {
    "execution": {
     "iopub.execute_input": "2024-02-29T16:40:24.856523Z",
     "iopub.status.busy": "2024-02-29T16:40:24.855844Z",
     "iopub.status.idle": "2024-02-29T16:40:24.866109Z",
     "shell.execute_reply": "2024-02-29T16:40:24.865153Z"
    },
    "papermill": {
     "duration": 0.031425,
     "end_time": "2024-02-29T16:40:24.868472",
     "exception": false,
     "start_time": "2024-02-29T16:40:24.837047",
     "status": "completed"
    },
    "tags": []
   },
   "outputs": [
    {
     "data": {
      "text/plain": [
       "Loan_ID               0\n",
       "Gender                5\n",
       "Married               0\n",
       "Dependents            8\n",
       "Education             0\n",
       "Self_Employed        21\n",
       "ApplicantIncome       0\n",
       "CoapplicantIncome     0\n",
       "LoanAmount            0\n",
       "Loan_Amount_Term      0\n",
       "Credit_History       30\n",
       "Property_Area         0\n",
       "Loan_Status           0\n",
       "dtype: int64"
      ]
     },
     "execution_count": 24,
     "metadata": {},
     "output_type": "execute_result"
    }
   ],
   "source": [
    "#filling the missing values\n",
    "\n",
    "df.fillna({'Credit_History': med_cred}, inplace = True)\n",
    "\n",
    "df.isnull().sum()"
   ]
  },
  {
   "cell_type": "code",
   "execution_count": 25,
   "id": "7329efb3",
   "metadata": {
    "execution": {
     "iopub.execute_input": "2024-02-29T16:40:24.905257Z",
     "iopub.status.busy": "2024-02-29T16:40:24.904575Z",
     "iopub.status.idle": "2024-02-29T16:40:24.914238Z",
     "shell.execute_reply": "2024-02-29T16:40:24.913048Z"
    },
    "papermill": {
     "duration": 0.030889,
     "end_time": "2024-02-29T16:40:24.917593",
     "exception": false,
     "start_time": "2024-02-29T16:40:24.886704",
     "status": "completed"
    },
    "tags": []
   },
   "outputs": [
    {
     "name": "stdout",
     "output_type": "stream",
     "text": [
      "Loan_ID               0\n",
      "Gender                5\n",
      "Married               0\n",
      "Dependents            8\n",
      "Education             0\n",
      "Self_Employed        21\n",
      "ApplicantIncome       0\n",
      "CoapplicantIncome     0\n",
      "LoanAmount            0\n",
      "Loan_Amount_Term      0\n",
      "Credit_History        0\n",
      "Property_Area         0\n",
      "Loan_Status           0\n",
      "dtype: int64\n"
     ]
    },
    {
     "name": "stderr",
     "output_type": "stream",
     "text": [
      "/tmp/ipykernel_18/3681435685.py:4: FutureWarning: A value is trying to be set on a copy of a DataFrame or Series through chained assignment using an inplace method.\n",
      "The behavior will change in pandas 3.0. This inplace method will never work because the intermediate object on which we are setting values always behaves as a copy.\n",
      "\n",
      "For example, when doing 'df[col].method(value, inplace=True)', try using 'df.method({col: value}, inplace=True)' or df[col] = df[col].method(value) instead, to perform the operation inplace on the original object.\n",
      "\n",
      "\n",
      "  df['Credit_History'].fillna(med_cred, inplace=True)\n"
     ]
    }
   ],
   "source": [
    "med_cred = df['Credit_History'].median()\n",
    "\n",
    "# Fill missing values in Credit_History column with the median\n",
    "df['Credit_History'].fillna(med_cred, inplace=True)\n",
    "\n",
    "# Check for null values after filling\n",
    "print(df.isnull().sum())"
   ]
  }
 ],
 "metadata": {
  "kaggle": {
   "accelerator": "none",
   "dataSources": [
    {
     "datasetId": 4390452,
     "sourceId": 7539897,
     "sourceType": "datasetVersion"
    }
   ],
   "dockerImageVersionId": 30664,
   "isGpuEnabled": false,
   "isInternetEnabled": true,
   "language": "python",
   "sourceType": "notebook"
  },
  "kernelspec": {
   "display_name": "Python 3",
   "language": "python",
   "name": "python3"
  },
  "language_info": {
   "codemirror_mode": {
    "name": "ipython",
    "version": 3
   },
   "file_extension": ".py",
   "mimetype": "text/x-python",
   "name": "python",
   "nbconvert_exporter": "python",
   "pygments_lexer": "ipython3",
   "version": "3.10.13"
  },
  "papermill": {
   "default_parameters": {},
   "duration": 9.194866,
   "end_time": "2024-02-29T16:40:25.657359",
   "environment_variables": {},
   "exception": null,
   "input_path": "__notebook__.ipynb",
   "output_path": "__notebook__.ipynb",
   "parameters": {},
   "start_time": "2024-02-29T16:40:16.462493",
   "version": "2.5.0"
  }
 },
 "nbformat": 4,
 "nbformat_minor": 5
}
