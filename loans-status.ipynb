{
 "cells": [
  {
   "cell_type": "code",
   "execution_count": 1,
   "id": "9c577ff5",
   "metadata": {
    "_cell_guid": "b1076dfc-b9ad-4769-8c92-a6c4dae69d19",
    "_uuid": "8f2839f25d086af736a60e9eeb907d3b93b6e0e5",
    "execution": {
     "iopub.execute_input": "2024-03-01T15:25:28.303149Z",
     "iopub.status.busy": "2024-03-01T15:25:28.302627Z",
     "iopub.status.idle": "2024-03-01T15:25:31.323788Z",
     "shell.execute_reply": "2024-03-01T15:25:31.322302Z"
    },
    "papermill": {
     "duration": 3.042365,
     "end_time": "2024-03-01T15:25:31.328799",
     "exception": false,
     "start_time": "2024-03-01T15:25:28.286434",
     "status": "completed"
    },
    "tags": []
   },
   "outputs": [
    {
     "name": "stdout",
     "output_type": "stream",
     "text": [
      "/kaggle/input/loan-status-prediction/loan_data.csv\n"
     ]
    }
   ],
   "source": [
    "# This Python 3 environment comes with many helpful analytics libraries installed\n",
    "# It is defined by the kaggle/python Docker image: https://github.com/kaggle/docker-python\n",
    "# For example, here's several helpful packages to load\n",
    "\n",
    "import numpy as np # linear algebra\n",
    "import pandas as pd # data processing, CSV file I/O (e.g. pd.read_csv)\n",
    "from statistics import variance, stdev  # for performing statitistics analysis\n",
    "import matplotlib.pyplot as plt\n",
    "from sklearn.preprocessing import StandardScaler, LabelEncoder\n",
    "import seaborn as sns\n",
    "# Input data files are available in the read-only \"../input/\" directory\n",
    "# For example, running this (by clicking run or pressing Shift+Enter) will list all files under the input directory\n",
    "\n",
    "import os\n",
    "for dirname, _, filenames in os.walk('/kaggle/input'):\n",
    "    for filename in filenames:\n",
    "        print(os.path.join(dirname, filename))\n",
    "\n",
    "# You can write up to 20GB to the current directory (/kaggle/working/) that gets preserved as output when you create a version using \"Save & Run All\" \n",
    "# You can also write temporary files to /kaggle/temp/, but they won't be saved outside of the current session"
   ]
  },
  {
   "cell_type": "code",
   "execution_count": 2,
   "id": "72719008",
   "metadata": {
    "execution": {
     "iopub.execute_input": "2024-03-01T15:25:31.358835Z",
     "iopub.status.busy": "2024-03-01T15:25:31.358286Z",
     "iopub.status.idle": "2024-03-01T15:25:31.407686Z",
     "shell.execute_reply": "2024-03-01T15:25:31.406566Z"
    },
    "papermill": {
     "duration": 0.067194,
     "end_time": "2024-03-01T15:25:31.410401",
     "exception": false,
     "start_time": "2024-03-01T15:25:31.343207",
     "status": "completed"
    },
    "tags": []
   },
   "outputs": [
    {
     "data": {
      "text/html": [
       "<div>\n",
       "<style scoped>\n",
       "    .dataframe tbody tr th:only-of-type {\n",
       "        vertical-align: middle;\n",
       "    }\n",
       "\n",
       "    .dataframe tbody tr th {\n",
       "        vertical-align: top;\n",
       "    }\n",
       "\n",
       "    .dataframe thead th {\n",
       "        text-align: right;\n",
       "    }\n",
       "</style>\n",
       "<table border=\"1\" class=\"dataframe\">\n",
       "  <thead>\n",
       "    <tr style=\"text-align: right;\">\n",
       "      <th></th>\n",
       "      <th>Loan_ID</th>\n",
       "      <th>Gender</th>\n",
       "      <th>Married</th>\n",
       "      <th>Dependents</th>\n",
       "      <th>Education</th>\n",
       "      <th>Self_Employed</th>\n",
       "      <th>ApplicantIncome</th>\n",
       "      <th>CoapplicantIncome</th>\n",
       "      <th>LoanAmount</th>\n",
       "      <th>Loan_Amount_Term</th>\n",
       "      <th>Credit_History</th>\n",
       "      <th>Property_Area</th>\n",
       "      <th>Loan_Status</th>\n",
       "    </tr>\n",
       "  </thead>\n",
       "  <tbody>\n",
       "    <tr>\n",
       "      <th>0</th>\n",
       "      <td>LP001003</td>\n",
       "      <td>Male</td>\n",
       "      <td>Yes</td>\n",
       "      <td>1</td>\n",
       "      <td>Graduate</td>\n",
       "      <td>No</td>\n",
       "      <td>4583</td>\n",
       "      <td>1508.0</td>\n",
       "      <td>128.0</td>\n",
       "      <td>360.0</td>\n",
       "      <td>1.0</td>\n",
       "      <td>Rural</td>\n",
       "      <td>N</td>\n",
       "    </tr>\n",
       "    <tr>\n",
       "      <th>1</th>\n",
       "      <td>LP001005</td>\n",
       "      <td>Male</td>\n",
       "      <td>Yes</td>\n",
       "      <td>0</td>\n",
       "      <td>Graduate</td>\n",
       "      <td>Yes</td>\n",
       "      <td>3000</td>\n",
       "      <td>0.0</td>\n",
       "      <td>66.0</td>\n",
       "      <td>360.0</td>\n",
       "      <td>1.0</td>\n",
       "      <td>Urban</td>\n",
       "      <td>Y</td>\n",
       "    </tr>\n",
       "    <tr>\n",
       "      <th>2</th>\n",
       "      <td>LP001006</td>\n",
       "      <td>Male</td>\n",
       "      <td>Yes</td>\n",
       "      <td>0</td>\n",
       "      <td>Not Graduate</td>\n",
       "      <td>No</td>\n",
       "      <td>2583</td>\n",
       "      <td>2358.0</td>\n",
       "      <td>120.0</td>\n",
       "      <td>360.0</td>\n",
       "      <td>1.0</td>\n",
       "      <td>Urban</td>\n",
       "      <td>Y</td>\n",
       "    </tr>\n",
       "    <tr>\n",
       "      <th>3</th>\n",
       "      <td>LP001008</td>\n",
       "      <td>Male</td>\n",
       "      <td>No</td>\n",
       "      <td>0</td>\n",
       "      <td>Graduate</td>\n",
       "      <td>No</td>\n",
       "      <td>6000</td>\n",
       "      <td>0.0</td>\n",
       "      <td>141.0</td>\n",
       "      <td>360.0</td>\n",
       "      <td>1.0</td>\n",
       "      <td>Urban</td>\n",
       "      <td>Y</td>\n",
       "    </tr>\n",
       "    <tr>\n",
       "      <th>4</th>\n",
       "      <td>LP001013</td>\n",
       "      <td>Male</td>\n",
       "      <td>Yes</td>\n",
       "      <td>0</td>\n",
       "      <td>Not Graduate</td>\n",
       "      <td>No</td>\n",
       "      <td>2333</td>\n",
       "      <td>1516.0</td>\n",
       "      <td>95.0</td>\n",
       "      <td>360.0</td>\n",
       "      <td>1.0</td>\n",
       "      <td>Urban</td>\n",
       "      <td>Y</td>\n",
       "    </tr>\n",
       "  </tbody>\n",
       "</table>\n",
       "</div>"
      ],
      "text/plain": [
       "    Loan_ID Gender Married Dependents     Education Self_Employed  \\\n",
       "0  LP001003   Male     Yes          1      Graduate            No   \n",
       "1  LP001005   Male     Yes          0      Graduate           Yes   \n",
       "2  LP001006   Male     Yes          0  Not Graduate            No   \n",
       "3  LP001008   Male      No          0      Graduate            No   \n",
       "4  LP001013   Male     Yes          0  Not Graduate            No   \n",
       "\n",
       "   ApplicantIncome  CoapplicantIncome  LoanAmount  Loan_Amount_Term  \\\n",
       "0             4583             1508.0       128.0             360.0   \n",
       "1             3000                0.0        66.0             360.0   \n",
       "2             2583             2358.0       120.0             360.0   \n",
       "3             6000                0.0       141.0             360.0   \n",
       "4             2333             1516.0        95.0             360.0   \n",
       "\n",
       "   Credit_History Property_Area Loan_Status  \n",
       "0             1.0         Rural           N  \n",
       "1             1.0         Urban           Y  \n",
       "2             1.0         Urban           Y  \n",
       "3             1.0         Urban           Y  \n",
       "4             1.0         Urban           Y  "
      ]
     },
     "execution_count": 2,
     "metadata": {},
     "output_type": "execute_result"
    }
   ],
   "source": [
    "\n",
    "df = pd.read_csv('/kaggle/input/loan-status-prediction/loan_data.csv')\n",
    "df.head()"
   ]
  },
  {
   "cell_type": "markdown",
   "id": "95d88e66",
   "metadata": {
    "papermill": {
     "duration": 0.01257,
     "end_time": "2024-03-01T15:25:31.436005",
     "exception": false,
     "start_time": "2024-03-01T15:25:31.423435",
     "status": "completed"
    },
    "tags": []
   },
   "source": [
    "**Data Sanity Checks**"
   ]
  },
  {
   "cell_type": "code",
   "execution_count": 3,
   "id": "29f389b4",
   "metadata": {
    "execution": {
     "iopub.execute_input": "2024-03-01T15:25:31.465063Z",
     "iopub.status.busy": "2024-03-01T15:25:31.464613Z",
     "iopub.status.idle": "2024-03-01T15:25:31.471385Z",
     "shell.execute_reply": "2024-03-01T15:25:31.470565Z"
    },
    "papermill": {
     "duration": 0.024037,
     "end_time": "2024-03-01T15:25:31.473508",
     "exception": false,
     "start_time": "2024-03-01T15:25:31.449471",
     "status": "completed"
    },
    "tags": []
   },
   "outputs": [
    {
     "data": {
      "text/plain": [
       "(381, 13)"
      ]
     },
     "execution_count": 3,
     "metadata": {},
     "output_type": "execute_result"
    }
   ],
   "source": [
    "df.shape"
   ]
  },
  {
   "cell_type": "markdown",
   "id": "3305886a",
   "metadata": {
    "papermill": {
     "duration": 0.014735,
     "end_time": "2024-03-01T15:25:31.501576",
     "exception": false,
     "start_time": "2024-03-01T15:25:31.486841",
     "status": "completed"
    },
    "tags": []
   },
   "source": [
    "- The shape of data is 381 rows and 13 columns."
   ]
  },
  {
   "cell_type": "markdown",
   "id": "25448a6f",
   "metadata": {
    "papermill": {
     "duration": 0.013708,
     "end_time": "2024-03-01T15:25:31.529956",
     "exception": false,
     "start_time": "2024-03-01T15:25:31.516248",
     "status": "completed"
    },
    "tags": []
   },
   "source": []
  },
  {
   "cell_type": "code",
   "execution_count": 4,
   "id": "662de666",
   "metadata": {
    "execution": {
     "iopub.execute_input": "2024-03-01T15:25:31.558443Z",
     "iopub.status.busy": "2024-03-01T15:25:31.558016Z",
     "iopub.status.idle": "2024-03-01T15:25:31.569729Z",
     "shell.execute_reply": "2024-03-01T15:25:31.568826Z"
    },
    "papermill": {
     "duration": 0.028933,
     "end_time": "2024-03-01T15:25:31.572185",
     "exception": false,
     "start_time": "2024-03-01T15:25:31.543252",
     "status": "completed"
    },
    "tags": []
   },
   "outputs": [
    {
     "data": {
      "text/plain": [
       "Loan_ID               0\n",
       "Gender                5\n",
       "Married               0\n",
       "Dependents            8\n",
       "Education             0\n",
       "Self_Employed        21\n",
       "ApplicantIncome       0\n",
       "CoapplicantIncome     0\n",
       "LoanAmount            0\n",
       "Loan_Amount_Term     11\n",
       "Credit_History       30\n",
       "Property_Area         0\n",
       "Loan_Status           0\n",
       "dtype: int64"
      ]
     },
     "execution_count": 4,
     "metadata": {},
     "output_type": "execute_result"
    }
   ],
   "source": [
    "# checking missing values\n",
    "df.isnull().sum()"
   ]
  },
  {
   "cell_type": "markdown",
   "id": "2f4a8887",
   "metadata": {
    "papermill": {
     "duration": 0.012907,
     "end_time": "2024-03-01T15:25:31.598424",
     "exception": false,
     "start_time": "2024-03-01T15:25:31.585517",
     "status": "completed"
    },
    "tags": []
   },
   "source": []
  },
  {
   "cell_type": "markdown",
   "id": "3ee193dc",
   "metadata": {
    "papermill": {
     "duration": 0.012875,
     "end_time": "2024-03-01T15:25:31.624637",
     "exception": false,
     "start_time": "2024-03-01T15:25:31.611762",
     "status": "completed"
    },
    "tags": []
   },
   "source": [
    " the columns with missing values include:\n",
    "*  Gender                5\n",
    "*  Dependents            8\n",
    "*  Self_Employed        21\n",
    "*  Loan_Amount_Term     11\n",
    "*  Credit_History       30\n",
    "\n",
    " "
   ]
  },
  {
   "cell_type": "code",
   "execution_count": 5,
   "id": "c615f642",
   "metadata": {
    "execution": {
     "iopub.execute_input": "2024-03-01T15:25:31.653273Z",
     "iopub.status.busy": "2024-03-01T15:25:31.652839Z",
     "iopub.status.idle": "2024-03-01T15:25:31.667998Z",
     "shell.execute_reply": "2024-03-01T15:25:31.666949Z"
    },
    "papermill": {
     "duration": 0.032657,
     "end_time": "2024-03-01T15:25:31.670760",
     "exception": false,
     "start_time": "2024-03-01T15:25:31.638103",
     "status": "completed"
    },
    "tags": []
   },
   "outputs": [
    {
     "data": {
      "text/plain": [
       "0"
      ]
     },
     "execution_count": 5,
     "metadata": {},
     "output_type": "execute_result"
    }
   ],
   "source": [
    "# checking duplicates\n",
    "df.duplicated().sum()\n"
   ]
  },
  {
   "cell_type": "markdown",
   "id": "ea675822",
   "metadata": {
    "papermill": {
     "duration": 0.013049,
     "end_time": "2024-03-01T15:25:31.697912",
     "exception": false,
     "start_time": "2024-03-01T15:25:31.684863",
     "status": "completed"
    },
    "tags": []
   },
   "source": []
  },
  {
   "cell_type": "code",
   "execution_count": 6,
   "id": "c4262e2f",
   "metadata": {
    "execution": {
     "iopub.execute_input": "2024-03-01T15:25:31.729270Z",
     "iopub.status.busy": "2024-03-01T15:25:31.728632Z",
     "iopub.status.idle": "2024-03-01T15:25:31.749752Z",
     "shell.execute_reply": "2024-03-01T15:25:31.748463Z"
    },
    "papermill": {
     "duration": 0.039222,
     "end_time": "2024-03-01T15:25:31.752712",
     "exception": false,
     "start_time": "2024-03-01T15:25:31.713490",
     "status": "completed"
    },
    "tags": []
   },
   "outputs": [
    {
     "name": "stdout",
     "output_type": "stream",
     "text": [
      "<class 'pandas.core.frame.DataFrame'>\n",
      "RangeIndex: 381 entries, 0 to 380\n",
      "Data columns (total 13 columns):\n",
      " #   Column             Non-Null Count  Dtype  \n",
      "---  ------             --------------  -----  \n",
      " 0   Loan_ID            381 non-null    object \n",
      " 1   Gender             376 non-null    object \n",
      " 2   Married            381 non-null    object \n",
      " 3   Dependents         373 non-null    object \n",
      " 4   Education          381 non-null    object \n",
      " 5   Self_Employed      360 non-null    object \n",
      " 6   ApplicantIncome    381 non-null    int64  \n",
      " 7   CoapplicantIncome  381 non-null    float64\n",
      " 8   LoanAmount         381 non-null    float64\n",
      " 9   Loan_Amount_Term   370 non-null    float64\n",
      " 10  Credit_History     351 non-null    float64\n",
      " 11  Property_Area      381 non-null    object \n",
      " 12  Loan_Status        381 non-null    object \n",
      "dtypes: float64(4), int64(1), object(8)\n",
      "memory usage: 38.8+ KB\n"
     ]
    }
   ],
   "source": [
    "df.info()"
   ]
  },
  {
   "cell_type": "markdown",
   "id": "dcda5363",
   "metadata": {
    "papermill": {
     "duration": 0.013112,
     "end_time": "2024-03-01T15:25:31.779482",
     "exception": false,
     "start_time": "2024-03-01T15:25:31.766370",
     "status": "completed"
    },
    "tags": []
   },
   "source": [
    "the data sets have the follwoing dtypes\n",
    "* float 4 columns\n",
    "* Int 1 column\n",
    "* Objects 8 columns"
   ]
  },
  {
   "cell_type": "code",
   "execution_count": 7,
   "id": "4d73e309",
   "metadata": {
    "execution": {
     "iopub.execute_input": "2024-03-01T15:25:31.808867Z",
     "iopub.status.busy": "2024-03-01T15:25:31.807914Z",
     "iopub.status.idle": "2024-03-01T15:25:31.839901Z",
     "shell.execute_reply": "2024-03-01T15:25:31.838789Z"
    },
    "papermill": {
     "duration": 0.049831,
     "end_time": "2024-03-01T15:25:31.842990",
     "exception": false,
     "start_time": "2024-03-01T15:25:31.793159",
     "status": "completed"
    },
    "tags": []
   },
   "outputs": [
    {
     "data": {
      "text/html": [
       "<div>\n",
       "<style scoped>\n",
       "    .dataframe tbody tr th:only-of-type {\n",
       "        vertical-align: middle;\n",
       "    }\n",
       "\n",
       "    .dataframe tbody tr th {\n",
       "        vertical-align: top;\n",
       "    }\n",
       "\n",
       "    .dataframe thead th {\n",
       "        text-align: right;\n",
       "    }\n",
       "</style>\n",
       "<table border=\"1\" class=\"dataframe\">\n",
       "  <thead>\n",
       "    <tr style=\"text-align: right;\">\n",
       "      <th></th>\n",
       "      <th>count</th>\n",
       "      <th>mean</th>\n",
       "      <th>std</th>\n",
       "      <th>min</th>\n",
       "      <th>25%</th>\n",
       "      <th>50%</th>\n",
       "      <th>75%</th>\n",
       "      <th>max</th>\n",
       "    </tr>\n",
       "  </thead>\n",
       "  <tbody>\n",
       "    <tr>\n",
       "      <th>ApplicantIncome</th>\n",
       "      <td>381.0</td>\n",
       "      <td>3579.845144</td>\n",
       "      <td>1419.813818</td>\n",
       "      <td>150.0</td>\n",
       "      <td>2600.0</td>\n",
       "      <td>3333.0</td>\n",
       "      <td>4288.0</td>\n",
       "      <td>9703.0</td>\n",
       "    </tr>\n",
       "    <tr>\n",
       "      <th>CoapplicantIncome</th>\n",
       "      <td>381.0</td>\n",
       "      <td>1277.275381</td>\n",
       "      <td>2340.818114</td>\n",
       "      <td>0.0</td>\n",
       "      <td>0.0</td>\n",
       "      <td>983.0</td>\n",
       "      <td>2016.0</td>\n",
       "      <td>33837.0</td>\n",
       "    </tr>\n",
       "    <tr>\n",
       "      <th>LoanAmount</th>\n",
       "      <td>381.0</td>\n",
       "      <td>104.986877</td>\n",
       "      <td>28.358464</td>\n",
       "      <td>9.0</td>\n",
       "      <td>90.0</td>\n",
       "      <td>110.0</td>\n",
       "      <td>127.0</td>\n",
       "      <td>150.0</td>\n",
       "    </tr>\n",
       "    <tr>\n",
       "      <th>Loan_Amount_Term</th>\n",
       "      <td>370.0</td>\n",
       "      <td>340.864865</td>\n",
       "      <td>68.549257</td>\n",
       "      <td>12.0</td>\n",
       "      <td>360.0</td>\n",
       "      <td>360.0</td>\n",
       "      <td>360.0</td>\n",
       "      <td>480.0</td>\n",
       "    </tr>\n",
       "    <tr>\n",
       "      <th>Credit_History</th>\n",
       "      <td>351.0</td>\n",
       "      <td>0.837607</td>\n",
       "      <td>0.369338</td>\n",
       "      <td>0.0</td>\n",
       "      <td>1.0</td>\n",
       "      <td>1.0</td>\n",
       "      <td>1.0</td>\n",
       "      <td>1.0</td>\n",
       "    </tr>\n",
       "  </tbody>\n",
       "</table>\n",
       "</div>"
      ],
      "text/plain": [
       "                   count         mean          std    min     25%     50%  \\\n",
       "ApplicantIncome    381.0  3579.845144  1419.813818  150.0  2600.0  3333.0   \n",
       "CoapplicantIncome  381.0  1277.275381  2340.818114    0.0     0.0   983.0   \n",
       "LoanAmount         381.0   104.986877    28.358464    9.0    90.0   110.0   \n",
       "Loan_Amount_Term   370.0   340.864865    68.549257   12.0   360.0   360.0   \n",
       "Credit_History     351.0     0.837607     0.369338    0.0     1.0     1.0   \n",
       "\n",
       "                      75%      max  \n",
       "ApplicantIncome    4288.0   9703.0  \n",
       "CoapplicantIncome  2016.0  33837.0  \n",
       "LoanAmount          127.0    150.0  \n",
       "Loan_Amount_Term    360.0    480.0  \n",
       "Credit_History        1.0      1.0  "
      ]
     },
     "execution_count": 7,
     "metadata": {},
     "output_type": "execute_result"
    }
   ],
   "source": [
    "df.describe().T"
   ]
  },
  {
   "cell_type": "code",
   "execution_count": 8,
   "id": "d32501c2",
   "metadata": {
    "execution": {
     "iopub.execute_input": "2024-03-01T15:25:31.874032Z",
     "iopub.status.busy": "2024-03-01T15:25:31.873567Z",
     "iopub.status.idle": "2024-03-01T15:25:31.902654Z",
     "shell.execute_reply": "2024-03-01T15:25:31.901081Z"
    },
    "papermill": {
     "duration": 0.049143,
     "end_time": "2024-03-01T15:25:31.906150",
     "exception": false,
     "start_time": "2024-03-01T15:25:31.857007",
     "status": "completed"
    },
    "tags": []
   },
   "outputs": [
    {
     "data": {
      "text/html": [
       "<div>\n",
       "<style scoped>\n",
       "    .dataframe tbody tr th:only-of-type {\n",
       "        vertical-align: middle;\n",
       "    }\n",
       "\n",
       "    .dataframe tbody tr th {\n",
       "        vertical-align: top;\n",
       "    }\n",
       "\n",
       "    .dataframe thead th {\n",
       "        text-align: right;\n",
       "    }\n",
       "</style>\n",
       "<table border=\"1\" class=\"dataframe\">\n",
       "  <thead>\n",
       "    <tr style=\"text-align: right;\">\n",
       "      <th></th>\n",
       "      <th>count</th>\n",
       "      <th>unique</th>\n",
       "      <th>top</th>\n",
       "      <th>freq</th>\n",
       "    </tr>\n",
       "  </thead>\n",
       "  <tbody>\n",
       "    <tr>\n",
       "      <th>Loan_ID</th>\n",
       "      <td>381</td>\n",
       "      <td>381</td>\n",
       "      <td>LP001003</td>\n",
       "      <td>1</td>\n",
       "    </tr>\n",
       "    <tr>\n",
       "      <th>Gender</th>\n",
       "      <td>376</td>\n",
       "      <td>2</td>\n",
       "      <td>Male</td>\n",
       "      <td>291</td>\n",
       "    </tr>\n",
       "    <tr>\n",
       "      <th>Married</th>\n",
       "      <td>381</td>\n",
       "      <td>2</td>\n",
       "      <td>Yes</td>\n",
       "      <td>228</td>\n",
       "    </tr>\n",
       "    <tr>\n",
       "      <th>Dependents</th>\n",
       "      <td>373</td>\n",
       "      <td>4</td>\n",
       "      <td>0</td>\n",
       "      <td>234</td>\n",
       "    </tr>\n",
       "    <tr>\n",
       "      <th>Education</th>\n",
       "      <td>381</td>\n",
       "      <td>2</td>\n",
       "      <td>Graduate</td>\n",
       "      <td>278</td>\n",
       "    </tr>\n",
       "    <tr>\n",
       "      <th>Self_Employed</th>\n",
       "      <td>360</td>\n",
       "      <td>2</td>\n",
       "      <td>No</td>\n",
       "      <td>325</td>\n",
       "    </tr>\n",
       "    <tr>\n",
       "      <th>Property_Area</th>\n",
       "      <td>381</td>\n",
       "      <td>3</td>\n",
       "      <td>Semiurban</td>\n",
       "      <td>149</td>\n",
       "    </tr>\n",
       "    <tr>\n",
       "      <th>Loan_Status</th>\n",
       "      <td>381</td>\n",
       "      <td>2</td>\n",
       "      <td>Y</td>\n",
       "      <td>271</td>\n",
       "    </tr>\n",
       "  </tbody>\n",
       "</table>\n",
       "</div>"
      ],
      "text/plain": [
       "              count unique        top freq\n",
       "Loan_ID         381    381   LP001003    1\n",
       "Gender          376      2       Male  291\n",
       "Married         381      2        Yes  228\n",
       "Dependents      373      4          0  234\n",
       "Education       381      2   Graduate  278\n",
       "Self_Employed   360      2         No  325\n",
       "Property_Area   381      3  Semiurban  149\n",
       "Loan_Status     381      2          Y  271"
      ]
     },
     "execution_count": 8,
     "metadata": {},
     "output_type": "execute_result"
    }
   ],
   "source": [
    "# object columns\n",
    "df.describe(include = 'object').T"
   ]
  },
  {
   "cell_type": "markdown",
   "id": "0b38be03",
   "metadata": {
    "papermill": {
     "duration": 0.015493,
     "end_time": "2024-03-01T15:25:31.937337",
     "exception": false,
     "start_time": "2024-03-01T15:25:31.921844",
     "status": "completed"
    },
    "tags": []
   },
   "source": [
    "**Univeriate Analysis**"
   ]
  },
  {
   "cell_type": "code",
   "execution_count": 9,
   "id": "5ce33828",
   "metadata": {
    "execution": {
     "iopub.execute_input": "2024-03-01T15:25:31.969524Z",
     "iopub.status.busy": "2024-03-01T15:25:31.969015Z",
     "iopub.status.idle": "2024-03-01T15:25:31.980090Z",
     "shell.execute_reply": "2024-03-01T15:25:31.978516Z"
    },
    "papermill": {
     "duration": 0.030749,
     "end_time": "2024-03-01T15:25:31.983099",
     "exception": false,
     "start_time": "2024-03-01T15:25:31.952350",
     "status": "completed"
    },
    "tags": []
   },
   "outputs": [
    {
     "data": {
      "text/plain": [
       "Property_Area\n",
       "Semiurban    149\n",
       "Urban        126\n",
       "Rural        106\n",
       "Name: count, dtype: int64"
      ]
     },
     "execution_count": 9,
     "metadata": {},
     "output_type": "execute_result"
    }
   ],
   "source": [
    "df['Property_Area'].value_counts()"
   ]
  },
  {
   "cell_type": "code",
   "execution_count": null,
   "id": "0d84bdfb",
   "metadata": {
    "papermill": {
     "duration": 0.015931,
     "end_time": "2024-03-01T15:25:32.013309",
     "exception": false,
     "start_time": "2024-03-01T15:25:31.997378",
     "status": "completed"
    },
    "tags": []
   },
   "outputs": [],
   "source": []
  },
  {
   "cell_type": "markdown",
   "id": "adaed3a4",
   "metadata": {
    "papermill": {
     "duration": 0.015122,
     "end_time": "2024-03-01T15:25:32.046081",
     "exception": false,
     "start_time": "2024-03-01T15:25:32.030959",
     "status": "completed"
    },
    "tags": []
   },
   "source": [
    "Property Area is divided into 3:\n",
    "* Semiurban   \n",
    "* Urban        \n",
    "* Rural "
   ]
  },
  {
   "cell_type": "code",
   "execution_count": 10,
   "id": "271abf17",
   "metadata": {
    "execution": {
     "iopub.execute_input": "2024-03-01T15:25:32.077809Z",
     "iopub.status.busy": "2024-03-01T15:25:32.077321Z",
     "iopub.status.idle": "2024-03-01T15:25:32.087822Z",
     "shell.execute_reply": "2024-03-01T15:25:32.086475Z"
    },
    "papermill": {
     "duration": 0.029806,
     "end_time": "2024-03-01T15:25:32.090436",
     "exception": false,
     "start_time": "2024-03-01T15:25:32.060630",
     "status": "completed"
    },
    "tags": []
   },
   "outputs": [
    {
     "data": {
      "text/plain": [
       "Education\n",
       "Graduate        278\n",
       "Not Graduate    103\n",
       "Name: count, dtype: int64"
      ]
     },
     "execution_count": 10,
     "metadata": {},
     "output_type": "execute_result"
    }
   ],
   "source": [
    "df['Education'].value_counts()"
   ]
  },
  {
   "cell_type": "markdown",
   "id": "77c172eb",
   "metadata": {
    "papermill": {
     "duration": 0.014145,
     "end_time": "2024-03-01T15:25:32.119802",
     "exception": false,
     "start_time": "2024-03-01T15:25:32.105657",
     "status": "completed"
    },
    "tags": []
   },
   "source": [
    "Education is divided into \n",
    "* Graduate        \n",
    "* Not Graduate    "
   ]
  },
  {
   "cell_type": "code",
   "execution_count": 11,
   "id": "41b3f32a",
   "metadata": {
    "execution": {
     "iopub.execute_input": "2024-03-01T15:25:32.151569Z",
     "iopub.status.busy": "2024-03-01T15:25:32.151083Z",
     "iopub.status.idle": "2024-03-01T15:25:32.162791Z",
     "shell.execute_reply": "2024-03-01T15:25:32.161431Z"
    },
    "papermill": {
     "duration": 0.030333,
     "end_time": "2024-03-01T15:25:32.165394",
     "exception": false,
     "start_time": "2024-03-01T15:25:32.135061",
     "status": "completed"
    },
    "tags": []
   },
   "outputs": [
    {
     "data": {
      "text/plain": [
       "Dependents\n",
       "0     234\n",
       "2      59\n",
       "1      52\n",
       "3+     28\n",
       "Name: count, dtype: int64"
      ]
     },
     "execution_count": 11,
     "metadata": {},
     "output_type": "execute_result"
    }
   ],
   "source": [
    "df['Dependents'].value_counts()"
   ]
  },
  {
   "cell_type": "markdown",
   "id": "161feda5",
   "metadata": {
    "papermill": {
     "duration": 0.01417,
     "end_time": "2024-03-01T15:25:32.194006",
     "exception": false,
     "start_time": "2024-03-01T15:25:32.179836",
     "status": "completed"
    },
    "tags": []
   },
   "source": [
    "Divided into \n",
    "* 0     234\n",
    "* 2      59\n",
    "* 1      52\n",
    "* 3+     28\n",
    "\n",
    "3+ "
   ]
  },
  {
   "cell_type": "code",
   "execution_count": 12,
   "id": "10379b2d",
   "metadata": {
    "execution": {
     "iopub.execute_input": "2024-03-01T15:25:32.225982Z",
     "iopub.status.busy": "2024-03-01T15:25:32.225605Z",
     "iopub.status.idle": "2024-03-01T15:25:32.235155Z",
     "shell.execute_reply": "2024-03-01T15:25:32.233848Z"
    },
    "papermill": {
     "duration": 0.028546,
     "end_time": "2024-03-01T15:25:32.237911",
     "exception": false,
     "start_time": "2024-03-01T15:25:32.209365",
     "status": "completed"
    },
    "tags": []
   },
   "outputs": [
    {
     "data": {
      "text/plain": [
       "Loan_Status\n",
       "Y    271\n",
       "N    110\n",
       "Name: count, dtype: int64"
      ]
     },
     "execution_count": 12,
     "metadata": {},
     "output_type": "execute_result"
    }
   ],
   "source": [
    "df['Loan_Status'].value_counts()\n",
    "\n",
    "#independent variable"
   ]
  },
  {
   "cell_type": "code",
   "execution_count": 13,
   "id": "7050eeea",
   "metadata": {
    "execution": {
     "iopub.execute_input": "2024-03-01T15:25:32.269297Z",
     "iopub.status.busy": "2024-03-01T15:25:32.268856Z",
     "iopub.status.idle": "2024-03-01T15:25:32.304212Z",
     "shell.execute_reply": "2024-03-01T15:25:32.303142Z"
    },
    "papermill": {
     "duration": 0.054065,
     "end_time": "2024-03-01T15:25:32.306630",
     "exception": false,
     "start_time": "2024-03-01T15:25:32.252565",
     "status": "completed"
    },
    "tags": []
   },
   "outputs": [
    {
     "data": {
      "text/html": [
       "<div>\n",
       "<style scoped>\n",
       "    .dataframe tbody tr th:only-of-type {\n",
       "        vertical-align: middle;\n",
       "    }\n",
       "\n",
       "    .dataframe tbody tr th {\n",
       "        vertical-align: top;\n",
       "    }\n",
       "\n",
       "    .dataframe thead th {\n",
       "        text-align: right;\n",
       "    }\n",
       "</style>\n",
       "<table border=\"1\" class=\"dataframe\">\n",
       "  <thead>\n",
       "    <tr style=\"text-align: right;\">\n",
       "      <th></th>\n",
       "      <th>count</th>\n",
       "      <th>mean</th>\n",
       "      <th>std</th>\n",
       "      <th>min</th>\n",
       "      <th>25%</th>\n",
       "      <th>50%</th>\n",
       "      <th>75%</th>\n",
       "      <th>max</th>\n",
       "    </tr>\n",
       "  </thead>\n",
       "  <tbody>\n",
       "    <tr>\n",
       "      <th>ApplicantIncome</th>\n",
       "      <td>381.0</td>\n",
       "      <td>3579.845144</td>\n",
       "      <td>1419.813818</td>\n",
       "      <td>150.0</td>\n",
       "      <td>2600.0</td>\n",
       "      <td>3333.0</td>\n",
       "      <td>4288.0</td>\n",
       "      <td>9703.0</td>\n",
       "    </tr>\n",
       "    <tr>\n",
       "      <th>CoapplicantIncome</th>\n",
       "      <td>381.0</td>\n",
       "      <td>1277.275381</td>\n",
       "      <td>2340.818114</td>\n",
       "      <td>0.0</td>\n",
       "      <td>0.0</td>\n",
       "      <td>983.0</td>\n",
       "      <td>2016.0</td>\n",
       "      <td>33837.0</td>\n",
       "    </tr>\n",
       "    <tr>\n",
       "      <th>LoanAmount</th>\n",
       "      <td>381.0</td>\n",
       "      <td>104.986877</td>\n",
       "      <td>28.358464</td>\n",
       "      <td>9.0</td>\n",
       "      <td>90.0</td>\n",
       "      <td>110.0</td>\n",
       "      <td>127.0</td>\n",
       "      <td>150.0</td>\n",
       "    </tr>\n",
       "    <tr>\n",
       "      <th>Loan_Amount_Term</th>\n",
       "      <td>370.0</td>\n",
       "      <td>340.864865</td>\n",
       "      <td>68.549257</td>\n",
       "      <td>12.0</td>\n",
       "      <td>360.0</td>\n",
       "      <td>360.0</td>\n",
       "      <td>360.0</td>\n",
       "      <td>480.0</td>\n",
       "    </tr>\n",
       "    <tr>\n",
       "      <th>Credit_History</th>\n",
       "      <td>351.0</td>\n",
       "      <td>0.837607</td>\n",
       "      <td>0.369338</td>\n",
       "      <td>0.0</td>\n",
       "      <td>1.0</td>\n",
       "      <td>1.0</td>\n",
       "      <td>1.0</td>\n",
       "      <td>1.0</td>\n",
       "    </tr>\n",
       "  </tbody>\n",
       "</table>\n",
       "</div>"
      ],
      "text/plain": [
       "                   count         mean          std    min     25%     50%  \\\n",
       "ApplicantIncome    381.0  3579.845144  1419.813818  150.0  2600.0  3333.0   \n",
       "CoapplicantIncome  381.0  1277.275381  2340.818114    0.0     0.0   983.0   \n",
       "LoanAmount         381.0   104.986877    28.358464    9.0    90.0   110.0   \n",
       "Loan_Amount_Term   370.0   340.864865    68.549257   12.0   360.0   360.0   \n",
       "Credit_History     351.0     0.837607     0.369338    0.0     1.0     1.0   \n",
       "\n",
       "                      75%      max  \n",
       "ApplicantIncome    4288.0   9703.0  \n",
       "CoapplicantIncome  2016.0  33837.0  \n",
       "LoanAmount          127.0    150.0  \n",
       "Loan_Amount_Term    360.0    480.0  \n",
       "Credit_History        1.0      1.0  "
      ]
     },
     "execution_count": 13,
     "metadata": {},
     "output_type": "execute_result"
    }
   ],
   "source": [
    "df.describe().T"
   ]
  },
  {
   "cell_type": "code",
   "execution_count": 14,
   "id": "ab275ebd",
   "metadata": {
    "execution": {
     "iopub.execute_input": "2024-03-01T15:25:32.339845Z",
     "iopub.status.busy": "2024-03-01T15:25:32.339347Z",
     "iopub.status.idle": "2024-03-01T15:25:32.835472Z",
     "shell.execute_reply": "2024-03-01T15:25:32.833921Z"
    },
    "papermill": {
     "duration": 0.516819,
     "end_time": "2024-03-01T15:25:32.838263",
     "exception": false,
     "start_time": "2024-03-01T15:25:32.321444",
     "status": "completed"
    },
    "tags": []
   },
   "outputs": [
    {
     "name": "stderr",
     "output_type": "stream",
     "text": [
      "/opt/conda/lib/python3.10/site-packages/seaborn/_oldcore.py:1119: FutureWarning: use_inf_as_na option is deprecated and will be removed in a future version. Convert inf values to NaN before operating instead.\n",
      "  with pd.option_context('mode.use_inf_as_na', True):\n"
     ]
    },
    {
     "data": {
      "text/plain": [
       "Text(0.5, 1.0, 'A plot showing distribution of loan amount term')"
      ]
     },
     "execution_count": 14,
     "metadata": {},
     "output_type": "execute_result"
    },
    {
     "data": {
      "image/png": "[encoded data removed]",
      "text/plain": [
       "<Figure size 640x480 with 1 Axes>"
      ]
     },
     "metadata": {},
     "output_type": "display_data"
    }
   ],
   "source": [
    "sns.histplot(df, x = 'Loan_Amount_Term', kde=True)\n",
    "plt.title('A plot showing distribution of loan amount term')"
   ]
  },
  {
   "cell_type": "code",
   "execution_count": 15,
   "id": "ae48d85a",
   "metadata": {
    "execution": {
     "iopub.execute_input": "2024-03-01T15:25:32.874501Z",
     "iopub.status.busy": "2024-03-01T15:25:32.872937Z",
     "iopub.status.idle": "2024-03-01T15:25:32.882210Z",
     "shell.execute_reply": "2024-03-01T15:25:32.880933Z"
    },
    "papermill": {
     "duration": 0.030355,
     "end_time": "2024-03-01T15:25:32.885367",
     "exception": false,
     "start_time": "2024-03-01T15:25:32.855012",
     "status": "completed"
    },
    "tags": []
   },
   "outputs": [
    {
     "data": {
      "text/plain": [
       "360.0"
      ]
     },
     "execution_count": 15,
     "metadata": {},
     "output_type": "execute_result"
    }
   ],
   "source": [
    "medin = df['Loan_Amount_Term'].median()\n",
    "medin"
   ]
  },
  {
   "cell_type": "code",
   "execution_count": 16,
   "id": "6b242def",
   "metadata": {
    "execution": {
     "iopub.execute_input": "2024-03-01T15:25:32.920559Z",
     "iopub.status.busy": "2024-03-01T15:25:32.920153Z",
     "iopub.status.idle": "2024-03-01T15:25:32.927993Z",
     "shell.execute_reply": "2024-03-01T15:25:32.926801Z"
    },
    "papermill": {
     "duration": 0.029277,
     "end_time": "2024-03-01T15:25:32.931547",
     "exception": false,
     "start_time": "2024-03-01T15:25:32.902270",
     "status": "completed"
    },
    "tags": []
   },
   "outputs": [
    {
     "data": {
      "text/plain": [
       "340.86486486486484"
      ]
     },
     "execution_count": 16,
     "metadata": {},
     "output_type": "execute_result"
    }
   ],
   "source": [
    "med = df['Loan_Amount_Term'].mean()\n",
    "med"
   ]
  },
  {
   "cell_type": "code",
   "execution_count": 17,
   "id": "02d9033d",
   "metadata": {
    "execution": {
     "iopub.execute_input": "2024-03-01T15:25:32.968457Z",
     "iopub.status.busy": "2024-03-01T15:25:32.968003Z",
     "iopub.status.idle": "2024-03-01T15:25:32.974778Z",
     "shell.execute_reply": "2024-03-01T15:25:32.973842Z"
    },
    "papermill": {
     "duration": 0.027526,
     "end_time": "2024-03-01T15:25:32.977271",
     "exception": false,
     "start_time": "2024-03-01T15:25:32.949745",
     "status": "completed"
    },
    "tags": []
   },
   "outputs": [
    {
     "data": {
      "text/plain": [
       "360.0"
      ]
     },
     "execution_count": 17,
     "metadata": {},
     "output_type": "execute_result"
    }
   ],
   "source": [
    "med2 = np.nanmedian(df['Loan_Amount_Term'])\n",
    "med2"
   ]
  },
  {
   "cell_type": "code",
   "execution_count": 18,
   "id": "8873e6de",
   "metadata": {
    "execution": {
     "iopub.execute_input": "2024-03-01T15:25:33.014484Z",
     "iopub.status.busy": "2024-03-01T15:25:33.013792Z",
     "iopub.status.idle": "2024-03-01T15:25:33.023607Z",
     "shell.execute_reply": "2024-03-01T15:25:33.022790Z"
    },
    "papermill": {
     "duration": 0.031366,
     "end_time": "2024-03-01T15:25:33.026319",
     "exception": false,
     "start_time": "2024-03-01T15:25:32.994953",
     "status": "completed"
    },
    "tags": []
   },
   "outputs": [
    {
     "data": {
      "text/plain": [
       "0    360.0\n",
       "Name: Loan_Amount_Term, dtype: float64"
      ]
     },
     "execution_count": 18,
     "metadata": {},
     "output_type": "execute_result"
    }
   ],
   "source": [
    "mod = df['Loan_Amount_Term'].mode()\n",
    "mod"
   ]
  },
  {
   "cell_type": "code",
   "execution_count": 19,
   "id": "ac9274b4",
   "metadata": {
    "execution": {
     "iopub.execute_input": "2024-03-01T15:25:33.066389Z",
     "iopub.status.busy": "2024-03-01T15:25:33.065945Z",
     "iopub.status.idle": "2024-03-01T15:25:33.077048Z",
     "shell.execute_reply": "2024-03-01T15:25:33.075854Z"
    },
    "papermill": {
     "duration": 0.032418,
     "end_time": "2024-03-01T15:25:33.079847",
     "exception": false,
     "start_time": "2024-03-01T15:25:33.047429",
     "status": "completed"
    },
    "tags": []
   },
   "outputs": [
    {
     "data": {
      "text/plain": [
       "Loan_ID               0\n",
       "Gender                5\n",
       "Married               0\n",
       "Dependents            8\n",
       "Education             0\n",
       "Self_Employed        21\n",
       "ApplicantIncome       0\n",
       "CoapplicantIncome     0\n",
       "LoanAmount            0\n",
       "Loan_Amount_Term      0\n",
       "Credit_History       30\n",
       "Property_Area         0\n",
       "Loan_Status           0\n",
       "dtype: int64"
      ]
     },
     "execution_count": 19,
     "metadata": {},
     "output_type": "execute_result"
    }
   ],
   "source": [
    "#filling the missing values\n",
    "\n",
    "df.fillna({'Loan_Amount_Term': med}, inplace = True)\n",
    "\n",
    "df.isnull().sum()"
   ]
  },
  {
   "cell_type": "code",
   "execution_count": 20,
   "id": "48703ff7",
   "metadata": {
    "execution": {
     "iopub.execute_input": "2024-03-01T15:25:33.115507Z",
     "iopub.status.busy": "2024-03-01T15:25:33.115016Z",
     "iopub.status.idle": "2024-03-01T15:25:33.464134Z",
     "shell.execute_reply": "2024-03-01T15:25:33.463238Z"
    },
    "papermill": {
     "duration": 0.370191,
     "end_time": "2024-03-01T15:25:33.466854",
     "exception": false,
     "start_time": "2024-03-01T15:25:33.096663",
     "status": "completed"
    },
    "tags": []
   },
   "outputs": [
    {
     "name": "stderr",
     "output_type": "stream",
     "text": [
      "/opt/conda/lib/python3.10/site-packages/seaborn/_oldcore.py:1119: FutureWarning: use_inf_as_na option is deprecated and will be removed in a future version. Convert inf values to NaN before operating instead.\n",
      "  with pd.option_context('mode.use_inf_as_na', True):\n"
     ]
    },
    {
     "data": {
      "text/plain": [
       "Text(0.5, 1.0, 'Credit history')"
      ]
     },
     "execution_count": 20,
     "metadata": {},
     "output_type": "execute_result"
    },
    {
     "data": {
      "image/png": "[encoded data removed]",
      "text/plain": [
       "<Figure size 640x480 with 1 Axes>"
      ]
     },
     "metadata": {},
     "output_type": "display_data"
    }
   ],
   "source": [
    "sns.histplot(df, x = 'Credit_History')\n",
    "plt.title('Credit history')"
   ]
  },
  {
   "cell_type": "code",
   "execution_count": 21,
   "id": "1615e1b1",
   "metadata": {
    "execution": {
     "iopub.execute_input": "2024-03-01T15:25:33.507960Z",
     "iopub.status.busy": "2024-03-01T15:25:33.507255Z",
     "iopub.status.idle": "2024-03-01T15:25:33.516621Z",
     "shell.execute_reply": "2024-03-01T15:25:33.515024Z"
    },
    "papermill": {
     "duration": 0.034104,
     "end_time": "2024-03-01T15:25:33.519425",
     "exception": false,
     "start_time": "2024-03-01T15:25:33.485321",
     "status": "completed"
    },
    "tags": []
   },
   "outputs": [
    {
     "data": {
      "text/plain": [
       "1.0"
      ]
     },
     "execution_count": 21,
     "metadata": {},
     "output_type": "execute_result"
    }
   ],
   "source": [
    "med_cred = df['Credit_History'].median()\n",
    "med_cred"
   ]
  },
  {
   "cell_type": "code",
   "execution_count": 22,
   "id": "7f872c5d",
   "metadata": {
    "execution": {
     "iopub.execute_input": "2024-03-01T15:25:33.618301Z",
     "iopub.status.busy": "2024-03-01T15:25:33.617879Z",
     "iopub.status.idle": "2024-03-01T15:25:33.626443Z",
     "shell.execute_reply": "2024-03-01T15:25:33.624985Z"
    },
    "papermill": {
     "duration": 0.092164,
     "end_time": "2024-03-01T15:25:33.629047",
     "exception": false,
     "start_time": "2024-03-01T15:25:33.536883",
     "status": "completed"
    },
    "tags": []
   },
   "outputs": [
    {
     "data": {
      "text/plain": [
       "0.8376068376068376"
      ]
     },
     "execution_count": 22,
     "metadata": {},
     "output_type": "execute_result"
    }
   ],
   "source": [
    "med_cred = df['Credit_History'].mean()\n",
    "med_cred"
   ]
  },
  {
   "cell_type": "code",
   "execution_count": 23,
   "id": "3832982b",
   "metadata": {
    "execution": {
     "iopub.execute_input": "2024-03-01T15:25:33.665255Z",
     "iopub.status.busy": "2024-03-01T15:25:33.664849Z",
     "iopub.status.idle": "2024-03-01T15:25:33.674879Z",
     "shell.execute_reply": "2024-03-01T15:25:33.673614Z"
    },
    "papermill": {
     "duration": 0.031413,
     "end_time": "2024-03-01T15:25:33.677598",
     "exception": false,
     "start_time": "2024-03-01T15:25:33.646185",
     "status": "completed"
    },
    "tags": []
   },
   "outputs": [
    {
     "data": {
      "text/plain": [
       "0    1.0\n",
       "Name: Credit_History, dtype: float64"
      ]
     },
     "execution_count": 23,
     "metadata": {},
     "output_type": "execute_result"
    }
   ],
   "source": [
    "med_cred = df['Credit_History'].mode()\n",
    "med_cred"
   ]
  },
  {
   "cell_type": "code",
   "execution_count": 24,
   "id": "bcf6aaa9",
   "metadata": {
    "execution": {
     "iopub.execute_input": "2024-03-01T15:25:33.715752Z",
     "iopub.status.busy": "2024-03-01T15:25:33.714328Z",
     "iopub.status.idle": "2024-03-01T15:25:33.728066Z",
     "shell.execute_reply": "2024-03-01T15:25:33.726425Z"
    },
    "papermill": {
     "duration": 0.035927,
     "end_time": "2024-03-01T15:25:33.731078",
     "exception": false,
     "start_time": "2024-03-01T15:25:33.695151",
     "status": "completed"
    },
    "tags": []
   },
   "outputs": [
    {
     "data": {
      "text/plain": [
       "Loan_ID               0\n",
       "Gender                5\n",
       "Married               0\n",
       "Dependents            8\n",
       "Education             0\n",
       "Self_Employed        21\n",
       "ApplicantIncome       0\n",
       "CoapplicantIncome     0\n",
       "LoanAmount            0\n",
       "Loan_Amount_Term      0\n",
       "Credit_History       30\n",
       "Property_Area         0\n",
       "Loan_Status           0\n",
       "dtype: int64"
      ]
     },
     "execution_count": 24,
     "metadata": {},
     "output_type": "execute_result"
    }
   ],
   "source": [
    "#filling the missing values\n",
    "\n",
    "df.fillna({'Credit_History': med_cred}, inplace = True)\n",
    "\n",
    "df.isnull().sum()"
   ]
  },
  {
   "cell_type": "code",
   "execution_count": 25,
   "id": "f3afb0e2",
   "metadata": {
    "execution": {
     "iopub.execute_input": "2024-03-01T15:25:33.770298Z",
     "iopub.status.busy": "2024-03-01T15:25:33.769813Z",
     "iopub.status.idle": "2024-03-01T15:25:33.779738Z",
     "shell.execute_reply": "2024-03-01T15:25:33.778870Z"
    },
    "papermill": {
     "duration": 0.034699,
     "end_time": "2024-03-01T15:25:33.784259",
     "exception": false,
     "start_time": "2024-03-01T15:25:33.749560",
     "status": "completed"
    },
    "tags": []
   },
   "outputs": [
    {
     "name": "stdout",
     "output_type": "stream",
     "text": [
      "Loan_ID               0\n",
      "Gender                5\n",
      "Married               0\n",
      "Dependents            8\n",
      "Education             0\n",
      "Self_Employed        21\n",
      "ApplicantIncome       0\n",
      "CoapplicantIncome     0\n",
      "LoanAmount            0\n",
      "Loan_Amount_Term      0\n",
      "Credit_History        0\n",
      "Property_Area         0\n",
      "Loan_Status           0\n",
      "dtype: int64\n"
     ]
    },
    {
     "name": "stderr",
     "output_type": "stream",
     "text": [
      "/tmp/ipykernel_18/3681435685.py:4: FutureWarning: A value is trying to be set on a copy of a DataFrame or Series through chained assignment using an inplace method.\n",
      "The behavior will change in pandas 3.0. This inplace method will never work because the intermediate object on which we are setting values always behaves as a copy.\n",
      "\n",
      "For example, when doing 'df[col].method(value, inplace=True)', try using 'df.method({col: value}, inplace=True)' or df[col] = df[col].method(value) instead, to perform the operation inplace on the original object.\n",
      "\n",
      "\n",
      "  df['Credit_History'].fillna(med_cred, inplace=True)\n"
     ]
    }
   ],
   "source": [
    "med_cred = df['Credit_History'].median()\n",
    "\n",
    "# Fill missing values in Credit_History column with the median\n",
    "df['Credit_History'].fillna(med_cred, inplace=True)\n",
    "\n",
    "# Check for null values after filling\n",
    "print(df.isnull().sum())"
   ]
  },
  {
   "cell_type": "code",
   "execution_count": 26,
   "id": "e5d7dab1",
   "metadata": {
    "execution": {
     "iopub.execute_input": "2024-03-01T15:25:33.823153Z",
     "iopub.status.busy": "2024-03-01T15:25:33.822732Z",
     "iopub.status.idle": "2024-03-01T15:25:34.042204Z",
     "shell.execute_reply": "2024-03-01T15:25:34.040078Z"
    },
    "papermill": {
     "duration": 0.243897,
     "end_time": "2024-03-01T15:25:34.046466",
     "exception": false,
     "start_time": "2024-03-01T15:25:33.802569",
     "status": "completed"
    },
    "tags": []
   },
   "outputs": [
    {
     "data": {
      "image/png": "[encoded data removed]",
      "text/plain": [
       "<Figure size 640x480 with 1 Axes>"
      ]
     },
     "metadata": {},
     "output_type": "display_data"
    }
   ],
   "source": [
    "sns.boxplot(df, y= 'Credit_History')\n",
    "plt.show()\n"
   ]
  },
  {
   "cell_type": "code",
   "execution_count": 27,
   "id": "c54f34ee",
   "metadata": {
    "execution": {
     "iopub.execute_input": "2024-03-01T15:25:34.096839Z",
     "iopub.status.busy": "2024-03-01T15:25:34.095466Z",
     "iopub.status.idle": "2024-03-01T15:25:34.108630Z",
     "shell.execute_reply": "2024-03-01T15:25:34.106747Z"
    },
    "papermill": {
     "duration": 0.041141,
     "end_time": "2024-03-01T15:25:34.111896",
     "exception": false,
     "start_time": "2024-03-01T15:25:34.070755",
     "status": "completed"
    },
    "tags": []
   },
   "outputs": [
    {
     "name": "stdout",
     "output_type": "stream",
     "text": [
      "90.0\n",
      "90.0\n"
     ]
    }
   ],
   "source": [
    "q1 = df['LoanAmount'].quantile(0.25)\n",
    "print(q1)\n",
    "q3 = df['LoanAmount'].quantile(0.25)\n",
    "print(q3)"
   ]
  },
  {
   "cell_type": "code",
   "execution_count": 28,
   "id": "4366c59d",
   "metadata": {
    "execution": {
     "iopub.execute_input": "2024-03-01T15:25:34.161272Z",
     "iopub.status.busy": "2024-03-01T15:25:34.160109Z",
     "iopub.status.idle": "2024-03-01T15:25:34.170376Z",
     "shell.execute_reply": "2024-03-01T15:25:34.168278Z"
    },
    "papermill": {
     "duration": 0.037503,
     "end_time": "2024-03-01T15:25:34.173917",
     "exception": false,
     "start_time": "2024-03-01T15:25:34.136414",
     "status": "completed"
    },
    "tags": []
   },
   "outputs": [
    {
     "name": "stdout",
     "output_type": "stream",
     "text": [
      "0.0\n"
     ]
    }
   ],
   "source": [
    "IQR = q3 - q1\n",
    "print(IQR)\n"
   ]
  },
  {
   "cell_type": "code",
   "execution_count": 29,
   "id": "ff3d4c86",
   "metadata": {
    "execution": {
     "iopub.execute_input": "2024-03-01T15:25:34.215685Z",
     "iopub.status.busy": "2024-03-01T15:25:34.214680Z",
     "iopub.status.idle": "2024-03-01T15:25:34.222266Z",
     "shell.execute_reply": "2024-03-01T15:25:34.221045Z"
    },
    "papermill": {
     "duration": 0.030835,
     "end_time": "2024-03-01T15:25:34.224672",
     "exception": false,
     "start_time": "2024-03-01T15:25:34.193837",
     "status": "completed"
    },
    "tags": []
   },
   "outputs": [
    {
     "name": "stdout",
     "output_type": "stream",
     "text": [
      "90.0\n",
      "90.0\n"
     ]
    }
   ],
   "source": [
    "q1 - 1.5* IQR #lower boundary\n",
    "\n",
    "q3 + 1.5 * IQR # upper boundary\n",
    "\n",
    "print(q1)\n",
    "print(q3)"
   ]
  }
 ],
 "metadata": {
  "kaggle": {
   "accelerator": "none",
   "dataSources": [
    {
     "datasetId": 4390452,
     "sourceId": 7539897,
     "sourceType": "datasetVersion"
    }
   ],
   "dockerImageVersionId": 30664,
   "isGpuEnabled": false,
   "isInternetEnabled": true,
   "language": "python",
   "sourceType": "notebook"
  },
  "kernelspec": {
   "display_name": "Python 3",
   "language": "python",
   "name": "python3"
  },
  "language_info": {
   "codemirror_mode": {
    "name": "ipython",
    "version": 3
   },
   "file_extension": ".py",
   "mimetype": "text/x-python",
   "name": "python",
   "nbconvert_exporter": "python",
   "pygments_lexer": "ipython3",
   "version": "3.10.13"
  },
  "papermill": {
   "default_parameters": {},
   "duration": 10.160589,
   "end_time": "2024-03-01T15:25:35.169925",
   "environment_variables": {},
   "exception": null,
   "input_path": "__notebook__.ipynb",
   "output_path": "__notebook__.ipynb",
   "parameters": {},
   "start_time": "2024-03-01T15:25:25.009336",
   "version": "2.5.0"
  }
 },
 "nbformat": 4,
 "nbformat_minor": 5
}
