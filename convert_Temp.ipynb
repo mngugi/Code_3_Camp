{
  "nbformat": 4,
  "nbformat_minor": 0,
  "metadata": {
    "colab": {
      "provenance": [],
      "authorship_tag": "ABX9TyNxYv248Bvyaxob8kSn7Foe",
      "include_colab_link": true
    },
    "kernelspec": {
      "name": "python3",
      "display_name": "Python 3"
    },
    "language_info": {
      "name": "python"
    }
  },
  "cells": [
    {
      "cell_type": "markdown",
      "metadata": {
        "id": "view-in-github",
        "colab_type": "text"
      },
      "source": [
        "<a href=\"https://colab.research.google.com/github/mngugi/Code_3_Camp/blob/main/convert_Temp.ipynb\" target=\"_parent\"><img src=\"https://colab.research.google.com/assets/colab-badge.svg\" alt=\"Open In Colab\"/></a>"
      ]
    },
    {
      "cell_type": "code",
      "execution_count": null,
      "metadata": {
        "id": "w5CGaSuY8rU2"
      },
      "outputs": [],
      "source": [
        "def convert_temperature(temperature, unit):\n",
        "  if unit == \"C\"\n",
        "\n",
        "  return (temperature )"
      ]
    }
  ]
}