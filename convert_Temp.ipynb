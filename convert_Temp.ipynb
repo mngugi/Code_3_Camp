{
  "nbformat": 4,
  "nbformat_minor": 0,
  "metadata": {
    "colab": {
      "provenance": [],
      "authorship_tag": "ABX9TyOJRQjUO/Enup0/yuPsT6db",
      "include_colab_link": true
    },
    "kernelspec": {
      "name": "python3",
      "display_name": "Python 3"
    },
    "language_info": {
      "name": "python"
    }
  },
  "cells": [
    {
      "cell_type": "markdown",
      "metadata": {
        "id": "view-in-github",
        "colab_type": "text"
      },
      "source": [
        "<a href=\"https://colab.research.google.com/github/mngugi/Code_3_Camp/blob/main/convert_Temp.ipynb\" target=\"_parent\"><img src=\"https://colab.research.google.com/assets/colab-badge.svg\" alt=\"Open In Colab\"/></a>"
      ]
    },
    {
      "cell_type": "code",
      "execution_count": 2,
      "metadata": {
        "colab": {
          "base_uri": "https://localhost:8080/"
        },
        "id": "w5CGaSuY8rU2",
        "outputId": "c37b0c51-a4dc-48b4-9118-86cbe97535de"
      },
      "outputs": [
        {
          "output_type": "stream",
          "name": "stdout",
          "text": [
            "30 degrees Celsius in Fahrenheit:  86.0\n",
            "86 degrees Fahrenheit in Celsius:  30.0\n"
          ]
        }
      ],
      "source": [
        "def convert_temperature(temperature, unit):\n",
        "  if unit == \"C\":\n",
        "\n",
        "      return (temperature * 9/5 ) + 32\n",
        "\n",
        "  elif unit == \"F\":\n",
        "      return (temperature - 32 ) * 5/9\n",
        "\n",
        "  else:\n",
        "      raise ValueError(\"Invalid unit. Please use 'C' for Celsius or 'F' for Fahrenheit\")\n",
        "\n",
        "celsius_to_fahrenheit = convert_temperature(30, \"C\")\n",
        "print(\"30 degrees Celsius in Fahrenheit: \", celsius_to_fahrenheit)\n",
        "\n",
        "\n",
        "fahrenheit_to_celsius = convert_temperature(86, \"F\")\n",
        "print(\"86 degrees Fahrenheit in Celsius: \", fahrenheit_to_celsius)\n",
        "\n"
      ]
    },
    {
      "cell_type": "code",
      "source": [
        "def is_palindrome(text):\n",
        "\n",
        "  cleaned_text = ''.join(char.lower() for char in text if char.isalnum())\n",
        "  return cleaned_text == cleaned_text[:: -1]\n",
        "\n",
        "print(is_palindrome(\"A man who eats , lizards , is call Panman\"))\n",
        "print(is_palindrome(\"Pancakeman\"))\n",
        "print(is_palindrome(\"Degit\"))\n"
      ],
      "metadata": {
        "colab": {
          "base_uri": "https://localhost:8080/"
        },
        "id": "Q-JEyEMwBVB2",
        "outputId": "49dcae2c-e665-4ccc-edbf-0151d9fb5055"
      },
      "execution_count": 3,
      "outputs": [
        {
          "output_type": "stream",
          "name": "stdout",
          "text": [
            "False\n",
            "False\n",
            "False\n"
          ]
        }
      ]
    }
  ]
}