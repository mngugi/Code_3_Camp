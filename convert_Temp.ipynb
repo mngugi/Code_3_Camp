{
  "nbformat": 4,
  "nbformat_minor": 0,
  "metadata": {
    "colab": {
      "provenance": [],
      "authorship_tag": "ABX9TyM37wHmazmXnA/bDbizpXx+",
      "include_colab_link": true
    },
    "kernelspec": {
      "name": "python3",
      "display_name": "Python 3"
    },
    "language_info": {
      "name": "python"
    }
  },
  "cells": [
    {
      "cell_type": "markdown",
      "metadata": {
        "id": "view-in-github",
        "colab_type": "text"
      },
      "source": [
        "<a href=\"https://colab.research.google.com/github/mngugi/Code_3_Camp/blob/main/convert_Temp.ipynb\" target=\"_parent\"><img src=\"https://colab.research.google.com/assets/colab-badge.svg\" alt=\"Open In Colab\"/></a>"
      ]
    },
    {
      "cell_type": "code",
      "execution_count": 2,
      "metadata": {
        "colab": {
          "base_uri": "https://localhost:8080/"
        },
        "id": "w5CGaSuY8rU2",
        "outputId": "c37b0c51-a4dc-48b4-9118-86cbe97535de"
      },
      "outputs": [
        {
          "output_type": "stream",
          "name": "stdout",
          "text": [
            "30 degrees Celsius in Fahrenheit:  86.0\n",
            "86 degrees Fahrenheit in Celsius:  30.0\n"
          ]
        }
      ],
      "source": [
        "def convert_temperature(temperature, unit):\n",
        "  if unit == \"C\":\n",
        "\n",
        "      return (temperature * 9/5 ) + 32\n",
        "\n",
        "  elif unit == \"F\":\n",
        "      return (temperature - 32 ) * 5/9\n",
        "\n",
        "  else:\n",
        "      raise ValueError(\"Invalid unit. Please use 'C' for Celsius or 'F' for Fahrenheit\")\n",
        "\n",
        "celsius_to_fahrenheit = convert_temperature(30, \"C\")\n",
        "print(\"30 degrees Celsius in Fahrenheit: \", celsius_to_fahrenheit)\n",
        "\n",
        "\n",
        "fahrenheit_to_celsius = convert_temperature(86, \"F\")\n",
        "print(\"86 degrees Fahrenheit in Celsius: \", fahrenheit_to_celsius)\n",
        "\n"
      ]
    }
  ]
}