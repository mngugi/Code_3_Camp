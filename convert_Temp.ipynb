{
 "cells": [
  {
   "cell_type": "markdown",
   "metadata": {
    "colab_type": "text",
    "id": "view-in-github"
   },
   "source": [
    "<a href=\"https://colab.research.google.com/github/mngugi/Code_3_Camp/blob/main/convert_Temp.ipynb\" target=\"_parent\"><img src=\"https://colab.research.google.com/assets/colab-badge.svg\" alt=\"Open In Colab\"/></a>"
   ]
  },
  {
   "cell_type": "code",
   "execution_count": 2,
   "metadata": {
    "colab": {
     "base_uri": "https://localhost:8080/"
    },
    "id": "w5CGaSuY8rU2",
    "outputId": "c37b0c51-a4dc-48b4-9118-86cbe97535de"
   },
   "outputs": [
    {
     "name": "stdout",
     "output_type": "stream",
     "text": [
      "30 degrees Celsius in Fahrenheit:  86.0\n",
      "86 degrees Fahrenheit in Celsius:  30.0\n"
     ]
    }
   ],
   "source": [
    "def convert_temperature(temperature, unit):\n",
    "  if unit == \"C\":\n",
    "\n",
    "      return (temperature * 9/5 ) + 32\n",
    "\n",
    "  elif unit == \"F\":\n",
    "      return (temperature - 32 ) * 5/9\n",
    "\n",
    "  else:\n",
    "      raise ValueError(\"Invalid unit. Please use 'C' for Celsius or 'F' for Fahrenheit\")\n",
    "\n",
    "celsius_to_fahrenheit = convert_temperature(30, \"C\")\n",
    "print(\"30 degrees Celsius in Fahrenheit: \", celsius_to_fahrenheit)\n",
    "\n",
    "\n",
    "fahrenheit_to_celsius = convert_temperature(86, \"F\")\n",
    "print(\"86 degrees Fahrenheit in Celsius: \", fahrenheit_to_celsius)\n",
    "\n"
   ]
  },
  {
   "cell_type": "code",
   "execution_count": 3,
   "metadata": {
    "colab": {
     "base_uri": "https://localhost:8080/"
    },
    "id": "Q-JEyEMwBVB2",
    "outputId": "49dcae2c-e665-4ccc-edbf-0151d9fb5055"
   },
   "outputs": [
    {
     "name": "stdout",
     "output_type": "stream",
     "text": [
      "False\n",
      "False\n",
      "False\n"
     ]
    }
   ],
   "source": [
    "def is_palindrome(text):\n",
    "\n",
    "  cleaned_text = ''.join(char.lower() for char in text if char.isalnum())\n",
    "  return cleaned_text == cleaned_text[:: -1]\n",
    "\n",
    "print(is_palindrome(\"A man who eats , lizards , is call Panman\"))\n",
    "print(is_palindrome(\"Pancakeman\"))\n",
    "print(is_palindrome(\"Degit\"))\n"
   ]
  },
  {
   "cell_type": "code",
   "execution_count": 4,
   "metadata": {
    "colab": {
     "base_uri": "https://localhost:8080/"
    },
    "id": "trpGYC4kDA36",
    "outputId": "7ab2a1d0-7a14-4218-886e-5f5121f44eb8"
   },
   "outputs": [
    {
     "name": "stdout",
     "output_type": "stream",
     "text": [
      "True\n",
      "True\n",
      "False\n"
     ]
    }
   ],
   "source": [
    "def is_palindrome(text):\n",
    "    # Convert text to lowercase and remove spaces and punctuation\n",
    "    cleaned_text = ''.join(char.lower() for char in text if char.isalnum())\n",
    "    # Check if the cleaned text is equal to its reverse\n",
    "    return cleaned_text == cleaned_text[::-1]\n",
    "\n",
    "# Example usage:\n",
    "print(is_palindrome(\"A man, a plan, a canal, Panama\"))  # Output: True\n",
    "print(is_palindrome(\"Racecar\"))  # Output: True\n",
    "print(is_palindrome(\"Hello\"))  # Output: False\n"
   ]
  }
 ],
 "metadata": {
  "colab": {
   "authorship_tag": "ABX9TyMCvxPiv10Uhgm9J1ZbkSVE",
   "include_colab_link": true,
   "provenance": []
  },
  "kernelspec": {
   "display_name": "Python 3 (ipykernel)",
   "language": "python",
   "name": "python3"
  },
  "language_info": {
   "codemirror_mode": {
    "name": "ipython",
    "version": 3
   },
   "file_extension": ".py",
   "mimetype": "text/x-python",
   "name": "python",
   "nbconvert_exporter": "python",
   "pygments_lexer": "ipython3",
   "version": "3.12.7"
  }
 },
 "nbformat": 4,
 "nbformat_minor": 4
}
