{
  "nbformat": 4,
  "nbformat_minor": 0,
  "metadata": {
    "colab": {
      "provenance": [],
      "authorship_tag": "ABX9TyOqy4xYfH1t8PUhMFPwX0ql",
      "include_colab_link": true
    },
    "kernelspec": {
      "name": "python3",
      "display_name": "Python 3"
    },
    "language_info": {
      "name": "python"
    }
  },
  "cells": [
    {
      "cell_type": "markdown",
      "metadata": {
        "id": "view-in-github",
        "colab_type": "text"
      },
      "source": [
        "<a href=\"https://colab.research.google.com/github/mngugi/Code_3_Camp/blob/main/FinData.ipynb\" target=\"_parent\"><img src=\"https://colab.research.google.com/assets/colab-badge.svg\" alt=\"Open In Colab\"/></a>"
      ]
    },
    {
      "cell_type": "code",
      "execution_count": null,
      "metadata": {
        "id": "H3UyrPdVOMfI"
      },
      "outputs": [],
      "source": [
        "import numpy as np\n",
        "\n",
        "financial_data = np.array([[100, 5, 500, 0.02], [120, 6, 550, 0.015],[90, 4, 480, 0.025]]).\n"
      ]
    },
    {
      "cell_type": "code",
      "source": [
        "import numpy as np\n",
        "\n",
        "financial_data = np.array([[100, 5, 500, 0.02], [120, 6, 550, 0.015], [90, 4, 480, 0.025]])\n",
        "\n",
        "# Transpose the data to have features in columns\n",
        "financial_data_transposed = financial_data.T\n",
        "\n",
        "# Calculate the covariance matrix\n",
        "covariance_matrix = np.cov(financial_data_transposed)\n",
        "\n",
        "print(\"Covariance Matrix:\")\n",
        "print(covariance_matrix)\n"
      ],
      "metadata": {
        "colab": {
          "base_uri": "https://localhost:8080/"
        },
        "id": "aYOoLbQkOmeS",
        "outputId": "f02f5460-3580-4484-97f3-862b31a7b730"
      },
      "execution_count": 1,
      "outputs": [
        {
          "output_type": "stream",
          "name": "stdout",
          "text": [
            "Covariance Matrix:\n",
            "[[ 2.33333333e+02  1.50000000e+01  5.50000000e+02 -7.50000000e-02]\n",
            " [ 1.50000000e+01  1.00000000e+00  3.50000000e+01 -5.00000000e-03]\n",
            " [ 5.50000000e+02  3.50000000e+01  1.30000000e+03 -1.75000000e-01]\n",
            " [-7.50000000e-02 -5.00000000e-03 -1.75000000e-01  2.50000000e-05]]\n"
          ]
        }
      ]
    }
  ]
}