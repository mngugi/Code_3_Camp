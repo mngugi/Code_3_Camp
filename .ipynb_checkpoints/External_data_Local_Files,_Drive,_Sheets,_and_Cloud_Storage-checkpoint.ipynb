{
  "cells": [
    {
      "cell_type": "markdown",
      "metadata": {
        "id": "view-in-github",
        "colab_type": "text"
      },
      "source": [
        "<a href=\"https://colab.research.google.com/github/mngugi/Code_3_Camp/blob/main/External_data_Local_Files%2C_Drive%2C_Sheets%2C_and_Cloud_Storage.ipynb\" target=\"_parent\"><img src=\"https://colab.research.google.com/assets/colab-badge.svg\" alt=\"Open In Colab\"/></a>"
      ]
    },
    {
      "cell_type": "markdown",
      "metadata": {
        "id": "7Z2jcRKwUHqV"
      },
      "source": [
        "This notebook provides recipes for loading and saving data from external sources."
      ]
    },
    {
      "cell_type": "code",
      "source": [
        "from google.colab import files\n",
        "\n",
        "upload = files.upload()\n"
      ],
      "metadata": {
        "id": "x7XH8u3Gvo92",
        "outputId": "5b0a8737-5a76-4a40-ae8d-3521a3225f06",
        "colab": {
          "base_uri": "https://localhost:8080/",
          "height": 73
        }
      },
      "execution_count": 1,
      "outputs": [
        {
          "output_type": "display_data",
          "data": {
            "text/plain": [
              "<IPython.core.display.HTML object>"
            ],
            "text/html": [
              "\n",
              "     <input type=\"file\" id=\"files-8397e54c-3b34-434a-a396-37b80faf7ee1\" name=\"files[]\" multiple disabled\n",
              "        style=\"border:none\" />\n",
              "     <output id=\"result-8397e54c-3b34-434a-a396-37b80faf7ee1\">\n",
              "      Upload widget is only available when the cell has been executed in the\n",
              "      current browser session. Please rerun this cell to enable.\n",
              "      </output>\n",
              "      <script>// Copyright 2017 Google LLC\n",
              "//\n",
              "// Licensed under the Apache License, Version 2.0 (the \"License\");\n",
              "// you may not use this file except in compliance with the License.\n",
              "// You may obtain a copy of the License at\n",
              "//\n",
              "//      http://www.apache.org/licenses/LICENSE-2.0\n",
              "//\n",
              "// Unless required by applicable law or agreed to in writing, software\n",
              "// distributed under the License is distributed on an \"AS IS\" BASIS,\n",
              "// WITHOUT WARRANTIES OR CONDITIONS OF ANY KIND, either express or implied.\n",
              "// See the License for the specific language governing permissions and\n",
              "// limitations under the License.\n",
              "\n",
              "/**\n",
              " * @fileoverview Helpers for google.colab Python module.\n",
              " */\n",
              "(function(scope) {\n",
              "function span(text, styleAttributes = {}) {\n",
              "  const element = document.createElement('span');\n",
              "  element.textContent = text;\n",
              "  for (const key of Object.keys(styleAttributes)) {\n",
              "    element.style[key] = styleAttributes[key];\n",
              "  }\n",
              "  return element;\n",
              "}\n",
              "\n",
              "// Max number of bytes which will be uploaded at a time.\n",
              "const MAX_PAYLOAD_SIZE = 100 * 1024;\n",
              "\n",
              "function _uploadFiles(inputId, outputId) {\n",
              "  const steps = uploadFilesStep(inputId, outputId);\n",
              "  const outputElement = document.getElementById(outputId);\n",
              "  // Cache steps on the outputElement to make it available for the next call\n",
              "  // to uploadFilesContinue from Python.\n",
              "  outputElement.steps = steps;\n",
              "\n",
              "  return _uploadFilesContinue(outputId);\n",
              "}\n",
              "\n",
              "// This is roughly an async generator (not supported in the browser yet),\n",
              "// where there are multiple asynchronous steps and the Python side is going\n",
              "// to poll for completion of each step.\n",
              "// This uses a Promise to block the python side on completion of each step,\n",
              "// then passes the result of the previous step as the input to the next step.\n",
              "function _uploadFilesContinue(outputId) {\n",
              "  const outputElement = document.getElementById(outputId);\n",
              "  const steps = outputElement.steps;\n",
              "\n",
              "  const next = steps.next(outputElement.lastPromiseValue);\n",
              "  return Promise.resolve(next.value.promise).then((value) => {\n",
              "    // Cache the last promise value to make it available to the next\n",
              "    // step of the generator.\n",
              "    outputElement.lastPromiseValue = value;\n",
              "    return next.value.response;\n",
              "  });\n",
              "}\n",
              "\n",
              "/**\n",
              " * Generator function which is called between each async step of the upload\n",
              " * process.\n",
              " * @param {string} inputId Element ID of the input file picker element.\n",
              " * @param {string} outputId Element ID of the output display.\n",
              " * @return {!Iterable<!Object>} Iterable of next steps.\n",
              " */\n",
              "function* uploadFilesStep(inputId, outputId) {\n",
              "  const inputElement = document.getElementById(inputId);\n",
              "  inputElement.disabled = false;\n",
              "\n",
              "  const outputElement = document.getElementById(outputId);\n",
              "  outputElement.innerHTML = '';\n",
              "\n",
              "  const pickedPromise = new Promise((resolve) => {\n",
              "    inputElement.addEventListener('change', (e) => {\n",
              "      resolve(e.target.files);\n",
              "    });\n",
              "  });\n",
              "\n",
              "  const cancel = document.createElement('button');\n",
              "  inputElement.parentElement.appendChild(cancel);\n",
              "  cancel.textContent = 'Cancel upload';\n",
              "  const cancelPromise = new Promise((resolve) => {\n",
              "    cancel.onclick = () => {\n",
              "      resolve(null);\n",
              "    };\n",
              "  });\n",
              "\n",
              "  // Wait for the user to pick the files.\n",
              "  const files = yield {\n",
              "    promise: Promise.race([pickedPromise, cancelPromise]),\n",
              "    response: {\n",
              "      action: 'starting',\n",
              "    }\n",
              "  };\n",
              "\n",
              "  cancel.remove();\n",
              "\n",
              "  // Disable the input element since further picks are not allowed.\n",
              "  inputElement.disabled = true;\n",
              "\n",
              "  if (!files) {\n",
              "    return {\n",
              "      response: {\n",
              "        action: 'complete',\n",
              "      }\n",
              "    };\n",
              "  }\n",
              "\n",
              "  for (const file of files) {\n",
              "    const li = document.createElement('li');\n",
              "    li.append(span(file.name, {fontWeight: 'bold'}));\n",
              "    li.append(span(\n",
              "        `(${file.type || 'n/a'}) - ${file.size} bytes, ` +\n",
              "        `last modified: ${\n",
              "            file.lastModifiedDate ? file.lastModifiedDate.toLocaleDateString() :\n",
              "                                    'n/a'} - `));\n",
              "    const percent = span('0% done');\n",
              "    li.appendChild(percent);\n",
              "\n",
              "    outputElement.appendChild(li);\n",
              "\n",
              "    const fileDataPromise = new Promise((resolve) => {\n",
              "      const reader = new FileReader();\n",
              "      reader.onload = (e) => {\n",
              "        resolve(e.target.result);\n",
              "      };\n",
              "      reader.readAsArrayBuffer(file);\n",
              "    });\n",
              "    // Wait for the data to be ready.\n",
              "    let fileData = yield {\n",
              "      promise: fileDataPromise,\n",
              "      response: {\n",
              "        action: 'continue',\n",
              "      }\n",
              "    };\n",
              "\n",
              "    // Use a chunked sending to avoid message size limits. See b/62115660.\n",
              "    let position = 0;\n",
              "    do {\n",
              "      const length = Math.min(fileData.byteLength - position, MAX_PAYLOAD_SIZE);\n",
              "      const chunk = new Uint8Array(fileData, position, length);\n",
              "      position += length;\n",
              "\n",
              "      const base64 = btoa(String.fromCharCode.apply(null, chunk));\n",
              "      yield {\n",
              "        response: {\n",
              "          action: 'append',\n",
              "          file: file.name,\n",
              "          data: base64,\n",
              "        },\n",
              "      };\n",
              "\n",
              "      let percentDone = fileData.byteLength === 0 ?\n",
              "          100 :\n",
              "          Math.round((position / fileData.byteLength) * 100);\n",
              "      percent.textContent = `${percentDone}% done`;\n",
              "\n",
              "    } while (position < fileData.byteLength);\n",
              "  }\n",
              "\n",
              "  // All done.\n",
              "  yield {\n",
              "    response: {\n",
              "      action: 'complete',\n",
              "    }\n",
              "  };\n",
              "}\n",
              "\n",
              "scope.google = scope.google || {};\n",
              "scope.google.colab = scope.google.colab || {};\n",
              "scope.google.colab._files = {\n",
              "  _uploadFiles,\n",
              "  _uploadFilesContinue,\n",
              "};\n",
              "})(self);\n",
              "</script> "
            ]
          },
          "metadata": {}
        },
        {
          "output_type": "stream",
          "name": "stdout",
          "text": [
            "Saving FastFoodNutritionMenuV2.csv to FastFoodNutritionMenuV2.csv\n"
          ]
        }
      ]
    },
    {
      "cell_type": "code",
      "source": [
        "import pandas as pd\n",
        "\n",
        "dt = pd.read_csv('FastFoodNutritionMenuV2.csv')\n",
        "dt"
      ],
      "metadata": {
        "id": "P4hrVc70wQPS",
        "outputId": "1b87f8bf-79dd-4180-de8c-5ae8aafbda06",
        "colab": {
          "base_uri": "https://localhost:8080/",
          "height": 843
        }
      },
      "execution_count": 3,
      "outputs": [
        {
          "output_type": "execute_result",
          "data": {
            "text/plain": [
              "         Company                                               Item Calories  \\\n",
              "0     McDonald’s                                          Hamburger      250   \n",
              "1     McDonald’s                                       Cheeseburger      300   \n",
              "2     McDonald’s                                Double Cheeseburger      440   \n",
              "3     McDonald’s                                           McDouble      390   \n",
              "4     McDonald’s                       Quarter Pounder® with Cheese      510   \n",
              "...          ...                                                ...      ...   \n",
              "1143   Pizza Hut  Hand Tossed Slices Ultimate Cheese Lover’s® Me...      230   \n",
              "1144   Pizza Hut  Hand Tossed Slices Ultimate Cheese Lover’s® Large      310   \n",
              "1145   Pizza Hut           Hand Tossed Slices Veggie Lover’s® Small      120   \n",
              "1146   Pizza Hut          Hand Tossed Slices Veggie Lover’s® Medium      200   \n",
              "1147   Pizza Hut           Hand Tossed Slices Veggie Lover’s® Large      260   \n",
              "\n",
              "     Calories from\\nFat Total Fat\\n(g) Saturated Fat\\n(g) Trans Fat\\n(g)  \\\n",
              "0                    80              9                3.5            0.5   \n",
              "1                   110             12                  6            0.5   \n",
              "2                   210             23                 11            1.5   \n",
              "3                   170             19                  8              1   \n",
              "4                   230             26                 12            1.5   \n",
              "...                 ...            ...                ...            ...   \n",
              "1143                NaN             10                4.5              0   \n",
              "1144                NaN             13                  6              0   \n",
              "1145                NaN              4                1.5              0   \n",
              "1146                NaN              6                2.5              0   \n",
              "1147                NaN              9                  4              0   \n",
              "\n",
              "     Cholesterol\\n(mg) Sodium \\n(mg) Carbs\\n(g) Fiber\\n(g) Sugars\\n(g)  \\\n",
              "0                   25           520         31          2           6   \n",
              "1                   40           750         33          2           6   \n",
              "2                   80          1150         34          2           7   \n",
              "3                   65           920         33          2           7   \n",
              "4                   90          1190         40          3           9   \n",
              "...                ...           ...        ...        ...         ...   \n",
              "1143                25           390         25          2           1   \n",
              "1144                35           540         33          2           1   \n",
              "1145                10           230         17          1           1   \n",
              "1146                15           370         27          2           2   \n",
              "1147                20           510         36          3           3   \n",
              "\n",
              "     Protein\\n(g) Weight Watchers\\nPnts  \n",
              "0              12                 247.5  \n",
              "1              15                   297  \n",
              "2              25                   433  \n",
              "3              22                   383  \n",
              "4              29                   502  \n",
              "...           ...                   ...  \n",
              "1143           11                   NaN  \n",
              "1144           15                   NaN  \n",
              "1145            5                   NaN  \n",
              "1146            8                   NaN  \n",
              "1147           11                   NaN  \n",
              "\n",
              "[1148 rows x 14 columns]"
            ],
            "text/html": [
              "\n",
              "  <div id=\"df-75a0c4de-3597-4916-9399-3eff4a6bafb1\" class=\"colab-df-container\">\n",
              "    <div>\n",
              "<style scoped>\n",
              "    .dataframe tbody tr th:only-of-type {\n",
              "        vertical-align: middle;\n",
              "    }\n",
              "\n",
              "    .dataframe tbody tr th {\n",
              "        vertical-align: top;\n",
              "    }\n",
              "\n",
              "    .dataframe thead th {\n",
              "        text-align: right;\n",
              "    }\n",
              "</style>\n",
              "<table border=\"1\" class=\"dataframe\">\n",
              "  <thead>\n",
              "    <tr style=\"text-align: right;\">\n",
              "      <th></th>\n",
              "      <th>Company</th>\n",
              "      <th>Item</th>\n",
              "      <th>Calories</th>\n",
              "      <th>Calories from\\nFat</th>\n",
              "      <th>Total Fat\\n(g)</th>\n",
              "      <th>Saturated Fat\\n(g)</th>\n",
              "      <th>Trans Fat\\n(g)</th>\n",
              "      <th>Cholesterol\\n(mg)</th>\n",
              "      <th>Sodium \\n(mg)</th>\n",
              "      <th>Carbs\\n(g)</th>\n",
              "      <th>Fiber\\n(g)</th>\n",
              "      <th>Sugars\\n(g)</th>\n",
              "      <th>Protein\\n(g)</th>\n",
              "      <th>Weight Watchers\\nPnts</th>\n",
              "    </tr>\n",
              "  </thead>\n",
              "  <tbody>\n",
              "    <tr>\n",
              "      <th>0</th>\n",
              "      <td>McDonald’s</td>\n",
              "      <td>Hamburger</td>\n",
              "      <td>250</td>\n",
              "      <td>80</td>\n",
              "      <td>9</td>\n",
              "      <td>3.5</td>\n",
              "      <td>0.5</td>\n",
              "      <td>25</td>\n",
              "      <td>520</td>\n",
              "      <td>31</td>\n",
              "      <td>2</td>\n",
              "      <td>6</td>\n",
              "      <td>12</td>\n",
              "      <td>247.5</td>\n",
              "    </tr>\n",
              "    <tr>\n",
              "      <th>1</th>\n",
              "      <td>McDonald’s</td>\n",
              "      <td>Cheeseburger</td>\n",
              "      <td>300</td>\n",
              "      <td>110</td>\n",
              "      <td>12</td>\n",
              "      <td>6</td>\n",
              "      <td>0.5</td>\n",
              "      <td>40</td>\n",
              "      <td>750</td>\n",
              "      <td>33</td>\n",
              "      <td>2</td>\n",
              "      <td>6</td>\n",
              "      <td>15</td>\n",
              "      <td>297</td>\n",
              "    </tr>\n",
              "    <tr>\n",
              "      <th>2</th>\n",
              "      <td>McDonald’s</td>\n",
              "      <td>Double Cheeseburger</td>\n",
              "      <td>440</td>\n",
              "      <td>210</td>\n",
              "      <td>23</td>\n",
              "      <td>11</td>\n",
              "      <td>1.5</td>\n",
              "      <td>80</td>\n",
              "      <td>1150</td>\n",
              "      <td>34</td>\n",
              "      <td>2</td>\n",
              "      <td>7</td>\n",
              "      <td>25</td>\n",
              "      <td>433</td>\n",
              "    </tr>\n",
              "    <tr>\n",
              "      <th>3</th>\n",
              "      <td>McDonald’s</td>\n",
              "      <td>McDouble</td>\n",
              "      <td>390</td>\n",
              "      <td>170</td>\n",
              "      <td>19</td>\n",
              "      <td>8</td>\n",
              "      <td>1</td>\n",
              "      <td>65</td>\n",
              "      <td>920</td>\n",
              "      <td>33</td>\n",
              "      <td>2</td>\n",
              "      <td>7</td>\n",
              "      <td>22</td>\n",
              "      <td>383</td>\n",
              "    </tr>\n",
              "    <tr>\n",
              "      <th>4</th>\n",
              "      <td>McDonald’s</td>\n",
              "      <td>Quarter Pounder® with Cheese</td>\n",
              "      <td>510</td>\n",
              "      <td>230</td>\n",
              "      <td>26</td>\n",
              "      <td>12</td>\n",
              "      <td>1.5</td>\n",
              "      <td>90</td>\n",
              "      <td>1190</td>\n",
              "      <td>40</td>\n",
              "      <td>3</td>\n",
              "      <td>9</td>\n",
              "      <td>29</td>\n",
              "      <td>502</td>\n",
              "    </tr>\n",
              "    <tr>\n",
              "      <th>...</th>\n",
              "      <td>...</td>\n",
              "      <td>...</td>\n",
              "      <td>...</td>\n",
              "      <td>...</td>\n",
              "      <td>...</td>\n",
              "      <td>...</td>\n",
              "      <td>...</td>\n",
              "      <td>...</td>\n",
              "      <td>...</td>\n",
              "      <td>...</td>\n",
              "      <td>...</td>\n",
              "      <td>...</td>\n",
              "      <td>...</td>\n",
              "      <td>...</td>\n",
              "    </tr>\n",
              "    <tr>\n",
              "      <th>1143</th>\n",
              "      <td>Pizza Hut</td>\n",
              "      <td>Hand Tossed Slices Ultimate Cheese Lover’s® Me...</td>\n",
              "      <td>230</td>\n",
              "      <td>NaN</td>\n",
              "      <td>10</td>\n",
              "      <td>4.5</td>\n",
              "      <td>0</td>\n",
              "      <td>25</td>\n",
              "      <td>390</td>\n",
              "      <td>25</td>\n",
              "      <td>2</td>\n",
              "      <td>1</td>\n",
              "      <td>11</td>\n",
              "      <td>NaN</td>\n",
              "    </tr>\n",
              "    <tr>\n",
              "      <th>1144</th>\n",
              "      <td>Pizza Hut</td>\n",
              "      <td>Hand Tossed Slices Ultimate Cheese Lover’s® Large</td>\n",
              "      <td>310</td>\n",
              "      <td>NaN</td>\n",
              "      <td>13</td>\n",
              "      <td>6</td>\n",
              "      <td>0</td>\n",
              "      <td>35</td>\n",
              "      <td>540</td>\n",
              "      <td>33</td>\n",
              "      <td>2</td>\n",
              "      <td>1</td>\n",
              "      <td>15</td>\n",
              "      <td>NaN</td>\n",
              "    </tr>\n",
              "    <tr>\n",
              "      <th>1145</th>\n",
              "      <td>Pizza Hut</td>\n",
              "      <td>Hand Tossed Slices Veggie Lover’s® Small</td>\n",
              "      <td>120</td>\n",
              "      <td>NaN</td>\n",
              "      <td>4</td>\n",
              "      <td>1.5</td>\n",
              "      <td>0</td>\n",
              "      <td>10</td>\n",
              "      <td>230</td>\n",
              "      <td>17</td>\n",
              "      <td>1</td>\n",
              "      <td>1</td>\n",
              "      <td>5</td>\n",
              "      <td>NaN</td>\n",
              "    </tr>\n",
              "    <tr>\n",
              "      <th>1146</th>\n",
              "      <td>Pizza Hut</td>\n",
              "      <td>Hand Tossed Slices Veggie Lover’s® Medium</td>\n",
              "      <td>200</td>\n",
              "      <td>NaN</td>\n",
              "      <td>6</td>\n",
              "      <td>2.5</td>\n",
              "      <td>0</td>\n",
              "      <td>15</td>\n",
              "      <td>370</td>\n",
              "      <td>27</td>\n",
              "      <td>2</td>\n",
              "      <td>2</td>\n",
              "      <td>8</td>\n",
              "      <td>NaN</td>\n",
              "    </tr>\n",
              "    <tr>\n",
              "      <th>1147</th>\n",
              "      <td>Pizza Hut</td>\n",
              "      <td>Hand Tossed Slices Veggie Lover’s® Large</td>\n",
              "      <td>260</td>\n",
              "      <td>NaN</td>\n",
              "      <td>9</td>\n",
              "      <td>4</td>\n",
              "      <td>0</td>\n",
              "      <td>20</td>\n",
              "      <td>510</td>\n",
              "      <td>36</td>\n",
              "      <td>3</td>\n",
              "      <td>3</td>\n",
              "      <td>11</td>\n",
              "      <td>NaN</td>\n",
              "    </tr>\n",
              "  </tbody>\n",
              "</table>\n",
              "<p>1148 rows × 14 columns</p>\n",
              "</div>\n",
              "    <div class=\"colab-df-buttons\">\n",
              "\n",
              "  <div class=\"colab-df-container\">\n",
              "    <button class=\"colab-df-convert\" onclick=\"convertToInteractive('df-75a0c4de-3597-4916-9399-3eff4a6bafb1')\"\n",
              "            title=\"Convert this dataframe to an interactive table.\"\n",
              "            style=\"display:none;\">\n",
              "\n",
              "  <svg xmlns=\"http://www.w3.org/2000/svg\" height=\"24px\" viewBox=\"0 -960 960 960\">\n",
              "    <path d=\"M120-120v-720h720v720H120Zm60-500h600v-160H180v160Zm220 220h160v-160H400v160Zm0 220h160v-160H400v160ZM180-400h160v-160H180v160Zm440 0h160v-160H620v160ZM180-180h160v-160H180v160Zm440 0h160v-160H620v160Z\"/>\n",
              "  </svg>\n",
              "    </button>\n",
              "\n",
              "  <style>\n",
              "    .colab-df-container {\n",
              "      display:flex;\n",
              "      gap: 12px;\n",
              "    }\n",
              "\n",
              "    .colab-df-convert {\n",
              "      background-color: #E8F0FE;\n",
              "      border: none;\n",
              "      border-radius: 50%;\n",
              "      cursor: pointer;\n",
              "      display: none;\n",
              "      fill: #1967D2;\n",
              "      height: 32px;\n",
              "      padding: 0 0 0 0;\n",
              "      width: 32px;\n",
              "    }\n",
              "\n",
              "    .colab-df-convert:hover {\n",
              "      background-color: #E2EBFA;\n",
              "      box-shadow: 0px 1px 2px rgba(60, 64, 67, 0.3), 0px 1px 3px 1px rgba(60, 64, 67, 0.15);\n",
              "      fill: #174EA6;\n",
              "    }\n",
              "\n",
              "    .colab-df-buttons div {\n",
              "      margin-bottom: 4px;\n",
              "    }\n",
              "\n",
              "    [theme=dark] .colab-df-convert {\n",
              "      background-color: #3B4455;\n",
              "      fill: #D2E3FC;\n",
              "    }\n",
              "\n",
              "    [theme=dark] .colab-df-convert:hover {\n",
              "      background-color: #434B5C;\n",
              "      box-shadow: 0px 1px 3px 1px rgba(0, 0, 0, 0.15);\n",
              "      filter: drop-shadow(0px 1px 2px rgba(0, 0, 0, 0.3));\n",
              "      fill: #FFFFFF;\n",
              "    }\n",
              "  </style>\n",
              "\n",
              "    <script>\n",
              "      const buttonEl =\n",
              "        document.querySelector('#df-75a0c4de-3597-4916-9399-3eff4a6bafb1 button.colab-df-convert');\n",
              "      buttonEl.style.display =\n",
              "        google.colab.kernel.accessAllowed ? 'block' : 'none';\n",
              "\n",
              "      async function convertToInteractive(key) {\n",
              "        const element = document.querySelector('#df-75a0c4de-3597-4916-9399-3eff4a6bafb1');\n",
              "        const dataTable =\n",
              "          await google.colab.kernel.invokeFunction('convertToInteractive',\n",
              "                                                    [key], {});\n",
              "        if (!dataTable) return;\n",
              "\n",
              "        const docLinkHtml = 'Like what you see? Visit the ' +\n",
              "          '<a target=\"_blank\" href=https://colab.research.google.com/notebooks/data_table.ipynb>data table notebook</a>'\n",
              "          + ' to learn more about interactive tables.';\n",
              "        element.innerHTML = '';\n",
              "        dataTable['output_type'] = 'display_data';\n",
              "        await google.colab.output.renderOutput(dataTable, element);\n",
              "        const docLink = document.createElement('div');\n",
              "        docLink.innerHTML = docLinkHtml;\n",
              "        element.appendChild(docLink);\n",
              "      }\n",
              "    </script>\n",
              "  </div>\n",
              "\n",
              "\n",
              "<div id=\"df-ef0dcde7-8acd-448f-b5f0-cb88182b7996\">\n",
              "  <button class=\"colab-df-quickchart\" onclick=\"quickchart('df-ef0dcde7-8acd-448f-b5f0-cb88182b7996')\"\n",
              "            title=\"Suggest charts\"\n",
              "            style=\"display:none;\">\n",
              "\n",
              "<svg xmlns=\"http://www.w3.org/2000/svg\" height=\"24px\"viewBox=\"0 0 24 24\"\n",
              "     width=\"24px\">\n",
              "    <g>\n",
              "        <path d=\"M19 3H5c-1.1 0-2 .9-2 2v14c0 1.1.9 2 2 2h14c1.1 0 2-.9 2-2V5c0-1.1-.9-2-2-2zM9 17H7v-7h2v7zm4 0h-2V7h2v10zm4 0h-2v-4h2v4z\"/>\n",
              "    </g>\n",
              "</svg>\n",
              "  </button>\n",
              "\n",
              "<style>\n",
              "  .colab-df-quickchart {\n",
              "      --bg-color: #E8F0FE;\n",
              "      --fill-color: #1967D2;\n",
              "      --hover-bg-color: #E2EBFA;\n",
              "      --hover-fill-color: #174EA6;\n",
              "      --disabled-fill-color: #AAA;\n",
              "      --disabled-bg-color: #DDD;\n",
              "  }\n",
              "\n",
              "  [theme=dark] .colab-df-quickchart {\n",
              "      --bg-color: #3B4455;\n",
              "      --fill-color: #D2E3FC;\n",
              "      --hover-bg-color: #434B5C;\n",
              "      --hover-fill-color: #FFFFFF;\n",
              "      --disabled-bg-color: #3B4455;\n",
              "      --disabled-fill-color: #666;\n",
              "  }\n",
              "\n",
              "  .colab-df-quickchart {\n",
              "    background-color: var(--bg-color);\n",
              "    border: none;\n",
              "    border-radius: 50%;\n",
              "    cursor: pointer;\n",
              "    display: none;\n",
              "    fill: var(--fill-color);\n",
              "    height: 32px;\n",
              "    padding: 0;\n",
              "    width: 32px;\n",
              "  }\n",
              "\n",
              "  .colab-df-quickchart:hover {\n",
              "    background-color: var(--hover-bg-color);\n",
              "    box-shadow: 0 1px 2px rgba(60, 64, 67, 0.3), 0 1px 3px 1px rgba(60, 64, 67, 0.15);\n",
              "    fill: var(--button-hover-fill-color);\n",
              "  }\n",
              "\n",
              "  .colab-df-quickchart-complete:disabled,\n",
              "  .colab-df-quickchart-complete:disabled:hover {\n",
              "    background-color: var(--disabled-bg-color);\n",
              "    fill: var(--disabled-fill-color);\n",
              "    box-shadow: none;\n",
              "  }\n",
              "\n",
              "  .colab-df-spinner {\n",
              "    border: 2px solid var(--fill-color);\n",
              "    border-color: transparent;\n",
              "    border-bottom-color: var(--fill-color);\n",
              "    animation:\n",
              "      spin 1s steps(1) infinite;\n",
              "  }\n",
              "\n",
              "  @keyframes spin {\n",
              "    0% {\n",
              "      border-color: transparent;\n",
              "      border-bottom-color: var(--fill-color);\n",
              "      border-left-color: var(--fill-color);\n",
              "    }\n",
              "    20% {\n",
              "      border-color: transparent;\n",
              "      border-left-color: var(--fill-color);\n",
              "      border-top-color: var(--fill-color);\n",
              "    }\n",
              "    30% {\n",
              "      border-color: transparent;\n",
              "      border-left-color: var(--fill-color);\n",
              "      border-top-color: var(--fill-color);\n",
              "      border-right-color: var(--fill-color);\n",
              "    }\n",
              "    40% {\n",
              "      border-color: transparent;\n",
              "      border-right-color: var(--fill-color);\n",
              "      border-top-color: var(--fill-color);\n",
              "    }\n",
              "    60% {\n",
              "      border-color: transparent;\n",
              "      border-right-color: var(--fill-color);\n",
              "    }\n",
              "    80% {\n",
              "      border-color: transparent;\n",
              "      border-right-color: var(--fill-color);\n",
              "      border-bottom-color: var(--fill-color);\n",
              "    }\n",
              "    90% {\n",
              "      border-color: transparent;\n",
              "      border-bottom-color: var(--fill-color);\n",
              "    }\n",
              "  }\n",
              "</style>\n",
              "\n",
              "  <script>\n",
              "    async function quickchart(key) {\n",
              "      const quickchartButtonEl =\n",
              "        document.querySelector('#' + key + ' button');\n",
              "      quickchartButtonEl.disabled = true;  // To prevent multiple clicks.\n",
              "      quickchartButtonEl.classList.add('colab-df-spinner');\n",
              "      try {\n",
              "        const charts = await google.colab.kernel.invokeFunction(\n",
              "            'suggestCharts', [key], {});\n",
              "      } catch (error) {\n",
              "        console.error('Error during call to suggestCharts:', error);\n",
              "      }\n",
              "      quickchartButtonEl.classList.remove('colab-df-spinner');\n",
              "      quickchartButtonEl.classList.add('colab-df-quickchart-complete');\n",
              "    }\n",
              "    (() => {\n",
              "      let quickchartButtonEl =\n",
              "        document.querySelector('#df-ef0dcde7-8acd-448f-b5f0-cb88182b7996 button');\n",
              "      quickchartButtonEl.style.display =\n",
              "        google.colab.kernel.accessAllowed ? 'block' : 'none';\n",
              "    })();\n",
              "  </script>\n",
              "</div>\n",
              "\n",
              "  <div id=\"id_80eef70b-f586-493d-9e0f-16ac3017490d\">\n",
              "    <style>\n",
              "      .colab-df-generate {\n",
              "        background-color: #E8F0FE;\n",
              "        border: none;\n",
              "        border-radius: 50%;\n",
              "        cursor: pointer;\n",
              "        display: none;\n",
              "        fill: #1967D2;\n",
              "        height: 32px;\n",
              "        padding: 0 0 0 0;\n",
              "        width: 32px;\n",
              "      }\n",
              "\n",
              "      .colab-df-generate:hover {\n",
              "        background-color: #E2EBFA;\n",
              "        box-shadow: 0px 1px 2px rgba(60, 64, 67, 0.3), 0px 1px 3px 1px rgba(60, 64, 67, 0.15);\n",
              "        fill: #174EA6;\n",
              "      }\n",
              "\n",
              "      [theme=dark] .colab-df-generate {\n",
              "        background-color: #3B4455;\n",
              "        fill: #D2E3FC;\n",
              "      }\n",
              "\n",
              "      [theme=dark] .colab-df-generate:hover {\n",
              "        background-color: #434B5C;\n",
              "        box-shadow: 0px 1px 3px 1px rgba(0, 0, 0, 0.15);\n",
              "        filter: drop-shadow(0px 1px 2px rgba(0, 0, 0, 0.3));\n",
              "        fill: #FFFFFF;\n",
              "      }\n",
              "    </style>\n",
              "    <button class=\"colab-df-generate\" onclick=\"generateWithVariable('dt')\"\n",
              "            title=\"Generate code using this dataframe.\"\n",
              "            style=\"display:none;\">\n",
              "\n",
              "  <svg xmlns=\"http://www.w3.org/2000/svg\" height=\"24px\"viewBox=\"0 0 24 24\"\n",
              "       width=\"24px\">\n",
              "    <path d=\"M7,19H8.4L18.45,9,17,7.55,7,17.6ZM5,21V16.75L18.45,3.32a2,2,0,0,1,2.83,0l1.4,1.43a1.91,1.91,0,0,1,.58,1.4,1.91,1.91,0,0,1-.58,1.4L9.25,21ZM18.45,9,17,7.55Zm-12,3A5.31,5.31,0,0,0,4.9,8.1,5.31,5.31,0,0,0,1,6.5,5.31,5.31,0,0,0,4.9,4.9,5.31,5.31,0,0,0,6.5,1,5.31,5.31,0,0,0,8.1,4.9,5.31,5.31,0,0,0,12,6.5,5.46,5.46,0,0,0,6.5,12Z\"/>\n",
              "  </svg>\n",
              "    </button>\n",
              "    <script>\n",
              "      (() => {\n",
              "      const buttonEl =\n",
              "        document.querySelector('#id_80eef70b-f586-493d-9e0f-16ac3017490d button.colab-df-generate');\n",
              "      buttonEl.style.display =\n",
              "        google.colab.kernel.accessAllowed ? 'block' : 'none';\n",
              "\n",
              "      buttonEl.onclick = () => {\n",
              "        google.colab.notebook.generateWithVariable('dt');\n",
              "      }\n",
              "      })();\n",
              "    </script>\n",
              "  </div>\n",
              "\n",
              "    </div>\n",
              "  </div>\n"
            ],
            "application/vnd.google.colaboratory.intrinsic+json": {
              "type": "dataframe",
              "variable_name": "dt",
              "summary": "{\n  \"name\": \"dt\",\n  \"rows\": 1148,\n  \"fields\": [\n    {\n      \"column\": \"Company\",\n      \"properties\": {\n        \"dtype\": \"category\",\n        \"samples\": [\n          \"McDonald\\u2019s\",\n          \"Burger King\",\n          \"Pizza Hut\"\n        ],\n        \"num_unique_values\": 6,\n        \"semantic_type\": \"\",\n        \"description\": \"\"\n      }\n    },\n    {\n      \"column\": \"Item\",\n      \"properties\": {\n        \"dtype\": \"string\",\n        \"samples\": [\n          \"Mtn Dew\\u00ae Baja Blast Zero Sugar (30 fl oz)\",\n          \"Diet Pepsi\\u00ae Wild Cherry Pepsi\\u00ae (12 fl oz)\",\n          \"Hand Tossed Slices Ultimate Cheese Lover\\u2019s\\u00ae Small\"\n        ],\n        \"num_unique_values\": 1072,\n        \"semantic_type\": \"\",\n        \"description\": \"\"\n      }\n    },\n    {\n      \"column\": \"Calories\",\n      \"properties\": {\n        \"dtype\": \"category\",\n        \"samples\": [\n          \"60\",\n          \"1160\",\n          \"880\"\n        ],\n        \"num_unique_values\": 105,\n        \"semantic_type\": \"\",\n        \"description\": \"\"\n      }\n    },\n    {\n      \"column\": \"Calories from\\nFat\",\n      \"properties\": {\n        \"dtype\": \"category\",\n        \"samples\": [\n          \"750\",\n          \"490\",\n          \"80\"\n        ],\n        \"num_unique_values\": 64,\n        \"semantic_type\": \"\",\n        \"description\": \"\"\n      }\n    },\n    {\n      \"column\": \"Total Fat\\n(g)\",\n      \"properties\": {\n        \"dtype\": \"category\",\n        \"samples\": [\n          \"26\",\n          \"45\",\n          \"25\"\n        ],\n        \"num_unique_values\": 73,\n        \"semantic_type\": \"\",\n        \"description\": \"\"\n      }\n    },\n    {\n      \"column\": \"Saturated Fat\\n(g)\",\n      \"properties\": {\n        \"dtype\": \"category\",\n        \"samples\": [\n          \"5.5 g\",\n          \"4\",\n          \"13\"\n        ],\n        \"num_unique_values\": 35,\n        \"semantic_type\": \"\",\n        \"description\": \"\"\n      }\n    },\n    {\n      \"column\": \"Trans Fat\\n(g)\",\n      \"properties\": {\n        \"dtype\": \"category\",\n        \"samples\": [\n          \"0\",\n          \"0.5\",\n          \"3.5\"\n        ],\n        \"num_unique_values\": 11,\n        \"semantic_type\": \"\",\n        \"description\": \"\"\n      }\n    },\n    {\n      \"column\": \"Cholesterol\\n(mg)\",\n      \"properties\": {\n        \"dtype\": \"category\",\n        \"samples\": [\n          \"205\",\n          \"<5\",\n          \"25\"\n        ],\n        \"num_unique_values\": 65,\n        \"semantic_type\": \"\",\n        \"description\": \"\"\n      }\n    },\n    {\n      \"column\": \"Sodium \\n(mg)\",\n      \"properties\": {\n        \"dtype\": \"category\",\n        \"samples\": [\n          \"2070\",\n          \"32\",\n          \"1390\"\n        ],\n        \"num_unique_values\": 214,\n        \"semantic_type\": \"\",\n        \"description\": \"\"\n      }\n    },\n    {\n      \"column\": \"Carbs\\n(g)\",\n      \"properties\": {\n        \"dtype\": \"category\",\n        \"samples\": [\n          \"119\",\n          \"46\",\n          \"28\"\n        ],\n        \"num_unique_values\": 131,\n        \"semantic_type\": \"\",\n        \"description\": \"\"\n      }\n    },\n    {\n      \"column\": \"Fiber\\n(g)\",\n      \"properties\": {\n        \"dtype\": \"category\",\n        \"samples\": [\n          \"2\",\n          \"3\",\n          \"6\"\n        ],\n        \"num_unique_values\": 17,\n        \"semantic_type\": \"\",\n        \"description\": \"\"\n      }\n    },\n    {\n      \"column\": \"Sugars\\n(g)\",\n      \"properties\": {\n        \"dtype\": \"category\",\n        \"samples\": [\n          \"14\",\n          \"72\",\n          \"22\"\n        ],\n        \"num_unique_values\": 122,\n        \"semantic_type\": \"\",\n        \"description\": \"\"\n      }\n    },\n    {\n      \"column\": \"Protein\\n(g)\",\n      \"properties\": {\n        \"dtype\": \"category\",\n        \"samples\": [\n          \"12\",\n          \"48\",\n          \"17\"\n        ],\n        \"num_unique_values\": 56,\n        \"semantic_type\": \"\",\n        \"description\": \"\"\n      }\n    },\n    {\n      \"column\": \"Weight Watchers\\nPnts\",\n      \"properties\": {\n        \"dtype\": \"category\",\n        \"samples\": [\n          \"918\",\n          \"82.5\",\n          \"534\"\n        ],\n        \"num_unique_values\": 524,\n        \"semantic_type\": \"\",\n        \"description\": \"\"\n      }\n    }\n  ]\n}"
            }
          },
          "metadata": {},
          "execution_count": 3
        }
      ]
    },
    {
      "cell_type": "markdown",
      "metadata": {
        "id": "eikfzi8ZT_rW"
      },
      "source": [
        "# Local file system"
      ]
    },
    {
      "cell_type": "markdown",
      "metadata": {
        "id": "BaCkyg5CV5jF"
      },
      "source": [
        "## Uploading files from your local file system\n",
        "\n",
        "`files.upload` returns a dictionary of the files which were uploaded.\n",
        "The dictionary is keyed by the file name and values are the data which were uploaded."
      ]
    },
    {
      "cell_type": "code",
      "execution_count": null,
      "metadata": {
        "id": "vz-jH8T_Uk2c"
      },
      "outputs": [],
      "source": [
        "from google.colab import files\n",
        "\n",
        "uploaded = files.upload()\n",
        "\n",
        "for fn in uploaded.keys():\n",
        "  print('User uploaded file \"{name}\" with length {length} bytes'.format(\n",
        "      name=fn, length=len(uploaded[fn])))"
      ]
    },
    {
      "cell_type": "markdown",
      "metadata": {
        "id": "hauvGV4hV-Mh"
      },
      "source": [
        "## Downloading files to your local file system\n",
        "\n",
        "`files.download` will invoke a browser download of the file to your local computer.\n"
      ]
    },
    {
      "cell_type": "code",
      "execution_count": null,
      "metadata": {
        "id": "p2E4EKhCWEC5"
      },
      "outputs": [],
      "source": [
        "from google.colab import files\n",
        "\n",
        "with open('example.txt', 'w') as f:\n",
        "  f.write('some content')\n",
        "\n",
        "files.download('example.txt')"
      ]
    },
    {
      "cell_type": "markdown",
      "metadata": {
        "id": "c2W5A2px3doP"
      },
      "source": [
        "# Google Drive\n",
        "\n",
        "You can access files in Drive in a number of ways, including:\n",
        "- Mounting your Google Drive in the runtime's virtual machine\n",
        "- Using a wrapper around the API such as [PyDrive2](https://docs.iterative.ai/PyDrive2/)\n",
        "- Using the [native REST API](https://developers.google.com/drive/v3/web/about-sdk)\n",
        "\n",
        "\n",
        "\n",
        "Examples of each are below."
      ]
    },
    {
      "cell_type": "markdown",
      "metadata": {
        "id": "u22w3BFiOveA"
      },
      "source": [
        "## Mounting Google Drive locally\n",
        "\n",
        "The example below shows how to mount your Google Drive on your runtime using an authorization code, and how to write and read files there. Once executed, you will be able to see the new file (`foo.txt`) at [https://drive.google.com/](https://drive.google.com/).\n",
        "\n",
        "This only supports reading, writing, and moving files; to programmatically modify sharing settings or other metadata, use one of the other options below.\n",
        "\n",
        "**Note:** When using the 'Mount Drive' button in the file browser, no authentication codes are necessary for notebooks that have only been edited by the current user."
      ]
    },
    {
      "cell_type": "code",
      "execution_count": null,
      "metadata": {
        "colab": {
          "base_uri": "https://localhost:8080/",
          "height": 109
        },
        "id": "RWSJpsyKqHjH",
        "outputId": "15bd239f-5a6a-447d-dd22-01ee5398b991"
      },
      "outputs": [
        {
          "name": "stdout",
          "output_type": "stream",
          "text": [
            "Go to this URL in a browser: https://accounts.google.com/o/oauth2/auth?client_id=947318989803-6bn6qk8qdgf4n4g3pfee6491hc0brc4i.apps.googleusercontent.com&redirect_uri=urn%3Aietf%3Awg%3Aoauth%3A2.0%3Aoob&scope=email%20https%3A%2F%2Fwww.googleapis.com%2Fauth%2Fdocs.test%20https%3A%2F%2Fwww.googleapis.com%2Fauth%2Fdrive%20https%3A%2F%2Fwww.googleapis.com%2Fauth%2Fdrive.photos.readonly%20https%3A%2F%2Fwww.googleapis.com%2Fauth%2Fpeopleapi.readonly&response_type=code\n",
            "Enter your authorization code:\n",
            "··········\n",
            "Mounted at /content/drive\n"
          ]
        }
      ],
      "source": [
        "from google.colab import drive\n",
        "drive.mount('/content/drive')"
      ]
    },
    {
      "cell_type": "code",
      "execution_count": null,
      "metadata": {
        "colab": {
          "base_uri": "https://localhost:8080/",
          "height": 35
        },
        "id": "XDg9OBaYqRMd",
        "outputId": "5df8b65d-20d2-4956-b8a7-e99d4579d567"
      },
      "outputs": [
        {
          "name": "stdout",
          "output_type": "stream",
          "text": [
            "Hello Google Drive!"
          ]
        }
      ],
      "source": [
        "with open('/content/drive/My Drive/foo.txt', 'w') as f:\n",
        "  f.write('Hello Google Drive!')\n",
        "!cat /content/drive/My\\ Drive/foo.txt"
      ]
    },
    {
      "cell_type": "code",
      "execution_count": null,
      "metadata": {
        "colab": {
          "base_uri": "https://localhost:8080/",
          "height": 34
        },
        "id": "D78AM1fFt2ty",
        "outputId": "f7117bc5-2ffd-4c0a-8809-f9fed79b4682"
      },
      "outputs": [
        {
          "name": "stdout",
          "output_type": "stream",
          "text": [
            "All changes made in this colab session should now be visible in Drive.\n"
          ]
        }
      ],
      "source": [
        "drive.flush_and_unmount()\n",
        "print('All changes made in this colab session should now be visible in Drive.')"
      ]
    },
    {
      "cell_type": "markdown",
      "metadata": {
        "id": "7taylj9wpsA2"
      },
      "source": [
        "## PyDrive2\n",
        "\n",
        "The examples below demonstrate authentication and file upload/download using PyDrive2. More examples are available in the [PyDrive2 documentation](https://docs.iterative.ai/PyDrive2/)."
      ]
    },
    {
      "cell_type": "code",
      "execution_count": null,
      "metadata": {
        "id": "zU5b6dlRwUQk"
      },
      "outputs": [],
      "source": [
        "from pydrive2.auth import GoogleAuth\n",
        "from pydrive2.drive import GoogleDrive\n",
        "from google.colab import auth\n",
        "from oauth2client.client import GoogleCredentials"
      ]
    },
    {
      "cell_type": "markdown",
      "metadata": {
        "id": "XkHZtRhm09QS"
      },
      "source": [
        "Authenticate and create the PyDrive2 client.\n"
      ]
    },
    {
      "cell_type": "code",
      "execution_count": null,
      "metadata": {
        "id": "1w7lrGcW08Ds"
      },
      "outputs": [],
      "source": [
        "auth.authenticate_user()\n",
        "gauth = GoogleAuth()\n",
        "gauth.credentials = GoogleCredentials.get_application_default()\n",
        "drive = GoogleDrive(gauth)"
      ]
    },
    {
      "cell_type": "markdown",
      "metadata": {
        "id": "ZF3Topk31DCF"
      },
      "source": [
        "Create and upload a text file.\n"
      ]
    },
    {
      "cell_type": "code",
      "execution_count": null,
      "metadata": {
        "colab": {
          "base_uri": "https://localhost:8080/",
          "height": 34
        },
        "id": "vBuUW-q41tb7",
        "outputId": "e5558ef2-e5db-4e4e-9f01-186e9dd4bc26"
      },
      "outputs": [
        {
          "name": "stdout",
          "output_type": "stream",
          "text": [
            "Uploaded file with ID 14vDAdqp7BSCQnoougmgylBexIr2AQx2T\n"
          ]
        }
      ],
      "source": [
        "uploaded = drive.CreateFile({'title': 'Sample upload.txt'})\n",
        "uploaded.SetContentString('Sample upload file content')\n",
        "uploaded.Upload()\n",
        "print('Uploaded file with ID {}'.format(uploaded.get('id')))"
      ]
    },
    {
      "cell_type": "markdown",
      "metadata": {
        "id": "bbOFN3d_1tcG"
      },
      "source": [
        "Load a file by ID and print its contents.\n"
      ]
    },
    {
      "cell_type": "code",
      "execution_count": null,
      "metadata": {
        "colab": {
          "base_uri": "https://localhost:8080/",
          "height": 34
        },
        "id": "eFOvsAYk1tcH",
        "outputId": "c8f0e09a-f873-4c43-8211-5f0a0c5e0e5f"
      },
      "outputs": [
        {
          "name": "stdout",
          "output_type": "stream",
          "text": [
            "Downloaded content \"Sample upload file content\"\n"
          ]
        }
      ],
      "source": [
        "downloaded = drive.CreateFile({'id': uploaded.get('id')})\n",
        "print('Downloaded content \"{}\"'.format(downloaded.GetContentString()))"
      ]
    },
    {
      "cell_type": "markdown",
      "metadata": {
        "id": "jRQ5_yMcqJiV"
      },
      "source": [
        "## Drive REST API\n",
        "\n",
        "In order to use the Drive API, we must first authenticate and construct an API client.\n"
      ]
    },
    {
      "cell_type": "code",
      "execution_count": null,
      "metadata": {
        "id": "r-exJtdG3XwJ"
      },
      "outputs": [],
      "source": [
        "from google.colab import auth\n",
        "auth.authenticate_user()\n",
        "from googleapiclient.discovery import build\n",
        "drive_service = build('drive', 'v3')"
      ]
    },
    {
      "cell_type": "markdown",
      "metadata": {
        "id": "eDLm7MHQEr2U"
      },
      "source": [
        "With this client, we can use any of the functions in the [Google Drive API reference](https://developers.google.com/drive/v3/reference/). Examples follow.\n"
      ]
    },
    {
      "cell_type": "markdown",
      "metadata": {
        "id": "bRFyEsdfBxJ9"
      },
      "source": [
        "### Creating a new Drive file with data from Python\n",
        "\n",
        "First, create a local file to upload."
      ]
    },
    {
      "cell_type": "code",
      "execution_count": null,
      "metadata": {
        "colab": {
          "base_uri": "https://localhost:8080/",
          "height": 53
        },
        "id": "F1-nafvN-NwW",
        "outputId": "4466d27b-edd0-4ef1-8a10-0e180a231af2"
      },
      "outputs": [
        {
          "name": "stdout",
          "output_type": "stream",
          "text": [
            "/tmp/to_upload.txt contains:\n",
            "my sample file"
          ]
        }
      ],
      "source": [
        "with open('/tmp/to_upload.txt', 'w') as f:\n",
        "  f.write('my sample file')\n",
        "\n",
        "print('/tmp/to_upload.txt contains:')\n",
        "!cat /tmp/to_upload.txt"
      ]
    },
    {
      "cell_type": "markdown",
      "metadata": {
        "id": "r5X77CZ5_G-C"
      },
      "source": [
        "Upload it using the [`files.create`](https://developers.google.com/drive/v3/reference/files/create) method. Further details on uploading files are available in the [developer documentation](https://developers.google.com/drive/v3/web/manage-uploads)."
      ]
    },
    {
      "cell_type": "code",
      "execution_count": null,
      "metadata": {
        "colab": {
          "base_uri": "https://localhost:8080/",
          "height": 35
        },
        "id": "3Jv6jh6HEpP8",
        "outputId": "cfc1186f-68a1-4620-a18f-99bc6d83e82e"
      },
      "outputs": [
        {
          "name": "stdout",
          "output_type": "stream",
          "text": [
            "File ID: 1Cw9CqiyU6zbXFD9ViPZu_3yX-sYF4W17\n"
          ]
        }
      ],
      "source": [
        "from googleapiclient.http import MediaFileUpload\n",
        "\n",
        "file_metadata = {\n",
        "  'name': 'Sample file',\n",
        "  'mimeType': 'text/plain'\n",
        "}\n",
        "media = MediaFileUpload('/tmp/to_upload.txt',\n",
        "                        mimetype='text/plain',\n",
        "                        resumable=True)\n",
        "created = drive_service.files().create(body=file_metadata,\n",
        "                                       media_body=media,\n",
        "                                       fields='id').execute()\n",
        "print('File ID: {}'.format(created.get('id')))"
      ]
    },
    {
      "cell_type": "markdown",
      "metadata": {
        "id": "j5VyISCKFrqU"
      },
      "source": [
        "After executing the cell above, you will see a new file named 'Sample file' at [https://drive.google.com/](https://drive.google.com/)."
      ]
    },
    {
      "cell_type": "markdown",
      "metadata": {
        "id": "P3KX0Sm0E2sF"
      },
      "source": [
        "### Downloading data from a Drive file into Python\n",
        "\n",
        "Download the file we uploaded above."
      ]
    },
    {
      "cell_type": "code",
      "execution_count": null,
      "metadata": {
        "colab": {
          "base_uri": "https://localhost:8080/",
          "height": 34
        },
        "id": "hEzpzWYWsYKg",
        "outputId": "57c1ac51-a8ec-497e-db77-f34fd974ac2f"
      },
      "outputs": [
        {
          "name": "stdout",
          "output_type": "stream",
          "text": [
            "Downloaded file contents are: b'my sample file'\n"
          ]
        }
      ],
      "source": [
        "file_id = created.get('id')\n",
        "\n",
        "import io\n",
        "from googleapiclient.http import MediaIoBaseDownload\n",
        "\n",
        "request = drive_service.files().get_media(fileId=file_id)\n",
        "downloaded = io.BytesIO()\n",
        "downloader = MediaIoBaseDownload(downloaded, request)\n",
        "done = False\n",
        "while done is False:\n",
        "  # _ is a placeholder for a progress object that we ignore.\n",
        "  # (Our file is small, so we skip reporting progress.)\n",
        "  _, done = downloader.next_chunk()\n",
        "\n",
        "downloaded.seek(0)\n",
        "print('Downloaded file contents are: {}'.format(downloaded.read()))"
      ]
    },
    {
      "cell_type": "markdown",
      "metadata": {
        "id": "ImztleG2Ciae"
      },
      "source": [
        "In order to download a different file, set `file_id` above to the ID of that file, which will look like \"1uBtlaggVyWshwcyP6kEI-y_W3P8D26sz\"."
      ]
    },
    {
      "cell_type": "markdown",
      "metadata": {
        "id": "sOm9PFrT8mGG"
      },
      "source": [
        "# Google Sheets\n",
        "\n",
        "Our examples below use the open-source [`gspread`](https://github.com/burnash/gspread) library for interacting with Google Sheets."
      ]
    },
    {
      "cell_type": "markdown",
      "metadata": {
        "id": "qzi9VsEqzI-o"
      },
      "source": [
        "Import the library, authenticate, and create the interface to Sheets."
      ]
    },
    {
      "cell_type": "code",
      "execution_count": null,
      "metadata": {
        "id": "6d0xJz3VzLOo"
      },
      "outputs": [],
      "source": [
        "from google.colab import auth\n",
        "auth.authenticate_user()\n",
        "\n",
        "import gspread\n",
        "from google.auth import default\n",
        "creds, _ = default()\n",
        "\n",
        "gc = gspread.authorize(creds)"
      ]
    },
    {
      "cell_type": "markdown",
      "metadata": {
        "id": "yjrZQUrt6kKj"
      },
      "source": [
        "Below is a small set of `gspread` examples. Additional examples are available at the [`gspread` GitHub page](https://github.com/burnash/gspread#more-examples)."
      ]
    },
    {
      "cell_type": "markdown",
      "metadata": {
        "id": "WgXqE02UofZG"
      },
      "source": [
        "## Creating a new sheet with data from Python"
      ]
    },
    {
      "cell_type": "code",
      "execution_count": null,
      "metadata": {
        "id": "tnnYKhGfzGeP"
      },
      "outputs": [],
      "source": [
        "sh = gc.create('My cool spreadsheet')"
      ]
    },
    {
      "cell_type": "markdown",
      "metadata": {
        "id": "v9Ia9JVc6Zvk"
      },
      "source": [
        "After executing the cell above, you will see a new spreadsheet named 'My cool spreadsheet' at [https://sheets.google.com](https://sheets.google.com/).\n",
        "\n",
        "Open our new sheet and add some random data."
      ]
    },
    {
      "cell_type": "code",
      "execution_count": null,
      "metadata": {
        "colab": {
          "base_uri": "https://localhost:8080/",
          "height": 102
        },
        "id": "ASdgLIt2s-ux",
        "outputId": "68c9eed9-bab9-4169-c5b7-769f7b9e0194"
      },
      "outputs": [
        {
          "data": {
            "text/plain": [
              "{'spreadsheetId': '1dsQeN0YzXuM387l_CuyEbsYzL2ew9TJFzR-E-RQnwxs',\n",
              " 'updatedCells': 6,\n",
              " 'updatedColumns': 3,\n",
              " 'updatedRange': 'Sheet1!A1:C2',\n",
              " 'updatedRows': 2}"
            ]
          },
          "execution_count": 0,
          "metadata": {
            "tags": []
          },
          "output_type": "execute_result"
        }
      ],
      "source": [
        "worksheet = gc.open('My cool spreadsheet').sheet1\n",
        "\n",
        "cell_list = worksheet.range('A1:C2')\n",
        "\n",
        "import random\n",
        "for cell in cell_list:\n",
        "  cell.value = random.randint(1, 10)\n",
        "\n",
        "worksheet.update_cells(cell_list)"
      ]
    },
    {
      "cell_type": "markdown",
      "metadata": {
        "id": "k9q0pp33dckN"
      },
      "source": [
        "## Downloading data from a sheet into Python as a Pandas DataFrame\n",
        "\n",
        "Read back the random data that we inserted above and convert the result into a [Pandas DataFrame](https://pandas.pydata.org/pandas-docs/stable/generated/pandas.DataFrame.html)."
      ]
    },
    {
      "cell_type": "code",
      "execution_count": null,
      "metadata": {
        "colab": {
          "base_uri": "https://localhost:8080/",
          "height": 141
        },
        "id": "J4QxBareshEV",
        "outputId": "baf17cd6-3c3d-4a34-b1f9-642516cb2bfe"
      },
      "outputs": [
        {
          "name": "stdout",
          "output_type": "stream",
          "text": [
            "[['6', '3', '4'], ['7', '2', '1']]\n"
          ]
        },
        {
          "data": {
            "application/vnd.google.colaboratory.module+javascript": "\n      import \"https://ssl.gstatic.com/colaboratory/data_table/81868506e94e6988/data_table.js\";\n\n      window.createDataTable({\n        data: [[{\n            'v': 0,\n            'f': \"0\",\n        },\n\"6\",\n\"3\",\n\"4\"],\n [{\n            'v': 1,\n            'f': \"1\",\n        },\n\"7\",\n\"2\",\n\"1\"]],\n        columns: [[\"number\", \"index\"], [\"string\", \"0\"], [\"string\", \"1\"], [\"string\", \"2\"]],\n        rowsPerPage: 25,\n      });\n    ",
            "text/html": [
              "<div>\n",
              "<style scoped>\n",
              "    .dataframe tbody tr th:only-of-type {\n",
              "        vertical-align: middle;\n",
              "    }\n",
              "\n",
              "    .dataframe tbody tr th {\n",
              "        vertical-align: top;\n",
              "    }\n",
              "\n",
              "    .dataframe thead th {\n",
              "        text-align: right;\n",
              "    }\n",
              "</style>\n",
              "<table border=\"1\" class=\"dataframe\">\n",
              "  <thead>\n",
              "    <tr style=\"text-align: right;\">\n",
              "      <th></th>\n",
              "      <th>0</th>\n",
              "      <th>1</th>\n",
              "      <th>2</th>\n",
              "    </tr>\n",
              "  </thead>\n",
              "  <tbody>\n",
              "    <tr>\n",
              "      <th>0</th>\n",
              "      <td>6</td>\n",
              "      <td>3</td>\n",
              "      <td>4</td>\n",
              "    </tr>\n",
              "    <tr>\n",
              "      <th>1</th>\n",
              "      <td>7</td>\n",
              "      <td>2</td>\n",
              "      <td>1</td>\n",
              "    </tr>\n",
              "  </tbody>\n",
              "</table>\n",
              "</div>"
            ],
            "text/plain": [
              "   0  1  2\n",
              "0  6  3  4\n",
              "1  7  2  1"
            ]
          },
          "execution_count": 0,
          "metadata": {
            "tags": []
          },
          "output_type": "execute_result"
        }
      ],
      "source": [
        "worksheet = gc.open('My cool spreadsheet').sheet1\n",
        "\n",
        "# get_all_values gives a list of rows.\n",
        "rows = worksheet.get_all_values()\n",
        "print(rows)\n",
        "\n",
        "import pandas as pd\n",
        "pd.DataFrame.from_records(rows)"
      ]
    },
    {
      "cell_type": "markdown",
      "metadata": {
        "id": "S7c8WYyQdh5i"
      },
      "source": [
        "# Google Cloud Storage (GCS)\n",
        "\n",
        "In order to use Colaboratory with GCS, you'll need to create a [Google Cloud project](https://cloud.google.com/storage/docs/projects) or use a pre-existing one.\n",
        "\n",
        "Specify your project ID below:"
      ]
    },
    {
      "cell_type": "code",
      "execution_count": null,
      "metadata": {
        "id": "VYC5CyAbAtU7"
      },
      "outputs": [],
      "source": [
        "project_id = 'Your_project_ID_here'"
      ]
    },
    {
      "cell_type": "markdown",
      "metadata": {
        "id": "5iRYBSVCbAlK"
      },
      "source": [
        "Files in GCS are contained in [buckets](https://cloud.google.com/storage/docs/buckets).\n",
        "\n",
        "Buckets must have a globally-unique name, so we generate one here."
      ]
    },
    {
      "cell_type": "code",
      "execution_count": null,
      "metadata": {
        "id": "JgjL1e0ua-kN"
      },
      "outputs": [],
      "source": [
        "import uuid\n",
        "bucket_name = 'colab-sample-bucket-' + str(uuid.uuid1())"
      ]
    },
    {
      "cell_type": "markdown",
      "metadata": {
        "id": "-OtHMRVda9pJ"
      },
      "source": [
        "In order to access GCS, we must authenticate."
      ]
    },
    {
      "cell_type": "code",
      "execution_count": null,
      "metadata": {
        "id": "NQX0hbfYaEKc"
      },
      "outputs": [],
      "source": [
        "from google.colab import auth\n",
        "auth.authenticate_user()"
      ]
    },
    {
      "cell_type": "markdown",
      "metadata": {
        "id": "YLPAbDDFaLXU"
      },
      "source": [
        "GCS can be accessed via the `gsutil` command-line utility or via the native Python API."
      ]
    },
    {
      "cell_type": "markdown",
      "metadata": {
        "id": "TvuZEyRQXmyS"
      },
      "source": [
        "## `gsutil`\n",
        "\n",
        "First, we configure `gsutil` to use the project we specified above by using `gcloud`."
      ]
    },
    {
      "cell_type": "code",
      "execution_count": null,
      "metadata": {
        "colab": {
          "base_uri": "https://localhost:8080/",
          "height": 35
        },
        "id": "TpnuFITI6Tzu",
        "outputId": "04f1dd6d-4d7e-4264-b37b-1e8f645d6d38"
      },
      "outputs": [
        {
          "name": "stdout",
          "output_type": "stream",
          "text": [
            "Updated property [core/project].\r\n"
          ]
        }
      ],
      "source": [
        "!gcloud config set project {project_id}"
      ]
    },
    {
      "cell_type": "markdown",
      "metadata": {
        "id": "NAM6vyXAfVUj"
      },
      "source": [
        "Create a local file to upload."
      ]
    },
    {
      "cell_type": "code",
      "execution_count": null,
      "metadata": {
        "colab": {
          "base_uri": "https://localhost:8080/",
          "height": 53
        },
        "id": "LADpx7LReOMk",
        "outputId": "46db7cfa-9ad8-405b-f715-b466a3b2cb7a"
      },
      "outputs": [
        {
          "name": "stdout",
          "output_type": "stream",
          "text": [
            "/tmp/to_upload.txt contains:\n",
            "my sample file"
          ]
        }
      ],
      "source": [
        "with open('/tmp/to_upload.txt', 'w') as f:\n",
        "  f.write('my sample file')\n",
        "\n",
        "print('/tmp/to_upload.txt contains:')\n",
        "!cat /tmp/to_upload.txt"
      ]
    },
    {
      "cell_type": "markdown",
      "metadata": {
        "id": "sSz0aInzWXFI"
      },
      "source": [
        "Make a bucket to which we'll upload the file ([documentation](https://cloud.google.com/storage/docs/gsutil/commands/mb))."
      ]
    },
    {
      "cell_type": "code",
      "execution_count": null,
      "metadata": {
        "colab": {
          "base_uri": "https://localhost:8080/",
          "height": 35
        },
        "id": "Bcpvh_R_6jKB",
        "outputId": "e1c132b8-6a5c-46db-b1fa-f5768089890c"
      },
      "outputs": [
        {
          "name": "stdout",
          "output_type": "stream",
          "text": [
            "Creating gs://colab-sample-bucket-44971372-baaf-11e7-ae30-0242ac110002/...\r\n"
          ]
        }
      ],
      "source": [
        "!gsutil mb gs://{bucket_name}"
      ]
    },
    {
      "cell_type": "markdown",
      "metadata": {
        "id": "MHPM16gWWNvn"
      },
      "source": [
        "Copy the file to our new bucket ([documentation](https://cloud.google.com/storage/docs/gsutil/commands/cp))."
      ]
    },
    {
      "cell_type": "code",
      "execution_count": null,
      "metadata": {
        "colab": {
          "base_uri": "https://localhost:8080/",
          "height": 92
        },
        "id": "L5cMl7XV65be",
        "outputId": "bb51e51d-7f5f-4e2b-935c-203b8d314115"
      },
      "outputs": [
        {
          "name": "stdout",
          "output_type": "stream",
          "text": [
            "Copying file:///tmp/to_upload.txt [Content-Type=text/plain]...\n",
            "/ [1 files][   14.0 B/   14.0 B]                                                \n",
            "Operation completed over 1 objects/14.0 B.                                       \n"
          ]
        }
      ],
      "source": [
        "!gsutil cp /tmp/to_upload.txt gs://{bucket_name}/"
      ]
    },
    {
      "cell_type": "markdown",
      "metadata": {
        "id": "xAPlMk6nWKNm"
      },
      "source": [
        "Dump the contents of our newly copied file to make sure everything worked ([documentation](https://cloud.google.com/storage/docs/gsutil/commands/cat)).\n"
      ]
    },
    {
      "cell_type": "code",
      "execution_count": null,
      "metadata": {
        "colab": {
          "base_uri": "https://localhost:8080/",
          "height": 35
        },
        "id": "pJGU6gX-7M-N",
        "outputId": "38db2bd3-0879-4a2e-8f41-c9495ba570a9"
      },
      "outputs": [
        {
          "name": "stdout",
          "output_type": "stream",
          "text": [
            "my sample file"
          ]
        }
      ],
      "source": [
        "!gsutil cat gs://{bucket_name}/to_upload.txt"
      ]
    },
    {
      "cell_type": "code",
      "execution_count": null,
      "metadata": {
        "cellView": "form",
        "colab": {
          "height": 34
        },
        "id": "qoectKiGOABf",
        "outputId": "97b483ac-c2b1-46f0-f4ac-61b3701a8c89"
      },
      "outputs": [
        {
          "name": "stdout",
          "output_type": "stream",
          "text": [
            "https://console.cloud.google.com/storage/browser?project=Your_project_ID_here\n"
          ]
        }
      ],
      "source": [
        "# @markdown Once the upload has finished, the data will appear in the Cloud Console storage browser for your project:\n",
        "print('https://console.cloud.google.com/storage/browser?project=' + project_id)"
      ]
    },
    {
      "cell_type": "markdown",
      "metadata": {
        "id": "Q2CWQGIghDux"
      },
      "source": [
        "Finally, we'll download the file we just uploaded in the example above. It's as simple as reversing the order in the `gsutil cp` command."
      ]
    },
    {
      "cell_type": "code",
      "execution_count": null,
      "metadata": {
        "colab": {
          "base_uri": "https://localhost:8080/",
          "height": 110
        },
        "id": "lPdTf-6O73ll",
        "outputId": "a6da299e-00ff-42a7-f845-9a93a4ccce61"
      },
      "outputs": [
        {
          "name": "stdout",
          "output_type": "stream",
          "text": [
            "Copying gs://colab-sample-bucket483f20dc-baaf-11e7-ae30-0242ac110002/to_upload.txt...\n",
            "/ [1 files][   14.0 B/   14.0 B]                                                \n",
            "Operation completed over 1 objects/14.0 B.                                       \n",
            "my sample file"
          ]
        }
      ],
      "source": [
        "!gsutil cp gs://{bucket_name}/to_upload.txt /tmp/gsutil_download.txt\n",
        "\n",
        "# Print the result to make sure the transfer worked.\n",
        "!cat /tmp/gsutil_download.txt"
      ]
    },
    {
      "cell_type": "markdown",
      "metadata": {
        "id": "0ENMqxq25szn"
      },
      "source": [
        "## Python API\n",
        "\n",
        "These snippets based on [a larger example](https://github.com/GoogleCloudPlatform/storage-file-transfer-json-python/blob/master/chunked_transfer.py) that shows additional uses of the API.\n",
        "\n",
        " First, we create the service client."
      ]
    },
    {
      "cell_type": "code",
      "execution_count": null,
      "metadata": {
        "id": "wkJ5ShIgceqI"
      },
      "outputs": [],
      "source": [
        "from googleapiclient.discovery import build\n",
        "gcs_service = build('storage', 'v1')"
      ]
    },
    {
      "cell_type": "markdown",
      "metadata": {
        "id": "R1Hyoh07gQHY"
      },
      "source": [
        "Create a local file to upload."
      ]
    },
    {
      "cell_type": "code",
      "execution_count": null,
      "metadata": {
        "colab": {
          "height": 51
        },
        "id": "s1htTNVlgQHe",
        "outputId": "1a002b58-6c4d-46d0-9572-a43b9bccbfe8"
      },
      "outputs": [
        {
          "name": "stdout",
          "output_type": "stream",
          "text": [
            "/tmp/to_upload.txt contains:\n",
            "my sample file"
          ]
        }
      ],
      "source": [
        "with open('/tmp/to_upload.txt', 'w') as f:\n",
        "  f.write('my sample file')\n",
        "\n",
        "print('/tmp/to_upload.txt contains:')\n",
        "!cat /tmp/to_upload.txt"
      ]
    },
    {
      "cell_type": "markdown",
      "metadata": {
        "id": "YJKBHaUlgDhl"
      },
      "source": [
        "Create a bucket in the project specified above."
      ]
    },
    {
      "cell_type": "code",
      "execution_count": null,
      "metadata": {
        "colab": {
          "base_uri": "https://localhost:8080/",
          "height": 35
        },
        "id": "YFVbF4cdhd9Y",
        "outputId": "ffa2a4ec-ee02-4fc2-8ed4-a4d73d04e6be"
      },
      "outputs": [
        {
          "name": "stdout",
          "output_type": "stream",
          "text": [
            "Done\n"
          ]
        }
      ],
      "source": [
        "# Use a different globally-unique bucket name from the gsutil example above.\n",
        "import uuid\n",
        "bucket_name = 'colab-sample-bucket-' + str(uuid.uuid1())\n",
        "\n",
        "body = {\n",
        "  'name': bucket_name,\n",
        "  # For a full list of locations, see:\n",
        "  # https://cloud.google.com/storage/docs/bucket-locations\n",
        "  'location': 'us',\n",
        "}\n",
        "gcs_service.buckets().insert(project=project_id, body=body).execute()\n",
        "print('Done')"
      ]
    },
    {
      "cell_type": "markdown",
      "metadata": {
        "id": "ppkrR7p4mx_P"
      },
      "source": [
        "Upload the file to our newly created bucket."
      ]
    },
    {
      "cell_type": "code",
      "execution_count": null,
      "metadata": {
        "colab": {
          "base_uri": "https://localhost:8080/",
          "height": 35
        },
        "id": "cFAq-F2af5TJ",
        "outputId": "d07f7059-5767-4d58-ac71-e457a76e8c07"
      },
      "outputs": [
        {
          "name": "stdout",
          "output_type": "stream",
          "text": [
            "Upload complete\n"
          ]
        }
      ],
      "source": [
        "from googleapiclient.http import MediaFileUpload\n",
        "\n",
        "media = MediaFileUpload('/tmp/to_upload.txt',\n",
        "                        mimetype='text/plain',\n",
        "                        resumable=True)\n",
        "\n",
        "request = gcs_service.objects().insert(bucket=bucket_name,\n",
        "                                       name='to_upload.txt',\n",
        "                                       media_body=media)\n",
        "\n",
        "response = None\n",
        "while response is None:\n",
        "  # _ is a placeholder for a progress object that we ignore.\n",
        "  # (Our file is small, so we skip reporting progress.)\n",
        "  _, response = request.next_chunk()\n",
        "\n",
        "print('Upload complete')"
      ]
    },
    {
      "cell_type": "code",
      "execution_count": null,
      "metadata": {
        "cellView": "form",
        "colab": {
          "height": 34
        },
        "id": "Lvz1BspfpvTl",
        "outputId": "97b483ac-c2b1-46f0-f4ac-61b3701a8c89"
      },
      "outputs": [
        {
          "name": "stdout",
          "output_type": "stream",
          "text": [
            "https://console.cloud.google.com/storage/browser?project=Your_project_ID_here\n"
          ]
        }
      ],
      "source": [
        "# @markdown Once the upload has finished, the data will appear in the Cloud Console storage browser for your project:\n",
        "print('https://console.cloud.google.com/storage/browser?project=' + project_id)"
      ]
    },
    {
      "cell_type": "markdown",
      "metadata": {
        "id": "P6aWjfTv7bit"
      },
      "source": [
        "Download the file we just uploaded."
      ]
    },
    {
      "cell_type": "code",
      "execution_count": null,
      "metadata": {
        "colab": {
          "base_uri": "https://localhost:8080/",
          "height": 35
        },
        "id": "z1_FuDjAozF1",
        "outputId": "ab14cf25-7b51-41c9-d88c-9a94f5c79dfc"
      },
      "outputs": [
        {
          "name": "stdout",
          "output_type": "stream",
          "text": [
            "Download complete\n"
          ]
        }
      ],
      "source": [
        "from apiclient.http import MediaIoBaseDownload\n",
        "\n",
        "with open('/tmp/downloaded_from_gcs.txt', 'wb') as f:\n",
        "  request = gcs_service.objects().get_media(bucket=bucket_name,\n",
        "                                            object='to_upload.txt')\n",
        "  media = MediaIoBaseDownload(f, request)\n",
        "\n",
        "  done = False\n",
        "  while not done:\n",
        "    # _ is a placeholder for a progress object that we ignore.\n",
        "    # (Our file is small, so we skip reporting progress.)\n",
        "    _, done = media.next_chunk()\n",
        "\n",
        "print('Download complete')"
      ]
    },
    {
      "cell_type": "markdown",
      "metadata": {
        "id": "OnjWcDFogdY2"
      },
      "source": [
        "Inspect the downloaded file.\n"
      ]
    },
    {
      "cell_type": "code",
      "execution_count": null,
      "metadata": {
        "colab": {
          "height": 34
        },
        "id": "DxLyhaiBpAGX",
        "outputId": "eb379e18-a6bf-4af2-caf4-f8b9c57f4a80"
      },
      "outputs": [
        {
          "name": "stdout",
          "output_type": "stream",
          "text": [
            "my sample file"
          ]
        }
      ],
      "source": [
        "!cat /tmp/downloaded_from_gcs.txt"
      ]
    }
  ],
  "metadata": {
    "colab": {
      "name": "External data: Local Files, Drive, Sheets, and Cloud Storage",
      "toc_visible": true,
      "provenance": [],
      "include_colab_link": true
    },
    "kernelspec": {
      "display_name": "Python 3",
      "name": "python3"
    }
  },
  "nbformat": 4,
  "nbformat_minor": 0
}