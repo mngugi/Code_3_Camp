{
 "cells": [
  {
   "cell_type": "markdown",
   "metadata": {
    "colab_type": "text",
    "id": "view-in-github"
   },
   "source": [
    "<a href=\"https://colab.research.google.com/github/mngugi/Code_3_Camp/blob/main/matrixkRecap.ipynb\" target=\"_parent\"><img src=\"https://colab.research.google.com/assets/colab-badge.svg\" alt=\"Open In Colab\"/></a>"
   ]
  },
  {
   "cell_type": "markdown",
   "metadata": {},
   "source": [
    "- This imports the NumPy library, which is used for numerical computations, including matrix operations.\n",
    "- Uses np.linalg.det() to calculate the determinant of the matrix."
   ]
  },
  {
   "cell_type": "code",
   "execution_count": 2,
   "metadata": {
    "colab": {
     "base_uri": "https://localhost:8080/"
    },
    "id": "XOaK-zOkDZoK",
    "outputId": "64ef993a-9359-42a8-d4ff-e5907ee5dd23"
   },
   "outputs": [
    {
     "data": {
      "text/plain": [
       "10.000000000000002"
      ]
     },
     "execution_count": 2,
     "metadata": {},
     "output_type": "execute_result"
    }
   ],
   "source": [
    "import numpy as np\n",
    "\n",
    "matrix = np.array([[3,1], [2,4]])\n",
    "detr = np.linalg.det(matrix)\n",
    "detr"
   ]
  },
  {
   "cell_type": "markdown",
   "metadata": {},
   "source": [
    "What is the Determinant Used For?\n",
    "- Linear Algebra: Helps determine if a matrix is invertible (if det ≠ 0, the matrix is invertible).\n",
    "- Transformations: Determines how a transformation scales areas or volumes.\n",
    "- Solving Linear Equations: Used in Cramer's Rule for solving systems of equations."
   ]
  },
  {
   "cell_type": "markdown",
   "metadata": {},
   "source": [
    "- Uses np.linalg.inv() to compute the inverse of the matrix."
   ]
  },
  {
   "cell_type": "code",
   "execution_count": 3,
   "metadata": {
    "colab": {
     "base_uri": "https://localhost:8080/"
    },
    "id": "FvlAeB7TEBED",
    "outputId": "74c158aa-4989-402f-ea5b-b05c34716c30"
   },
   "outputs": [
    {
     "data": {
      "text/plain": [
       "array([[ 0.4, -0.1],\n",
       "       [-0.2,  0.3]])"
      ]
     },
     "execution_count": 3,
     "metadata": {},
     "output_type": "execute_result"
    }
   ],
   "source": [
    "matrix = np.array([[3,1], [2,4]])\n",
    "invr = np.linalg.inv(matrix)\n",
    "invr"
   ]
  },
  {
   "cell_type": "markdown",
   "metadata": {},
   "source": [
    "### **Determinant Calculation**\n",
    "For a **2×2 matrix**:\n",
    "\n",
    "$$\n",
    "A =\n",
    "\\begin{bmatrix} \n",
    "a & b \\\\ \n",
    "c & d \n",
    "\\end{bmatrix}\n",
    "$$\n",
    "\n",
    "The determinant formula is:\n",
    "\n",
    "$$\n",
    "\\det(A) = (a \\times d) - (b \\times c)\n",
    "$$\n",
    "\n",
    "#### **Substituting the values:**\n",
    "$$\n",
    "\\det \n",
    "\\begin{bmatrix} \n",
    "3 & 1 \\\\ \n",
    "2 & 4 \n",
    "\\end{bmatrix}\n",
    "=\n",
    "(3 \\times 4) - (1 \\times 2) = 12 - 2 = 10\n",
    "$$\n",
    "\n",
    "So, `detr` will output:\n",
    "\n",
    "$$\n",
    "\\mathbf{10}\n",
    "$$\n",
    "\n",
    "---\n",
    "\n",
    "### **Inverse of a 2×2 Matrix**\n",
    "For a **2×2 matrix**:\n",
    "\n",
    "$$\n",
    "A =\n",
    "\\begin{bmatrix} \n",
    "a & b \\\\ \n",
    "c & d \n",
    "\\end{bmatrix}\n",
    "$$\n",
    "\n",
    "The inverse is given by:\n",
    "\n",
    "$$\n",
    "A^{-1} = \\frac{1}{\\det(A)} \n",
    "\\begin{bmatrix} \n",
    "d & -b \\\\ \n",
    "-c & a \n",
    "\\end{bmatrix}\n",
    "$$\n",
    "\n",
    "#### **Step 1: Compute the Determinant**\n",
    "$$\n",
    "\\det(A) = (3 \\times 4) - (1 \\times 2) = 12 - 2 = 10\n",
    "$$\n",
    "\n",
    "#### **Step 2: Apply the Inverse Formula**\n",
    "$$\n",
    "A^{-1} = \\frac{1}{10} \n",
    "\\begin{bmatrix} \n",
    "4 & -1 \\\\ \n",
    "-2 & 3 \n",
    "\\end{bmatrix}\n",
    "$$\n",
    "\n",
    "$$\n",
    "A^{-1} = \n",
    "\\begin{bmatrix} \n",
    "0.4 & -0.1 \\\\ \n",
    "-0.2 & 0.3 \n",
    "\\end{bmatrix}\n",
    "$$\n",
    "\n",
    "Thus, the computed inverse of **A** is:\n",
    "\n",
    "$$\n",
    "\\mathbf{\\begin{bmatrix} 0.4 & -0.1 \\\\ -0.2 & 0.3 \\end{bmatrix}}\n",
    "$$\n"
   ]
  },
  {
   "cell_type": "code",
   "execution_count": 5,
   "metadata": {
    "colab": {
     "base_uri": "https://localhost:8080/"
    },
    "id": "VOKZxae4ESfR",
    "outputId": "e87612f2-2e7f-486e-d8ed-d8e9bf16299b"
   },
   "outputs": [
    {
     "name": "stdout",
     "output_type": "stream",
     "text": [
      "[2. 5.]\n",
      "[[-0.70710678 -0.4472136 ]\n",
      " [ 0.70710678 -0.89442719]]\n"
     ]
    }
   ],
   "source": [
    "matrix = np.array([[3,1], [2,4]])\n",
    "eingn, eigenV = np.linalg.eig(matrix)\n",
    "print(eingn)\n",
    "print(eigenV)"
   ]
  },
  {
   "cell_type": "markdown",
   "metadata": {},
   "source": [
    "### **Eigenvalues and Eigenvectors Calculation**\n",
    "Given the **matrix**:\n",
    "\n",
    "$$\n",
    "A =\n",
    "\\begin{bmatrix} \n",
    "3 & 1 \\\\ \n",
    "2 & 4 \n",
    "\\end{bmatrix}\n",
    "$$\n",
    "\n",
    "#### **Step 1: Solve for Eigenvalues**\n",
    "The eigenvalues **λ** are found by solving:\n",
    "\n",
    "$$\n",
    "\\det(A - \\lambda I) = 0\n",
    "$$\n",
    "\n",
    "Substituting **A**:\n",
    "\n",
    "$$\n",
    "\\begin{vmatrix} \n",
    "3 - \\lambda & 1 \\\\ \n",
    "2 & 4 - \\lambda \n",
    "\\end{vmatrix} = 0\n",
    "$$\n",
    "\n",
    "Expanding the determinant:\n",
    "\n",
    "$$\n",
    "(3 - \\lambda)(4 - \\lambda) - (1 \\times 2) = 0\n",
    "$$\n",
    "\n",
    "$$\n",
    "(12 - 3\\lambda - 4\\lambda + \\lambda^2) - 2 = 0\n",
    "$$\n",
    "\n",
    "$$\n",
    "\\lambda^2 - 7\\lambda + 10 = 0\n",
    "$$\n",
    "\n",
    "Solving for **λ**:\n",
    "\n",
    "$$\n",
    "(\\lambda - 5)(\\lambda - 2) = 0\n",
    "$$\n",
    "\n",
    "So, the eigenvalues are:\n",
    "\n",
    "$$\n",
    "\\lambda_1 = 5, \\quad \\lambda_2 = 2\n",
    "$$\n",
    "\n",
    "#### **Step 2: Solve for Eigenvectors**\n",
    "For **λ = 5**, solve:\n",
    "\n",
    "$$\n",
    "(A - 5I)x = 0\n",
    "$$\n",
    "\n",
    "$$\n",
    "\\begin{bmatrix} \n",
    "3 - 5 & 1 \\\\ \n",
    "2 & 4 - 5 \n",
    "\\end{bmatrix}\n",
    "\\begin{bmatrix} \n",
    "x_1 \\\\ \n",
    "x_2 \n",
    "\\end{bmatrix}\n",
    "=\n",
    "\\begin{bmatrix} \n",
    "0 \\\\ \n",
    "0 \n",
    "\\end{bmatrix}\n",
    "$$\n",
    "\n",
    "$$\n",
    "\\begin{bmatrix} \n",
    "-2 & 1 \\\\ \n",
    "2 & -1 \n",
    "\\end{bmatrix}\n",
    "\\begin{bmatrix} \n",
    "x_1 \\\\ \n",
    "x_2 \n",
    "\\end{bmatrix}\n",
    "=\n",
    "\\begin{bmatrix} \n",
    "0 \\\\ \n",
    "0 \n",
    "\\end{bmatrix}\n",
    "$$\n",
    "\n",
    "From the first row:  \n",
    "$$ -2x_1 + x_2 = 0 \\Rightarrow x_2 = 2x_1 $$  \n",
    "\n",
    "Thus, the eigenvector for **λ = 5** is:\n",
    "\n",
    "$$\n",
    "v_1 =\n",
    "\\begin{bmatrix} \n",
    "1 \\\\ \n",
    "2 \n",
    "\\end{bmatrix}\n",
    "$$\n",
    "\n",
    "For **λ = 2**, solve:\n",
    "\n",
    "$$\n",
    "(A - 2I)x = 0\n",
    "$$\n",
    "\n",
    "$$\n",
    "\\begin{bmatrix} \n",
    "1 & 1 \\\\ \n",
    "2 & 2 \n",
    "\\end{bmatrix}\n",
    "\\begin{bmatrix} \n",
    "x_1 \\\\ \n",
    "x_2 \n",
    "\\end{bmatrix}\n",
    "=\n",
    "\\begin{bmatrix} \n",
    "0 \\\\ \n",
    "0 \n",
    "\\end{bmatrix}\n",
    "$$\n",
    "\n",
    "From the first row:  \n",
    "$$ x_1 + x_2 = 0 \\Rightarrow x_2 = -x_1 $$  \n",
    "\n",
    "Thus, the eigenvector for **λ = 2** is:\n",
    "\n",
    "$$\n",
    "v_2 =\n",
    "\\begin{bmatrix} \n",
    "1 \\\\ \n",
    "-1 \n",
    "\\end{bmatrix}\n",
    "$$\n",
    "\n",
    "### **Final Answer:**\n",
    "- **Eigenvalues**:  \n",
    "  $$ \\lambda_1 = 5, \\quad \\lambda_2 = 2 $$\n",
    "\n",
    "- **Eigenvectors**:\n",
    "  $$ v_1 =\n",
    "  \\begin{bmatrix} \n",
    "  1 \\\\ \n",
    "  2 \n",
    "  \\end{bmatrix}, \\quad \n",
    "  v_2 =\n",
    "  \\begin{bmatrix} \n",
    "  1 \\\\ \n",
    "  -1 \n",
    "  \\end{bmatrix}\n",
    "  $$\n"
   ]
  },
  {
   "cell_type": "markdown",
   "metadata": {},
   "source": [
    "### Uses of Eigenvalues and Eigenvectors\n",
    "\n",
    "1. Principal Component Analysis (PCA) – Dimensionality Reduction\n",
    "- Why? Eigenvalues help identify the most significant directions (principal components) in high-dimensional data.\n",
    "- How? PCA computes the eigenvalues and eigenvectors of the covariance matrix to reduce data dimensions while preserving variance.\n",
    "- Example: Used in image compression, facial recognition, and pattern detection."
   ]
  }
 ],
 "metadata": {
  "colab": {
   "authorship_tag": "ABX9TyPNRKujMMPLeEoSatTDKhJh",
   "include_colab_link": true,
   "provenance": []
  },
  "kernelspec": {
   "display_name": "Python 3 (ipykernel)",
   "language": "python",
   "name": "python3"
  },
  "language_info": {
   "codemirror_mode": {
    "name": "ipython",
    "version": 3
   },
   "file_extension": ".py",
   "mimetype": "text/x-python",
   "name": "python",
   "nbconvert_exporter": "python",
   "pygments_lexer": "ipython3",
   "version": "3.12.2"
  }
 },
 "nbformat": 4,
 "nbformat_minor": 4
}
