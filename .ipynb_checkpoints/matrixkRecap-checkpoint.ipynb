{
 "cells": [
  {
   "cell_type": "markdown",
   "metadata": {
    "colab_type": "text",
    "id": "view-in-github"
   },
   "source": [
    "<a href=\"https://colab.research.google.com/github/mngugi/Code_3_Camp/blob/main/matrixkRecap.ipynb\" target=\"_parent\"><img src=\"https://colab.research.google.com/assets/colab-badge.svg\" alt=\"Open In Colab\"/></a>"
   ]
  },
  {
   "cell_type": "markdown",
   "metadata": {},
   "source": [
    "- This imports the NumPy library, which is used for numerical computations, including matrix operations.\n",
    "- Uses np.linalg.det() to calculate the determinant of the matrix."
   ]
  },
  {
   "cell_type": "code",
   "execution_count": 2,
   "metadata": {
    "colab": {
     "base_uri": "https://localhost:8080/"
    },
    "id": "XOaK-zOkDZoK",
    "outputId": "64ef993a-9359-42a8-d4ff-e5907ee5dd23"
   },
   "outputs": [
    {
     "data": {
      "text/plain": [
       "10.000000000000002"
      ]
     },
     "execution_count": 2,
     "metadata": {},
     "output_type": "execute_result"
    }
   ],
   "source": [
    "import numpy as np\n",
    "\n",
    "matrix = np.array([[3,1], [2,4]])\n",
    "detr = np.linalg.det(matrix)\n",
    "detr"
   ]
  },
  {
   "cell_type": "code",
   "execution_count": 3,
   "metadata": {
    "colab": {
     "base_uri": "https://localhost:8080/"
    },
    "id": "FvlAeB7TEBED",
    "outputId": "74c158aa-4989-402f-ea5b-b05c34716c30"
   },
   "outputs": [
    {
     "data": {
      "text/plain": [
       "array([[ 0.4, -0.1],\n",
       "       [-0.2,  0.3]])"
      ]
     },
     "execution_count": 3,
     "metadata": {},
     "output_type": "execute_result"
    }
   ],
   "source": [
    "matrix = np.array([[3,1], [2,4]])\n",
    "invr = np.linalg.inv(matrix)\n",
    "invr"
   ]
  },
  {
   "cell_type": "code",
   "execution_count": 5,
   "metadata": {
    "colab": {
     "base_uri": "https://localhost:8080/"
    },
    "id": "VOKZxae4ESfR",
    "outputId": "e87612f2-2e7f-486e-d8ed-d8e9bf16299b"
   },
   "outputs": [
    {
     "name": "stdout",
     "output_type": "stream",
     "text": [
      "[2. 5.]\n",
      "[[-0.70710678 -0.4472136 ]\n",
      " [ 0.70710678 -0.89442719]]\n"
     ]
    }
   ],
   "source": [
    "matrix = np.array([[3,1], [2,4]])\n",
    "eingn, eigenV = np.linalg.eig(matrix)\n",
    "print(eingn)\n",
    "print(eigenV)"
   ]
  }
 ],
 "metadata": {
  "colab": {
   "authorship_tag": "ABX9TyPNRKujMMPLeEoSatTDKhJh",
   "include_colab_link": true,
   "provenance": []
  },
  "kernelspec": {
   "display_name": "Python 3 (ipykernel)",
   "language": "python",
   "name": "python3"
  },
  "language_info": {
   "codemirror_mode": {
    "name": "ipython",
    "version": 3
   },
   "file_extension": ".py",
   "mimetype": "text/x-python",
   "name": "python",
   "nbconvert_exporter": "python",
   "pygments_lexer": "ipython3",
   "version": "3.12.2"
  }
 },
 "nbformat": 4,
 "nbformat_minor": 4
}
