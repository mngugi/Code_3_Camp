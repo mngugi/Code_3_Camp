{
  "nbformat": 4,
  "nbformat_minor": 0,
  "metadata": {
    "colab": {
      "provenance": [],
      "authorship_tag": "ABX9TyOJQW5wAZP+3CwIuGE/uyTK",
      "include_colab_link": true
    },
    "kernelspec": {
      "name": "python3",
      "display_name": "Python 3"
    },
    "language_info": {
      "name": "python"
    }
  },
  "cells": [
    {
      "cell_type": "markdown",
      "metadata": {
        "id": "view-in-github",
        "colab_type": "text"
      },
      "source": [
        "<a href=\"https://colab.research.google.com/github/mngugi/Code_3_Camp/blob/main/MatrixRecap.ipynb\" target=\"_parent\"><img src=\"https://colab.research.google.com/assets/colab-badge.svg\" alt=\"Open In Colab\"/></a>"
      ]
    },
    {
      "cell_type": "code",
      "execution_count": 3,
      "metadata": {
        "colab": {
          "base_uri": "https://localhost:8080/"
        },
        "id": "IbUfHKC89MQH",
        "outputId": "01d5abd9-f048-4201-a44b-3292ea192de5"
      },
      "outputs": [
        {
          "output_type": "stream",
          "name": "stdout",
          "text": [
            "[[100 190 212]\n",
            " [150 344 390]\n",
            " [120 380 190]]\n"
          ]
        }
      ],
      "source": [
        "import numpy as np\n",
        "\n",
        "revenue = np.array([[180,200,220],[240,360,400],[220,400,200]])\n",
        "expensenses = np.array([[80,10,8],[90,16,10],[100,20,10]])\n",
        "\n",
        "profit_loss = revenue - expensenses\n",
        "\n",
        "print(profit_loss)"
      ]
    },
    {
      "cell_type": "code",
      "source": [
        "price = np.array([[1000,400,1200]])\n",
        "unit = np.array([[30,5,2],[40,10,5],[50,15,7]])\n",
        "\n",
        "\n",
        "\n",
        "dot_mult = np.dot(price,unit)\n",
        "print(dot_mult)\n",
        "print('---------------------\\n')\n",
        "np.multiply(price,unit)"
      ],
      "metadata": {
        "colab": {
          "base_uri": "https://localhost:8080/"
        },
        "id": "lEkcXSdx_1XT",
        "outputId": "d9dd3a5f-940d-4d92-d81e-5152c3a68d1d"
      },
      "execution_count": 8,
      "outputs": [
        {
          "output_type": "stream",
          "name": "stdout",
          "text": [
            "[[106000  27000  12400]]\n",
            "---------------------\n",
            "\n"
          ]
        },
        {
          "output_type": "execute_result",
          "data": {
            "text/plain": [
              "array([[30000,  2000,  2400],\n",
              "       [40000,  4000,  6000],\n",
              "       [50000,  6000,  8400]])"
            ]
          },
          "metadata": {},
          "execution_count": 8
        }
      ]
    }
  ]
}