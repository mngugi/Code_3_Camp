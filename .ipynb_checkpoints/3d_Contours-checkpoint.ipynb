{
  "nbformat": 4,
  "nbformat_minor": 0,
  "metadata": {
    "colab": {
      "provenance": [],
      "authorship_tag": "ABX9TyO3bvWCZkKSrnCC06pPYYkI",
      "include_colab_link": true
    },
    "kernelspec": {
      "name": "python3",
      "display_name": "Python 3"
    },
    "language_info": {
      "name": "python"
    }
  },
  "cells": [
    {
      "cell_type": "markdown",
      "metadata": {
        "id": "view-in-github",
        "colab_type": "text"
      },
      "source": [
        "<a href=\"https://colab.research.google.com/github/mngugi/Code_3_Camp/blob/main/3d_Contours.ipynb\" target=\"_parent\"><img src=\"https://colab.research.google.com/assets/colab-badge.svg\" alt=\"Open In Colab\"/></a>"
      ]
    },
    {
      "cell_type": "code",
      "execution_count": 1,
      "metadata": {
        "id": "lsoAY4oYJBx9"
      },
      "outputs": [],
      "source": [
        "import numpy as np\n",
        "import matplotlib.pyplot as plt\n",
        "from mpl_toolkits.mplot3d import Axes3D\n",
        "\n",
        "\n",
        "x= np.linspace(-5,5,100)\n",
        "y= np.linspace(-5,5,100)\n",
        "\n",
        "X, Y = np.meshgrid(x,y)\n",
        "\n",
        "def f(x,y):\n",
        "  return np.sin(np.sqrt(x**2 + y**2))\n",
        "\n",
        "\n",
        "Z = f(X,Y)\n",
        "\n",
        "fig = plt.figure(figsize=(8,6))\n",
        "ax = fig.add_subplot(111, projection= '3d')\n",
        "contour = ax.contour3D(X,Y,Z, 50, cmap='viridis')\n",
        "\n",
        "\n"
      ]
    }
  ]
}