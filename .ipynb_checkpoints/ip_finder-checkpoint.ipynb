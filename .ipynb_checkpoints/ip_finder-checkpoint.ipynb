{
 "cells": [
  {
   "cell_type": "code",
   "execution_count": 1,
   "id": "723c128b-3cfc-4824-8af4-06f4f8f989b7",
   "metadata": {},
   "outputs": [
    {
     "name": "stdout",
     "output_type": "stream",
     "text": [
      "IP: 105.163.2.7\n",
      "City: Nairobi\n",
      "Region: Nairobi County\n",
      "Country: KE\n",
      "Location: -1.2833,36.8167\n",
      "ISP: AS33771 Safaricom Limited\n"
     ]
    }
   ],
   "source": [
    "import requests\n",
    "\n",
    "def get_ip_info():\n",
    "    url = \"https://ipinfo.io/json\"\n",
    "    response = requests.get(url)\n",
    "    \n",
    "    if response.status_code == 200:\n",
    "        data = response.json()\n",
    "        print(f\"IP: {data['ip']}\")\n",
    "        print(f\"City: {data['city']}\")\n",
    "        print(f\"Region: {data['region']}\")\n",
    "        print(f\"Country: {data['country']}\")\n",
    "        print(f\"Location: {data['loc']}\")\n",
    "        print(f\"ISP: {data.get('org', 'N/A')}\")\n",
    "    else:\n",
    "        print(\"Failed to retrieve IP info.\")\n",
    "\n",
    "get_ip_info()\n"
   ]
  },
  {
   "cell_type": "code",
   "execution_count": 2,
   "id": "03648516-0947-4b67-8170-56d985477fe7",
   "metadata": {},
   "outputs": [
    {
     "name": "stdout",
     "output_type": "stream",
     "text": [
      "Local IP: 192.168.100.16\n"
     ]
    }
   ],
   "source": [
    "import socket\n",
    "\n",
    "def get_local_ip():\n",
    "    hostname = socket.gethostname()\n",
    "    local_ip = socket.gethostbyname(hostname)\n",
    "    print(f\"Local IP: {local_ip}\")\n",
    "\n",
    "get_local_ip()\n"
   ]
  },
  {
   "cell_type": "code",
   "execution_count": 3,
   "id": "72413887-ca4f-4260-b07d-4027b402120a",
   "metadata": {},
   "outputs": [
    {
     "name": "stdout",
     "output_type": "stream",
     "text": [
      "Public IP: 105.163.2.7\n"
     ]
    }
   ],
   "source": [
    "def get_public_ip():\n",
    "    response = requests.get(\"https://api64.ipify.org?format=json\")\n",
    "    if response.status_code == 200:\n",
    "        print(f\"Public IP: {response.json()['ip']}\")\n",
    "    else:\n",
    "        print(\"Failed to get public IP.\")\n",
    "\n",
    "get_public_ip()\n"
   ]
  },
  {
   "cell_type": "code",
   "execution_count": null,
   "id": "5c33ab56-1d3f-4b06-bbe3-c4ad22a8014d",
   "metadata": {},
   "outputs": [],
   "source": []
  }
 ],
 "metadata": {
  "kernelspec": {
   "display_name": "Python 3 (ipykernel)",
   "language": "python",
   "name": "python3"
  },
  "language_info": {
   "codemirror_mode": {
    "name": "ipython",
    "version": 3
   },
   "file_extension": ".py",
   "mimetype": "text/x-python",
   "name": "python",
   "nbconvert_exporter": "python",
   "pygments_lexer": "ipython3",
   "version": "3.12.2"
  }
 },
 "nbformat": 4,
 "nbformat_minor": 5
}
