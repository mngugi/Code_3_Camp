{
 "cells": [
  {
   "cell_type": "markdown",
   "metadata": {
    "colab_type": "text",
    "id": "view-in-github"
   },
   "source": [
    "<a href=\"https://colab.research.google.com/github/mngugi/Code_3_Camp/blob/main/Recap_modules.ipynb\" target=\"_parent\"><img src=\"https://colab.research.google.com/assets/colab-badge.svg\" alt=\"Open In Colab\"/></a>"
   ]
  },
  {
   "cell_type": "code",
   "execution_count": 1,
   "metadata": {
    "colab": {
     "base_uri": "https://localhost:8080/"
    },
    "id": "yxocPk6cIlTS",
    "outputId": "fe1e39eb-f50a-4a39-af4e-cd0c54e21dac"
   },
   "outputs": [
    {
     "name": "stdout",
     "output_type": "stream",
     "text": [
      "Python has over 200 modules!['mainfunction', 'mathOperations', '__future__', '__hello__', '__phello__', '_aix_support', '_collections_abc', '_compat_pickle', '_compression', '_markupbase', '_osx_support', '_py_abc', '_pydatetime', '_pydecimal', '_pyio', '_pylong', '_sitebuiltins', '_strptime', '_sysconfigdata__linux_x86_64-linux-gnu', '_sysconfigdata_x86_64_conda_cos6_linux_gnu', '_sysconfigdata_x86_64_conda_linux_gnu', '_threading_local', '_weakrefset', 'abc', 'aifc', 'antigravity', 'argparse', 'ast', 'asyncio', 'base64', 'bdb', 'bisect', 'bz2', 'cProfile', 'calendar', 'cgi', 'cgitb', 'chunk', 'cmd', 'code', 'codecs', 'codeop', 'collections', 'colorsys', 'compileall', 'concurrent', 'configparser', 'contextlib', 'contextvars', 'copy', 'copyreg', 'crypt', 'csv', 'ctypes', 'curses', 'dataclasses', 'datetime', 'dbm', 'decimal', 'difflib', 'dis', 'doctest', 'email', 'encodings', 'ensurepip', 'enum', 'filecmp', 'fileinput', 'fnmatch', 'fractions', 'ftplib', 'functools', 'genericpath', 'getopt', 'getpass', 'gettext', 'glob', 'graphlib', 'gzip', 'hashlib', 'heapq', 'hmac', 'html', 'http', 'idlelib', 'imaplib', 'imghdr', 'importlib', 'inspect', 'io', 'ipaddress', 'json', 'keyword', 'lib2to3', 'linecache', 'locale', 'logging', 'lzma', 'mailbox', 'mailcap', 'mimetypes', 'modulefinder', 'multiprocessing', 'netrc', 'nntplib', 'ntpath', 'nturl2path', 'numbers', 'opcode', 'operator', 'optparse', 'os', 'pathlib', 'pdb', 'pickle', 'pickletools', 'pipes', 'pkgutil', 'platform', 'plistlib', 'poplib', 'posixpath', 'pprint', 'profile', 'pstats', 'pty', 'py_compile', 'pyclbr', 'pydoc', 'pydoc_data', 'queue', 'quopri', 'random', 're', 'reprlib', 'rlcompleter', 'runpy', 'sched', 'secrets', 'selectors', 'shelve', 'shlex', 'shutil', 'signal', 'site', 'smtplib', 'sndhdr', 'socket', 'socketserver', 'sqlite3', 'sre_compile', 'sre_constants', 'sre_parse', 'ssl', 'stat', 'statistics', 'string', 'stringprep', 'struct', 'subprocess', 'sunau', 'symtable', 'sysconfig', 'tabnanny', 'tarfile', 'telnetlib', 'tempfile', 'test', 'textwrap', 'this', 'threading', 'timeit', 'tkinter', 'token', 'tokenize', 'tomllib', 'trace', 'traceback', 'tracemalloc', 'tty', 'turtle', 'turtledemo', 'types', 'typing', 'unittest', 'urllib', 'uu', 'uuid', 'venv', 'warnings', 'wave', 'weakref', 'webbrowser', 'wsgiref', 'xdrlib', 'xml', 'xmlrpc', 'zipapp', 'zipfile', 'zipimport', 'zoneinfo', '_asyncio', '_bisect', '_blake2', '_bz2', '_codecs_cn', '_codecs_hk', '_codecs_iso2022', '_codecs_jp', '_codecs_kr', '_codecs_tw', '_contextvars', '_crypt', '_csv', '_ctypes', '_ctypes_test', '_curses', '_curses_panel', '_datetime', '_decimal', '_elementtree', '_hashlib', '_heapq', '_json', '_lsprof', '_lzma', '_md5', '_multibytecodec', '_multiprocessing', '_opcode', '_pickle', '_posixshmem', '_posixsubprocess', '_queue', '_random', '_sha1', '_sha2', '_sha3', '_socket', '_sqlite3', '_ssl', '_statistics', '_struct', '_testbuffer', '_testcapi', '_testclinic', '_testimportmultiple', '_testinternalcapi', '_testmultiphase', '_testsinglephase', '_tkinter', '_uuid', '_xxinterpchannels', '_xxsubinterpreters', '_xxtestfuzz', '_zoneinfo', 'array', 'audioop', 'binascii', 'cmath', 'fcntl', 'grp', 'math', 'mmap', 'nis', 'ossaudiodev', 'pyexpat', 'readline', 'resource', 'select', 'spwd', 'syslog', 'termios', 'unicodedata', 'xxlimited', 'xxlimited_35', 'xxsubtype', 'zlib', '3204bda914b7f2c6f497__mypyc', 'IPython', 'OpenSSL', 'PIL', 'PyQt5', '_argon2_cffi_bindings', '_black_version', '_brotli', '_cffi_backend', '_distutils_hack', '_plotly_future_', '_plotly_utils', '_pytest', '_ruamel_yaml', '_yaml', 'absl', 'aiobotocore', 'aiohappyeyeballs', 'aiohttp', 'aioitertools', 'aiosignal', 'alabaster', 'altair', 'anaconda_anon_usage', 'anaconda_catalogs', 'anaconda_cloud_auth', 'anaconda_navigator', 'anaconda_project', 'annotated_types', 'anyio', 'appdirs', 'archspec', 'argon2', 'array_record', 'arrow', 'arrr', 'astroid', 'astropy', 'astropy_iers_data', 'asttokens', 'astunparse', 'async_lru', 'atomicwrites', 'attr', 'attrs', 'automat', 'autopep8', 'babel', 'bcrypt', 'binaryornot', 'binstar_client', 'black', 'blackd', 'bleach', 'blib2to3', 'blinker', 'bokeh', 'boltons', 'botocore', 'bottleneck', 'brotli', 'bs4', 'cachetools', 'cairo', 'certifi', 'cffi', 'chardet', 'charset_normalizer', 'clang', 'click', 'cloudpickle', 'colorama', 'colorcet', 'comm', 'conda', 'conda_build', 'conda_content_trust', 'conda_env', 'conda_index', 'conda_libmamba_solver', 'conda_pack', 'conda_package_handling', 'conda_package_streaming', 'conda_token', 'constantly', 'contourpy', 'cookiecutter', 'cpuinfo', 'cryptography', 'cssselect', 'curl', 'cycler', 'cytoolz', 'dask', 'dask_expr', 'datashader', 'dateutil', 'debugpy', 'decorator', 'defusedxml', 'diff_match_patch', 'dill', 'distributed', 'distro', 'docstring_parser', 'docstring_to_markdown', 'docutils', 'dotenv', 'erfa', 'et_xmlfile', 'etils', 'executing', 'fastjsonschema', 'filelock', 'flake8', 'flask', 'flatbuffers', 'fontTools', 'frozendict', 'frozenlist', 'fsspec', 'gast', 'gensim', 'gi', 'git', 'gitdb', 'googlesearch', 'greenlet', 'grpc', 'h11', 'h5py', 'heapdict', 'holoviews', 'httpcore', 'httpx', 'hvplot', 'hyperlink', 'idna', 'imagecodecs', 'imageio', 'imagesize', 'imblearn', 'immutabledict', 'importlib_metadata', 'importlib_resources', 'incremental', 'inflection', 'iniconfig', 'intake', 'intervaltree', 'ipykernel', 'ipykernel_launcher', 'ipython_genutils', 'ipywidgets', 'isort', 'isympy', 'itemadapter', 'itemloaders', 'itsdangerous', 'jedi', 'jeepney', 'jellyfish', 'jinja2', 'jmespath', 'joblib', 'json5', 'jsonpatch', 'jsonpointer', 'jsonschema', 'jsonschema_specifications', 'jupyter', 'jupyter_client', 'jupyter_console', 'jupyter_core', 'jupyter_events', 'jupyter_lsp', 'jupyter_server', 'jupyter_server_terminals', 'jupyterlab', 'jupyterlab_plotly', 'jupyterlab_pygments', 'jupyterlab_server', 'jupyterlab_widgets', 'jwt', 'keras', 'keyring', 'kiwisolver', 'lazy_loader', 'lazy_object_proxy', 'lckr_jupyterlab_variableinspector', 'libarchive', 'libmambapy', 'lief', 'linkify_it', 'llvmlite', 'lmdb', 'locket', 'lxml', 'lz4', 'markdown', 'markdown_it', 'markupsafe', 'matplotlib', 'matplotlib_inline', 'mccabe', 'mdit_py_plugins', 'mdurl', 'menuinst', 'mistune', 'mkl', 'mkl_fft', 'mkl_random', 'ml_dtypes', 'more_itertools', 'mpmath', 'msgpack', 'multidict', 'multipledispatch', 'mypy', 'mypy_extensions', 'mypyc', 'namex', 'navigator_updater', 'nbclient', 'nbconvert', 'nbformat', 'nest_asyncio', 'networkx', 'nltk', 'notebook', 'notebook_shim', 'numba', 'numbergen', 'numexpr', 'numpy', 'numpydoc', 'openpyxl', 'opt_einsum', 'optree', 'overrides', 'packaging', 'pandas', 'pandocfilters', 'panel', 'param', 'parsel', 'parso', 'partd', 'pasta', 'pathspec', 'patsy', 'pexpect', 'pickleshare', 'pip', 'pkce', 'pkg_resources', 'pkginfo', 'platformdirs', 'plotly', 'pluggy', 'ply', 'prometheus_client', 'promise', 'prompt_toolkit', 'protego', 'psutil', 'ptyprocess', 'pure_eval', 'py', 'pyarrow', 'pyasn1', 'pyasn1_modules', 'pycodestyle', 'pycosat', 'pycparser', 'pyct', 'pycurl', 'pydantic', 'pydantic_core', 'pydeck', 'pydispatch', 'pydocstyle', 'pyflakes', 'pygments', 'pygtkcompat', 'pylab', 'pylint', 'pylint_venv', 'pyls_spyder', 'pylsp', 'pylsp_black', 'pylsp_jsonrpc', 'pyodbc', 'pyparsing', 'pytest', 'pythonjsonlogger', 'pytoolconfig', 'pytz', 'pyviz_comms', 'pywt', 'qdarkstyle', 'qstylizer', 'qtawesome', 'qtconsole', 'qtpy', 'queuelib', 'referencing', 'regex', 'repo_cli', 'requests', 'requests_file', 'requests_toolbelt', 'rfc3339_validator', 'rfc3986_validator', 'rich', 'rope', 'rpds', 'rtree', 'ruamel_yaml', 's3fs', 'scipy', 'scrapy', 'seaborn', 'secretstorage', 'semver', 'send2trash', 'service_identity', 'setuptools', 'simple_parsing', 'sipbuild', 'six', 'skimage', 'sklearn', 'slugify', 'smart_open', 'smmap', 'sniffio', 'snowballstemmer', 'socks', 'sockshandler', 'sortedcontainers', 'soupsieve', 'sphinx', 'spyder', 'spyder_kernels', 'sqlalchemy', 'stack_data', 'statsmodels', 'streamlit', 'sympy', 'tables', 'tabulate', 'tblib', 'tenacity', 'tensorboard', 'tensorboard_data_server', 'tensorflow', 'tensorflow_datasets', 'tensorflow_metadata', 'termcolor', 'terminado', 'test_pycosat', 'text_unidecode', 'textdistance', 'threadpoolctl', 'three_merge', 'tifffile', 'tinycss2', 'tldextract', 'tlz', 'toml', 'tomli', 'tomlkit', 'toolz', 'tornado', 'tqdm', 'traitlets', 'tree', 'truststore', 'twisted', 'typing_extensions', 'tzdata', 'uc_micro', 'ujson', 'unicodedata2', 'unidecode', 'urllib3', 'w3lib', 'watchdog', 'wcwidth', 'webencodings', 'websocket', 'werkzeug', 'whatthepatch', 'wheel', 'whois', 'widgetsnbextension', 'wrapt', 'wurlitzer', 'xarray', 'xdg', 'xyzservices', 'yaml', 'yapf', 'yapf_third_party', 'yapftests', 'yarl', 'zict', 'zipp', 'zmq', 'zope', 'zstandard', 'examples-master', 'autocommand', 'backports', 'inflect', 'typeguard']\n"
     ]
    }
   ],
   "source": [
    "import math\n",
    "import random\n",
    "import datetime\n",
    "import pkgutil\n",
    "import sys\n",
    "\n",
    "modules = [module.name for module in pkgutil.iter_modules()]\n",
    "#print (f\"Python has over 200 modules!{modules}\")\n",
    "\n",
    "\n",
    "# Get the list of available modules\n",
    "modules = sorted(sys.builtin_module_names)\n",
    "\n",
    "# Define the number of columns\n",
    "num_cols = 4  \n",
    "\n",
    "# Print modules in a tabular format\n",
    "print(f\"\\nPython has over {len(modules)} modules!\\n\")\n",
    "for i in range(0, len(modules), num_cols):\n",
    "    print(\"\\t\".join(modules[i:i + num_cols]))\n"
   ]
  },
  {
   "cell_type": "code",
   "execution_count": 2,
   "metadata": {
    "colab": {
     "base_uri": "https://localhost:8080/"
    },
    "id": "uGuvMypNJJSI",
    "outputId": "9e4a986b-712b-4046-80a6-2e705420112b"
   },
   "outputs": [
    {
     "name": "stdout",
     "output_type": "stream",
     "text": [
      "5.0\n",
      "3.141592653589793\n",
      "5.0\n",
      "3.141592653589793\n",
      "4\n",
      "2024-02-09 14:45:01.004151\n",
      "     June 2026\n",
      "Mo Tu We Th Fr Sa Su\n",
      " 1  2  3  4  5  6  7\n",
      " 8  9 10 11 12 13 14\n",
      "15 16 17 18 19 20 21\n",
      "22 23 24 25 26 27 28\n",
      "29 30\n",
      "\n",
      "True\n"
     ]
    }
   ],
   "source": [
    "from re import M\n",
    "#importing the standard math module\n",
    "import math\n",
    "print(math.sqrt(25))\n",
    "\n",
    "from math import pi\n",
    "\n",
    "print(pi)\n",
    "\n",
    "from math import sqrt\n",
    "\n",
    "print(sqrt(25))\n",
    "\n",
    "\n",
    "import math as m\n",
    "print(m.pi)\n",
    "\n",
    "import random\n",
    "print(random.randint(1,6))\n",
    "\n",
    "import datetime\n",
    "today = datetime.datetime. now()\n",
    "print(today)\n",
    "\n",
    "import calendar\n",
    "print(calendar.month(2026, 6))\n",
    "print(calendar.isleap(2028))\n",
    "\n",
    "\n"
   ]
  },
  {
   "cell_type": "code",
   "execution_count": 3,
   "metadata": {
    "colab": {
     "base_uri": "https://localhost:8080/"
    },
    "id": "wjNFOZcXL2FF",
    "outputId": "9ae8dd57-083d-4ab2-b78a-9018801d20c9"
   },
   "outputs": [
    {
     "name": "stdout",
     "output_type": "stream",
     "text": [
      "8.0\n",
      "List of functions ['__add__', '__class__', '__contains__', '__delattr__', '__dir__', '__doc__', '__eq__', '__format__', '__ge__', '__getattribute__', '__getitem__', '__getnewargs__', '__gt__', '__hash__', '__init__', '__init_subclass__', '__iter__', '__le__', '__len__', '__lt__', '__mod__', '__mul__', '__ne__', '__new__', '__reduce__', '__reduce_ex__', '__repr__', '__rmod__', '__rmul__', '__setattr__', '__sizeof__', '__str__', '__subclasshook__', 'capitalize', 'casefold', 'center', 'count', 'encode', 'endswith', 'expandtabs', 'find', 'format', 'format_map', 'index', 'isalnum', 'isalpha', 'isascii', 'isdecimal', 'isdigit', 'isidentifier', 'islower', 'isnumeric', 'isprintable', 'isspace', 'istitle', 'isupper', 'join', 'ljust', 'lower', 'lstrip', 'maketrans', 'partition', 'removeprefix', 'removesuffix', 'replace', 'rfind', 'rindex', 'rjust', 'rpartition', 'rsplit', 'rstrip', 'split', 'splitlines', 'startswith', 'strip', 'swapcase', 'title', 'translate', 'upper', 'zfill']"
     ]
    }
   ],
   "source": [
    "from math import *\n",
    "print(sqrt(64))\n",
    "\n",
    "# shows the lists of modules\n",
    "dir()\n",
    "print (\"List of functions\",dir(str), end=\"\")\n"
   ]
  },
  {
   "cell_type": "code",
   "execution_count": 4,
   "metadata": {
    "colab": {
     "base_uri": "https://localhost:8080/"
    },
    "id": "StdZqYxENdq4",
    "outputId": "58ff54f4-76dc-42df-a540-2ec64362b8bd"
   },
   "outputs": [
    {
     "name": "stdout",
     "output_type": "stream",
     "text": [
      "The current working directory is:  /content\n"
     ]
    },
    {
     "data": {
      "text/plain": [
       "['.config', 'sample_data']"
      ]
     },
     "execution_count": 4,
     "metadata": {},
     "output_type": "execute_result"
    }
   ],
   "source": [
    "import os\n",
    "\n",
    "cwd = os.getcwd()\n",
    "\n",
    "print(\"The current working directory is: \", cwd)\n",
    "files_files = os.listdir(cwd)\n",
    "files_files\n",
    "\n"
   ]
  },
  {
   "cell_type": "code",
   "execution_count": 5,
   "metadata": {
    "colab": {
     "base_uri": "https://localhost:8080/"
    },
    "id": "4Piz-aZ1OUL8",
    "outputId": "dcf72641-d890-43f0-dc85-85c60f634992"
   },
   "outputs": [
    {
     "name": "stdout",
     "output_type": "stream",
     "text": [
      "{\"name\": \"john\", \"age\": \"65\", \"City\": \"Lisbon\"}\n"
     ]
    },
    {
     "data": {
      "text/plain": [
       "{'name': 'john', 'age': '65', 'City': 'Lisbon'}"
      ]
     },
     "execution_count": 5,
     "metadata": {},
     "output_type": "execute_result"
    }
   ],
   "source": [
    "import json\n",
    "\n",
    "data = {\n",
    "\n",
    "        \"name\": \"john\",\n",
    "        \"age\" : \"65\",\n",
    "        \"City\": \"Lisbon\"\n",
    "}\n",
    "\n",
    "json_dt = json.dumps(data)\n",
    "print(json_dt)\n",
    "\n",
    "#decode\n",
    "decode_dt = json.loads(json_dt)\n",
    "decode_dt"
   ]
  },
  {
   "cell_type": "code",
   "execution_count": 6,
   "metadata": {
    "colab": {
     "base_uri": "https://localhost:8080/"
    },
    "id": "EDn60ZaZPtA7",
    "outputId": "e7fe37d9-1364-455e-8c8b-3fd8fb13c7db"
   },
   "outputs": [
    {
     "name": "stdout",
     "output_type": "stream",
     "text": [
      "Hello, world!\n"
     ]
    }
   ],
   "source": [
    "# Encoded string\n",
    "encoded_string = b'Hello, world!'\n",
    "\n",
    "# Decoding using UTF-8\n",
    "decoded_string = encoded_string.decode('utf-8')\n",
    "\n",
    "print(decoded_string)\n"
   ]
  },
  {
   "cell_type": "code",
   "execution_count": 7,
   "metadata": {
    "colab": {
     "base_uri": "https://localhost:8080/"
    },
    "id": "CCJdgIl2PyXL",
    "outputId": "52c82eda-b5fe-4c6d-c853-76ee061ecaa9"
   },
   "outputs": [
    {
     "name": "stdout",
     "output_type": "stream",
     "text": [
      "Hello, world!\n"
     ]
    }
   ],
   "source": [
    "import base64\n",
    "\n",
    "# Encoded string\n",
    "encoded_string = b'SGVsbG8sIHdvcmxkIQ=='\n",
    "\n",
    "# Decoding using Base64\n",
    "decoded_string = base64.b64decode(encoded_string).decode('utf-8')\n",
    "\n",
    "print(decoded_string)\n"
   ]
  },
  {
   "cell_type": "code",
   "execution_count": 8,
   "metadata": {
    "colab": {
     "base_uri": "https://localhost:8080/",
     "height": 34
    },
    "id": "Dv-LelCKQqCa",
    "outputId": "76fcd50b-ea23-4ba8-a9fa-bd9dacfb7b1d"
   },
   "outputs": [
    {
     "data": {
      "application/vnd.google.colaboratory.intrinsic+json": {
       "type": "string"
      },
      "text/plain": [
       "'\\nos.chmod(path,, mode)\\nos.chown()\\n'"
      ]
     },
     "execution_count": 8,
     "metadata": {},
     "output_type": "execute_result"
    }
   ],
   "source": [
    "'''\n",
    "os.chmod(path,, mode)\n",
    "os.chown()\n",
    "'''"
   ]
  },
  {
   "cell_type": "code",
   "execution_count": 9,
   "metadata": {
    "id": "NDIQqZumRjbA"
   },
   "outputs": [],
   "source": [
    "from IPython.core.magic import register_line_magic\n",
    "\n",
    "@register_line_magic\n",
    "def add(a, b):\n",
    "  return a + b\n",
    "\n",
    "def add(a, b):\n",
    "  return a - b\n",
    "\n",
    "\n",
    "def add(a, b):\n",
    "  return a * b\n",
    "\n",
    "def add(a, b):\n",
    "  return a / b\n"
   ]
  },
  {
   "cell_type": "code",
   "execution_count": 10,
   "metadata": {
    "colab": {
     "base_uri": "https://localhost:8080/"
    },
    "id": "MvHsljJcXCC0",
    "outputId": "ee6b0412-4c11-49cc-b4cd-23ca16b764e9"
   },
   "outputs": [
    {
     "name": "stdout",
     "output_type": "stream",
     "text": [
      "Alice\n",
      "30\n",
      "Hello, my name is Bob, my age is 30\n"
     ]
    }
   ],
   "source": [
    "#OOP\n",
    "# objects(instances)\n",
    "# properties(attributes)\n",
    "#methods(behaviors)\n",
    "\n",
    "\n",
    "class Person:\n",
    "    gender = \"male\" #class attribute\n",
    "\n",
    "    def __init__(self,name, age):  # initializes the instance attributes\n",
    "        self.name = name   #instance attribute\n",
    "        self.age = age     #instance attribute\n",
    "\n",
    "    def say_hello(self):\n",
    "        print(f\"Hello, my name is {self.name}, my age is {self.age}\")\n",
    "\n",
    "person1 = Person(\"Alice\", 25)\n",
    "print(person1.name)\n",
    "person2 = Person(\"Bob\", 30)\n",
    "print(person2.age)\n",
    "\n",
    "\n",
    "person2.say_hello()\n",
    "\n",
    "\n",
    "class Car:\n",
    "    category = \"Automobile\"\n",
    "\n",
    "    def __init__(self, make, model, year):\n",
    "        self.make =make\n",
    "        self.model =model\n",
    "        self.year = year\n",
    "        self.mileage = 0\n",
    "\n",
    "    def drive(self, miles):\n",
    "        self.mileage += miles\n",
    "        print(\"the car has been driven {miles} miles\")\n",
    "\n",
    "    def display_info(self):\n",
    "        print(f\"Make {self.make}, Model {self.model}, year {self.year}, mileage {self.mileage}\")\n",
    "\n",
    "\n",
    "car1 = Car(\"Toyota\", \"Mazda\", 2018)\n",
    "\n",
    "\n"
   ]
  },
  {
   "cell_type": "code",
   "execution_count": 11,
   "metadata": {
    "colab": {
     "base_uri": "https://localhost:8080/"
    },
    "id": "mbC1eH38stP6",
    "outputId": "fe1d2a79-bc6d-4c8e-e9f9-2b63ad879df3"
   },
   "outputs": [
    {
     "name": "stdout",
     "output_type": "stream",
     "text": [
      "Hello, my name is Adrian and I'm 35 years old.\n",
      "Adrian\n",
      "This is a class attribute: male\n",
      "the car has been driven 100 miles. Total mileage: 100\n",
      "Make Toyota, Model Kluga, year 2018, mileage 100\n",
      "the car has been driven 100 miles. Total mileage: 200\n",
      "<bound method Car.description of <__main__.Car object at 0x7b7ea77bcd30>>\n",
      "False\n",
      "None\n",
      "True\n",
      "Hello, my name is John and I'm 20 years old.\n",
      "John is studying\n"
     ]
    }
   ],
   "source": [
    "#OOP\n",
    "# objects(instances)\n",
    "# properties(attributes)\n",
    "#methods(behaviors)\n",
    "\n",
    "# example 1:\n",
    "class Person:\n",
    "    gender = 'male'  # Class attribute\n",
    "\n",
    "    def __init__(self, name, age):\n",
    "        self.name = name  # Instance attribute\n",
    "        self.age = age    # Instance attribute\n",
    "\n",
    "    def say_hello(self):\n",
    "        print(f\"Hello, my name is {self.name} and I'm {self.age} years old.\")\n",
    "\n",
    "# Creating objects\n",
    "student1 = Person('Adrian', 35)\n",
    "student2 = Person('Lona', 22)\n",
    "\n",
    "# Accessing attributes and methods\n",
    "student1.say_hello()\n",
    "print(student1.name)\n",
    "\n",
    "# Accessing class attribute\n",
    "print('This is a class attribute:', Person.gender)\n",
    "\n",
    "\n",
    "\n",
    "# example 2:\n",
    "class Car:\n",
    "    category = \"Automobile\"\n",
    "\n",
    "    def __init__(self, make, model, year):\n",
    "        self.make =make\n",
    "        self.model =model\n",
    "        self.year = year\n",
    "        self.mileage = 0\n",
    "\n",
    "    def drive(self, miles):\n",
    "        self.mileage += miles\n",
    "        print(f\"the car has been driven {miles} miles. Total mileage: {self.mileage}\")\n",
    "\n",
    "    def display_info(self):\n",
    "        print(f\"Make {self.make}, Model {self.model}, year {self.year}, mileage {self.mileage}\")\n",
    "\n",
    "    def description(self):\n",
    "      return f\"{self.year}\"\n",
    "\n",
    "\n",
    "car1 = Car(\"Toyota\", \"Kluga\", 2018)\n",
    "car1.drive(100)\n",
    "car1.display_info()\n",
    "car1.drive(100)\n",
    "\n",
    "print(car1.description)\n",
    "\n",
    "\n",
    "class EV_Car():\n",
    "  def __init__(self, make, model, year, battery_capacity):\n",
    "      super().__init__(brand,model,year)\n",
    "      self.battery_capacity = battery_capacity\n",
    "\n",
    "\n",
    "\n",
    "EV_Cars\n",
    "\n",
    "\n",
    "# Working with Private Attributes\n",
    "class Email:\n",
    "    __read = False   # Private attribute\n",
    "\n",
    "    def __init__(self, subject, body):\n",
    "        self.subject = subject\n",
    "        self._body = body  # Protected attribute\n",
    "\n",
    "    def mark_as_read(self):\n",
    "        self.__read = True\n",
    "\n",
    "    def is_read(self):\n",
    "        return self.__read\n",
    "\n",
    "    def is_spam(self):\n",
    "        return \"you won 1 million\" in self.subject\n",
    "\n",
    "\n",
    "\n",
    "# Creating an Email object\n",
    "e = Email(\"Check this out\", \"There are a bunch of free online courses here: https://course.online\")\n",
    "print(e.is_spam())\n",
    "print(e.mark_as_read())\n",
    "print(e.is_read())\n",
    "\n",
    "\n",
    "\n",
    "\n",
    "#INHERITANCE OF A CLASS\n",
    "class Student(Person):\n",
    "    def __init__(self, name, age, student_id):\n",
    "        super().__init__(name, age)\n",
    "        self.student_id = student_id\n",
    "\n",
    "\n",
    "    def study(self):\n",
    "        print(f\"{self.name} is studying\")\n",
    "\n",
    "student = Student(\"John\", 20, \"ABC123\")\n",
    "student.say_hello()\n",
    "student.study()\n",
    "\n",
    "\n",
    "# Encapsulation\n",
    "# Polymophism\n",
    "\n",
    "\n",
    "\n",
    "\n",
    "\n",
    "\n",
    "\n",
    "\n",
    "\n",
    "\n",
    "\n",
    "\n",
    "\n",
    "\n"
   ]
  }
 ],
 "metadata": {
  "colab": {
   "authorship_tag": "ABX9TyOeK967LN5eCO3MqSzHPQN1",
   "include_colab_link": true,
   "provenance": []
  },
  "kernelspec": {
   "display_name": "Python 3 (ipykernel)",
   "language": "python",
   "name": "python3"
  },
  "language_info": {
   "codemirror_mode": {
    "name": "ipython",
    "version": 3
   },
   "file_extension": ".py",
   "mimetype": "text/x-python",
   "name": "python",
   "nbconvert_exporter": "python",
   "pygments_lexer": "ipython3",
   "version": "3.12.2"
  }
 },
 "nbformat": 4,
 "nbformat_minor": 4
}
