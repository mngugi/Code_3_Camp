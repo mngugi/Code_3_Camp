{
 "cells": [
  {
   "cell_type": "code",
   "execution_count": 1,
   "id": "690a67ee-d142-40c4-aec3-48cb637ce4ec",
   "metadata": {},
   "outputs": [
    {
     "name": "stdout",
     "output_type": "stream",
     "text": [
      "Piece 1: Length = 47.5 units, Width = 22.5 units\n",
      "Gap 1: Length = 5 units, Width = 50 units\n",
      "Piece 2: Length = 47.5 units, Width = 22.5 units\n"
     ]
    }
   ],
   "source": [
    "# Dimensions of the land\n",
    "total_length = 100  # Length of the land\n",
    "total_width = 50    # Width of the land\n",
    "num_pieces = 2      # Number of subdivisions\n",
    "\n",
    "# Desired gap between pieces\n",
    "gap = 5  # You can adjust this as needed\n",
    "\n",
    "# Calculate dimensions of each piece after accounting for the gap\n",
    "piece_length = (total_length - (num_pieces - 1) * gap) / num_pieces\n",
    "piece_width = (total_width - (num_pieces - 1) * gap) / num_pieces\n",
    "\n",
    "# Display the dimensions of each piece\n",
    "for i in range(num_pieces):\n",
    "    print(f\"Piece {i+1}: Length = {piece_length} units, Width = {piece_width} units\")\n",
    "    if i < num_pieces - 1:\n",
    "        print(f\"Gap {i+1}: Length = {gap} units, Width = {total_width} units\")\n"
   ]
  },
  {
   "cell_type": "code",
   "execution_count": null,
   "id": "45cb6667-c169-475e-9b91-1824b91d1389",
   "metadata": {},
   "outputs": [],
   "source": []
  }
 ],
 "metadata": {
  "kernelspec": {
   "display_name": "Python 3 (ipykernel)",
   "language": "python",
   "name": "python3"
  },
  "language_info": {
   "codemirror_mode": {
    "name": "ipython",
    "version": 3
   },
   "file_extension": ".py",
   "mimetype": "text/x-python",
   "name": "python",
   "nbconvert_exporter": "python",
   "pygments_lexer": "ipython3",
   "version": "3.12.2"
  }
 },
 "nbformat": 4,
 "nbformat_minor": 5
}
