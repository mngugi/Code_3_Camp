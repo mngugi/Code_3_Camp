{
  "nbformat": 4,
  "nbformat_minor": 0,
  "metadata": {
    "colab": {
      "provenance": [],
      "authorship_tag": "ABX9TyM83YoLntXMgeWsyNM62x1X",
      "include_colab_link": true
    },
    "kernelspec": {
      "name": "python3",
      "display_name": "Python 3"
    },
    "language_info": {
      "name": "python"
    }
  },
  "cells": [
    {
      "cell_type": "markdown",
      "metadata": {
        "id": "view-in-github",
        "colab_type": "text"
      },
      "source": [
        "<a href=\"https://colab.research.google.com/github/mngugi/Code_3_Camp/blob/main/Dice.ipynb\" target=\"_parent\"><img src=\"https://colab.research.google.com/assets/colab-badge.svg\" alt=\"Open In Colab\"/></a>"
      ]
    },
    {
      "cell_type": "code",
      "execution_count": 4,
      "metadata": {
        "colab": {
          "base_uri": "https://localhost:8080/"
        },
        "id": "NqfqU5wI7cBi",
        "outputId": "49f26baa-04c3-4878-c3f2-7f1fe72a59f7"
      },
      "outputs": [
        {
          "output_type": "stream",
          "name": "stdout",
          "text": [
            "Results after rollong the dice 5\n"
          ]
        }
      ],
      "source": [
        "import numpy as np\n",
        "\n",
        "outcomes = np.arange(1,6)\n",
        "result = np.random.choice(outcomes)\n",
        "\n",
        "print(\"Results after rollong the dice\", result)\n"
      ]
    }
  ]
}