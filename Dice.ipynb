{
  "nbformat": 4,
  "nbformat_minor": 0,
  "metadata": {
    "colab": {
      "provenance": [],
      "authorship_tag": "ABX9TyODermXlQB1UiFuQxPMU3Lx",
      "include_colab_link": true
    },
    "kernelspec": {
      "name": "python3",
      "display_name": "Python 3"
    },
    "language_info": {
      "name": "python"
    }
  },
  "cells": [
    {
      "cell_type": "markdown",
      "metadata": {
        "id": "view-in-github",
        "colab_type": "text"
      },
      "source": [
        "<a href=\"https://colab.research.google.com/github/mngugi/Code_3_Camp/blob/main/Dice.ipynb\" target=\"_parent\"><img src=\"https://colab.research.google.com/assets/colab-badge.svg\" alt=\"Open In Colab\"/></a>"
      ]
    },
    {
      "cell_type": "code",
      "execution_count": 13,
      "metadata": {
        "colab": {
          "base_uri": "https://localhost:8080/"
        },
        "id": "NqfqU5wI7cBi",
        "outputId": "4ab8799c-e875-4516-819a-f2ed39bda25b"
      },
      "outputs": [
        {
          "output_type": "stream",
          "name": "stdout",
          "text": [
            "outcomes [1 2 3 4 5 6]\n",
            "probabilities [0.16666667 0.16666667 0.16666667 0.16666667 0.16666667 0.16666667]\n",
            "Results after rollong the dice 5\n"
          ]
        }
      ],
      "source": [
        "import numpy as np\n",
        "\n",
        "outcomes = np.arange(1,7)\n",
        "result = np.random.choice(outcomes)\n",
        "\n",
        "probabilities = np.ones(6)/6\n",
        "\n",
        "print(\"outcomes\", outcomes)\n",
        "print(\"probabilities\", probabilities)\n",
        "\n",
        "print(\"Results after rollong the dice\", result)\n"
      ]
    }
  ]
}