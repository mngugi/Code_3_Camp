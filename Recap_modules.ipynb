{
 "cells": [
  {
   "cell_type": "markdown",
   "metadata": {
    "colab_type": "text",
    "id": "view-in-github"
   },
   "source": [
    "<a href=\"https://colab.research.google.com/github/mngugi/Code_3_Camp/blob/main/Recap_modules.ipynb\" target=\"_parent\"><img src=\"https://colab.research.google.com/assets/colab-badge.svg\" alt=\"Open In Colab\"/></a>"
   ]
  },
  {
   "cell_type": "code",
   "execution_count": 2,
   "metadata": {
    "colab": {
     "base_uri": "https://localhost:8080/"
    },
    "id": "yxocPk6cIlTS",
    "outputId": "fe1e39eb-f50a-4a39-af4e-cd0c54e21dac"
   },
   "outputs": [
    {
     "name": "stdout",
     "output_type": "stream",
     "text": [
      "\n",
      "Python has over 31 modules!\n",
      "\n",
      "_abc\t_ast\t_codecs\t_collections\n",
      "_functools\t_imp\t_io\t_locale\n",
      "_operator\t_signal\t_sre\t_stat\n",
      "_string\t_symtable\t_thread\t_tokenize\n",
      "_tracemalloc\t_typing\t_warnings\t_weakref\n",
      "atexit\tbuiltins\terrno\tfaulthandler\n",
      "gc\titertools\tmarshal\tposix\n",
      "pwd\tsys\ttime\n"
     ]
    }
   ],
   "source": [
    "import math\n",
    "import random\n",
    "import datetime\n",
    "import pkgutil\n",
    "import sys\n",
    "\n",
    "modules = [module.name for module in pkgutil.iter_modules()]\n",
    "#print (f\"Python has over 200 modules!{modules}\")\n",
    "\n",
    "\n",
    "# Get the list of available modules\n",
    "modules = sorted(sys.builtin_module_names)\n",
    "\n",
    "# Define the number of columns\n",
    "num_cols = 4  \n",
    "\n",
    "# Print modules in a tabular format\n",
    "print(f\"\\nPython has over {len(modules)} modules!\\n\")\n",
    "for i in range(0, len(modules), num_cols):\n",
    "    print(\"\\t\".join(modules[i:i + num_cols]))\n"
   ]
  },
  {
   "cell_type": "markdown",
   "metadata": {},
   "source": [
    "### A Python June 2026 Calendar \n",
    "\n",
    "- import calendar package\n",
    "- The function calendar.isleap(year) returns True if the given year is a leap year, otherwise False.\n",
    "- Since 2028 is divisible by 4 and not 100 (or is divisible by 400), it is a leap year."
   ]
  },
  {
   "cell_type": "code",
   "execution_count": 4,
   "metadata": {},
   "outputs": [
    {
     "name": "stdout",
     "output_type": "stream",
     "text": [
      "     June 2026\n",
      "Mo Tu We Th Fr Sa Su\n",
      " 1  2  3  4  5  6  7\n",
      " 8  9 10 11 12 13 14\n",
      "15 16 17 18 19 20 21\n",
      "22 23 24 25 26 27 28\n",
      "29 30\n",
      "\n",
      "True\n"
     ]
    }
   ],
   "source": [
    "import calendar\n",
    "print(calendar.month(2026, 6))\n",
    "print(calendar.isleap(2028))"
   ]
  },
  {
   "cell_type": "markdown",
   "metadata": {},
   "source": [
    "- `datetime.datetime.now()` returns the current local date and time.\n",
    "- The output will change each time the code is run, reflecting the current timestamp.\n"
   ]
  },
  {
   "cell_type": "code",
   "execution_count": null,
   "metadata": {},
   "outputs": [],
   "source": [
    "import datetime\n",
    "today = datetime.datetime. now()\n",
    "print(today)"
   ]
  },
  {
   "cell_type": "markdown",
   "metadata": {},
   "source": [
    "- `random.randint(1, 6)` returns a random integer between 1 and 6, inclusive.\n",
    "- Useful for dice simulations, game mechanics, or random number selection."
   ]
  },
  {
   "cell_type": "code",
   "execution_count": null,
   "metadata": {},
   "outputs": [],
   "source": [
    "import random\n",
    "print(random.randint(1,6))"
   ]
  },
  {
   "cell_type": "markdown",
   "metadata": {},
   "source": [
    "- `math.pi` is a constant in the math module that represents the mathematical value of π (approximately 3.141592653589793).\n",
    "- Useful in trigonometry, geometry, and scientific calculations."
   ]
  },
  {
   "cell_type": "code",
   "execution_count": null,
   "metadata": {},
   "outputs": [],
   "source": [
    "import math as m\n",
    "print(m.pi)\n",
    "\n",
    "\n",
    "\n",
    "\n",
    "\n"
   ]
  },
  {
   "cell_type": "code",
   "execution_count": 3,
   "metadata": {
    "colab": {
     "base_uri": "https://localhost:8080/"
    },
    "id": "uGuvMypNJJSI",
    "outputId": "9e4a986b-712b-4046-80a6-2e705420112b"
   },
   "outputs": [
    {
     "name": "stdout",
     "output_type": "stream",
     "text": [
      "5.0\n",
      "3.141592653589793\n",
      "5.0\n"
     ]
    }
   ],
   "source": [
    "from re import M\n",
    "#importing the standard math module\n",
    "import math\n",
    "print(math.sqrt(25))\n",
    "\n",
    "from math import pi\n",
    "\n",
    "print(pi)\n",
    "\n",
    "from math import sqrt\n",
    "\n",
    "print(sqrt(25))\n",
    "\n",
    "\n",
    "\n",
    "\n",
    "\n"
   ]
  },
  {
   "cell_type": "code",
   "execution_count": 3,
   "metadata": {
    "colab": {
     "base_uri": "https://localhost:8080/"
    },
    "id": "wjNFOZcXL2FF",
    "outputId": "9ae8dd57-083d-4ab2-b78a-9018801d20c9"
   },
   "outputs": [
    {
     "name": "stdout",
     "output_type": "stream",
     "text": [
      "8.0\n",
      "List of functions ['__add__', '__class__', '__contains__', '__delattr__', '__dir__', '__doc__', '__eq__', '__format__', '__ge__', '__getattribute__', '__getitem__', '__getnewargs__', '__gt__', '__hash__', '__init__', '__init_subclass__', '__iter__', '__le__', '__len__', '__lt__', '__mod__', '__mul__', '__ne__', '__new__', '__reduce__', '__reduce_ex__', '__repr__', '__rmod__', '__rmul__', '__setattr__', '__sizeof__', '__str__', '__subclasshook__', 'capitalize', 'casefold', 'center', 'count', 'encode', 'endswith', 'expandtabs', 'find', 'format', 'format_map', 'index', 'isalnum', 'isalpha', 'isascii', 'isdecimal', 'isdigit', 'isidentifier', 'islower', 'isnumeric', 'isprintable', 'isspace', 'istitle', 'isupper', 'join', 'ljust', 'lower', 'lstrip', 'maketrans', 'partition', 'removeprefix', 'removesuffix', 'replace', 'rfind', 'rindex', 'rjust', 'rpartition', 'rsplit', 'rstrip', 'split', 'splitlines', 'startswith', 'strip', 'swapcase', 'title', 'translate', 'upper', 'zfill']"
     ]
    }
   ],
   "source": [
    "from math import *\n",
    "print(sqrt(64))\n",
    "\n",
    "# shows the lists of modules\n",
    "dir()\n",
    "print (\"List of functions\",dir(str), end=\"\")\n"
   ]
  },
  {
   "cell_type": "code",
   "execution_count": 4,
   "metadata": {
    "colab": {
     "base_uri": "https://localhost:8080/"
    },
    "id": "StdZqYxENdq4",
    "outputId": "58ff54f4-76dc-42df-a540-2ec64362b8bd"
   },
   "outputs": [
    {
     "name": "stdout",
     "output_type": "stream",
     "text": [
      "The current working directory is:  /content\n"
     ]
    },
    {
     "data": {
      "text/plain": [
       "['.config', 'sample_data']"
      ]
     },
     "execution_count": 4,
     "metadata": {},
     "output_type": "execute_result"
    }
   ],
   "source": [
    "import os\n",
    "\n",
    "cwd = os.getcwd()\n",
    "\n",
    "print(\"The current working directory is: \", cwd)\n",
    "files_files = os.listdir(cwd)\n",
    "files_files\n",
    "\n"
   ]
  },
  {
   "cell_type": "code",
   "execution_count": 5,
   "metadata": {
    "colab": {
     "base_uri": "https://localhost:8080/"
    },
    "id": "4Piz-aZ1OUL8",
    "outputId": "dcf72641-d890-43f0-dc85-85c60f634992"
   },
   "outputs": [
    {
     "name": "stdout",
     "output_type": "stream",
     "text": [
      "{\"name\": \"john\", \"age\": \"65\", \"City\": \"Lisbon\"}\n"
     ]
    },
    {
     "data": {
      "text/plain": [
       "{'name': 'john', 'age': '65', 'City': 'Lisbon'}"
      ]
     },
     "execution_count": 5,
     "metadata": {},
     "output_type": "execute_result"
    }
   ],
   "source": [
    "import json\n",
    "\n",
    "data = {\n",
    "\n",
    "        \"name\": \"john\",\n",
    "        \"age\" : \"65\",\n",
    "        \"City\": \"Lisbon\"\n",
    "}\n",
    "\n",
    "json_dt = json.dumps(data)\n",
    "print(json_dt)\n",
    "\n",
    "#decode\n",
    "decode_dt = json.loads(json_dt)\n",
    "decode_dt"
   ]
  },
  {
   "cell_type": "code",
   "execution_count": 6,
   "metadata": {
    "colab": {
     "base_uri": "https://localhost:8080/"
    },
    "id": "EDn60ZaZPtA7",
    "outputId": "e7fe37d9-1364-455e-8c8b-3fd8fb13c7db"
   },
   "outputs": [
    {
     "name": "stdout",
     "output_type": "stream",
     "text": [
      "Hello, world!\n"
     ]
    }
   ],
   "source": [
    "# Encoded string\n",
    "encoded_string = b'Hello, world!'\n",
    "\n",
    "# Decoding using UTF-8\n",
    "decoded_string = encoded_string.decode('utf-8')\n",
    "\n",
    "print(decoded_string)\n"
   ]
  },
  {
   "cell_type": "code",
   "execution_count": 7,
   "metadata": {
    "colab": {
     "base_uri": "https://localhost:8080/"
    },
    "id": "CCJdgIl2PyXL",
    "outputId": "52c82eda-b5fe-4c6d-c853-76ee061ecaa9"
   },
   "outputs": [
    {
     "name": "stdout",
     "output_type": "stream",
     "text": [
      "Hello, world!\n"
     ]
    }
   ],
   "source": [
    "import base64\n",
    "\n",
    "# Encoded string\n",
    "encoded_string = b'SGVsbG8sIHdvcmxkIQ=='\n",
    "\n",
    "# Decoding using Base64\n",
    "decoded_string = base64.b64decode(encoded_string).decode('utf-8')\n",
    "\n",
    "print(decoded_string)\n"
   ]
  },
  {
   "cell_type": "code",
   "execution_count": 8,
   "metadata": {
    "colab": {
     "base_uri": "https://localhost:8080/",
     "height": 34
    },
    "id": "Dv-LelCKQqCa",
    "outputId": "76fcd50b-ea23-4ba8-a9fa-bd9dacfb7b1d"
   },
   "outputs": [
    {
     "data": {
      "application/vnd.google.colaboratory.intrinsic+json": {
       "type": "string"
      },
      "text/plain": [
       "'\\nos.chmod(path,, mode)\\nos.chown()\\n'"
      ]
     },
     "execution_count": 8,
     "metadata": {},
     "output_type": "execute_result"
    }
   ],
   "source": [
    "'''\n",
    "os.chmod(path,, mode)\n",
    "os.chown()\n",
    "'''"
   ]
  },
  {
   "cell_type": "code",
   "execution_count": 9,
   "metadata": {
    "id": "NDIQqZumRjbA"
   },
   "outputs": [],
   "source": [
    "from IPython.core.magic import register_line_magic\n",
    "\n",
    "@register_line_magic\n",
    "def add(a, b):\n",
    "  return a + b\n",
    "\n",
    "def add(a, b):\n",
    "  return a - b\n",
    "\n",
    "\n",
    "def add(a, b):\n",
    "  return a * b\n",
    "\n",
    "def add(a, b):\n",
    "  return a / b\n"
   ]
  },
  {
   "cell_type": "code",
   "execution_count": 10,
   "metadata": {
    "colab": {
     "base_uri": "https://localhost:8080/"
    },
    "id": "MvHsljJcXCC0",
    "outputId": "ee6b0412-4c11-49cc-b4cd-23ca16b764e9"
   },
   "outputs": [
    {
     "name": "stdout",
     "output_type": "stream",
     "text": [
      "Alice\n",
      "30\n",
      "Hello, my name is Bob, my age is 30\n"
     ]
    }
   ],
   "source": [
    "#OOP\n",
    "# objects(instances)\n",
    "# properties(attributes)\n",
    "#methods(behaviors)\n",
    "\n",
    "\n",
    "class Person:\n",
    "    gender = \"male\" #class attribute\n",
    "\n",
    "    def __init__(self,name, age):  # initializes the instance attributes\n",
    "        self.name = name   #instance attribute\n",
    "        self.age = age     #instance attribute\n",
    "\n",
    "    def say_hello(self):\n",
    "        print(f\"Hello, my name is {self.name}, my age is {self.age}\")\n",
    "\n",
    "person1 = Person(\"Alice\", 25)\n",
    "print(person1.name)\n",
    "person2 = Person(\"Bob\", 30)\n",
    "print(person2.age)\n",
    "\n",
    "\n",
    "person2.say_hello()\n",
    "\n",
    "\n",
    "class Car:\n",
    "    category = \"Automobile\"\n",
    "\n",
    "    def __init__(self, make, model, year):\n",
    "        self.make =make\n",
    "        self.model =model\n",
    "        self.year = year\n",
    "        self.mileage = 0\n",
    "\n",
    "    def drive(self, miles):\n",
    "        self.mileage += miles\n",
    "        print(\"the car has been driven {miles} miles\")\n",
    "\n",
    "    def display_info(self):\n",
    "        print(f\"Make {self.make}, Model {self.model}, year {self.year}, mileage {self.mileage}\")\n",
    "\n",
    "\n",
    "car1 = Car(\"Toyota\", \"Mazda\", 2018)\n",
    "\n",
    "\n"
   ]
  },
  {
   "cell_type": "code",
   "execution_count": 11,
   "metadata": {
    "colab": {
     "base_uri": "https://localhost:8080/"
    },
    "id": "mbC1eH38stP6",
    "outputId": "fe1d2a79-bc6d-4c8e-e9f9-2b63ad879df3"
   },
   "outputs": [
    {
     "name": "stdout",
     "output_type": "stream",
     "text": [
      "Hello, my name is Adrian and I'm 35 years old.\n",
      "Adrian\n",
      "This is a class attribute: male\n",
      "the car has been driven 100 miles. Total mileage: 100\n",
      "Make Toyota, Model Kluga, year 2018, mileage 100\n",
      "the car has been driven 100 miles. Total mileage: 200\n",
      "<bound method Car.description of <__main__.Car object at 0x7b7ea77bcd30>>\n",
      "False\n",
      "None\n",
      "True\n",
      "Hello, my name is John and I'm 20 years old.\n",
      "John is studying\n"
     ]
    }
   ],
   "source": [
    "#OOP\n",
    "# objects(instances)\n",
    "# properties(attributes)\n",
    "#methods(behaviors)\n",
    "\n",
    "# example 1:\n",
    "class Person:\n",
    "    gender = 'male'  # Class attribute\n",
    "\n",
    "    def __init__(self, name, age):\n",
    "        self.name = name  # Instance attribute\n",
    "        self.age = age    # Instance attribute\n",
    "\n",
    "    def say_hello(self):\n",
    "        print(f\"Hello, my name is {self.name} and I'm {self.age} years old.\")\n",
    "\n",
    "# Creating objects\n",
    "student1 = Person('Adrian', 35)\n",
    "student2 = Person('Lona', 22)\n",
    "\n",
    "# Accessing attributes and methods\n",
    "student1.say_hello()\n",
    "print(student1.name)\n",
    "\n",
    "# Accessing class attribute\n",
    "print('This is a class attribute:', Person.gender)\n",
    "\n",
    "\n",
    "\n",
    "# example 2:\n",
    "class Car:\n",
    "    category = \"Automobile\"\n",
    "\n",
    "    def __init__(self, make, model, year):\n",
    "        self.make =make\n",
    "        self.model =model\n",
    "        self.year = year\n",
    "        self.mileage = 0\n",
    "\n",
    "    def drive(self, miles):\n",
    "        self.mileage += miles\n",
    "        print(f\"the car has been driven {miles} miles. Total mileage: {self.mileage}\")\n",
    "\n",
    "    def display_info(self):\n",
    "        print(f\"Make {self.make}, Model {self.model}, year {self.year}, mileage {self.mileage}\")\n",
    "\n",
    "    def description(self):\n",
    "      return f\"{self.year}\"\n",
    "\n",
    "\n",
    "car1 = Car(\"Toyota\", \"Kluga\", 2018)\n",
    "car1.drive(100)\n",
    "car1.display_info()\n",
    "car1.drive(100)\n",
    "\n",
    "print(car1.description)\n",
    "\n",
    "\n",
    "class EV_Car():\n",
    "  def __init__(self, make, model, year, battery_capacity):\n",
    "      super().__init__(brand,model,year)\n",
    "      self.battery_capacity = battery_capacity\n",
    "\n",
    "\n",
    "\n",
    "EV_Cars\n",
    "\n",
    "\n",
    "# Working with Private Attributes\n",
    "class Email:\n",
    "    __read = False   # Private attribute\n",
    "\n",
    "    def __init__(self, subject, body):\n",
    "        self.subject = subject\n",
    "        self._body = body  # Protected attribute\n",
    "\n",
    "    def mark_as_read(self):\n",
    "        self.__read = True\n",
    "\n",
    "    def is_read(self):\n",
    "        return self.__read\n",
    "\n",
    "    def is_spam(self):\n",
    "        return \"you won 1 million\" in self.subject\n",
    "\n",
    "\n",
    "\n",
    "# Creating an Email object\n",
    "e = Email(\"Check this out\", \"There are a bunch of free online courses here: https://course.online\")\n",
    "print(e.is_spam())\n",
    "print(e.mark_as_read())\n",
    "print(e.is_read())\n",
    "\n",
    "\n",
    "\n",
    "\n",
    "#INHERITANCE OF A CLASS\n",
    "class Student(Person):\n",
    "    def __init__(self, name, age, student_id):\n",
    "        super().__init__(name, age)\n",
    "        self.student_id = student_id\n",
    "\n",
    "\n",
    "    def study(self):\n",
    "        print(f\"{self.name} is studying\")\n",
    "\n",
    "student = Student(\"John\", 20, \"ABC123\")\n",
    "student.say_hello()\n",
    "student.study()\n",
    "\n",
    "\n",
    "# Encapsulation\n",
    "# Polymophism\n",
    "\n",
    "\n",
    "\n",
    "\n",
    "\n",
    "\n",
    "\n",
    "\n",
    "\n",
    "\n",
    "\n",
    "\n",
    "\n",
    "\n"
   ]
  }
 ],
 "metadata": {
  "colab": {
   "authorship_tag": "ABX9TyOeK967LN5eCO3MqSzHPQN1",
   "include_colab_link": true,
   "provenance": []
  },
  "kernelspec": {
   "display_name": "Python 3 (ipykernel)",
   "language": "python",
   "name": "python3"
  },
  "language_info": {
   "codemirror_mode": {
    "name": "ipython",
    "version": 3
   },
   "file_extension": ".py",
   "mimetype": "text/x-python",
   "name": "python",
   "nbconvert_exporter": "python",
   "pygments_lexer": "ipython3",
   "version": "3.12.2"
  }
 },
 "nbformat": 4,
 "nbformat_minor": 4
}
