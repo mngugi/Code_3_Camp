{
  "nbformat": 4,
  "nbformat_minor": 0,
  "metadata": {
    "colab": {
      "provenance": [],
      "authorship_tag": "ABX9TyNmotsE9od75GwfIefOh0XS",
      "include_colab_link": true
    },
    "kernelspec": {
      "name": "python3",
      "display_name": "Python 3"
    },
    "language_info": {
      "name": "python"
    }
  },
  "cells": [
    {
      "cell_type": "markdown",
      "metadata": {
        "id": "view-in-github",
        "colab_type": "text"
      },
      "source": [
        "<a href=\"https://colab.research.google.com/github/mngugi/Code_3_Camp/blob/main/Recap_modules.ipynb\" target=\"_parent\"><img src=\"https://colab.research.google.com/assets/colab-badge.svg\" alt=\"Open In Colab\"/></a>"
      ]
    },
    {
      "cell_type": "code",
      "execution_count": 2,
      "metadata": {
        "colab": {
          "base_uri": "https://localhost:8080/"
        },
        "id": "yxocPk6cIlTS",
        "outputId": "5d6ead0c-01ee-4624-bacc-58c0820b6d42"
      },
      "outputs": [
        {
          "output_type": "stream",
          "name": "stdout",
          "text": [
            "Python has over 200 modules!\n"
          ]
        }
      ],
      "source": [
        "import math\n",
        "import random\n",
        "import datetime\n",
        "\n",
        "print (\"Python has over 200 modules!\")"
      ]
    },
    {
      "cell_type": "code",
      "source": [
        "from re import M\n",
        "#importing the standard math module\n",
        "import math\n",
        "print(math.sqrt(25))\n",
        "\n",
        "from math import pi\n",
        "\n",
        "print(pi)\n",
        "\n",
        "from math import sqrt\n",
        "\n",
        "print(sqrt(25))\n",
        "\n",
        "\n",
        "import math as m\n",
        "print(m.pi)\n",
        "\n",
        "import random\n",
        "print(random.randint(1,6))\n",
        "\n",
        "import datetime\n",
        "today = datetime.datetime. now()\n",
        "print(today)\n",
        "\n",
        "import calendar\n",
        "print(calendar.month(2026, 6))\n",
        "print(calendar.isleap(2028))\n",
        "\n",
        "\n"
      ],
      "metadata": {
        "colab": {
          "base_uri": "https://localhost:8080/"
        },
        "id": "uGuvMypNJJSI",
        "outputId": "d4c49f73-3fa6-45d0-f335-b72d94ed7b3c"
      },
      "execution_count": 12,
      "outputs": [
        {
          "output_type": "stream",
          "name": "stdout",
          "text": [
            "5.0\n",
            "3.141592653589793\n",
            "5.0\n",
            "3.141592653589793\n",
            "4\n",
            "2024-02-08 14:44:21.497369\n",
            "     June 2026\n",
            "Mo Tu We Th Fr Sa Su\n",
            " 1  2  3  4  5  6  7\n",
            " 8  9 10 11 12 13 14\n",
            "15 16 17 18 19 20 21\n",
            "22 23 24 25 26 27 28\n",
            "29 30\n",
            "\n",
            "True\n"
          ]
        }
      ]
    },
    {
      "cell_type": "code",
      "source": [
        "from math import *\n",
        "print(sqrt(64))\n",
        "\n",
        "# shows the lists of modules\n",
        "dir()\n",
        "print (\"List of functions\",dir(str), end=\"\")\n"
      ],
      "metadata": {
        "colab": {
          "base_uri": "https://localhost:8080/"
        },
        "id": "wjNFOZcXL2FF",
        "outputId": "7d3a8e20-8893-4b24-d3fc-ce69a8f64b45"
      },
      "execution_count": 16,
      "outputs": [
        {
          "output_type": "stream",
          "name": "stdout",
          "text": [
            "8.0\n",
            "List of functions ['__add__', '__class__', '__contains__', '__delattr__', '__dir__', '__doc__', '__eq__', '__format__', '__ge__', '__getattribute__', '__getitem__', '__getnewargs__', '__gt__', '__hash__', '__init__', '__init_subclass__', '__iter__', '__le__', '__len__', '__lt__', '__mod__', '__mul__', '__ne__', '__new__', '__reduce__', '__reduce_ex__', '__repr__', '__rmod__', '__rmul__', '__setattr__', '__sizeof__', '__str__', '__subclasshook__', 'capitalize', 'casefold', 'center', 'count', 'encode', 'endswith', 'expandtabs', 'find', 'format', 'format_map', 'index', 'isalnum', 'isalpha', 'isascii', 'isdecimal', 'isdigit', 'isidentifier', 'islower', 'isnumeric', 'isprintable', 'isspace', 'istitle', 'isupper', 'join', 'ljust', 'lower', 'lstrip', 'maketrans', 'partition', 'removeprefix', 'removesuffix', 'replace', 'rfind', 'rindex', 'rjust', 'rpartition', 'rsplit', 'rstrip', 'split', 'splitlines', 'startswith', 'strip', 'swapcase', 'title', 'translate', 'upper', 'zfill']"
          ]
        }
      ]
    },
    {
      "cell_type": "code",
      "source": [
        "import os\n",
        "\n",
        "cwd = os.getcwd()\n",
        "\n",
        "print(\"The current working directory is: \", cwd)\n",
        "files_files = os.listdir(cwd)\n",
        "files_files\n",
        "\n"
      ],
      "metadata": {
        "colab": {
          "base_uri": "https://localhost:8080/"
        },
        "id": "StdZqYxENdq4",
        "outputId": "b2956391-856b-4d5f-f18f-d5a43c30445d"
      },
      "execution_count": 17,
      "outputs": [
        {
          "output_type": "stream",
          "name": "stdout",
          "text": [
            "The current working directory is:  /content\n"
          ]
        },
        {
          "output_type": "execute_result",
          "data": {
            "text/plain": [
              "['.config', 'sample_data']"
            ]
          },
          "metadata": {},
          "execution_count": 17
        }
      ]
    },
    {
      "cell_type": "code",
      "source": [
        "import json\n",
        "\n",
        "data = {\n",
        "\n",
        "        \"name\": \"john\",\n",
        "        \"age\" : \"65\",\n",
        "        \"City\": \"Lisbon\"\n",
        "}\n",
        "\n",
        "json_dt = json.dumps(data)\n",
        "print(json_dt)\n",
        "\n",
        "#decode\n",
        "decode_dt = json.loads(json_dt)\n",
        "decode_dt"
      ],
      "metadata": {
        "colab": {
          "base_uri": "https://localhost:8080/"
        },
        "id": "4Piz-aZ1OUL8",
        "outputId": "328a149c-1c28-4434-feab-010c414d5ddc"
      },
      "execution_count": 19,
      "outputs": [
        {
          "output_type": "stream",
          "name": "stdout",
          "text": [
            "{\"name\": \"john\", \"age\": \"65\", \"City\": \"Lisbon\"}\n"
          ]
        },
        {
          "output_type": "execute_result",
          "data": {
            "text/plain": [
              "{'name': 'john', 'age': '65', 'City': 'Lisbon'}"
            ]
          },
          "metadata": {},
          "execution_count": 19
        }
      ]
    },
    {
      "cell_type": "code",
      "source": [
        "# Encoded string\n",
        "encoded_string = b'Hello, world!'\n",
        "\n",
        "# Decoding using UTF-8\n",
        "decoded_string = encoded_string.decode('utf-8')\n",
        "\n",
        "print(decoded_string)\n"
      ],
      "metadata": {
        "colab": {
          "base_uri": "https://localhost:8080/"
        },
        "id": "EDn60ZaZPtA7",
        "outputId": "746e287c-084b-4d76-bb94-a3e7e381da0c"
      },
      "execution_count": 20,
      "outputs": [
        {
          "output_type": "stream",
          "name": "stdout",
          "text": [
            "Hello, world!\n"
          ]
        }
      ]
    },
    {
      "cell_type": "code",
      "source": [
        "import base64\n",
        "\n",
        "# Encoded string\n",
        "encoded_string = b'SGVsbG8sIHdvcmxkIQ=='\n",
        "\n",
        "# Decoding using Base64\n",
        "decoded_string = base64.b64decode(encoded_string).decode('utf-8')\n",
        "\n",
        "print(decoded_string)\n"
      ],
      "metadata": {
        "colab": {
          "base_uri": "https://localhost:8080/"
        },
        "id": "CCJdgIl2PyXL",
        "outputId": "e0189857-a4bd-4146-c4fa-c5c7c860d353"
      },
      "execution_count": 21,
      "outputs": [
        {
          "output_type": "stream",
          "name": "stdout",
          "text": [
            "Hello, world!\n"
          ]
        }
      ]
    }
  ]
}