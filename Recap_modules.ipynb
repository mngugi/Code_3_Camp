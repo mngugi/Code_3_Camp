{
  "nbformat": 4,
  "nbformat_minor": 0,
  "metadata": {
    "colab": {
      "provenance": [],
      "authorship_tag": "ABX9TyNurakDbUU+r0mDDQummIJg",
      "include_colab_link": true
    },
    "kernelspec": {
      "name": "python3",
      "display_name": "Python 3"
    },
    "language_info": {
      "name": "python"
    }
  },
  "cells": [
    {
      "cell_type": "markdown",
      "metadata": {
        "id": "view-in-github",
        "colab_type": "text"
      },
      "source": [
        "<a href=\"https://colab.research.google.com/github/mngugi/Code_3_Camp/blob/main/Recap_modules.ipynb\" target=\"_parent\"><img src=\"https://colab.research.google.com/assets/colab-badge.svg\" alt=\"Open In Colab\"/></a>"
      ]
    },
    {
      "cell_type": "code",
      "execution_count": null,
      "metadata": {
        "colab": {
          "base_uri": "https://localhost:8080/"
        },
        "id": "yxocPk6cIlTS",
        "outputId": "5d6ead0c-01ee-4624-bacc-58c0820b6d42"
      },
      "outputs": [
        {
          "output_type": "stream",
          "name": "stdout",
          "text": [
            "Python has over 200 modules!\n"
          ]
        }
      ],
      "source": [
        "import math\n",
        "import random\n",
        "import datetime\n",
        "\n",
        "print (\"Python has over 200 modules!\")"
      ]
    },
    {
      "cell_type": "code",
      "source": [
        "from re import M\n",
        "#importing the standard math module\n",
        "import math\n",
        "print(math.sqrt(25))\n",
        "\n",
        "from math import pi\n",
        "\n",
        "print(pi)\n",
        "\n",
        "from math import sqrt\n",
        "\n",
        "print(sqrt(25))\n",
        "\n",
        "\n",
        "import math as m\n",
        "print(m.pi)\n",
        "\n",
        "import random\n",
        "print(random.randint(1,6))\n",
        "\n",
        "import datetime\n",
        "today = datetime.datetime. now()\n",
        "print(today)\n",
        "\n",
        "import calendar\n",
        "print(calendar.month(2026, 6))\n",
        "print(calendar.isleap(2028))\n",
        "\n",
        "\n"
      ],
      "metadata": {
        "colab": {
          "base_uri": "https://localhost:8080/"
        },
        "id": "uGuvMypNJJSI",
        "outputId": "d4c49f73-3fa6-45d0-f335-b72d94ed7b3c"
      },
      "execution_count": null,
      "outputs": [
        {
          "output_type": "stream",
          "name": "stdout",
          "text": [
            "5.0\n",
            "3.141592653589793\n",
            "5.0\n",
            "3.141592653589793\n",
            "4\n",
            "2024-02-08 14:44:21.497369\n",
            "     June 2026\n",
            "Mo Tu We Th Fr Sa Su\n",
            " 1  2  3  4  5  6  7\n",
            " 8  9 10 11 12 13 14\n",
            "15 16 17 18 19 20 21\n",
            "22 23 24 25 26 27 28\n",
            "29 30\n",
            "\n",
            "True\n"
          ]
        }
      ]
    },
    {
      "cell_type": "code",
      "source": [
        "from math import *\n",
        "print(sqrt(64))\n",
        "\n",
        "# shows the lists of modules\n",
        "dir()\n",
        "print (\"List of functions\",dir(str), end=\"\")\n"
      ],
      "metadata": {
        "colab": {
          "base_uri": "https://localhost:8080/"
        },
        "id": "wjNFOZcXL2FF",
        "outputId": "7d3a8e20-8893-4b24-d3fc-ce69a8f64b45"
      },
      "execution_count": null,
      "outputs": [
        {
          "output_type": "stream",
          "name": "stdout",
          "text": [
            "8.0\n",
            "List of functions ['__add__', '__class__', '__contains__', '__delattr__', '__dir__', '__doc__', '__eq__', '__format__', '__ge__', '__getattribute__', '__getitem__', '__getnewargs__', '__gt__', '__hash__', '__init__', '__init_subclass__', '__iter__', '__le__', '__len__', '__lt__', '__mod__', '__mul__', '__ne__', '__new__', '__reduce__', '__reduce_ex__', '__repr__', '__rmod__', '__rmul__', '__setattr__', '__sizeof__', '__str__', '__subclasshook__', 'capitalize', 'casefold', 'center', 'count', 'encode', 'endswith', 'expandtabs', 'find', 'format', 'format_map', 'index', 'isalnum', 'isalpha', 'isascii', 'isdecimal', 'isdigit', 'isidentifier', 'islower', 'isnumeric', 'isprintable', 'isspace', 'istitle', 'isupper', 'join', 'ljust', 'lower', 'lstrip', 'maketrans', 'partition', 'removeprefix', 'removesuffix', 'replace', 'rfind', 'rindex', 'rjust', 'rpartition', 'rsplit', 'rstrip', 'split', 'splitlines', 'startswith', 'strip', 'swapcase', 'title', 'translate', 'upper', 'zfill']"
          ]
        }
      ]
    },
    {
      "cell_type": "code",
      "source": [
        "import os\n",
        "\n",
        "cwd = os.getcwd()\n",
        "\n",
        "print(\"The current working directory is: \", cwd)\n",
        "files_files = os.listdir(cwd)\n",
        "files_files\n",
        "\n"
      ],
      "metadata": {
        "colab": {
          "base_uri": "https://localhost:8080/"
        },
        "id": "StdZqYxENdq4",
        "outputId": "b2956391-856b-4d5f-f18f-d5a43c30445d"
      },
      "execution_count": null,
      "outputs": [
        {
          "output_type": "stream",
          "name": "stdout",
          "text": [
            "The current working directory is:  /content\n"
          ]
        },
        {
          "output_type": "execute_result",
          "data": {
            "text/plain": [
              "['.config', 'sample_data']"
            ]
          },
          "metadata": {},
          "execution_count": 17
        }
      ]
    },
    {
      "cell_type": "code",
      "source": [
        "import json\n",
        "\n",
        "data = {\n",
        "\n",
        "        \"name\": \"john\",\n",
        "        \"age\" : \"65\",\n",
        "        \"City\": \"Lisbon\"\n",
        "}\n",
        "\n",
        "json_dt = json.dumps(data)\n",
        "print(json_dt)\n",
        "\n",
        "#decode\n",
        "decode_dt = json.loads(json_dt)\n",
        "decode_dt"
      ],
      "metadata": {
        "colab": {
          "base_uri": "https://localhost:8080/"
        },
        "id": "4Piz-aZ1OUL8",
        "outputId": "328a149c-1c28-4434-feab-010c414d5ddc"
      },
      "execution_count": null,
      "outputs": [
        {
          "output_type": "stream",
          "name": "stdout",
          "text": [
            "{\"name\": \"john\", \"age\": \"65\", \"City\": \"Lisbon\"}\n"
          ]
        },
        {
          "output_type": "execute_result",
          "data": {
            "text/plain": [
              "{'name': 'john', 'age': '65', 'City': 'Lisbon'}"
            ]
          },
          "metadata": {},
          "execution_count": 19
        }
      ]
    },
    {
      "cell_type": "code",
      "source": [
        "# Encoded string\n",
        "encoded_string = b'Hello, world!'\n",
        "\n",
        "# Decoding using UTF-8\n",
        "decoded_string = encoded_string.decode('utf-8')\n",
        "\n",
        "print(decoded_string)\n"
      ],
      "metadata": {
        "colab": {
          "base_uri": "https://localhost:8080/"
        },
        "id": "EDn60ZaZPtA7",
        "outputId": "746e287c-084b-4d76-bb94-a3e7e381da0c"
      },
      "execution_count": null,
      "outputs": [
        {
          "output_type": "stream",
          "name": "stdout",
          "text": [
            "Hello, world!\n"
          ]
        }
      ]
    },
    {
      "cell_type": "code",
      "source": [
        "import base64\n",
        "\n",
        "# Encoded string\n",
        "encoded_string = b'SGVsbG8sIHdvcmxkIQ=='\n",
        "\n",
        "# Decoding using Base64\n",
        "decoded_string = base64.b64decode(encoded_string).decode('utf-8')\n",
        "\n",
        "print(decoded_string)\n"
      ],
      "metadata": {
        "colab": {
          "base_uri": "https://localhost:8080/"
        },
        "id": "CCJdgIl2PyXL",
        "outputId": "e0189857-a4bd-4146-c4fa-c5c7c860d353"
      },
      "execution_count": null,
      "outputs": [
        {
          "output_type": "stream",
          "name": "stdout",
          "text": [
            "Hello, world!\n"
          ]
        }
      ]
    },
    {
      "cell_type": "code",
      "source": [
        "'''\n",
        "os.chmod(path,, mode)\n",
        "os.chown()\n",
        "'''"
      ],
      "metadata": {
        "colab": {
          "base_uri": "https://localhost:8080/",
          "height": 34
        },
        "id": "Dv-LelCKQqCa",
        "outputId": "cbeb7088-e2f7-40a2-e0fd-2c518f8b1dff"
      },
      "execution_count": null,
      "outputs": [
        {
          "output_type": "execute_result",
          "data": {
            "text/plain": [
              "'\\nos.chmod(path,, mode)\\nos.chown()\\n'"
            ],
            "application/vnd.google.colaboratory.intrinsic+json": {
              "type": "string"
            }
          },
          "metadata": {},
          "execution_count": 22
        }
      ]
    },
    {
      "cell_type": "code",
      "source": [
        "from IPython.core.magic import register_line_magic\n",
        "\n",
        "@register_line_magic\n",
        "def add(a, b):\n",
        "  return a + b\n",
        "\n",
        "def add(a, b):\n",
        "  return a - b\n",
        "\n",
        "\n",
        "def add(a, b):\n",
        "  return a * b\n",
        "\n",
        "def add(a, b):\n",
        "  return a / b\n"
      ],
      "metadata": {
        "id": "NDIQqZumRjbA"
      },
      "execution_count": null,
      "outputs": []
    },
    {
      "cell_type": "code",
      "source": [
        "#OOP\n",
        "# objects(instances)\n",
        "# properties(attributes)\n",
        "#methods(behaviors)\n",
        "\n",
        "\n",
        "class Person:\n",
        "    gender = \"male\" #class attribute\n",
        "\n",
        "    def __init__(self,name, age):  # initializes the instance attributes\n",
        "        self.name = name   #instance attribute\n",
        "        self.age = age     #instance attribute\n",
        "\n",
        "    def say_hello(self):\n",
        "        print(f\"Hello, my name is {self.name}, my age is {self.age}\")\n",
        "\n",
        "person1 = Person(\"Alice\", 25)\n",
        "print(person1.name)\n",
        "person2 = Person(\"Bob\", 30)\n",
        "print(person2.age)\n",
        "\n",
        "\n",
        "person2.say_hello()\n",
        "\n",
        "\n",
        "class Car:\n",
        "    category = \"Automobile\"\n",
        "\n",
        "    def __init__(self, make, model, year):\n",
        "        self.make =make\n",
        "        self.model =model\n",
        "        self.year = year\n",
        "        self.mileage = 0\n",
        "\n",
        "    def drive(self, miles):\n",
        "        self.mileage += miles\n",
        "        print(\"the car has been driven {miles} miles\")\n",
        "\n",
        "    def display_info(self):\n",
        "        print(f\"Make {self.make}, Model {self.model}, year {self.year}, mileage {self.mileage}\")\n",
        "\n",
        "\n",
        "car1 = Car(\"Toyota\", \"Mazda\", 2018)\n",
        "\n",
        "\n"
      ],
      "metadata": {
        "colab": {
          "base_uri": "https://localhost:8080/"
        },
        "id": "MvHsljJcXCC0",
        "outputId": "cd75e9c9-9ae9-4602-a0d4-ea06c386e342"
      },
      "execution_count": null,
      "outputs": [
        {
          "output_type": "stream",
          "name": "stdout",
          "text": [
            "Alice\n",
            "30\n",
            "Hello, my name is Bob, my age is 30\n"
          ]
        }
      ]
    },
    {
      "cell_type": "code",
      "source": [
        "#OOP\n",
        "# objects(instances)\n",
        "# properties(attributes)\n",
        "#methods(behaviors)\n",
        "\n",
        "# example 1:\n",
        "class Person:\n",
        "    gender = 'male'  # Class attribute\n",
        "\n",
        "    def __init__(self, name, age):\n",
        "        self.name = name  # Instance attribute\n",
        "        self.age = age    # Instance attribute\n",
        "\n",
        "    def say_hello(self):\n",
        "        print(f\"Hello, my name is {self.name} and I'm {self.age} years old.\")\n",
        "\n",
        "# Creating objects\n",
        "student1 = Person('Adrian', 35)\n",
        "student2 = Person('Lona', 22)\n",
        "\n",
        "# Accessing attributes and methods\n",
        "student1.say_hello()\n",
        "print(student1.name)\n",
        "\n",
        "# Accessing class attribute\n",
        "print('This is a class attribute:', Person.gender)\n",
        "\n",
        "\n",
        "\n",
        "# example 2:\n",
        "class Car:\n",
        "    category = \"Automobile\"\n",
        "\n",
        "    def __init__(self, make, model, year):\n",
        "        self.make =make\n",
        "        self.model =model\n",
        "        self.year = year\n",
        "        self.mileage = 0\n",
        "\n",
        "    def drive(self, miles):\n",
        "        self.mileage += miles\n",
        "        print(f\"the car has been driven {miles} miles. Total mileage: {self.mileage}\")\n",
        "\n",
        "    def display_info(self):\n",
        "        print(f\"Make {self.make}, Model {self.model}, year {self.year}, mileage {self.mileage}\")\n",
        "\n",
        "\n",
        "car1 = Car(\"Toyota\", \"Kluga\", 2018)\n",
        "car1.drive(100)\n",
        "car1.display_info()\n",
        "car1.drive(100)\n",
        "\n",
        "\n",
        "# Working with Private Attributes\n",
        "class Email:\n",
        "    __read = False   # Private attribute\n",
        "\n",
        "    def __init__(self, subject, body):\n",
        "        self.subject = subject\n",
        "        self._body = body  # Protected attribute\n",
        "\n",
        "    def mark_as_read(self):\n",
        "        self.__read = True\n",
        "\n",
        "    def is_read(self):\n",
        "        return self.__read\n",
        "\n",
        "    def is_spam(self):\n",
        "        return \"you won 1 million\" in self.subject\n",
        "\n",
        "# Creating an Email object\n",
        "e = Email(\"Check this out\", \"There are a bunch of free online courses here: https://course.online\")\n",
        "print(e.is_spam())\n",
        "print(e.mark_as_read())\n",
        "print(e.is_read())\n",
        "\n",
        "\n",
        "#INHERITANCE OF A CLASS\n",
        "class Student(Person):\n",
        "    def __init__(self, name, age, student_id):\n",
        "        super().__init__(name, age)\n",
        "        self.student_id = student_id\n",
        "\n",
        "\n",
        "    def study(self):\n",
        "        print(f\"{self.name} is studying\")\n",
        "\n",
        "student = Student(\"John\", 20, \"ABC123\")\n",
        "student.say_hello()\n",
        "student.study()\n",
        "\n",
        "\n",
        "# Encapsulation\n",
        "# Polymophism\n",
        "\n",
        "\n",
        "\n",
        "\n",
        "\n",
        "\n",
        "\n",
        "\n",
        "\n",
        "\n",
        "\n",
        "\n",
        "\n",
        "\n"
      ],
      "metadata": {
        "id": "mbC1eH38stP6",
        "outputId": "71b25fd1-50a9-4e99-9df0-b2c5d660c91a",
        "colab": {
          "base_uri": "https://localhost:8080/"
        }
      },
      "execution_count": null,
      "outputs": [
        {
          "output_type": "stream",
          "name": "stdout",
          "text": [
            "Hello, my name is Adrian and I'm 35 years old.\n",
            "Adrian\n",
            "This is a class attribute: male\n",
            "the car has been driven 100 miles. Total mileage: 100\n",
            "Make Toyota, Model Mazda, year 2018, mileage 100\n",
            "the car has been driven 100 miles. Total mileage: 200\n",
            "False\n",
            "None\n",
            "True\n",
            "Hello, my name is John and I'm 20 years old.\n",
            "John is studying\n"
          ]
        }
      ]
    }
  ]
}