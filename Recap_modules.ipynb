{
  "nbformat": 4,
  "nbformat_minor": 0,
  "metadata": {
    "colab": {
      "provenance": [],
      "authorship_tag": "ABX9TyOq85KAFLLLE+/8rwDIrVGX",
      "include_colab_link": true
    },
    "kernelspec": {
      "name": "python3",
      "display_name": "Python 3"
    },
    "language_info": {
      "name": "python"
    }
  },
  "cells": [
    {
      "cell_type": "markdown",
      "metadata": {
        "id": "view-in-github",
        "colab_type": "text"
      },
      "source": [
        "<a href=\"https://colab.research.google.com/github/mngugi/Code_3_Camp/blob/main/Recap_modules.ipynb\" target=\"_parent\"><img src=\"https://colab.research.google.com/assets/colab-badge.svg\" alt=\"Open In Colab\"/></a>"
      ]
    },
    {
      "cell_type": "code",
      "execution_count": 2,
      "metadata": {
        "colab": {
          "base_uri": "https://localhost:8080/"
        },
        "id": "yxocPk6cIlTS",
        "outputId": "5d6ead0c-01ee-4624-bacc-58c0820b6d42"
      },
      "outputs": [
        {
          "output_type": "stream",
          "name": "stdout",
          "text": [
            "Python has over 200 modules!\n"
          ]
        }
      ],
      "source": [
        "import math\n",
        "import random\n",
        "import datetime\n",
        "\n",
        "print (\"Python has over 200 modules!\")"
      ]
    },
    {
      "cell_type": "code",
      "source": [
        "from re import M\n",
        "#importing the standard math module\n",
        "import math\n",
        "print(math.sqrt(25))\n",
        "\n",
        "from math import pi\n",
        "\n",
        "print(pi)\n",
        "\n",
        "from math import sqrt\n",
        "\n",
        "print(sqrt(25))\n",
        "\n",
        "\n",
        "import math as m\n",
        "print(m.pi)\n",
        "\n",
        "import random\n",
        "print(random.randint(1,6))\n",
        "\n",
        "import datetime\n",
        "today = datetime.datetime. now()\n",
        "print(today)"
      ],
      "metadata": {
        "colab": {
          "base_uri": "https://localhost:8080/"
        },
        "id": "uGuvMypNJJSI",
        "outputId": "371a2b4a-c7b3-442b-e6fd-830eb5afdaf6"
      },
      "execution_count": 10,
      "outputs": [
        {
          "output_type": "stream",
          "name": "stdout",
          "text": [
            "5.0\n",
            "3.141592653589793\n",
            "5.0\n",
            "3.141592653589793\n",
            "2\n",
            "2024-02-08 14:41:42.391597\n"
          ]
        }
      ]
    }
  ]
}