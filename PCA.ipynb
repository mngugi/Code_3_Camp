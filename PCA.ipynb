{
 "cells": [
  {
   "cell_type": "code",
   "execution_count": 4,
   "id": "690a67ee-d142-40c4-aec3-48cb637ce4ec",
   "metadata": {},
   "outputs": [
    {
     "name": "stdout",
     "output_type": "stream",
     "text": [
      "Piece 1: Length = 47.5 units, Width = 22.5 units\n",
      "Gap 1: Length = 5 units, Width = 50 units\n",
      "Piece 2: Length = 47.5 units, Width = 22.5 units\n"
     ]
    }
   ],
   "source": [
    "# Dimensions of the land\n",
    "total_length = 100  # Length of the land\n",
    "total_width = 50    # Width of the land\n",
    "num_pieces = 2      # Number of subdivisions\n",
    "\n",
    "# Desired gap between pieces\n",
    "gap = 5  # You can adjust this as needed\n",
    "\n",
    "# Calculate dimensions of each piece after accounting for the gap\n",
    "piece_length = (total_length - (num_pieces - 1) * gap) / num_pieces\n",
    "piece_width = (total_width - (num_pieces - 1) * gap) / num_pieces\n",
    "\n",
    "# Display the dimensions of each piece\n",
    "for i in range(num_pieces):\n",
    "    print(f\"Piece {i+1}: Length = {piece_length} units, Width = {piece_width} units\")\n",
    "    if i < num_pieces - 1:\n",
    "        print(f\"Gap {i+1}: Length = {gap} units, Width = {total_width} units\")\n"
   ]
  },
  {
   "cell_type": "code",
   "execution_count": 5,
   "id": "45cb6667-c169-475e-9b91-1824b91d1389",
   "metadata": {},
   "outputs": [
    {
     "name": "stdout",
     "output_type": "stream",
     "text": [
      "Explained Variance Ratio: [0.09488969 0.08703136]\n",
      "Shape of X after PCA: (100, 2)\n"
     ]
    }
   ],
   "source": [
    "import numpy as np\n",
    "from sklearn.decomposition import PCA\n",
    "\n",
    "# Create some random high-dimensional data\n",
    "np.random.seed(42)\n",
    "X = np.random.rand(100, 20)  # 100 samples, 20 features\n",
    "\n",
    "# Initialize PCA and fit the data\n",
    "pca = PCA(n_components=2)  # Reduce to 2 dimensions\n",
    "X_pca = pca.fit_transform(X)\n",
    "\n",
    "# Print the explained variance ratio\n",
    "print(\"Explained Variance Ratio:\", pca.explained_variance_ratio_)\n",
    "\n",
    "# Now X_pca has 2 dimensions\n",
    "print(\"Shape of X after PCA:\", X_pca.shape)\n"
   ]
  },
  {
   "cell_type": "code",
   "execution_count": 7,
   "id": "e3549eb1-055c-4ab1-8353-a037cd683dfa",
   "metadata": {},
   "outputs": [
    {
     "name": "stdout",
     "output_type": "stream",
     "text": [
      "Data point: 10, Z-score: -1.31\n",
      "Data point: 12, Z-score: -0.98\n",
      "Data point: 13, Z-score: -0.81\n",
      "Data point: 14, Z-score: -0.65\n",
      "Data point: 15, Z-score: -0.48\n",
      "Data point: 18, Z-score: 0.02\n",
      "Data point: 20, Z-score: 0.35\n",
      "Data point: 22, Z-score: 0.68\n",
      "Data point: 25, Z-score: 1.18\n",
      "Data point: 30, Z-score: 2.01\n"
     ]
    }
   ],
   "source": [
    "import scipy.stats as stats\n",
    "\n",
    "# Sample data\n",
    "data = [10, 12, 13, 14, 15, 18, 20, 22, 25, 30]\n",
    "\n",
    "# Calculate z-scores\n",
    "z_scores = stats.zscore(data)\n",
    "\n",
    "# Print z-scores\n",
    "for i, z in enumerate(z_scores):\n",
    "    print(f\"Data point: {data[i]}, Z-score: {z:.2f}\")\n"
   ]
  },
  {
   "cell_type": "code",
   "execution_count": null,
   "id": "748e3b00-f900-472f-9997-6d71dbedbb87",
   "metadata": {},
   "outputs": [],
   "source": []
  }
 ],
 "metadata": {
  "kernelspec": {
   "display_name": "Python 3 (ipykernel)",
   "language": "python",
   "name": "python3"
  },
  "language_info": {
   "codemirror_mode": {
    "name": "ipython",
    "version": 3
   },
   "file_extension": ".py",
   "mimetype": "text/x-python",
   "name": "python",
   "nbconvert_exporter": "python",
   "pygments_lexer": "ipython3",
   "version": "3.12.2"
  }
 },
 "nbformat": 4,
 "nbformat_minor": 5
}
