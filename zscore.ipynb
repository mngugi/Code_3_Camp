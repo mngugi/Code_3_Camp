{
  "nbformat": 4,
  "nbformat_minor": 0,
  "metadata": {
    "colab": {
      "provenance": [],
      "authorship_tag": "ABX9TyM9HwZNlJd36aUpGc6a8bPJ",
      "include_colab_link": true
    },
    "kernelspec": {
      "name": "python3",
      "display_name": "Python 3"
    },
    "language_info": {
      "name": "python"
    }
  },
  "cells": [
    {
      "cell_type": "markdown",
      "metadata": {
        "id": "view-in-github",
        "colab_type": "text"
      },
      "source": [
        "<a href=\"https://colab.research.google.com/github/mngugi/Code_3_Camp/blob/main/zscore.ipynb\" target=\"_parent\"><img src=\"https://colab.research.google.com/assets/colab-badge.svg\" alt=\"Open In Colab\"/></a>"
      ]
    },
    {
      "cell_type": "code",
      "execution_count": 3,
      "metadata": {
        "colab": {
          "base_uri": "https://localhost:8080/"
        },
        "id": "aceLXMm8FuF0",
        "outputId": "f992b40c-92e2-4af8-874d-628a49f9697f"
      },
      "outputs": [
        {
          "output_type": "execute_result",
          "data": {
            "text/plain": [
              "array([-1.39443338, -1.19522861, -1.19522861, -0.19920477,  0.        ,\n",
              "        0.        ,  0.39840954,  0.5976143 ,  1.19522861,  1.79284291])"
            ]
          },
          "metadata": {},
          "execution_count": 3
        }
      ],
      "source": [
        "import pandas as pd\n",
        "\n",
        "import numpy as np\n",
        "\n",
        "import scipy.stats as stats\n",
        "\n",
        "import seaborn as sns\n",
        "\n",
        "dt = np.array ([6,7,7,12,13,13,15,16,19,22])\n",
        "\n",
        "stats.zscore(dt)"
      ]
    },
    {
      "cell_type": "code",
      "source": [
        "from scipy.stats import chi2_contingency\n",
        "dt =[[201,282,241],[234,242,232]]\n",
        "stats,p,dof, expected = chi2_contingency(dt)\n",
        "\n",
        "alpha = 0.05\n",
        "print('p_value is:' +str(p))\n",
        "\n",
        "if p <= alpha:\n",
        "  print('reject Ho')\n",
        "\n",
        "else:\n",
        "  print('fail to reject Ho')"
      ],
      "metadata": {
        "colab": {
          "base_uri": "https://localhost:8080/"
        },
        "id": "TaWEebGvNe9e",
        "outputId": "c56bf117-83e6-406c-9bbd-acdfb727cfee"
      },
      "execution_count": 7,
      "outputs": [
        {
          "output_type": "stream",
          "name": "stdout",
          "text": [
            "p_value is:0.06234783483807342\n",
            "fail to reject Ho\n"
          ]
        }
      ]
    }
  ]
}