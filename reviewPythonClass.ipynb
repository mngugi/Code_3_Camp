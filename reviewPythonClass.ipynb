{
  "nbformat": 4,
  "nbformat_minor": 0,
  "metadata": {
    "colab": {
      "provenance": [],
      "authorship_tag": "ABX9TyM4R9yGDoA4e70ULAJT5P3J",
      "include_colab_link": true
    },
    "kernelspec": {
      "name": "python3",
      "display_name": "Python 3"
    },
    "language_info": {
      "name": "python"
    }
  },
  "cells": [
    {
      "cell_type": "markdown",
      "metadata": {
        "id": "view-in-github",
        "colab_type": "text"
      },
      "source": [
        "<a href=\"https://colab.research.google.com/github/mngugi/Code_3_Camp/blob/main/reviewPythonClass.ipynb\" target=\"_parent\"><img src=\"https://colab.research.google.com/assets/colab-badge.svg\" alt=\"Open In Colab\"/></a>"
      ]
    },
    {
      "cell_type": "code",
      "execution_count": 2,
      "metadata": {
        "colab": {
          "base_uri": "https://localhost:8080/"
        },
        "id": "1s__AUwcsnJm",
        "outputId": "25fdd1ed-9d41-44fc-dc58-8bee9a13e27a"
      },
      "outputs": [
        {
          "output_type": "stream",
          "name": "stdout",
          "text": [
            "Anything\n",
            "<class 'int'>\n",
            "<class 'float'>\n",
            "<class 'float'>\n"
          ]
        }
      ],
      "source": [
        "# print (\"string output\")\n",
        "print(\"Anything\")\n",
        "\n",
        "#variables\n",
        "fav_food = \"Ugali Nyama\"\n",
        "\n",
        "#add\n",
        "Age = 20 #int\n",
        "pi = 3.14 #float\n",
        "\n",
        "print(type(Age))\n",
        "print(type(pi))\n",
        "\n",
        "print(type(Age + pi))"
      ]
    },
    {
      "cell_type": "code",
      "source": [
        "multiline_string = '''\n",
        "New Kaggle Notebooks <> Colab updates! Now you can:\n",
        "\n",
        "    Import directly from Colab without having to download/re-upload\n",
        "\n",
        "'''\n",
        "\n",
        "multiline_string"
      ],
      "metadata": {
        "colab": {
          "base_uri": "https://localhost:8080/",
          "height": 34
        },
        "id": "cu8bRma-uT92",
        "outputId": "4dba0eaf-3677-46cf-e0d6-6cbe2bfaf065"
      },
      "execution_count": 3,
      "outputs": [
        {
          "output_type": "execute_result",
          "data": {
            "text/plain": [
              "'\\nNew Kaggle Notebooks <> Colab updates! Now you can:\\n\\n    Import directly from Colab without having to download/re-upload\\n\\n'"
            ],
            "application/vnd.google.colaboratory.intrinsic+json": {
              "type": "string"
            }
          },
          "metadata": {},
          "execution_count": 3
        }
      ]
    },
    {
      "cell_type": "code",
      "source": [
        "# escape string\n",
        "\n",
        "escape_str = \"he said: \\\"python si ya mamako\\\"\"\n",
        "escape_str"
      ],
      "metadata": {
        "colab": {
          "base_uri": "https://localhost:8080/",
          "height": 34
        },
        "id": "ZgxnlwKhujjD",
        "outputId": "908a2fab-e2a8-4bbf-f861-f1ab4766d37f"
      },
      "execution_count": 4,
      "outputs": [
        {
          "output_type": "execute_result",
          "data": {
            "text/plain": [
              "'he said: \"python si ya mamako\"'"
            ],
            "application/vnd.google.colaboratory.intrinsic+json": {
              "type": "string"
            }
          },
          "metadata": {},
          "execution_count": 4
        }
      ]
    },
    {
      "cell_type": "code",
      "source": [
        "# Concatenate strings using the + operator\n",
        "escaped_str = \"Hello, \"\n",
        "multiline_string = \"\"\"world!\n",
        "How are you today?\"\"\"\n",
        "result = escaped_str + multiline_string\n",
        "\n",
        "# Print the result\n",
        "print(result)\n"
      ],
      "metadata": {
        "colab": {
          "base_uri": "https://localhost:8080/"
        },
        "id": "AUNQsKI5vGfT",
        "outputId": "f2a4ec55-83e1-4dc9-d9dd-7d0ba01428cd"
      },
      "execution_count": 5,
      "outputs": [
        {
          "output_type": "stream",
          "name": "stdout",
          "text": [
            "Hello, world!\n",
            "How are you today?\n"
          ]
        }
      ]
    },
    {
      "cell_type": "code",
      "source": [
        "# extrapolate\n",
        "name1 = 'hot'\n",
        "name2 = 'cold'\n",
        "names = f'\"{name1}{name2}\"'\n",
        "names"
      ],
      "metadata": {
        "colab": {
          "base_uri": "https://localhost:8080/",
          "height": 34
        },
        "id": "Y1bz4GMrv7G2",
        "outputId": "ef960580-209a-4839-d1f9-bcc1744ff8a4"
      },
      "execution_count": 6,
      "outputs": [
        {
          "output_type": "execute_result",
          "data": {
            "text/plain": [
              "'\"hotcold\"'"
            ],
            "application/vnd.google.colaboratory.intrinsic+json": {
              "type": "string"
            }
          },
          "metadata": {},
          "execution_count": 6
        }
      ]
    },
    {
      "cell_type": "code",
      "source": [
        "name = \"Ten Hag\"\n",
        "print(name[4:6])"
      ],
      "metadata": {
        "colab": {
          "base_uri": "https://localhost:8080/"
        },
        "id": "d5iR_UvAwYSs",
        "outputId": "bdaa63ed-5063-4244-df90-baa4b4f32b3c"
      },
      "execution_count": 7,
      "outputs": [
        {
          "output_type": "stream",
          "name": "stdout",
          "text": [
            "Ha\n"
          ]
        }
      ]
    },
    {
      "cell_type": "code",
      "source": [
        "name = \"Montey python\"\n",
        "print(name[:5])"
      ],
      "metadata": {
        "colab": {
          "base_uri": "https://localhost:8080/"
        },
        "id": "bsJ3TIW9wnwV",
        "outputId": "e4dbc44c-2685-43cf-9794-1e8eca79c2da"
      },
      "execution_count": 8,
      "outputs": [
        {
          "output_type": "stream",
          "name": "stdout",
          "text": [
            "Monte\n"
          ]
        }
      ]
    },
    {
      "cell_type": "code",
      "source": [
        "a = True\n",
        "b = False\n",
        "\n",
        "if a is True and b is False:\n",
        "  print(\"yay\")"
      ],
      "metadata": {
        "colab": {
          "base_uri": "https://localhost:8080/"
        },
        "id": "HYfSWfWnxdPc",
        "outputId": "a42c1e87-b448-4f7e-8bc7-0166630c258f"
      },
      "execution_count": 9,
      "outputs": [
        {
          "output_type": "stream",
          "name": "stdout",
          "text": [
            "yay\n"
          ]
        }
      ]
    },
    {
      "cell_type": "code",
      "source": [
        "from pickle import APPEND\n",
        "list: [1,2,3,4,5]\n",
        "mult_types = [True, 3.7, \"Python\", 15]\n",
        "\n",
        "fav_food = [\"Pasta\", \"Toast\", \"Githeri\"]\n",
        "fav_food[0] = \"Beef\"\n",
        "\n",
        "print(fav_food[1:3])\n",
        "print(fav_food[2:2])\n",
        "\n",
        "import numpy as np\n",
        "\n",
        "#APPEND\n",
        "fav_food = [\"roast\", \"pizza\", \"frenchfries\"]\n",
        "fav_food.append(\"paste\")\n",
        "\n",
        "fav_food.insert(1 , \"Soup\")\n",
        "fav_food\n",
        "\n",
        "fav_food.remove(\"pizza\")\n",
        "fav_food\n",
        "\n",
        "print(len(fav_food))"
      ],
      "metadata": {
        "colab": {
          "base_uri": "https://localhost:8080/"
        },
        "id": "AIF9oeA4yYvg",
        "outputId": "c98ca188-da8c-4c4d-da80-5a99a4f4f518"
      },
      "execution_count": 10,
      "outputs": [
        {
          "output_type": "stream",
          "name": "stdout",
          "text": [
            "['Toast', 'Githeri']\n",
            "[]\n",
            "4\n"
          ]
        }
      ]
    },
    {
      "cell_type": "code",
      "source": [
        "fav_drinks = [\"juice\", \"milk\", \"water\"]\n",
        "print(fav_food, fav_drinks)\n",
        "fav = ['roast', 'Soup', 'frenchfries', 'paste','juice', 'milk', 'water']\n",
        "print(fav[1][2])"
      ],
      "metadata": {
        "colab": {
          "base_uri": "https://localhost:8080/"
        },
        "id": "x7hv9Ewg22lN",
        "outputId": "3d32f0f1-372a-4c8f-faf7-8d95c2f70a57"
      },
      "execution_count": 11,
      "outputs": [
        {
          "output_type": "stream",
          "name": "stdout",
          "text": [
            "['roast', 'Soup', 'frenchfries', 'paste'] ['juice', 'milk', 'water']\n",
            "u\n"
          ]
        }
      ]
    },
    {
      "cell_type": "code",
      "source": [
        "fruits = [\"apple\", \"banana\", \"orange\"]\n",
        "\n",
        "new_fruits = [fruits.upper() for fruits in fruits]\n",
        "new_fruits"
      ],
      "metadata": {
        "colab": {
          "base_uri": "https://localhost:8080/"
        },
        "id": "axf78OFV4hET",
        "outputId": "8132ef3e-6daa-4be6-aca7-a4c9420da949"
      },
      "execution_count": 12,
      "outputs": [
        {
          "output_type": "execute_result",
          "data": {
            "text/plain": [
              "['APPLE', 'BANANA', 'ORANGE']"
            ]
          },
          "metadata": {},
          "execution_count": 12
        }
      ]
    },
    {
      "cell_type": "code",
      "source": [
        "# tupples\n",
        "\n",
        "new_tuple = (\"a\",\"b\",\"c\", \"d\", \"e\",\"f\",\"g\" )\n",
        "print(len(new_tuple))\n",
        "print(new_tuple[1:4])\n",
        "\n",
        "print(new_tuple[:3])"
      ],
      "metadata": {
        "colab": {
          "base_uri": "https://localhost:8080/"
        },
        "id": "71tJd6WH5Bal",
        "outputId": "3950da9b-8045-4fd2-b03a-5389bae651ac"
      },
      "execution_count": 13,
      "outputs": [
        {
          "output_type": "stream",
          "name": "stdout",
          "text": [
            "7\n",
            "('b', 'c', 'd')\n",
            "('a', 'b', 'c')\n"
          ]
        }
      ]
    },
    {
      "cell_type": "code",
      "source": [
        "#dictionaries\n",
        "langauages_creator = {\n",
        "        \"Java\" : \"— James Gosling.\",\n",
        "        \"C\": \" — Dennis Ritchie\",\n",
        "    \"JavaScript\" : \" — Brendan Eich\",\n",
        "    \"Python\": \"— Guido van Rossum\",\n",
        "    \"C++\": \"— Bjarne Stroustrup\",\n",
        "    \"PHP\" : \"— Rasmus Lerdorf\",\n",
        "    \"Perl\" : \"— Larry Wall\",\n",
        "    \"Ruby\" : \"— Yukihiro Matsumoto.\"\n",
        "\n",
        "\n",
        "\n",
        "}\n",
        "\n",
        "print(langauages_creator.keys())\n",
        "print(langauages_creator.values())\n",
        "\n"
      ],
      "metadata": {
        "colab": {
          "base_uri": "https://localhost:8080/"
        },
        "id": "qAzGVw6R7Jj8",
        "outputId": "fa000d80-e55d-4222-9a4b-1741cb546486"
      },
      "execution_count": 14,
      "outputs": [
        {
          "output_type": "stream",
          "name": "stdout",
          "text": [
            "dict_keys(['Java', 'C', 'JavaScript', 'Python', 'C++', 'PHP', 'Perl', 'Ruby'])\n",
            "dict_values(['— James Gosling.', ' — Dennis Ritchie', ' — Brendan Eich', '— Guido van Rossum', '— Bjarne Stroustrup', '— Rasmus Lerdorf', '— Larry Wall', '— Yukihiro Matsumoto.'])\n"
          ]
        }
      ]
    },
    {
      "cell_type": "code",
      "source": [
        "#set\n",
        "\n",
        "fruits1 = {\"apple\", \"banana\", \"orange\"}\n",
        "fruits2 = {\"mango\", \"dragonFruit\", \"orange\"}\n",
        "\n",
        "fruits1.add(\"sugarcane\")\n",
        "print(fruits1)\n",
        "\n",
        "item = fruits1.pop()\n",
        "print(item)\n",
        "print(fruits1)"
      ],
      "metadata": {
        "colab": {
          "base_uri": "https://localhost:8080/"
        },
        "id": "eZT2yv729NAD",
        "outputId": "389558d6-fc6e-4584-a14f-a4746f9bc3d1"
      },
      "execution_count": 15,
      "outputs": [
        {
          "output_type": "stream",
          "name": "stdout",
          "text": [
            "{'sugarcane', 'banana', 'apple', 'orange'}\n",
            "sugarcane\n",
            "{'banana', 'apple', 'orange'}\n"
          ]
        }
      ]
    },
    {
      "cell_type": "code",
      "source": [
        "fruits1.discard(\"banana\")\n",
        "print(fruits1)"
      ],
      "metadata": {
        "colab": {
          "base_uri": "https://localhost:8080/"
        },
        "id": "1teULDqt_CQM",
        "outputId": "05b92fe7-d37b-4bdb-ec3e-bae6db9e64cd"
      },
      "execution_count": 16,
      "outputs": [
        {
          "output_type": "stream",
          "name": "stdout",
          "text": [
            "{'apple', 'orange'}\n"
          ]
        }
      ]
    },
    {
      "cell_type": "code",
      "source": [
        "all_fruits = fruits1.union(fruits2)\n",
        "all_fruits"
      ],
      "metadata": {
        "colab": {
          "base_uri": "https://localhost:8080/"
        },
        "id": "02rGseU8_WPZ",
        "outputId": "988a51fd-5454-419c-aafb-a7e5642d7375"
      },
      "execution_count": 17,
      "outputs": [
        {
          "output_type": "execute_result",
          "data": {
            "text/plain": [
              "{'apple', 'dragonFruit', 'mango', 'orange'}"
            ]
          },
          "metadata": {},
          "execution_count": 17
        }
      ]
    },
    {
      "cell_type": "code",
      "source": [
        "# if\n",
        "\n",
        "age = 36\n",
        "\n",
        "if age > 36:\n",
        "  print(\"acha kudate\")\n",
        "\n",
        "elif age >= 36 and age < 69:\n",
        "  print(\"wewe ni mbabaz\")\n",
        "\n",
        "else  :\n",
        "  print(\"Wewe ni guks\")"
      ],
      "metadata": {
        "colab": {
          "base_uri": "https://localhost:8080/"
        },
        "id": "F1ltataeBbAd",
        "outputId": "fcb83f3d-abb9-4e76-d685-8a094e2c9cef"
      },
      "execution_count": 18,
      "outputs": [
        {
          "output_type": "stream",
          "name": "stdout",
          "text": [
            "wewe ni mbabaz\n"
          ]
        }
      ]
    },
    {
      "cell_type": "code",
      "source": [
        "# harsh for comments\n",
        "\n",
        "#breake terminate a loop early or prematurely\n",
        "\n",
        "nums = [1,2,3,4,5]\n",
        "\n",
        "for n in nums:\n",
        "    if nums == 3:\n",
        "        break\n",
        "    elif nums == 2 :\n",
        "        continue\n",
        "\n",
        "print(nums)\n",
        "\n",
        "#try catch\n",
        "\n",
        "try:\n",
        "  result = 10/0\n",
        "\n",
        "except ZeroDivisionError:\n",
        "  print(\"Division by zero error!\")\n",
        "else:\n",
        "  print(\"result\", result)\n",
        "\n",
        "finally:\n",
        "  print(\"Execution Complete!\")\n",
        "\n",
        "\n",
        "try:\n",
        "\n",
        "  x = int (input(\"Enter number:\"))\n",
        "except ValueError:\n",
        "  print(\"This is not a valid number\")\n",
        "finally:\n",
        "  print(\"Thank you for playing!\")\n",
        "x = int (input(\"Enter number:\"))\n",
        "'''\n",
        "if not x.isdigit():\n",
        "     raise ValueError(\"This not a valid number!\")\n",
        "     '''\n",
        "\n"
      ],
      "metadata": {
        "colab": {
          "base_uri": "https://localhost:8080/",
          "height": 139
        },
        "id": "tm3IlP_4zOMX",
        "outputId": "c5c32115-d676-4883-c77a-6dfd401168f3"
      },
      "execution_count": 31,
      "outputs": [
        {
          "name": "stdout",
          "output_type": "stream",
          "text": [
            "[1, 2, 3, 4, 5]\n",
            "Division by zero error!\n",
            "Execution Complete!\n",
            "Enter number:2\n",
            "Thank you for playing!\n",
            "Enter number:2\n"
          ]
        },
        {
          "output_type": "execute_result",
          "data": {
            "text/plain": [
              "'\\nif not x.isdigit():\\n     raise ValueError(\"This not a valid number!\") \\n     '"
            ],
            "application/vnd.google.colaboratory.intrinsic+json": {
              "type": "string"
            }
          },
          "metadata": {},
          "execution_count": 31
        }
      ]
    },
    {
      "cell_type": "code",
      "source": [
        "# file open\n",
        "\n",
        "file = open(\"data.txt\", \"a+\")\n",
        "file.write(\"Hi tupu\")\n",
        "file.seek(0)\n",
        "print(file.read())\n",
        "file.close()\n",
        "\n",
        "\n",
        "if 1==2:\n",
        "  print(\"first\")\n",
        "elif 4==4:\n",
        "  print('second')\n",
        "elif 2==3:\n",
        "  print('middle')\n",
        "else:\n",
        "  print('Last')"
      ],
      "metadata": {
        "colab": {
          "base_uri": "https://localhost:8080/"
        },
        "id": "XPT2T7Ke6aDL",
        "outputId": "dc750a4c-7800-456d-ae52-73574929eb1d"
      },
      "execution_count": 34,
      "outputs": [
        {
          "output_type": "stream",
          "name": "stdout",
          "text": [
            "Hi tupuHi tupu\n",
            "second\n"
          ]
        }
      ]
    },
    {
      "cell_type": "code",
      "source": [
        "# for and while loop\n",
        "\n",
        "for x in [\"apple\", \"banana\", \"orange\"]:\n",
        "  print(x)\n",
        "\n",
        "print('----------\\n')\n",
        "langauages_creator =   langauages_creator = {\n",
        "        \"Java\" : \"— James Gosling.\",\n",
        "        \"C\": \" — Dennis Ritchie\",\n",
        "    \"JavaScript\" : \" — Brendan Eich\",\n",
        "    \"Python\": \"— Guido van Rossum\",\n",
        "    \"C++\": \"— Bjarne Stroustrup\",\n",
        "    \"PHP\" : \"— Rasmus Lerdorf\",\n",
        "    \"Perl\" : \"— Larry Wall\",\n",
        "    \"Ruby\" : \"— Yukihiro Matsumoto.\"\n",
        "\n",
        "\n",
        "}\n",
        "print('----------\\n')\n",
        "for key, value in langauages_creator.items():\n",
        "    print(\"Language: {}; Creator: {}\".format(key, value))\n",
        "\n",
        "print('----------\\n')\n",
        "for i in range(4,10,2):\n",
        "  print(i)\n",
        "\n",
        "print('----------\\n')\n",
        "for j in range(5):\n",
        "  print(j, j**2)\n",
        "\n",
        "\n",
        "print('----------\\n')\n",
        "\n",
        "numbers = [1,2,3,4,5]\n",
        "for b in range(len(numbers)):\n",
        "  print(b, numbers[b])\n"
      ],
      "metadata": {
        "colab": {
          "base_uri": "https://localhost:8080/"
        },
        "id": "iAUy_hPJ9Xz2",
        "outputId": "6c723ea0-d025-4b61-c086-c266b7ed986f"
      },
      "execution_count": 51,
      "outputs": [
        {
          "output_type": "stream",
          "name": "stdout",
          "text": [
            "apple\n",
            "banana\n",
            "orange\n",
            "----------\n",
            "\n",
            "----------\n",
            "\n",
            "Language: Java; Creator: — James Gosling.\n",
            "Language: C; Creator:  — Dennis Ritchie\n",
            "Language: JavaScript; Creator:  — Brendan Eich\n",
            "Language: Python; Creator: — Guido van Rossum\n",
            "Language: C++; Creator: — Bjarne Stroustrup\n",
            "Language: PHP; Creator: — Rasmus Lerdorf\n",
            "Language: Perl; Creator: — Larry Wall\n",
            "Language: Ruby; Creator: — Yukihiro Matsumoto.\n",
            "----------\n",
            "\n",
            "4\n",
            "6\n",
            "8\n",
            "----------\n",
            "\n",
            "0 0\n",
            "1 1\n",
            "2 4\n",
            "3 9\n",
            "4 16\n",
            "----------\n",
            "\n",
            "0 1\n",
            "1 2\n",
            "2 3\n",
            "3 4\n",
            "4 5\n"
          ]
        }
      ]
    }
  ]
}