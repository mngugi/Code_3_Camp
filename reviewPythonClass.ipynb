{
  "nbformat": 4,
  "nbformat_minor": 0,
  "metadata": {
    "colab": {
      "provenance": [],
      "authorship_tag": "ABX9TyO43RQl/TGSxjcwf4sza5xm",
      "include_colab_link": true
    },
    "kernelspec": {
      "name": "python3",
      "display_name": "Python 3"
    },
    "language_info": {
      "name": "python"
    }
  },
  "cells": [
    {
      "cell_type": "markdown",
      "metadata": {
        "id": "view-in-github",
        "colab_type": "text"
      },
      "source": [
        "<a href=\"https://colab.research.google.com/github/mngugi/Code_3_Camp/blob/main/reviewPythonClass.ipynb\" target=\"_parent\"><img src=\"https://colab.research.google.com/assets/colab-badge.svg\" alt=\"Open In Colab\"/></a>"
      ]
    },
    {
      "cell_type": "code",
      "execution_count": 4,
      "metadata": {
        "colab": {
          "base_uri": "https://localhost:8080/"
        },
        "id": "1s__AUwcsnJm",
        "outputId": "138d0201-101b-437d-f9ce-3c97ae5e9b8d"
      },
      "outputs": [
        {
          "output_type": "stream",
          "name": "stdout",
          "text": [
            "Anything\n",
            "<class 'int'>\n",
            "<class 'float'>\n",
            "<class 'float'>\n"
          ]
        }
      ],
      "source": [
        "# print (\"string output\")\n",
        "print(\"Anything\")\n",
        "\n",
        "#variables\n",
        "fav_food = \"Ugali Nyama\"\n",
        "\n",
        "#add\n",
        "Age = 20 #int\n",
        "pi = 3.14 #float\n",
        "\n",
        "print(type(Age))\n",
        "print(type(pi))\n",
        "\n",
        "print(type(Age + pi))"
      ]
    },
    {
      "cell_type": "code",
      "source": [
        "multiline_string = '''\n",
        "New Kaggle Notebooks <> Colab updates! Now you can:\n",
        "\n",
        "    Import directly from Colab without having to download/re-upload\n",
        "\n",
        "'''\n",
        "\n",
        "multiline_string"
      ],
      "metadata": {
        "colab": {
          "base_uri": "https://localhost:8080/",
          "height": 69
        },
        "id": "cu8bRma-uT92",
        "outputId": "864d553a-0dc8-4431-9315-5417c60b2331"
      },
      "execution_count": 5,
      "outputs": [
        {
          "output_type": "execute_result",
          "data": {
            "text/plain": [
              "' \\nNew Kaggle Notebooks <> Colab updates! Now you can:\\n\\n    Import directly from Colab without having to download/re-upload\\n    Upload via link, by pasting Google Drive or Colab URLs\\n    Export & run Kaggle Notebooks on Colab with 1 click\\n\\n\\n'"
            ],
            "application/vnd.google.colaboratory.intrinsic+json": {
              "type": "string"
            }
          },
          "metadata": {},
          "execution_count": 5
        }
      ]
    },
    {
      "cell_type": "code",
      "source": [
        "# escape string\n",
        "\n",
        "escape_str = \"he said: \\\"python si ya mamako\\\"\"\n",
        "escape_str"
      ],
      "metadata": {
        "colab": {
          "base_uri": "https://localhost:8080/",
          "height": 34
        },
        "id": "ZgxnlwKhujjD",
        "outputId": "a25137ee-a38e-435a-a26f-56faf86c7de9"
      },
      "execution_count": 6,
      "outputs": [
        {
          "output_type": "execute_result",
          "data": {
            "text/plain": [
              "'he said: \"python si ya mamako\"'"
            ],
            "application/vnd.google.colaboratory.intrinsic+json": {
              "type": "string"
            }
          },
          "metadata": {},
          "execution_count": 6
        }
      ]
    },
    {
      "cell_type": "code",
      "source": [
        "# Concatenate strings using the + operator\n",
        "escaped_str = \"Hello, \"\n",
        "multiline_string = \"\"\"world!\n",
        "How are you today?\"\"\"\n",
        "result = escaped_str + multiline_string\n",
        "\n",
        "# Print the result\n",
        "print(result)\n"
      ],
      "metadata": {
        "colab": {
          "base_uri": "https://localhost:8080/"
        },
        "id": "AUNQsKI5vGfT",
        "outputId": "a59b0f5c-3109-4c21-8547-52cc1929c75a"
      },
      "execution_count": 9,
      "outputs": [
        {
          "output_type": "stream",
          "name": "stdout",
          "text": [
            "Hello, world!\n",
            "How are you today?\n"
          ]
        }
      ]
    },
    {
      "cell_type": "code",
      "source": [
        "# extrapolate\n",
        "name1 = 'hot'\n",
        "name2 = 'cold'\n",
        "names = f'\"{name1}{name2}\"'\n",
        "names"
      ],
      "metadata": {
        "colab": {
          "base_uri": "https://localhost:8080/",
          "height": 34
        },
        "id": "Y1bz4GMrv7G2",
        "outputId": "f15e7fae-b35b-4af5-8c22-0d07f3db5873"
      },
      "execution_count": 10,
      "outputs": [
        {
          "output_type": "execute_result",
          "data": {
            "text/plain": [
              "'\"hotcold\"'"
            ],
            "application/vnd.google.colaboratory.intrinsic+json": {
              "type": "string"
            }
          },
          "metadata": {},
          "execution_count": 10
        }
      ]
    },
    {
      "cell_type": "code",
      "source": [
        "name = \"Ten Hag\"\n",
        "print(name[4:6])"
      ],
      "metadata": {
        "colab": {
          "base_uri": "https://localhost:8080/"
        },
        "id": "d5iR_UvAwYSs",
        "outputId": "487d6493-e188-492e-cd30-4351bd6c675c"
      },
      "execution_count": 11,
      "outputs": [
        {
          "output_type": "stream",
          "name": "stdout",
          "text": [
            "Ha\n"
          ]
        }
      ]
    },
    {
      "cell_type": "code",
      "source": [
        "name = \"Montey python\"\n",
        "print(name[:5])"
      ],
      "metadata": {
        "colab": {
          "base_uri": "https://localhost:8080/"
        },
        "id": "bsJ3TIW9wnwV",
        "outputId": "d68110f6-e986-4d0a-c59a-7703aefba5b5"
      },
      "execution_count": 15,
      "outputs": [
        {
          "output_type": "stream",
          "name": "stdout",
          "text": [
            "Monte\n"
          ]
        }
      ]
    },
    {
      "cell_type": "code",
      "source": [
        "a = True\n",
        "b = False\n",
        "\n",
        "if a is True and b is False:\n",
        "  print(\"yay\")"
      ],
      "metadata": {
        "colab": {
          "base_uri": "https://localhost:8080/"
        },
        "id": "HYfSWfWnxdPc",
        "outputId": "994b6f0a-3761-4e11-9e8c-dbb4326796f0"
      },
      "execution_count": 16,
      "outputs": [
        {
          "output_type": "stream",
          "name": "stdout",
          "text": [
            "yay\n"
          ]
        }
      ]
    },
    {
      "cell_type": "code",
      "source": [
        "from pickle import APPEND\n",
        "list: [1,2,3,4,5]\n",
        "mult_types = [True, 3.7, \"Python\", 15]\n",
        "\n",
        "fav_food = [\"Pasta\", \"Toast\", \"Githeri\"]\n",
        "fav_food[0] = \"Beef\"\n",
        "\n",
        "print(fav_food[1:3])\n",
        "print(fav_food[2:2])\n",
        "\n",
        "import numpy as np\n",
        "\n",
        "#APPEND\n",
        "fav_food = [\"roast\", \"pizza\", \"frenchfries\"]\n",
        "fav_food.append(\"paste\")\n",
        "\n",
        "fav_food.insert(1 , \"Soup\")\n",
        "fav_food\n",
        "\n",
        "fav_food.remove(\"pizza\")\n",
        "fav_food\n",
        "\n",
        "print(len(fav_food))"
      ],
      "metadata": {
        "colab": {
          "base_uri": "https://localhost:8080/"
        },
        "id": "AIF9oeA4yYvg",
        "outputId": "87a161b7-ab6a-4159-d638-ee5b390a1f7b"
      },
      "execution_count": 25,
      "outputs": [
        {
          "output_type": "stream",
          "name": "stdout",
          "text": [
            "['Toast', 'Githeri']\n",
            "[]\n",
            "4\n"
          ]
        }
      ]
    },
    {
      "cell_type": "code",
      "source": [
        "fav_drinks = [\"juice\", \"milk\", \"water\"]\n",
        "print(fav_food, fav_drinks)\n",
        "fav = ['roast', 'Soup', 'frenchfries', 'paste','juice', 'milk', 'water']\n",
        "print(fav[1][2])"
      ],
      "metadata": {
        "colab": {
          "base_uri": "https://localhost:8080/"
        },
        "id": "x7hv9Ewg22lN",
        "outputId": "06cc3416-84df-4794-9ca4-87dd5fc30e97"
      },
      "execution_count": 30,
      "outputs": [
        {
          "output_type": "stream",
          "name": "stdout",
          "text": [
            "['roast', 'Soup', 'frenchfries', 'paste'] ['juice', 'milk', 'water']\n",
            "u\n"
          ]
        }
      ]
    }
  ]
}