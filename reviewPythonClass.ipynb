{
  "nbformat": 4,
  "nbformat_minor": 0,
  "metadata": {
    "colab": {
      "provenance": [],
      "authorship_tag": "ABX9TyMI1KT8auxtmqJy4O0WkZNp",
      "include_colab_link": true
    },
    "kernelspec": {
      "name": "python3",
      "display_name": "Python 3"
    },
    "language_info": {
      "name": "python"
    }
  },
  "cells": [
    {
      "cell_type": "markdown",
      "metadata": {
        "id": "view-in-github",
        "colab_type": "text"
      },
      "source": [
        "<a href=\"https://colab.research.google.com/github/mngugi/Code_3_Camp/blob/main/reviewPythonClass.ipynb\" target=\"_parent\"><img src=\"https://colab.research.google.com/assets/colab-badge.svg\" alt=\"Open In Colab\"/></a>"
      ]
    },
    {
      "cell_type": "code",
      "execution_count": 4,
      "metadata": {
        "colab": {
          "base_uri": "https://localhost:8080/"
        },
        "id": "1s__AUwcsnJm",
        "outputId": "138d0201-101b-437d-f9ce-3c97ae5e9b8d"
      },
      "outputs": [
        {
          "output_type": "stream",
          "name": "stdout",
          "text": [
            "Anything\n",
            "<class 'int'>\n",
            "<class 'float'>\n",
            "<class 'float'>\n"
          ]
        }
      ],
      "source": [
        "# print (\"string output\")\n",
        "print(\"Anything\")\n",
        "\n",
        "#variables\n",
        "fav_food = \"Ugali Nyama\"\n",
        "\n",
        "#add\n",
        "Age = 20 #int\n",
        "pi = 3.14 #float\n",
        "\n",
        "print(type(Age))\n",
        "print(type(pi))\n",
        "\n",
        "print(type(Age + pi))"
      ]
    }
  ]
}