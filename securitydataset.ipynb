{
 "cells": [
  {
   "cell_type": "code",
   "execution_count": 1,
   "id": "342ed367",
   "metadata": {
    "_cell_guid": "b1076dfc-b9ad-4769-8c92-a6c4dae69d19",
    "_uuid": "8f2839f25d086af736a60e9eeb907d3b93b6e0e5",
    "execution": {
     "iopub.execute_input": "2024-06-29T18:09:16.422360Z",
     "iopub.status.busy": "2024-06-29T18:09:16.421935Z",
     "iopub.status.idle": "2024-06-29T18:09:17.278011Z",
     "shell.execute_reply": "2024-06-29T18:09:17.276744Z"
    },
    "papermill": {
     "duration": 0.863031,
     "end_time": "2024-06-29T18:09:17.280486",
     "exception": false,
     "start_time": "2024-06-29T18:09:16.417455",
     "status": "completed"
    },
    "tags": []
   },
   "outputs": [
    {
     "name": "stdout",
     "output_type": "stream",
     "text": [
      "/kaggle/input/malicious-and-benign-websites/security.csv\n"
     ]
    }
   ],
   "source": [
    "# This Python 3 environment comes with many helpful analytics libraries installed\n",
    "# It is defined by the kaggle/python Docker image: https://github.com/kaggle/docker-python\n",
    "# For example, here's several helpful packages to load\n",
    "\n",
    "import numpy as np # linear algebra\n",
    "import pandas as pd # data processing, CSV file I/O (e.g. pd.read_csv)\n",
    "\n",
    "# Input data files are available in the read-only \"../input/\" directory\n",
    "# For example, running this (by clicking run or pressing Shift+Enter) will list all files under the input directory\n",
    "\n",
    "import os\n",
    "for dirname, _, filenames in os.walk('/kaggle/input'):\n",
    "    for filename in filenames:\n",
    "        print(os.path.join(dirname, filename))\n",
    "\n",
    "# You can write up to 20GB to the current directory (/kaggle/working/) that gets preserved as output when you create a version using \"Save & Run All\" \n",
    "# You can also write temporary files to /kaggle/temp/, but they won't be saved outside of the current session"
   ]
  },
  {
   "cell_type": "code",
   "execution_count": 2,
   "id": "1c808fc2",
   "metadata": {
    "execution": {
     "iopub.execute_input": "2024-06-29T18:09:17.287229Z",
     "iopub.status.busy": "2024-06-29T18:09:17.286711Z",
     "iopub.status.idle": "2024-06-29T18:09:17.347577Z",
     "shell.execute_reply": "2024-06-29T18:09:17.346524Z"
    },
    "papermill": {
     "duration": 0.066715,
     "end_time": "2024-06-29T18:09:17.349843",
     "exception": false,
     "start_time": "2024-06-29T18:09:17.283128",
     "status": "completed"
    },
    "tags": []
   },
   "outputs": [
    {
     "data": {
      "text/html": [
       "<div>\n",
       "<style scoped>\n",
       "    .dataframe tbody tr th:only-of-type {\n",
       "        vertical-align: middle;\n",
       "    }\n",
       "\n",
       "    .dataframe tbody tr th {\n",
       "        vertical-align: top;\n",
       "    }\n",
       "\n",
       "    .dataframe thead th {\n",
       "        text-align: right;\n",
       "    }\n",
       "</style>\n",
       "<table border=\"1\" class=\"dataframe\">\n",
       "  <thead>\n",
       "    <tr style=\"text-align: right;\">\n",
       "      <th></th>\n",
       "      <th>URL</th>\n",
       "      <th>URL_LENGTH</th>\n",
       "      <th>NUMBER_SPECIAL_CHARACTERS</th>\n",
       "      <th>CHARSET</th>\n",
       "      <th>SERVER</th>\n",
       "      <th>CACHE_CONTROL</th>\n",
       "      <th>CONTENT_LENGTH</th>\n",
       "      <th>WHOIS_COUNTRY</th>\n",
       "      <th>WHOIS_STATE_CITY</th>\n",
       "      <th>WHOIS_REG_YEAR</th>\n",
       "      <th>...</th>\n",
       "      <th>REMOTE_IPS</th>\n",
       "      <th>APP_BYTES</th>\n",
       "      <th>UDP_PACKETS</th>\n",
       "      <th>SOURCE_APP_PACKETS</th>\n",
       "      <th>REMOTE_APP_PACKETS</th>\n",
       "      <th>SOURCE_APP_BYTES</th>\n",
       "      <th>REMOTE_APP_BYTES</th>\n",
       "      <th>APP_PACKETS</th>\n",
       "      <th>DNS_QUERY_TIMES</th>\n",
       "      <th>TIPO</th>\n",
       "    </tr>\n",
       "  </thead>\n",
       "  <tbody>\n",
       "    <tr>\n",
       "      <th>0</th>\n",
       "      <td>B0_113</td>\n",
       "      <td>17</td>\n",
       "      <td>6</td>\n",
       "      <td>ISO-8859-1</td>\n",
       "      <td>nginx</td>\n",
       "      <td>NaN</td>\n",
       "      <td>162</td>\n",
       "      <td>US</td>\n",
       "      <td>California</td>\n",
       "      <td>1997</td>\n",
       "      <td>...</td>\n",
       "      <td>3</td>\n",
       "      <td>3812</td>\n",
       "      <td>0</td>\n",
       "      <td>39</td>\n",
       "      <td>37</td>\n",
       "      <td>18784</td>\n",
       "      <td>4380</td>\n",
       "      <td>39</td>\n",
       "      <td>8</td>\n",
       "      <td>Benigna</td>\n",
       "    </tr>\n",
       "    <tr>\n",
       "      <th>1</th>\n",
       "      <td>B0_403</td>\n",
       "      <td>17</td>\n",
       "      <td>6</td>\n",
       "      <td>UTF-8</td>\n",
       "      <td>Apache/2.2.0 (Fedora)</td>\n",
       "      <td>max-age=269, must-revalidate</td>\n",
       "      <td>124140</td>\n",
       "      <td>US</td>\n",
       "      <td>Texas</td>\n",
       "      <td>1996</td>\n",
       "      <td>...</td>\n",
       "      <td>5</td>\n",
       "      <td>4278</td>\n",
       "      <td>0</td>\n",
       "      <td>61</td>\n",
       "      <td>62</td>\n",
       "      <td>129889</td>\n",
       "      <td>4586</td>\n",
       "      <td>61</td>\n",
       "      <td>4</td>\n",
       "      <td>Benigna</td>\n",
       "    </tr>\n",
       "    <tr>\n",
       "      <th>2</th>\n",
       "      <td>B0_2064</td>\n",
       "      <td>18</td>\n",
       "      <td>7</td>\n",
       "      <td>UTF-8</td>\n",
       "      <td>nginx</td>\n",
       "      <td>NaN</td>\n",
       "      <td>11260</td>\n",
       "      <td>CN</td>\n",
       "      <td>Shanxi</td>\n",
       "      <td>2017</td>\n",
       "      <td>...</td>\n",
       "      <td>9</td>\n",
       "      <td>894</td>\n",
       "      <td>0</td>\n",
       "      <td>11</td>\n",
       "      <td>13</td>\n",
       "      <td>838</td>\n",
       "      <td>894</td>\n",
       "      <td>11</td>\n",
       "      <td>0</td>\n",
       "      <td>Benigna</td>\n",
       "    </tr>\n",
       "    <tr>\n",
       "      <th>3</th>\n",
       "      <td>B0_462</td>\n",
       "      <td>18</td>\n",
       "      <td>6</td>\n",
       "      <td>iso-8859-1</td>\n",
       "      <td>Apache/2</td>\n",
       "      <td>NaN</td>\n",
       "      <td>345</td>\n",
       "      <td>US</td>\n",
       "      <td>Colorado</td>\n",
       "      <td>2002</td>\n",
       "      <td>...</td>\n",
       "      <td>3</td>\n",
       "      <td>1189</td>\n",
       "      <td>0</td>\n",
       "      <td>14</td>\n",
       "      <td>13</td>\n",
       "      <td>8559</td>\n",
       "      <td>1327</td>\n",
       "      <td>14</td>\n",
       "      <td>2</td>\n",
       "      <td>Benigna</td>\n",
       "    </tr>\n",
       "    <tr>\n",
       "      <th>4</th>\n",
       "      <td>B0_1128</td>\n",
       "      <td>19</td>\n",
       "      <td>6</td>\n",
       "      <td>us-ascii</td>\n",
       "      <td>Microsoft-HTTPAPI/2.0</td>\n",
       "      <td>NaN</td>\n",
       "      <td>324</td>\n",
       "      <td>US</td>\n",
       "      <td>Florida</td>\n",
       "      <td>1997</td>\n",
       "      <td>...</td>\n",
       "      <td>0</td>\n",
       "      <td>0</td>\n",
       "      <td>0</td>\n",
       "      <td>0</td>\n",
       "      <td>0</td>\n",
       "      <td>0</td>\n",
       "      <td>0</td>\n",
       "      <td>0</td>\n",
       "      <td>0</td>\n",
       "      <td>Benigna</td>\n",
       "    </tr>\n",
       "  </tbody>\n",
       "</table>\n",
       "<p>5 rows × 24 columns</p>\n",
       "</div>"
      ],
      "text/plain": [
       "       URL  URL_LENGTH  NUMBER_SPECIAL_CHARACTERS     CHARSET  \\\n",
       "0   B0_113          17                          6  ISO-8859-1   \n",
       "1   B0_403          17                          6       UTF-8   \n",
       "2  B0_2064          18                          7       UTF-8   \n",
       "3   B0_462          18                          6  iso-8859-1   \n",
       "4  B0_1128          19                          6    us-ascii   \n",
       "\n",
       "                  SERVER                 CACHE_CONTROL  CONTENT_LENGTH  \\\n",
       "0                  nginx                           NaN             162   \n",
       "1  Apache/2.2.0 (Fedora)  max-age=269, must-revalidate          124140   \n",
       "2                  nginx                           NaN           11260   \n",
       "3               Apache/2                           NaN             345   \n",
       "4  Microsoft-HTTPAPI/2.0                           NaN             324   \n",
       "\n",
       "  WHOIS_COUNTRY WHOIS_STATE_CITY  WHOIS_REG_YEAR  ...  REMOTE_IPS APP_BYTES  \\\n",
       "0            US       California            1997  ...           3      3812   \n",
       "1            US            Texas            1996  ...           5      4278   \n",
       "2            CN           Shanxi            2017  ...           9       894   \n",
       "3            US         Colorado            2002  ...           3      1189   \n",
       "4            US          Florida            1997  ...           0         0   \n",
       "\n",
       "   UDP_PACKETS  SOURCE_APP_PACKETS  REMOTE_APP_PACKETS  SOURCE_APP_BYTES  \\\n",
       "0            0                  39                  37             18784   \n",
       "1            0                  61                  62            129889   \n",
       "2            0                  11                  13               838   \n",
       "3            0                  14                  13              8559   \n",
       "4            0                   0                   0                 0   \n",
       "\n",
       "   REMOTE_APP_BYTES  APP_PACKETS  DNS_QUERY_TIMES     TIPO  \n",
       "0              4380           39                8  Benigna  \n",
       "1              4586           61                4  Benigna  \n",
       "2               894           11                0  Benigna  \n",
       "3              1327           14                2  Benigna  \n",
       "4                 0            0                0  Benigna  \n",
       "\n",
       "[5 rows x 24 columns]"
      ]
     },
     "execution_count": 2,
     "metadata": {},
     "output_type": "execute_result"
    }
   ],
   "source": [
    "dt = pd.read_csv(\"/kaggle/input/malicious-and-benign-websites/security.csv\")\n",
    "dt.head()"
   ]
  },
  {
   "cell_type": "code",
   "execution_count": 3,
   "id": "691c9d4f",
   "metadata": {
    "execution": {
     "iopub.execute_input": "2024-06-29T18:09:17.356784Z",
     "iopub.status.busy": "2024-06-29T18:09:17.356424Z",
     "iopub.status.idle": "2024-06-29T18:09:17.376436Z",
     "shell.execute_reply": "2024-06-29T18:09:17.375437Z"
    },
    "papermill": {
     "duration": 0.026449,
     "end_time": "2024-06-29T18:09:17.378970",
     "exception": false,
     "start_time": "2024-06-29T18:09:17.352521",
     "status": "completed"
    },
    "tags": []
   },
   "outputs": [
    {
     "name": "stdout",
     "output_type": "stream",
     "text": [
      "<class 'pandas.core.frame.DataFrame'>\n",
      "RangeIndex: 1611 entries, 0 to 1610\n",
      "Data columns (total 24 columns):\n",
      " #   Column                     Non-Null Count  Dtype \n",
      "---  ------                     --------------  ----- \n",
      " 0   URL                        1611 non-null   object\n",
      " 1   URL_LENGTH                 1611 non-null   int64 \n",
      " 2   NUMBER_SPECIAL_CHARACTERS  1611 non-null   int64 \n",
      " 3   CHARSET                    1604 non-null   object\n",
      " 4   SERVER                     1611 non-null   object\n",
      " 5   CACHE_CONTROL              908 non-null    object\n",
      " 6   CONTENT_LENGTH             1611 non-null   int64 \n",
      " 7   WHOIS_COUNTRY              1611 non-null   object\n",
      " 8   WHOIS_STATE_CITY           1611 non-null   object\n",
      " 9   WHOIS_REG_YEAR             1611 non-null   int64 \n",
      " 10  UPDATE_YEAR                1611 non-null   int64 \n",
      " 11  DOMAIN_NAME                1611 non-null   object\n",
      " 12  TCP_CONVERSATION_EXCHANGE  1611 non-null   int64 \n",
      " 13  DIST_REMOTE_TCP_PORT       1611 non-null   int64 \n",
      " 14  REMOTE_IPS                 1611 non-null   int64 \n",
      " 15  APP_BYTES                  1611 non-null   int64 \n",
      " 16  UDP_PACKETS                1611 non-null   int64 \n",
      " 17  SOURCE_APP_PACKETS         1611 non-null   int64 \n",
      " 18  REMOTE_APP_PACKETS         1611 non-null   int64 \n",
      " 19  SOURCE_APP_BYTES           1611 non-null   int64 \n",
      " 20  REMOTE_APP_BYTES           1611 non-null   int64 \n",
      " 21  APP_PACKETS                1611 non-null   int64 \n",
      " 22  DNS_QUERY_TIMES            1611 non-null   int64 \n",
      " 23  TIPO                       1611 non-null   object\n",
      "dtypes: int64(16), object(8)\n",
      "memory usage: 302.2+ KB\n"
     ]
    }
   ],
   "source": [
    "dt.shape\n",
    "dt.info()"
   ]
  },
  {
   "cell_type": "code",
   "execution_count": 4,
   "id": "49668aa0",
   "metadata": {
    "execution": {
     "iopub.execute_input": "2024-06-29T18:09:17.386528Z",
     "iopub.status.busy": "2024-06-29T18:09:17.385885Z",
     "iopub.status.idle": "2024-06-29T18:09:17.395249Z",
     "shell.execute_reply": "2024-06-29T18:09:17.394300Z"
    },
    "papermill": {
     "duration": 0.015424,
     "end_time": "2024-06-29T18:09:17.397236",
     "exception": false,
     "start_time": "2024-06-29T18:09:17.381812",
     "status": "completed"
    },
    "tags": []
   },
   "outputs": [
    {
     "data": {
      "text/plain": [
       "URL                            0\n",
       "URL_LENGTH                     0\n",
       "NUMBER_SPECIAL_CHARACTERS      0\n",
       "CHARSET                        7\n",
       "SERVER                         0\n",
       "CACHE_CONTROL                703\n",
       "CONTENT_LENGTH                 0\n",
       "WHOIS_COUNTRY                  0\n",
       "WHOIS_STATE_CITY               0\n",
       "WHOIS_REG_YEAR                 0\n",
       "UPDATE_YEAR                    0\n",
       "DOMAIN_NAME                    0\n",
       "TCP_CONVERSATION_EXCHANGE      0\n",
       "DIST_REMOTE_TCP_PORT           0\n",
       "REMOTE_IPS                     0\n",
       "APP_BYTES                      0\n",
       "UDP_PACKETS                    0\n",
       "SOURCE_APP_PACKETS             0\n",
       "REMOTE_APP_PACKETS             0\n",
       "SOURCE_APP_BYTES               0\n",
       "REMOTE_APP_BYTES               0\n",
       "APP_PACKETS                    0\n",
       "DNS_QUERY_TIMES                0\n",
       "TIPO                           0\n",
       "dtype: int64"
      ]
     },
     "execution_count": 4,
     "metadata": {},
     "output_type": "execute_result"
    }
   ],
   "source": [
    "missing_vals = dt.isnull().sum()\n",
    "missing_vals"
   ]
  },
  {
   "cell_type": "code",
   "execution_count": null,
   "id": "e318cac9",
   "metadata": {
    "papermill": {
     "duration": 0.002704,
     "end_time": "2024-06-29T18:09:17.402928",
     "exception": false,
     "start_time": "2024-06-29T18:09:17.400224",
     "status": "completed"
    },
    "tags": []
   },
   "outputs": [],
   "source": []
  }
 ],
 "metadata": {
  "kaggle": {
   "accelerator": "none",
   "dataSources": [
    {
     "datasetId": 23924,
     "sourceId": 30547,
     "sourceType": "datasetVersion"
    }
   ],
   "dockerImageVersionId": 30732,
   "isGpuEnabled": false,
   "isInternetEnabled": true,
   "language": "python",
   "sourceType": "notebook"
  },
  "kernelspec": {
   "display_name": "Python 3",
   "language": "python",
   "name": "python3"
  },
  "language_info": {
   "codemirror_mode": {
    "name": "ipython",
    "version": 3
   },
   "file_extension": ".py",
   "mimetype": "text/x-python",
   "name": "python",
   "nbconvert_exporter": "python",
   "pygments_lexer": "ipython3",
   "version": "3.10.13"
  },
  "papermill": {
   "default_parameters": {},
   "duration": 4.152569,
   "end_time": "2024-06-29T18:09:17.825880",
   "environment_variables": {},
   "exception": null,
   "input_path": "__notebook__.ipynb",
   "output_path": "__notebook__.ipynb",
   "parameters": {},
   "start_time": "2024-06-29T18:09:13.673311",
   "version": "2.5.0"
  }
 },
 "nbformat": 4,
 "nbformat_minor": 5
}
