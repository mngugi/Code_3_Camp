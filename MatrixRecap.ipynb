{
 "cells": [
  {
   "cell_type": "markdown",
   "metadata": {
    "colab_type": "text",
    "id": "view-in-github"
   },
   "source": [
    "<a href=\"https://colab.research.google.com/github/mngugi/Code_3_Camp/blob/main/MatrixRecap.ipynb\" target=\"_parent\"><img src=\"https://colab.research.google.com/assets/colab-badge.svg\" alt=\"Open In Colab\"/></a>"
   ]
  },
  {
   "cell_type": "code",
   "execution_count": 3,
   "metadata": {
    "colab": {
     "base_uri": "https://localhost:8080/"
    },
    "id": "IbUfHKC89MQH",
    "outputId": "01d5abd9-f048-4201-a44b-3292ea192de5"
   },
   "outputs": [
    {
     "name": "stdout",
     "output_type": "stream",
     "text": [
      "[[100 190 212]\n",
      " [150 344 390]\n",
      " [120 380 190]]\n"
     ]
    }
   ],
   "source": [
    "import numpy as np\n",
    "\n",
    "revenue = np.array([[180,200,220],[240,360,400],[220,400,200]])\n",
    "expensenses = np.array([[80,10,8],[90,16,10],[100,20,10]])\n",
    "\n",
    "profit_loss = revenue - expensenses\n",
    "\n",
    "print(profit_loss)"
   ]
  },
  {
   "cell_type": "code",
   "execution_count": 8,
   "metadata": {
    "colab": {
     "base_uri": "https://localhost:8080/"
    },
    "id": "lEkcXSdx_1XT",
    "outputId": "d9dd3a5f-940d-4d92-d81e-5152c3a68d1d"
   },
   "outputs": [
    {
     "name": "stdout",
     "output_type": "stream",
     "text": [
      "[[106000  27000  12400]]\n",
      "---------------------\n",
      "\n"
     ]
    },
    {
     "data": {
      "text/plain": [
       "array([[30000,  2000,  2400],\n",
       "       [40000,  4000,  6000],\n",
       "       [50000,  6000,  8400]])"
      ]
     },
     "execution_count": 8,
     "metadata": {},
     "output_type": "execute_result"
    }
   ],
   "source": [
    "price = np.array([[1000,400,1200]])\n",
    "unit = np.array([[30,5,2],[40,10,5],[50,15,7]])\n",
    "\n",
    "\n",
    "\n",
    "dot_mult = np.dot(price,unit)\n",
    "print(dot_mult)\n",
    "print('---------------------\\n')\n",
    "np.multiply(price,unit)"
   ]
  }
 ],
 "metadata": {
  "colab": {
   "authorship_tag": "ABX9TyOJQW5wAZP+3CwIuGE/uyTK",
   "include_colab_link": true,
   "provenance": []
  },
  "kernelspec": {
   "display_name": "Python 3 (ipykernel)",
   "language": "python",
   "name": "python3"
  },
  "language_info": {
   "codemirror_mode": {
    "name": "ipython",
    "version": 3
   },
   "file_extension": ".py",
   "mimetype": "text/x-python",
   "name": "python",
   "nbconvert_exporter": "python",
   "pygments_lexer": "ipython3",
   "version": "3.12.2"
  }
 },
 "nbformat": 4,
 "nbformat_minor": 4
}
