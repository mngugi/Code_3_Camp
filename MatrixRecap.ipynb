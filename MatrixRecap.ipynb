{
  "nbformat": 4,
  "nbformat_minor": 0,
  "metadata": {
    "colab": {
      "provenance": [],
      "authorship_tag": "ABX9TyM4kM3dmFE8u/jhQmZh9Q0Z",
      "include_colab_link": true
    },
    "kernelspec": {
      "name": "python3",
      "display_name": "Python 3"
    },
    "language_info": {
      "name": "python"
    }
  },
  "cells": [
    {
      "cell_type": "markdown",
      "metadata": {
        "id": "view-in-github",
        "colab_type": "text"
      },
      "source": [
        "<a href=\"https://colab.research.google.com/github/mngugi/Code_3_Camp/blob/main/MatrixRecap.ipynb\" target=\"_parent\"><img src=\"https://colab.research.google.com/assets/colab-badge.svg\" alt=\"Open In Colab\"/></a>"
      ]
    },
    {
      "cell_type": "code",
      "execution_count": 3,
      "metadata": {
        "colab": {
          "base_uri": "https://localhost:8080/"
        },
        "id": "IbUfHKC89MQH",
        "outputId": "01d5abd9-f048-4201-a44b-3292ea192de5"
      },
      "outputs": [
        {
          "output_type": "stream",
          "name": "stdout",
          "text": [
            "[[100 190 212]\n",
            " [150 344 390]\n",
            " [120 380 190]]\n"
          ]
        }
      ],
      "source": [
        "import numpy as np\n",
        "\n",
        "revenue = np.array([[180,200,220],[240,360,400],[220,400,200]])\n",
        "expensenses = np.array([[80,10,8],[90,16,10],[100,20,10]])\n",
        "\n",
        "profit_loss = revenue - expensenses\n",
        "\n",
        "print(profit_loss)"
      ]
    }
  ]
}