{
 "cells": [
  {
   "cell_type": "code",
   "execution_count": 2,
   "id": "2c3173e3-b0ab-4fef-848b-948ecdef13f2",
   "metadata": {},
   "outputs": [
    {
     "ename": "ModuleNotFoundError",
     "evalue": "No module named 'gi'",
     "output_type": "error",
     "traceback": [
      "\u001b[0;31m---------------------------------------------------------------------------\u001b[0m",
      "\u001b[0;31mModuleNotFoundError\u001b[0m                       Traceback (most recent call last)",
      "Cell \u001b[0;32mIn[2], line 1\u001b[0m\n\u001b[0;32m----> 1\u001b[0m \u001b[38;5;28;01mimport\u001b[39;00m \u001b[38;5;21;01mgi\u001b[39;00m\n\u001b[1;32m      2\u001b[0m gi\u001b[38;5;241m.\u001b[39mrequire_version(\u001b[38;5;124m\"\u001b[39m\u001b[38;5;124mGtk\u001b[39m\u001b[38;5;124m\"\u001b[39m, \u001b[38;5;124m\"\u001b[39m\u001b[38;5;124m3.0\u001b[39m\u001b[38;5;124m\"\u001b[39m)  \u001b[38;5;66;03m# Ensure the right version of GTK is loaded\u001b[39;00m\n\u001b[1;32m      3\u001b[0m \u001b[38;5;28;01mfrom\u001b[39;00m \u001b[38;5;21;01mgi\u001b[39;00m\u001b[38;5;21;01m.\u001b[39;00m\u001b[38;5;21;01mrepository\u001b[39;00m \u001b[38;5;28;01mimport\u001b[39;00m Gtk\n",
      "\u001b[0;31mModuleNotFoundError\u001b[0m: No module named 'gi'"
     ]
    }
   ],
   "source": [
    "import gi\n",
    "gi.require_version(\"Gtk\", \"3.0\")  # Ensure the right version of GTK is loaded\n",
    "from gi.repository import Gtk\n",
    "\n",
    "# Create a simple window\n",
    "class MyWindow(Gtk.Window):\n",
    "    def __init__(self):\n",
    "        super().__init__(title=\"Hello GNOME\")\n",
    "        self.set_border_width(10)\n",
    "\n",
    "        # Add a button\n",
    "        button = Gtk.Button(label=\"Click Me!\")\n",
    "        button.connect(\"clicked\", self.on_button_clicked)\n",
    "        self.add(button)\n",
    "\n",
    "    def on_button_clicked(self, widget):\n",
    "        print(\"Button was clicked!\")\n",
    "\n",
    "# Initialize GTK application\n",
    "win = MyWindow()\n",
    "win.connect(\"destroy\", Gtk.main_quit)  # Close the application\n",
    "win.show_all()\n",
    "Gtk.main()  # Start the GTK main loop\n"
   ]
  },
  {
   "cell_type": "code",
   "execution_count": null,
   "id": "ee7247e0-2424-4b57-ae10-8750c34938cf",
   "metadata": {},
   "outputs": [],
   "source": []
  }
 ],
 "metadata": {
  "kernelspec": {
   "display_name": "Python 3 (ipykernel)",
   "language": "python",
   "name": "python3"
  },
  "language_info": {
   "codemirror_mode": {
    "name": "ipython",
    "version": 3
   },
   "file_extension": ".py",
   "mimetype": "text/x-python",
   "name": "python",
   "nbconvert_exporter": "python",
   "pygments_lexer": "ipython3",
   "version": "3.12.7"
  }
 },
 "nbformat": 4,
 "nbformat_minor": 5
}
