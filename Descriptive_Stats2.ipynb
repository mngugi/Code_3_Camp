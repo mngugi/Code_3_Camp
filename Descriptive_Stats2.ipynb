{
 "cells": [
  {
   "cell_type": "code",
   "execution_count": null,
   "metadata": {},
   "outputs": [],
   "source": []
  },
  {
   "cell_type": "markdown",
   "metadata": {
    "colab_type": "text",
    "id": "view-in-github"
   },
   "source": [
    "<a href=\"https://colab.research.google.com/github/mngugi/Code_3_Camp/blob/main/Descriptive_Stats2.ipynb\" target=\"_parent\"><img src=\"https://colab.research.google.com/assets/colab-badge.svg\" alt=\"Open In Colab\"/></a>"
   ]
  },
  {
   "cell_type": "code",
   "execution_count": 1,
   "metadata": {
    "colab": {
     "base_uri": "https://localhost:8080/",
     "height": 611
    },
    "id": "W5wFOPdQlnLM",
    "outputId": "f2589117-a22d-4671-98be-b29f90c2227a"
   },
   "outputs": [
    {
     "name": "stdout",
     "output_type": "stream",
     "text": [
      "Ages  |  Frequencies\n",
      "-------------------\n",
      "54    | 3\n",
      "55    | 1\n",
      "56    | 1\n",
      "57    | 2\n",
      "58    | 2\n",
      "60    | 2\n"
     ]
    },
    {
     "data": {
      "image/png": "[encoded data removed]",
      "text/plain": [
       "<Figure size 640x480 with 1 Axes>"
      ]
     },
     "metadata": {},
     "output_type": "display_data"
    }
   ],
   "source": [
    "import numpy as np\n",
    "import pandas as pd\n",
    "import matplotlib.pyplot as plt\n",
    "\n",
    "ages = np.array([54, 55, 56, 57, 58, 60])\n",
    "frequencies = np.array([3, 1, 1, 2, 2, 2])\n",
    "\n",
    "# Create the table_stats before using it\n",
    "table_stats = np.column_stack((ages, frequencies))\n",
    "\n",
    "print(\"Ages  |  Frequencies\")\n",
    "print(\"-------------------\")\n",
    "\n",
    "for row in table_stats:\n",
    "    print(f\"{row[0]:<5} | {row[1]}\")\n",
    "\n",
    "# Create a bar chart\n",
    "plt.bar(table_stats[:, 0], table_stats[:, 1], color='blue', alpha=0.7)\n",
    "plt.xlabel('Ages')\n",
    "plt.ylabel('Frequencies')\n",
    "plt.title('Age Distribution')\n",
    "plt.show()"
   ]
  },
  {
   "cell_type": "code",
   "execution_count": 2,
   "metadata": {
    "colab": {
     "base_uri": "https://localhost:8080/"
    },
    "id": "u0Znb3oc0Mqy",
    "outputId": "7d5fe718-5856-4cb5-83e1-d66820b8852f"
   },
   "outputs": [
    {
     "name": "stdout",
     "output_type": "stream",
     "text": [
      "\n",
      "Mean Age: 56.666666666666664\n",
      "Mode Age: 54\n",
      "Median Age: 56.5\n"
     ]
    }
   ],
   "source": [
    "# Calculate mean, mode, and median\n",
    "mean_age = np.mean(ages)\n",
    "mode_age = ages[np.argmax(frequencies)]\n",
    "median_age = np.median(ages)\n",
    "\n",
    "print(\"\\nMean Age:\", mean_age)\n",
    "print(\"Mode Age:\", mode_age)\n",
    "print(\"Median Age:\", median_age)"
   ]
  }
 ],
 "metadata": {
  "colab": {
   "authorship_tag": "ABX9TyPvvjuXP/8ddOgVrbCjh0Gu",
   "include_colab_link": true,
   "provenance": []
  },
  "kernelspec": {
   "display_name": "Python 3 (ipykernel)",
   "language": "python",
   "name": "python3"
  },
  "language_info": {
   "codemirror_mode": {
    "name": "ipython",
    "version": 3
   },
   "file_extension": ".py",
   "mimetype": "text/x-python",
   "name": "python",
   "nbconvert_exporter": "python",
   "pygments_lexer": "ipython3",
   "version": "3.12.7"
  }
 },
 "nbformat": 4,
 "nbformat_minor": 4
}
