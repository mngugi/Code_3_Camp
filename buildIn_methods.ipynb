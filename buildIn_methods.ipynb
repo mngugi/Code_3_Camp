{
 "cells": [
  {
   "cell_type": "code",
   "execution_count": 3,
   "id": "1bc9e3ad-03ad-4a54-bd85-359eb8e4b3f4",
   "metadata": {},
   "outputs": [
    {
     "data": {
      "text/plain": [
       "'hello'"
      ]
     },
     "execution_count": 3,
     "metadata": {},
     "output_type": "execute_result"
    }
   ],
   "source": [
    "\"HELLO\".lower()  # Output: \"hello\"\n"
   ]
  },
  {
   "cell_type": "code",
   "execution_count": 4,
   "id": "777f7c41-e11d-405e-8987-0371107749d1",
   "metadata": {},
   "outputs": [
    {
     "data": {
      "text/plain": [
       "'HELLO'"
      ]
     },
     "execution_count": 4,
     "metadata": {},
     "output_type": "execute_result"
    }
   ],
   "source": [
    "\"hello\".upper()  # Output: \"HELLO\"\n"
   ]
  },
  {
   "cell_type": "code",
   "execution_count": 5,
   "id": "bc472fd2-21af-4ce4-b587-450e699f83e9",
   "metadata": {},
   "outputs": [
    {
     "data": {
      "text/plain": [
       "'hello'"
      ]
     },
     "execution_count": 5,
     "metadata": {},
     "output_type": "execute_result"
    }
   ],
   "source": [
    "\" hello \".strip()  # Output: \"hello\"\n"
   ]
  },
  {
   "cell_type": "code",
   "execution_count": 6,
   "id": "c305a932-744d-4ea8-a691-3f3275c9fdc3",
   "metadata": {},
   "outputs": [
    {
     "data": {
      "text/plain": [
       "'hello Python'"
      ]
     },
     "execution_count": 6,
     "metadata": {},
     "output_type": "execute_result"
    }
   ],
   "source": [
    "\"hello world\".replace(\"world\", \"Python\")  # Output: \"hello Python\"\n"
   ]
  },
  {
   "cell_type": "code",
   "execution_count": 7,
   "id": "28d949e7-d184-4bbb-8edd-c93e0d3976e3",
   "metadata": {},
   "outputs": [
    {
     "data": {
      "text/plain": [
       "['a', 'b', 'c']"
      ]
     },
     "execution_count": 7,
     "metadata": {},
     "output_type": "execute_result"
    }
   ],
   "source": [
    "\"a,b,c\".split(\",\")  # Output: [\"a\", \"b\", \"c\"]\n"
   ]
  },
  {
   "cell_type": "code",
   "execution_count": 8,
   "id": "417fb248-0e85-410d-901b-9c5968095c4d",
   "metadata": {},
   "outputs": [
    {
     "data": {
      "text/plain": [
       "2"
      ]
     },
     "execution_count": 8,
     "metadata": {},
     "output_type": "execute_result"
    }
   ],
   "source": [
    "lst = [1, 2, 3]\n",
    "lst.pop(1)  # Output: 2, lst becomes [1, 3]\n"
   ]
  },
  {
   "cell_type": "code",
   "execution_count": 9,
   "id": "220bc865-bc4e-470d-84d3-690d86104448",
   "metadata": {},
   "outputs": [],
   "source": [
    "lst = [3, 1, 2]\n",
    "lst.sort()  # lst becomes [1, 2, 3]\n"
   ]
  },
  {
   "cell_type": "code",
   "execution_count": 10,
   "id": "788410a3-fbff-4eee-a540-dd70db02030c",
   "metadata": {},
   "outputs": [],
   "source": [
    "lst = [1, 2, 3]\n",
    "lst.reverse()  # lst becomes [3, 2, 1]\n"
   ]
  },
  {
   "cell_type": "code",
   "execution_count": 12,
   "id": "ee2e4ee3-04e9-48d7-ac82-a18e18ca35a1",
   "metadata": {},
   "outputs": [],
   "source": [
    "lst = [1, 2]\n",
    "lst.extend([3, 4])  # lst becomes [1, 2, 3, 4]\n"
   ]
  },
  {
   "cell_type": "code",
   "execution_count": 13,
   "id": "65cdb83c-f708-4808-929b-8bd80d3c28e7",
   "metadata": {},
   "outputs": [
    {
     "data": {
      "text/plain": [
       "dict_keys(['a', 'b'])"
      ]
     },
     "execution_count": 13,
     "metadata": {},
     "output_type": "execute_result"
    }
   ],
   "source": [
    "d = {\"a\": 1, \"b\": 2}\n",
    "d.keys()  # Output: dict_keys(['a', 'b'])\n"
   ]
  },
  {
   "cell_type": "code",
   "execution_count": 14,
   "id": "73de0a81-93db-4b50-b7f9-3a153e144145",
   "metadata": {},
   "outputs": [
    {
     "data": {
      "text/plain": [
       "dict_values([1, 2])"
      ]
     },
     "execution_count": 14,
     "metadata": {},
     "output_type": "execute_result"
    }
   ],
   "source": [
    "d.values()  # Output: dict_values([1, 2])\n"
   ]
  },
  {
   "cell_type": "code",
   "execution_count": 15,
   "id": "41da3b4c-8e72-42ce-baf1-93edb5ab178e",
   "metadata": {},
   "outputs": [
    {
     "data": {
      "text/plain": [
       "dict_items([('a', 1), ('b', 2)])"
      ]
     },
     "execution_count": 15,
     "metadata": {},
     "output_type": "execute_result"
    }
   ],
   "source": [
    "d.items()  # Output: dict_items([('a', 1), ('b', 2)])\n"
   ]
  },
  {
   "cell_type": "code",
   "execution_count": 16,
   "id": "d8423dce-4d91-467d-8575-7ffdfc7b17f1",
   "metadata": {},
   "outputs": [
    {
     "data": {
      "text/plain": [
       "0"
      ]
     },
     "execution_count": 16,
     "metadata": {},
     "output_type": "execute_result"
    }
   ],
   "source": [
    "d.get(\"a\", 0)  # Output: 1\n",
    "d.get(\"z\", 0)  # Output: 0\n"
   ]
  },
  {
   "cell_type": "code",
   "execution_count": 17,
   "id": "564b7fac-0dda-4ee1-a60c-73a9a1dd1204",
   "metadata": {},
   "outputs": [
    {
     "data": {
      "text/plain": [
       "1"
      ]
     },
     "execution_count": 17,
     "metadata": {},
     "output_type": "execute_result"
    }
   ],
   "source": [
    "d.pop(\"a\")  # Output: 1, d becomes {\"b\": 2}\n"
   ]
  },
  {
   "cell_type": "code",
   "execution_count": 18,
   "id": "c189f100-0c19-4b10-a94b-9577016bfd0e",
   "metadata": {},
   "outputs": [],
   "source": [
    "s = {1, 2}\n",
    "s.add(3)  # s becomes {1, 2, 3}\n"
   ]
  },
  {
   "cell_type": "code",
   "execution_count": 19,
   "id": "1e7654c5-dada-4e30-91ef-190f3eddee14",
   "metadata": {},
   "outputs": [],
   "source": [
    "s.remove(2)  # s becomes {1, 3}\n"
   ]
  },
  {
   "cell_type": "code",
   "execution_count": 20,
   "id": "98c90c00-0c80-4d94-a0a3-d622df6bfb4d",
   "metadata": {},
   "outputs": [
    {
     "data": {
      "text/plain": [
       "{1, 2, 3}"
      ]
     },
     "execution_count": 20,
     "metadata": {},
     "output_type": "execute_result"
    }
   ],
   "source": [
    "s1 = {1, 2}\n",
    "s2 = {2, 3}\n",
    "s1.union(s2)  # Output: {1, 2, 3}\n"
   ]
  },
  {
   "cell_type": "code",
   "execution_count": 21,
   "id": "b80c30be-9760-4185-8a82-e4afa8e8952a",
   "metadata": {},
   "outputs": [
    {
     "data": {
      "text/plain": [
       "{2}"
      ]
     },
     "execution_count": 21,
     "metadata": {},
     "output_type": "execute_result"
    }
   ],
   "source": [
    "s1.intersection(s2)  # Output: {2}\n"
   ]
  },
  {
   "cell_type": "code",
   "execution_count": 22,
   "id": "000582dc-0229-42b5-b30e-3a34f27c335c",
   "metadata": {},
   "outputs": [
    {
     "data": {
      "text/plain": [
       "{1}"
      ]
     },
     "execution_count": 22,
     "metadata": {},
     "output_type": "execute_result"
    }
   ],
   "source": [
    "s1.difference(s2)  # Output: {1}\n"
   ]
  },
  {
   "cell_type": "code",
   "execution_count": 23,
   "id": "0da97a2f-6251-4721-89e6-407af7795da3",
   "metadata": {},
   "outputs": [
    {
     "data": {
      "text/plain": [
       "3"
      ]
     },
     "execution_count": 23,
     "metadata": {},
     "output_type": "execute_result"
    }
   ],
   "source": [
    "len([1, 2, 3])  # Output: 3\n"
   ]
  },
  {
   "cell_type": "code",
   "execution_count": 24,
   "id": "2b1f44be-6b16-41de-9bb9-d6078f9b916e",
   "metadata": {},
   "outputs": [
    {
     "data": {
      "text/plain": [
       "int"
      ]
     },
     "execution_count": 24,
     "metadata": {},
     "output_type": "execute_result"
    }
   ],
   "source": [
    "type(3)  # Output: <class 'int'>\n"
   ]
  },
  {
   "cell_type": "code",
   "execution_count": 25,
   "id": "cf7e964a-b2a7-401a-9274-1304ff06b7df",
   "metadata": {},
   "outputs": [
    {
     "name": "stdout",
     "output_type": "stream",
     "text": [
      "Hello\n"
     ]
    }
   ],
   "source": [
    "print(\"Hello\")  # Output: Hello\n"
   ]
  },
  {
   "cell_type": "code",
   "execution_count": 26,
   "id": "cf04e15e-3e96-4b01-b970-3b5902594db3",
   "metadata": {},
   "outputs": [
    {
     "data": {
      "text/plain": [
       "[1, 2, 3, 4]"
      ]
     },
     "execution_count": 26,
     "metadata": {},
     "output_type": "execute_result"
    }
   ],
   "source": [
    "list(range(1, 5))  # Output: [1, 2, 3, 4]\n"
   ]
  },
  {
   "cell_type": "code",
   "execution_count": null,
   "id": "6b608754-1220-4e21-a3e5-c6e6fc3295d2",
   "metadata": {},
   "outputs": [],
   "source": [
    "name = input(\"Enter your name: \")\n"
   ]
  },
  {
   "cell_type": "code",
   "execution_count": null,
   "id": "68ed9d5f-57f2-40c7-8a92-0c2d39db3863",
   "metadata": {},
   "outputs": [],
   "source": []
  }
 ],
 "metadata": {
  "kernelspec": {
   "display_name": "Python 3 (ipykernel)",
   "language": "python",
   "name": "python3"
  },
  "language_info": {
   "codemirror_mode": {
    "name": "ipython",
    "version": 3
   },
   "file_extension": ".py",
   "mimetype": "text/x-python",
   "name": "python",
   "nbconvert_exporter": "python",
   "pygments_lexer": "ipython3",
   "version": "3.12.7"
  }
 },
 "nbformat": 4,
 "nbformat_minor": 5
}
