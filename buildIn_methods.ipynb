{
 "cells": [
  {
   "cell_type": "code",
   "execution_count": 3,
   "id": "1bc9e3ad-03ad-4a54-bd85-359eb8e4b3f4",
   "metadata": {},
   "outputs": [
    {
     "data": {
      "text/plain": [
       "'hello'"
      ]
     },
     "execution_count": 3,
     "metadata": {},
     "output_type": "execute_result"
    }
   ],
   "source": [
    "\"HELLO\".lower()  # Output: \"hello\"\n"
   ]
  },
  {
   "cell_type": "code",
   "execution_count": 4,
   "id": "777f7c41-e11d-405e-8987-0371107749d1",
   "metadata": {},
   "outputs": [
    {
     "data": {
      "text/plain": [
       "'HELLO'"
      ]
     },
     "execution_count": 4,
     "metadata": {},
     "output_type": "execute_result"
    }
   ],
   "source": [
    "\"hello\".upper()  # Output: \"HELLO\"\n"
   ]
  },
  {
   "cell_type": "code",
   "execution_count": 5,
   "id": "bc472fd2-21af-4ce4-b587-450e699f83e9",
   "metadata": {},
   "outputs": [
    {
     "data": {
      "text/plain": [
       "'hello'"
      ]
     },
     "execution_count": 5,
     "metadata": {},
     "output_type": "execute_result"
    }
   ],
   "source": [
    "\" hello \".strip()  # Output: \"hello\"\n"
   ]
  },
  {
   "cell_type": "code",
   "execution_count": 6,
   "id": "c305a932-744d-4ea8-a691-3f3275c9fdc3",
   "metadata": {},
   "outputs": [
    {
     "data": {
      "text/plain": [
       "'hello Python'"
      ]
     },
     "execution_count": 6,
     "metadata": {},
     "output_type": "execute_result"
    }
   ],
   "source": [
    "\"hello world\".replace(\"world\", \"Python\")  # Output: \"hello Python\"\n"
   ]
  },
  {
   "cell_type": "code",
   "execution_count": 7,
   "id": "28d949e7-d184-4bbb-8edd-c93e0d3976e3",
   "metadata": {},
   "outputs": [
    {
     "data": {
      "text/plain": [
       "['a', 'b', 'c']"
      ]
     },
     "execution_count": 7,
     "metadata": {},
     "output_type": "execute_result"
    }
   ],
   "source": [
    "\"a,b,c\".split(\",\")  # Output: [\"a\", \"b\", \"c\"]\n"
   ]
  },
  {
   "cell_type": "code",
   "execution_count": 8,
   "id": "417fb248-0e85-410d-901b-9c5968095c4d",
   "metadata": {},
   "outputs": [
    {
     "data": {
      "text/plain": [
       "2"
      ]
     },
     "execution_count": 8,
     "metadata": {},
     "output_type": "execute_result"
    }
   ],
   "source": [
    "lst = [1, 2, 3]\n",
    "lst.pop(1)  # Output: 2, lst becomes [1, 3]\n"
   ]
  },
  {
   "cell_type": "code",
   "execution_count": 9,
   "id": "220bc865-bc4e-470d-84d3-690d86104448",
   "metadata": {},
   "outputs": [],
   "source": [
    "lst = [3, 1, 2]\n",
    "lst.sort()  # lst becomes [1, 2, 3]\n"
   ]
  },
  {
   "cell_type": "code",
   "execution_count": 10,
   "id": "788410a3-fbff-4eee-a540-dd70db02030c",
   "metadata": {},
   "outputs": [],
   "source": [
    "lst = [1, 2, 3]\n",
    "lst.reverse()  # lst becomes [3, 2, 1]\n"
   ]
  },
  {
   "cell_type": "code",
   "execution_count": 12,
   "id": "ee2e4ee3-04e9-48d7-ac82-a18e18ca35a1",
   "metadata": {},
   "outputs": [],
   "source": [
    "lst = [1, 2]\n",
    "lst.extend([3, 4])  # lst becomes [1, 2, 3, 4]\n"
   ]
  },
  {
   "cell_type": "code",
   "execution_count": 13,
   "id": "65cdb83c-f708-4808-929b-8bd80d3c28e7",
   "metadata": {},
   "outputs": [
    {
     "data": {
      "text/plain": [
       "dict_keys(['a', 'b'])"
      ]
     },
     "execution_count": 13,
     "metadata": {},
     "output_type": "execute_result"
    }
   ],
   "source": [
    "d = {\"a\": 1, \"b\": 2}\n",
    "d.keys()  # Output: dict_keys(['a', 'b'])\n"
   ]
  },
  {
   "cell_type": "code",
   "execution_count": 14,
   "id": "73de0a81-93db-4b50-b7f9-3a153e144145",
   "metadata": {},
   "outputs": [
    {
     "data": {
      "text/plain": [
       "dict_values([1, 2])"
      ]
     },
     "execution_count": 14,
     "metadata": {},
     "output_type": "execute_result"
    }
   ],
   "source": [
    "d.values()  # Output: dict_values([1, 2])\n"
   ]
  },
  {
   "cell_type": "code",
   "execution_count": null,
   "id": "41da3b4c-8e72-42ce-baf1-93edb5ab178e",
   "metadata": {},
   "outputs": [],
   "source": [
    "d.items()  # Output: dict_items([('a', 1), ('b', 2)])\n"
   ]
  }
 ],
 "metadata": {
  "kernelspec": {
   "display_name": "Python 3 (ipykernel)",
   "language": "python",
   "name": "python3"
  },
  "language_info": {
   "codemirror_mode": {
    "name": "ipython",
    "version": 3
   },
   "file_extension": ".py",
   "mimetype": "text/x-python",
   "name": "python",
   "nbconvert_exporter": "python",
   "pygments_lexer": "ipython3",
   "version": "3.12.7"
  }
 },
 "nbformat": 4,
 "nbformat_minor": 5
}
