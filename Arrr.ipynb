{
 "cells": [
  {
   "cell_type": "code",
   "execution_count": 4,
   "id": "fcbf3098-a480-4523-8fed-a5c1dc4f4945",
   "metadata": {},
   "outputs": [
    {
     "name": "stdout",
     "output_type": "stream",
     "text": [
      "Ahoy there. How be you?\n"
     ]
    }
   ],
   "source": [
    "from arrr import translate\n",
    "\n",
    "\n",
    "english = \"Hello there. How are you?\"\n",
    "pirate = translate(english)\n",
    "print(pirate)\n"
   ]
  },
  {
   "cell_type": "code",
   "execution_count": 8,
   "id": "079bb517-eed5-4316-aa9a-f9eb0c817cef",
   "metadata": {},
   "outputs": [
    {
     "ename": "TypeError",
     "evalue": "bad operand type for unary -: '_Helper'",
     "output_type": "error",
     "traceback": [
      "\u001b[0;31m---------------------------------------------------------------------------\u001b[0m",
      "\u001b[0;31mTypeError\u001b[0m                                 Traceback (most recent call last)",
      "Cell \u001b[0;32mIn[8], line 1\u001b[0m\n\u001b[0;32m----> 1\u001b[0m pirate \u001b[38;5;241m-\u001b[39m\u001b[38;5;241m-\u001b[39m help\n",
      "\u001b[0;31mTypeError\u001b[0m: bad operand type for unary -: '_Helper'"
     ]
    }
   ],
   "source": [
    "pirate -- help"
   ]
  },
  {
   "cell_type": "code",
   "execution_count": null,
   "id": "8d011ae7-4df9-40f6-9743-3c923228dd2e",
   "metadata": {},
   "outputs": [],
   "source": []
  }
 ],
 "metadata": {
  "kernelspec": {
   "display_name": "Python 3 (ipykernel)",
   "language": "python",
   "name": "python3"
  },
  "language_info": {
   "codemirror_mode": {
    "name": "ipython",
    "version": 3
   },
   "file_extension": ".py",
   "mimetype": "text/x-python",
   "name": "python",
   "nbconvert_exporter": "python",
   "pygments_lexer": "ipython3",
   "version": "3.12.7"
  }
 },
 "nbformat": 4,
 "nbformat_minor": 5
}
