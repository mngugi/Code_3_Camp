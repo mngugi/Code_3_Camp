{
 "cells": [
  {
   "cell_type": "markdown",
   "id": "b1f8c6d9-8d22-400c-ac91-5e410fb433d6",
   "metadata": {},
   "source": [
    "This code snippet is meant to translate an English sentence into \"pirate speak\" using a function or library called `arrr` and its translate method.\n",
    "\n",
    "\n",
    "1. Importing the Library:\n",
    "\n",
    "- `from arrr import translate`: Assumes the presence of a library or module called arrr that includes a translate function designed for  converting English phrases into pirate slang.\n",
    "\n",
    "2. Defining the Input:\n",
    "\n",
    "- english = \"Hello there. How are you?\": The input sentence in plain English.\n",
    "\n",
    "3. Translation:\n",
    "\n",
    "- pirate = translate(english): Converts the English text into pirate speak using the translate function.\n",
    "\n",
    "Output:\n",
    "\n",
    "- print(pirate): Prints the pirate version of the input text.\n"
   ]
  },
  {
   "cell_type": "code",
   "execution_count": 4,
   "id": "fcbf3098-a480-4523-8fed-a5c1dc4f4945",
   "metadata": {},
   "outputs": [
    {
     "name": "stdout",
     "output_type": "stream",
     "text": [
      "Ahoy there. How be you?\n"
     ]
    }
   ],
   "source": [
    "from arrr import translate\n",
    "\n",
    "\n",
    "english = \"Hello there. How are you?\"\n",
    "pirate = translate(english)\n",
    "print(pirate)\n"
   ]
  },
  {
   "cell_type": "code",
   "execution_count": null,
   "id": "079bb517-eed5-4316-aa9a-f9eb0c817cef",
   "metadata": {},
   "outputs": [],
   "source": []
  },
  {
   "cell_type": "code",
   "execution_count": null,
   "id": "8d011ae7-4df9-40f6-9743-3c923228dd2e",
   "metadata": {},
   "outputs": [],
   "source": []
  }
 ],
 "metadata": {
  "kernelspec": {
   "display_name": "Python 3 (ipykernel)",
   "language": "python",
   "name": "python3"
  },
  "language_info": {
   "codemirror_mode": {
    "name": "ipython",
    "version": 3
   },
   "file_extension": ".py",
   "mimetype": "text/x-python",
   "name": "python",
   "nbconvert_exporter": "python",
   "pygments_lexer": "ipython3",
   "version": "3.12.7"
  }
 },
 "nbformat": 4,
 "nbformat_minor": 5
}
